{
 "cells": [
  {
   "cell_type": "markdown",
   "id": "2a0e4688",
   "metadata": {},
   "source": [
    "## Obtain data from Github on Jupyter Notebook\n",
    "\n",
    "### I. Download a single folder from Github \n",
    "\n",
    "#### 1. Navigate to the folder you want to download.\n",
    "```\n",
    "https://github.com/jparkgeo/GEOG489/tree/main/Labs/Lab0\n",
    "```\n",
    "#### 2. Replace 'tree/main' with 'trunk' on the URL.\n",
    "For example, https://github.com/jparkgeo/GEOG489/tree/main/Labs/Lab0 -> https://github.com/jparkgeo/GEOG489/trunk/Labs/Lab0\n",
    "\n",
    "#### 3. Use the function 'svn' in Jupyter Notebook to checkout the folder.\n",
    "```\n",
    "!svn checkout https://github.com/jparkgeo/GEOG489/trunk/Labs/Lab0\n",
    "```\n",
    "source: https://stackoverflow.com/questions/7106012/download-a-single-folder-or-directory-from-a-github-repo\n"
   ]
  },
  {
   "cell_type": "code",
   "execution_count": null,
   "id": "c7ddc451",
   "metadata": {},
   "outputs": [],
   "source": [
    "!svn checkout https://github.com/jparkgeo/GEOG489/trunk/Labs/Lab0"
   ]
  },
  {
   "cell_type": "markdown",
   "id": "71452d59",
   "metadata": {},
   "source": [
    "### II. Clone repository from GitHub\n",
    "\n",
    "#### Simply run the following code in a Jupyter Notebook (the URL should be updated).\n",
    "\n",
    "```\n",
    "!git pull https://github.com/jparkgeo/GEOG489.git\n",
    "```"
   ]
  },
  {
   "cell_type": "markdown",
   "id": "d3590c34",
   "metadata": {},
   "source": [
    "### III. Download Zip file from Github and Unzip it. \n",
    "\n",
    "#### 1. Grab the Zip file URL from Github website. \n",
    "```\n",
    "https://github.com/jparkgeo/Stochastic-distribution-of-spatial-accessibility-to-ICU-beds/blob/main/data.zip\n",
    "```\n",
    "#### 2. Replace 'blob' with 'raw' or you can get the actual download URL by right clicking 'Download' button on the website and 'Copy Link Address'. \n",
    "For example, https://github.com/jparkgeo/Stochastic-distribution-of-spatial-accessibility-to-ICU-beds/blob/main/data.zip -> https://github.com/jparkgeo/Stochastic-distribution-of-spatial-accessibility-to-ICU-beds/raw/main/data.zip\n",
    "\n",
    "#### 3. Use 'wget' function in Jupyter Notebook to download a zip file. \n",
    "```\n",
    "!wget https://github.com/jparkgeo/Stochastic-distribution-of-spatial-accessibility-to-ICU-beds/raw/main/data.zip\n",
    "```\n",
    "\n",
    "#### 4. Import 'zipfile' package and use the following function to extract the associated files. \n",
    "\n",
    "```python\n",
    "import zipfile\n",
    "\n",
    "with zipfile.ZipFile('./data.zip', 'r') as zip_ref: # zip file needs to be unzipped\n",
    "    zip_ref.extractall('./') # destination directory\n",
    "```"
   ]
  },
  {
   "cell_type": "code",
   "execution_count": null,
   "id": "113b1620",
   "metadata": {},
   "outputs": [],
   "source": [
    "!wget https://github.com/jparkgeo/Stochastic-distribution-of-spatial-accessibility-to-ICU-beds/raw/main/data.zip"
   ]
  },
  {
   "cell_type": "code",
   "execution_count": null,
   "id": "bbd419a5",
   "metadata": {},
   "outputs": [],
   "source": [
    "import zipfile\n",
    "\n",
    "with zipfile.ZipFile('./data.zip', 'r') as zip_ref: # zip file needs to be unzipped\n",
    "    zip_ref.extractall('./') # destination directory"
   ]
  },
  {
   "cell_type": "markdown",
   "id": "859a95ba",
   "metadata": {},
   "source": [
    "## Delete not empty folder in Jupyter Notebook\n",
    "\n",
    "#### Simply run the following code in a Jupyter Notebook (the directory should be updated). \n",
    "\n",
    "```python\n",
    "import shutil\n",
    "\n",
    "shutil.rmtree('/folder_name')\n",
    "```\n",
    "\n",
    "\n",
    "Source: https://stackoverflow.com/questions/303200/how-do-i-remove-delete-a-folder-that-is-not-empty"
   ]
  },
  {
   "cell_type": "code",
   "execution_count": null,
   "id": "f6e7aed1",
   "metadata": {},
   "outputs": [],
   "source": [
    "import shutil\n",
    "\n",
    "shutil.rmtree('/folder_name')"
   ]
  }
 ],
 "metadata": {
  "kernelspec": {
   "display_name": "Python 3 (ipykernel)",
   "language": "python",
   "name": "python3"
  },
  "language_info": {
   "codemirror_mode": {
    "name": "ipython",
    "version": 3
   },
   "file_extension": ".py",
   "mimetype": "text/x-python",
   "name": "python",
   "nbconvert_exporter": "python",
   "pygments_lexer": "ipython3",
   "version": "3.9.7"
  }
 },
 "nbformat": 4,
 "nbformat_minor": 5
}
