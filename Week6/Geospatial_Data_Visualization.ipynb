{
 "cells": [
  {
   "cell_type": "markdown",
   "id": "b797d4c3",
   "metadata": {},
   "source": [
    "# Geospatial Data Visualization\n",
    "\n",
    "### Main Packages \n",
    "* <a href=https://matplotlib.org/>`matplotlib`</a> provides a collection of functions that make matplotlib work like MATLAB. Each pyplot function makes some change to a figure: e.g., creates a figure, creates a plotting area in a figure, plots some lines in a plotting area, decorates the plot with labels, etc.\n",
    "* <a href=https://python-visualization.github.io/folium/>`folium`</a> builds on the data wrangling strengths of the Python ecosystem and the mapping strengths of the `leaflet.js` library. The practice here is to manipulate your data in Python, then visualize it in on a Leaflet map via folium.\n",
    "* <a href=https://plotly.com/python/>`plotly`</a> is graphing library makes interactive, publication-quality graphs. Examples of how to make line plots, scatter plots, area charts, bar charts, error bars, box plots, histograms, heatmaps, subplots, multiple-axes, polar charts, and bubble charts.\n",
    "\n",
    "### Supplementary packages\n",
    "* <a href=https://geopandas.org/en/stable/>`geopandas`</a> is an open source project to make working with geospatial data in python easier. GeoPandas extends the datatypes used by pandas to allow spatial operations on geometric types. \n",
    "* <a href=https://github.com/pysal/mapclassify>`mapclassify`</a> implements a family of classification schemes for choropleth maps. Its focus is on the determination of the number of classes, and the assignment of observations to those classes. It is intended for use with upstream mapping and geovisualization packages (see geopandas and geoplot) that handle the rendering of the maps.\n",
    "\n",
    "\n",
    "## 1. Introduction to Matplotlib\n",
    "\n",
    "`matplotlib.pyplot` is a state-based interface to matplotlib. It provides an implicit, MATLAB-like, way of plotting. It also opens figures on your screen, and acts as the figure GUI manager."
   ]
  },
  {
   "cell_type": "code",
   "execution_count": null,
   "id": "9d087099",
   "metadata": {},
   "outputs": [],
   "source": [
    "import matplotlib.pyplot as plt\n",
    "import numpy as np"
   ]
  },
  {
   "cell_type": "markdown",
   "id": "4de40da0",
   "metadata": {},
   "source": [
    "### 1.1. Creating Simple Plots\n",
    "\n",
    "Matplotlib graphs your data on **Figures**, each of which can contain one or more **Axes**, an area where points can be specified in terms of x-y coordinates. The simplest way of creating a Figure with an Axes is using `matplotlib.pyplot.subplots`. We can then use `Axes.plot` to draw some data on the Axes:\n",
    "\n",
    "Source: https://matplotlib.org/stable/tutorials/introductory/usage.html#sphx-glr-tutorials-introductory-usage-py\n",
    "\n",
    "Here we are making a simple line graph of the equation below. \n",
    "\\begin{gather*}\n",
    "y = x^{2}\n",
    "\\end{gather*}"
   ]
  },
  {
   "cell_type": "code",
   "execution_count": null,
   "id": "f5a12afb",
   "metadata": {},
   "outputs": [],
   "source": [
    "# Creating variables\n",
    "x = list(range(10))  # Sample data.\n",
    "y = [i**2 for i in x]\n",
    "\n",
    "print(f\"Values in list x: {x}\")\n",
    "print(f\"Values in list y: {y}\")\n",
    "\n",
    "# Plot a line graph\n",
    "fig, ax = plt.subplots()  # Create a figure containing a single axes.\n",
    "ax.plot(x, y)\n",
    "plt.show()"
   ]
  },
  {
   "cell_type": "code",
   "execution_count": null,
   "id": "0fd535e1",
   "metadata": {
    "scrolled": true
   },
   "outputs": [],
   "source": [
    "# Plot a scatter plot\n",
    "fig, ax = plt.subplots()  # Create a figure containing a single axes.\n",
    "ax.scatter(x, y)\n",
    "plt.show()"
   ]
  },
  {
   "cell_type": "markdown",
   "id": "08b190bb",
   "metadata": {},
   "source": [
    "There is a variety of selections that you can change styles of plots (e.g., color, line style, marker size.. etc). It is literally not able to cover everything in class given its enormous variety. Let me give you a few examples of changing line style, color, marker style. For your reference, please visit <a href=https://matplotlib.org/stable/api/_as_gen/matplotlib.pyplot.plot.html>this website</a>. "
   ]
  },
  {
   "cell_type": "markdown",
   "id": "0c9fba97",
   "metadata": {},
   "source": [
    "**<a href=https://matplotlib.org/stable/gallery/color/named_colors.html>Color example</a>**: You can specify the color with `c` or `color` variables and enter a value with a name, if it is predefined, or hex value. "
   ]
  },
  {
   "cell_type": "code",
   "execution_count": null,
   "id": "dfc2fd86",
   "metadata": {},
   "outputs": [],
   "source": [
    "x = np.linspace(0, 2, 100)  # Sample data.\n",
    "\n",
    "# Change the color of line graph\n",
    "fig, ax = plt.subplots(figsize=(10,5))  # Create a figure containing a single axes.\n",
    "ax.plot(x, x, c='red') # example of using 'c' attribute \n",
    "ax.plot(x, x**2, c='#0000FF') # example of hex value \n",
    "ax.plot(x, x**3, color='black') # exampel of using 'color' attribute\n",
    "plt.show()"
   ]
  },
  {
   "cell_type": "markdown",
   "id": "303e8c60",
   "metadata": {},
   "source": [
    "**<a href=https://matplotlib.org/stable/gallery/lines_bars_and_markers/linestyles.html>Linestyles</a> and Linewidth example**: You can specify line style with `linestyle` or `ls` attribute and enter a value with their predefined name. Linewidth can be changed with `lw` or `linewidth` attribute. "
   ]
  },
  {
   "cell_type": "code",
   "execution_count": null,
   "id": "3cbac68c",
   "metadata": {},
   "outputs": [],
   "source": [
    "x = np.linspace(0, 2, 100)  # Sample data.\n",
    "\n",
    "# Change the color of line graph\n",
    "fig, ax = plt.subplots(figsize=(10,5))  # Create a figure containing a single axes.\n",
    "ax.plot(x, x, linestyle='--') # example of using 'linestyle' attribute \n",
    "ax.plot(x, x**2, ls='dotted', lw=5) # example of using 'ls' attribute \n",
    "ax.plot(x, x**3, '-.', linewidth=10) # example of without attribute name\n",
    "plt.show()"
   ]
  },
  {
   "cell_type": "markdown",
   "id": "b03bdb9b",
   "metadata": {},
   "source": [
    "**<a href=https://matplotlib.org/stable/api/markers_api.html#module-matplotlib.markers>Marker</a> and Markersize example**: you can easily change the style of marker and its size as shwon in the example below. "
   ]
  },
  {
   "cell_type": "code",
   "execution_count": null,
   "id": "0983e5f4",
   "metadata": {},
   "outputs": [],
   "source": [
    "x = list(range(5))  # Sample data.\n",
    "y1 = [i for i in x] # power of 1\n",
    "y2 = [i**2 for i in x] # power of 2\n",
    "y3 = [i**3 for i in x] # power of 3\n",
    "\n",
    "# Change the color of line graph\n",
    "fig, ax = plt.subplots(figsize=(10,5))  # Create a figure containing a single axes.\n",
    "ax.scatter(x, y1, marker='o') # change marker style\n",
    "ax.scatter(x, y2, marker='s', s=100) # marker style and size can be changed \n",
    "ax.scatter(x, y3, marker='^', s=[v*3 for v in y3]) # size can vary based on a given list \n",
    "plt.show()"
   ]
  },
  {
   "cell_type": "markdown",
   "id": "ced39892",
   "metadata": {},
   "source": [
    "### 1.2. Decorating a Figure\n",
    "\n",
    "The figure below describes the parts of a figure. You can refer to this to find a proper variable to be called. \n",
    "\n",
    "* **Figure** is the whole figure. The Figure keeps track of all the child Axes. <br>\n",
    "* **Axes** is an Artist attached to a Figure that contains a region for plotting data, and usually includes two Axis objects (for 2D) and three Axis objects (for 3D). <br>\n",
    "* **Axis** set the scale and limits and generate ticks (the marks on the Axis) and ticklabels (strings labeling the ticks). <br>\n",
    "* **Artist** is basically everything visible on the Figure. This includes Text objects, Line2D objects, collections objects, Patch objects, etc. <br>\n",
    "\n",
    "![](./data/Parts_of_a_Figure.jpg)\n",
    "\n",
    "Source: https://matplotlib.org/stable/tutorials/introductory/usage.html#sphx-glr-tutorials-introductory-usage-py"
   ]
  },
  {
   "cell_type": "markdown",
   "id": "3f571a71",
   "metadata": {},
   "source": [
    "Example of title, xlabel, ylabel, xticks, and yticks"
   ]
  },
  {
   "cell_type": "code",
   "execution_count": null,
   "id": "5ff1adf9",
   "metadata": {},
   "outputs": [],
   "source": [
    "x = np.linspace(0, 2, 100)  # Sample data.\n",
    "\n",
    "# Change the color of line graph\n",
    "fig, ax = plt.subplots(figsize=(10,5))  # Create a figure containing a single axes.\n",
    "ax.plot(x, x, linestyle='--', label='Dashed line') # example of using 'linestyle' attribute \n",
    "ax.plot(x, x**2, ls='dotted', lw=5, label='Width 5 dotted line') # example of using 'ls' attribute \n",
    "ax.plot(x, x**3, '-.', linewidth=10, label='Width 10 dashed-dotted line') # example of without attribute name\n",
    "\n",
    "# Figure decoration\n",
    "# ax.legend(fontsize=15) # You can also change the location of the legend\n",
    "\n",
    "# You can specify the title of this Axes\n",
    "# ax.set_title('Here is the title', size=20) \n",
    "\n",
    "# The labels of x-axis and y-axis\n",
    "# ax.set_xlabel('Here is X axis label') \n",
    "# ax.set_ylabel('Here is Y axis label') \n",
    "\n",
    "# ax.set_xticks([0, 1, 2]) # The locations that ticks will be displayed. \n",
    "# ax.set_yticks([0, 1, 2, 3])  # The locations that ticks will be displayed. \n",
    "\n",
    "plt.show()"
   ]
  },
  {
   "cell_type": "markdown",
   "id": "d1438391",
   "metadata": {},
   "source": [
    "Example of multiple subplots"
   ]
  },
  {
   "cell_type": "code",
   "execution_count": null,
   "id": "d8b59a1c",
   "metadata": {},
   "outputs": [],
   "source": [
    "# Some example data to display\n",
    "x = list(range(10))  # Sample data.\n",
    "y = [i*i for i in x]\n",
    "\n",
    "# You can create multiple plot with `plt.subplots` and return a tuple (ax1, ax2).\n",
    "fig, (ax1, ax2) = plt.subplots(1, 2, figsize=(10, 4))\n",
    "ax1.plot(x, y) \n",
    "# ax1.set_title('Left axes title')\n",
    "ax2.scatter(x, y)\n",
    "# ax2.set_title('Right axes title')\n",
    "plt.show()"
   ]
  },
  {
   "cell_type": "code",
   "execution_count": null,
   "id": "8e9e2a9a",
   "metadata": {
    "scrolled": true
   },
   "outputs": [],
   "source": [
    "# Or, you can create multiple plot with `plt.subplots` and return axes. Then, call the sub axes with an index.\n",
    "fig, axes = plt.subplots(nrows=1, ncols=2, figsize=(10, 4))\n",
    "axes[0].plot(x, y)\n",
    "axes[0].set_title('Left axes title')\n",
    "axes[1].scatter(x, y)\n",
    "axes[1].set_title('Right axes title')\n",
    "plt.show()"
   ]
  },
  {
   "cell_type": "markdown",
   "id": "4ea43b9b",
   "metadata": {},
   "source": [
    "---\n",
    "### *Exercise-1*\n",
    "With the provided code, create a figure shown below. \n",
    "```python\n",
    "x = np.linspace(-2 * np.pi, 2 * np.pi, 100)\n",
    "sin = [np.sin(v) for v in x]\n",
    "cos = [np.cos(v) for v in x]\n",
    "```\n",
    "1. Create a figure with two axes, by using `plt.subplot()`.\n",
    "2. Create line graphs with `.plot()` method, and change the style (i.e., color, linestyle) of each graph. \n",
    "    * Sin graph: black dasehd line.\n",
    "    * Cosine graph: red dottted line.\n",
    "3. Define the title of each subplot(i.e., axes) and set its size to 15.\n",
    "4. Set yticks only displaying -1, 0, 1. \n",
    "\n",
    "![](./data/plot_example.jpg)\n",
    "\n",
    "---"
   ]
  },
  {
   "cell_type": "code",
   "execution_count": null,
   "id": "61b3d461",
   "metadata": {},
   "outputs": [],
   "source": [
    "x = np.linspace(-2 * np.pi, 2 * np.pi, 100)\n",
    "sin = [np.sin(v) for v in x]\n",
    "cos = [np.cos(v) for v in x]\n",
    "\n",
    "# Your code here\n",
    "\n",
    "\n",
    "plt.show()"
   ]
  },
  {
   "cell_type": "markdown",
   "id": "15225b0b",
   "metadata": {},
   "source": [
    "## 2. Visualizing Geospatial Data with GeoPandas and Matplotlib\n",
    "\n",
    "With the functionalities of GeoPandas and Matplitlib, we will examine the COVID-19 confirmed cases in the State of Texas in three different ways. \n",
    "\n",
    "1. Basic plots with GeoPandas: Sigle map of accumulated COVID-19 cases per county and TSA. \n",
    "2. Multiple Axes in a Figure: Monthly changes of COVID-19 cases per TSA.\n",
    "3. Multiple Axes with different sizes in a Figure: Daily fluctuation of COVID-19 focusing on four major TSA."
   ]
  },
  {
   "cell_type": "code",
   "execution_count": null,
   "id": "9b758193",
   "metadata": {},
   "outputs": [],
   "source": [
    "# Import packages\n",
    "import geopandas as gpd\n",
    "import pandas as pd\n",
    "import matplotlib.patheffects as pe\n",
    "from matplotlib.colors import LinearSegmentedColormap\n",
    "import mapclassify"
   ]
  },
  {
   "cell_type": "markdown",
   "id": "7875544f",
   "metadata": {},
   "source": [
    "---\n",
    "### *Exercise-2*\n",
    "Let's remind our memory about GeoPandas and Pandas. Here, you are going to make a GeoDataFrame for a visualization purpose. The resulted GeoDataFrame should have the accumulated COVID-19 cases per county in the State of Texas. <br>\n",
    "Here are two datasets provided: `texas_county.json` and `covid_case.csv`. \n",
    "* `texas_county.json` has the name, FIPS, and geometry of each county. \n",
    "* `covid_case.csv` has the number of COVID-19 cases each county. \n",
    "\n",
    "Follow the steps below and make the GeoDataFrame shown below.\n",
    "1. Import two datasets with the names of `county` and `covid_case`, respectively. Use GeoPandas for `texas_county.json`, given it has geometry. Use Pandas for `covid_case.csv` given it doesn't have geometry. \n",
    "2. Set the index of `county`(GeoDataFrame) and `covid_case`(DataFrame) with `NAME` column and `county` column, respectively. \n",
    "3. Investigate the webiste about <a href=https://pandas.pydata.org/docs/reference/api/pandas.DataFrame.merge.html>`pandas.DataFrame.merge()`</a> and merge `COVID_Case` column in `covid_case` DataFrame into `county` GeoDataFrame. \n",
    "\n",
    "![](./data/geopandas_merge_example.jpg)\n"
   ]
  },
  {
   "cell_type": "code",
   "execution_count": null,
   "id": "b97c207e",
   "metadata": {},
   "outputs": [],
   "source": [
    "# Your code here\n",
    "\n"
   ]
  },
  {
   "cell_type": "markdown",
   "id": "fef313b6",
   "metadata": {},
   "source": [
    "### 2.1. Basic plots with GeoPandas\n",
    "\n",
    "Once the GeoDataFrame `county` is ready, we can delineate the geographical area with various methods. Our example mainly covers choropleth maps. "
   ]
  },
  {
   "cell_type": "markdown",
   "id": "0cec988c",
   "metadata": {},
   "source": [
    "The colormap is a very critical element for Choropleth maps. You can choose from various options that <a href=https://matplotlib.org/2.0.2/users/colormaps.html>matplotlib provides</a>. Or, you can create your own color map with <a href=https://colorbrewer2.org/>ColorBrewer</a>. The website is a well-known resource for color recommendations, especially geographical purposes. "
   ]
  },
  {
   "cell_type": "code",
   "execution_count": null,
   "id": "4764675b",
   "metadata": {},
   "outputs": [],
   "source": [
    "fig, ax = plt.subplots(figsize=(10,8))  # Initialize two main vairalbes, fig and ax\n",
    "county.plot('COVID_Case', # Create a Choropleth map based on `COVID_Case` column\n",
    "            cmap='Reds', # Color maps. https://matplotlib.org/2.0.2/users/colormaps.html\n",
    "            legend=True, # Include legend in the plot. \n",
    "            ax=ax  # the location where the map is drawn\n",
    "           )  \n",
    "county.boundary.plot(color='black', # color. \n",
    "                     linewidth=0.5, # Line width, given it draws the boundary of polygon\n",
    "                     linestyle=':', # Line style of the boundary; https://matplotlib.org/stable/gallery/lines_bars_and_markers/linestyles.html\n",
    "                     ax=ax  # the location where the map is drawn\n",
    "                    )\n",
    "plt.show()"
   ]
  },
  {
   "cell_type": "markdown",
   "id": "d6ec7010",
   "metadata": {},
   "source": [
    "**Tip**: Two minor functions of GeoPandas. <br>\n",
    "* <a href=https://geopandas.org/en/stable/docs/reference/api/geopandas.GeoDataFrame.dissolve.html>gpd.dissolve()</a>: this function helps you to dissolve County to TSA and aggregate their associate information.\n",
    "* <a href=https://geopandas.org/en/stable/docs/reference/api/geopandas.GeoSeries.boundary.html>gpd.boundary()</a>: this function helps you to obtain the boundary of polygon, stored in the GeoDataFrame. "
   ]
  },
  {
   "cell_type": "code",
   "execution_count": null,
   "id": "1b77057a",
   "metadata": {},
   "outputs": [],
   "source": [
    "tsa = county.dissolve(by='TSA', aggfunc='sum') \n",
    "tsa = tsa.drop(columns=['FIPS']) # Remove FIPS column, as it gives wrong information after the aggregation, \n",
    "tsa.head()"
   ]
  },
  {
   "cell_type": "code",
   "execution_count": null,
   "id": "9cd38bc7",
   "metadata": {},
   "outputs": [],
   "source": [
    "fig, axes = plt.subplots(1, 2, figsize=(10, 10))\n",
    "\n",
    "county.boundary.plot(ax=axes[0])\n",
    "tsa.boundary.plot(ax=axes[1])\n",
    "plt.show()"
   ]
  },
  {
   "cell_type": "markdown",
   "id": "9a21af91",
   "metadata": {},
   "source": [
    "Now, let's go to <a href=https://colorbrewer2.org/>ColorBrewer</a> and grab hex color codes. "
   ]
  },
  {
   "cell_type": "code",
   "execution_count": null,
   "id": "3294b579",
   "metadata": {},
   "outputs": [],
   "source": [
    "# https://colorbrewer2.org/#type=sequential&scheme=Reds&n=5\n",
    "color_brewer = ['#fee5d9','#fcae91','#fb6a4a','#de2d26','#a50f15']  # Hex color codes were grabbed from ColorBrewer\n",
    "cm = LinearSegmentedColormap.from_list('cb_', color_brewer, N=5)  # Create a colormap instance with the hex codes\n",
    "cm"
   ]
  },
  {
   "cell_type": "code",
   "execution_count": null,
   "id": "63484c97",
   "metadata": {
    "scrolled": false
   },
   "outputs": [],
   "source": [
    "fig, ax = plt.subplots(figsize=(10,8))  # Initialize two main vairalbes, fig and ax\n",
    "tsa.plot(column='COVID_Case', # Plot choropleth map based on 'COVID_Case' column\n",
    "         cmap=cm, # Use user-defined colormap\n",
    "         ax=ax, \n",
    "         legend=True, \n",
    "         scheme='FisherJenks', # Classification method (aka Natural Breaks)\n",
    "         k=5 # Number of classes\n",
    "        )\n",
    "tsa.boundary.plot(color='black', \n",
    "                  linewidth=0.5, \n",
    "                  linestyle=':', \n",
    "                  ax=ax\n",
    "                 )\n",
    "\n",
    "# # Annotation\n",
    "# for idx, row in tsa.iterrows(): # Iterate everyrow in `tsa` GeoDataFrame\n",
    "#     ax.text(s=idx, # String to be displayed; TSA name\n",
    "#             x=row['geometry'].centroid.coords[:][0][0], # X coordinate of label\n",
    "#             y=row['geometry'].centroid.coords[:][0][1], # Y coordinate of label\n",
    "#             fontsize=20, \n",
    "#             color='white',\n",
    "#             ha='center', # Horizontal align\n",
    "#             va='center', # Vertical align\n",
    "#             path_effects=[pe.withStroke(linewidth=2, foreground=\"black\")] # This will create boundary of text\n",
    "#            )\n",
    "\n",
    "# # Decoration\n",
    "# ax.get_xaxis().set_visible(False)  # Remove ticks and labels\n",
    "# ax.get_yaxis().set_visible(False)  # Remove ticks and labels\n",
    "   \n",
    "plt.show()"
   ]
  },
  {
   "cell_type": "markdown",
   "id": "87d6c0af",
   "metadata": {},
   "source": [
    "---\n",
    "### *Exercise-3*\n",
    "You may want to keep the granularity of geographical units as county-level, but also want to plot the boundaries of TSAs to keep track of the information that which county in which TSA had higher COVID-19 cases. Let's practice this with the following steps. \n",
    "\n",
    "1. Grab a colormap you like from <a href=https://colorbrewer2.org/>ColorBrewer website </a>. You need to specify the color and the number of classes to obtain proper hex color codes.  \n",
    "2. Initialize the plotting process with the code below. You will use the `ax` variable to delineate geographical areas. \n",
    "```python\n",
    "    fig, ax = plt.subplots(figsize=(10, 10))\n",
    "```\n",
    "3. Replace the hex color in `color_brewer` list with the information obtained from the website. Then, define your own colormap with `LinearSegmentedColormap.from_list()`. Here, you need to match the number of classes obtained from the website with its attribute `N` to properly visualize the color map.  \n",
    "4. Plot two layers (i.e., Counties and TSA) with `county` and `tsa` GeoDataFrame, respectively. Note that you want to visualize the boundary of TSA, not Polygons. \n",
    "5. If you wish to annotate TSAs, append the following code at the bottom part of your code.\n",
    "```python\n",
    "    for idx, row in tsa.iterrows():\n",
    "        ax.text(s=idx, \n",
    "                x=row['geometry'].centroid.coords[:][0][0], \n",
    "                y=row['geometry'].centroid.coords[:][0][1],  \n",
    "                fontsize=20, \n",
    "                color='black',\n",
    "                ha='center', \n",
    "                va='center',\n",
    "                path_effects=[pe.withStroke(linewidth=1, foreground=\"white\")]\n",
    "               )\n",
    "```\n",
    "![](./data/geopandas_plot_example.jpg)\n"
   ]
  },
  {
   "cell_type": "code",
   "execution_count": null,
   "id": "aed96343",
   "metadata": {},
   "outputs": [],
   "source": [
    "# Your code here\n",
    "fig, ax = plt.subplots(figsize=(10, 10))\n",
    "\n",
    "    \n",
    "plt.show()"
   ]
  },
  {
   "cell_type": "markdown",
   "id": "bba59147",
   "metadata": {},
   "source": [
    "### 2.2. Multiple Axes in a Figure: Monthly changes of COVID-19 cases per TSA\n",
    "Here, we would like to trace the spatiotemporal changes of COVID-19 confirmed cases. In detail, the first axes will plot the summation of COVID-19 cases, and the rest will demonstrate monthly cases per TSA.\n",
    "![](./data/multi_plot_example_1.jpg)"
   ]
  },
  {
   "cell_type": "markdown",
   "id": "065d485a",
   "metadata": {},
   "source": [
    "First, load `daily_case.csv` for COVID-19 case per day per county. "
   ]
  },
  {
   "cell_type": "code",
   "execution_count": null,
   "id": "a71a2ec4",
   "metadata": {
    "scrolled": true
   },
   "outputs": [],
   "source": [
    "daily_case = pd.read_csv('./data/daily_case.csv')\n",
    "daily_case = daily_case.set_index('County')\n",
    "daily_case.head()"
   ]
  },
  {
   "cell_type": "markdown",
   "id": "107757cf",
   "metadata": {},
   "source": [
    "Second, calculate the monthly sum of cases. Geographical unit is still county. "
   ]
  },
  {
   "cell_type": "code",
   "execution_count": null,
   "id": "aaceadcc",
   "metadata": {},
   "outputs": [],
   "source": [
    "# Aggregate daily case to monthly case\n",
    "monthly_case = pd.DataFrame(index=daily_case.index, columns=['06', '07', '08', '09', '10', '11', '12'])\n",
    "\n",
    "for month in ['06', '07', '08', '09', '10', '11', '12']:\n",
    "    col_list = [col for col in daily_case.columns if col.startswith(month)]\n",
    "#     print(col_list) # Return the days in each month\n",
    "    monthly_case[month] = daily_case[col_list].sum(axis=1)\n",
    "\n",
    "monthly_case.head()"
   ]
  },
  {
   "cell_type": "markdown",
   "id": "e26d06fd",
   "metadata": {},
   "source": [
    "Third, merge (or join) the monthly case to `county` GeoDataFrame and dissolve it by TSA. "
   ]
  },
  {
   "cell_type": "code",
   "execution_count": null,
   "id": "e5594dc7",
   "metadata": {},
   "outputs": [],
   "source": [
    "monthly_county = county.merge(monthly_case, left_index=True, right_index=True)\n",
    "monthly_tsa = monthly_county.dissolve(by='TSA', aggfunc='sum')\n",
    "monthly_tsa = monthly_tsa.drop(columns=['FIPS'])\n",
    "monthly_tsa.head()"
   ]
  },
  {
   "cell_type": "markdown",
   "id": "ed5bbb40",
   "metadata": {},
   "source": [
    "The cell below describe what the frame looks like. Here, we have 8 boxes; the first box is for the summation of cases, and the rest is for each month (June ~ December)."
   ]
  },
  {
   "cell_type": "code",
   "execution_count": null,
   "id": "ed9926ab",
   "metadata": {},
   "outputs": [],
   "source": [
    "fig, axes = plt.subplots(\n",
    "    nrows=2, \n",
    "    ncols=4, \n",
    "    figsize=(16, 8)\n",
    ")\n",
    "\n",
    "# axes is originally 2 dimensions. It has the shape of 2 by 4. \n",
    "print(axes.shape)\n",
    "print(axes.reshape(-1).shape)\n",
    "# `axes.reshape(-1)` makes this a 1-D array so that we can iterate it easily. \n",
    "for idx, ax in enumerate(axes.reshape(-1)): \n",
    "    ax.text(s=idx, x=0.5, y=0.5, fontsize=16)\n",
    "plt.show()"
   ]
  },
  {
   "cell_type": "code",
   "execution_count": null,
   "id": "7113dfdf",
   "metadata": {},
   "outputs": [],
   "source": [
    "# Define color map\n",
    "color_brewer = ['#fee5d9','#fcae91','#fb6a4a','#de2d26','#a50f15']\n",
    "cm = LinearSegmentedColormap.from_list('cb_', color_brewer, N=5)\n",
    "\n",
    "# Initialize plotting variables \n",
    "fig, axes = plt.subplots(2,4, figsize=(16, 8))\n",
    "for idx, ax in enumerate(axes.reshape(-1)):\n",
    "    if idx == 0: # first box\n",
    "        monthly_tsa.plot(column='COVID_Case', ax=ax, cmap=cm, k=5, scheme='FisherJenks')\n",
    "        ax.text(x=0.95, y=0.95, s='Sum', fontsize=20, ha='right', va='top', transform=ax.transAxes)\n",
    "        \n",
    "        \n",
    "    else: # the rest box\n",
    "        if len(str(idx + 5)) == 1:\n",
    "            monthly_tsa.plot(column=f'0{idx+5}', # Column to be displayed\n",
    "                             ax=ax, \n",
    "                             cmap=cm, \n",
    "                             scheme='FisherJenks'\n",
    "                            )\n",
    "        else:\n",
    "            monthly_tsa.plot(column=f'{idx+5}', ax=ax, cmap=cm, scheme='FisherJenks')\n",
    "            \n",
    "        ax.text(x=0.95, # (relative) x location of text\n",
    "                y=0.95, # (relative) y location of text\n",
    "                s='M' + str(idx + 5), # Text to be displayed\n",
    "                fontsize=20, \n",
    "                ha='right', # horizontal alignment\n",
    "                va='top', # vertical alignment\n",
    "                transform=ax.transAxes # this fuction enable us to use relative coordinates\n",
    "               )\n",
    "        \n",
    "\n",
    "    tsa.boundary.plot(color='black', linewidth=0.5, linestyle=':', ax=ax)\n",
    "    ax.get_xaxis().set_visible(False)\n",
    "    ax.get_yaxis().set_visible(False)\n",
    "    \n",
    "plt.tight_layout() # Will shrink empty area\n",
    "plt.show()"
   ]
  },
  {
   "cell_type": "markdown",
   "id": "40e7fd3f",
   "metadata": {},
   "source": [
    "Given that we make a choropleth map for various columns, which has different min and max values, we need to come up with classes that can cover every map (columns). We take advantage of <a href=https://pysal.org/mapclassify/>`mapclassify`</a> library, here. "
   ]
  },
  {
   "cell_type": "code",
   "execution_count": null,
   "id": "4654cdfd",
   "metadata": {
    "scrolled": true
   },
   "outputs": [],
   "source": [
    "# Classes of Choropleth maps if we do not combine the distribution of columns.\n",
    "for month_ in ['06', '07', '08', '09', '10', '11', '12']:\n",
    "    map_class = mapclassify.FisherJenks(monthly_tsa[month_], k=5)\n",
    "    print(f'Month: {month_}')\n",
    "    print(map_class)\n",
    "    print(\"----------------------------\")"
   ]
  },
  {
   "cell_type": "code",
   "execution_count": null,
   "id": "f384213d",
   "metadata": {},
   "outputs": [],
   "source": [
    "# Define map classes\n",
    "map_class = mapclassify.FisherJenks(monthly_tsa[['06', '07', '08', '09', '10', '11', '12']], k=5)\n",
    "map_class"
   ]
  },
  {
   "cell_type": "code",
   "execution_count": null,
   "id": "76dcf13b",
   "metadata": {},
   "outputs": [],
   "source": [
    "# Define color map\n",
    "color_brewer = ['#fee5d9','#fcae91','#fb6a4a','#de2d26','#a50f15']\n",
    "cm = LinearSegmentedColormap.from_list('cb_', color_brewer, N=5)\n",
    "\n",
    "# Initialize plotting variables \n",
    "fig, axes = plt.subplots(2,4, figsize=(16, 8))\n",
    "for idx, ax in enumerate(axes.reshape(-1)):\n",
    "    if idx == 0: # first box\n",
    "        monthly_tsa.plot(column='COVID_Case', ax=ax, cmap=cm, k=5, scheme='FisherJenks')\n",
    "        ax.text(x=0.95, y=0.95, s='Sum', fontsize=20, ha='right', va='top', transform=ax.transAxes)\n",
    "        \n",
    "    else: # the rest box\n",
    "        if len(str(idx + 5)) == 1:\n",
    "            monthly_tsa.plot(column=f'0{idx+5}', # Column to be displayed\n",
    "                             ax=ax, \n",
    "                             cmap=cm, \n",
    "                             scheme='user_defined', # To use different (not predefined) bins, we need to call it as 'user_defined'\n",
    "                             classification_kwds={'bins':map_class.bins} # then speicfy class here. \n",
    "                            )\n",
    "        else:\n",
    "            monthly_tsa.plot(column=f'{idx+5}', ax=ax, cmap=cm, scheme='user_defined', classification_kwds={'bins':map_class.bins})\n",
    "        \n",
    "        ax.text(x=0.95, y=0.95, s='M' + str(idx + 5), fontsize=20, ha='right', va='top', transform=ax.transAxes)\n",
    "        \n",
    "    tsa.boundary.plot(color='black', linewidth=0.5, linestyle=':', ax=ax)\n",
    "    ax.get_xaxis().set_visible(False)\n",
    "    ax.get_yaxis().set_visible(False)\n",
    "    \n",
    "plt.tight_layout() # Will shrink empty area\n",
    "plt.show()"
   ]
  },
  {
   "cell_type": "markdown",
   "id": "0d18c71a",
   "metadata": {},
   "source": [
    "### 2.3. Multiple Axes with different sizes in a Figure: Daily fluctuation of COVID-19 focusing on four major TSA\n",
    "\n",
    "As shown below, we may want to display multiple graphs, which require different sizes. The below will explain how to make this happen. For more information, please visit <a href=https://matplotlib.org/stable/tutorials/intermediate/arranging_axes.html>this website</a>. \n",
    "\n",
    "\n",
    "![](./data/multi_plot_example_2.jpg)"
   ]
  },
  {
   "cell_type": "code",
   "execution_count": null,
   "id": "b7e10be2",
   "metadata": {},
   "outputs": [],
   "source": [
    "# Data preparation\n",
    "daily_county = county.merge(daily_case, left_index=True, right_index=True)\n",
    "daily_tsa = daily_county.dissolve(by='TSA', aggfunc='sum')\n",
    "daily_tsa = daily_tsa.drop(columns=['FIPS'])\n",
    "daily_tsa.head()"
   ]
  },
  {
   "cell_type": "code",
   "execution_count": null,
   "id": "f1b631e0",
   "metadata": {},
   "outputs": [],
   "source": [
    "# This cell is just a copy and past from one of the previous cells to remind students. \n",
    "color_brewer = ['#fee5d9','#fcae91','#fb6a4a','#de2d26','#a50f15']\n",
    "cm = LinearSegmentedColormap.from_list('cb_', color_brewer, N=5)\n",
    "\n",
    "fig, ax = plt.subplots(figsize=(10,8))\n",
    "daily_tsa.plot('COVID_Case', cmap=cm, ax=ax, legend=True, scheme='FisherJenks')\n",
    "daily_tsa.boundary.plot(color='black', linewidth=0.5, linestyle=':', ax=ax)\n",
    "ax.get_xaxis().set_visible(False)\n",
    "ax.get_yaxis().set_visible(False)\n",
    "\n",
    "for idx, row in daily_tsa.iterrows():\n",
    "    ax.text(s=idx, \n",
    "            x=row['geometry'].centroid.coords[:][0][0], \n",
    "            y=row['geometry'].centroid.coords[:][0][1],  \n",
    "            fontsize=20, \n",
    "            color='white',\n",
    "            ha='center', \n",
    "            va='center',\n",
    "            path_effects=[pe.withStroke(linewidth=2, foreground=\"black\")]\n",
    "           )\n",
    "\n",
    "plt.show()"
   ]
  },
  {
   "cell_type": "markdown",
   "id": "01bea43e",
   "metadata": {},
   "source": [
    "We could display multiple line graphs with a figure, but it is hard to interpret the fluctuation of each TSA. "
   ]
  },
  {
   "cell_type": "code",
   "execution_count": null,
   "id": "b23be810",
   "metadata": {},
   "outputs": [],
   "source": [
    "tsa_slice = daily_tsa.loc[['Q', 'E', 'O', 'P'], daily_case.columns]\n",
    "pd.DataFrame(tsa_slice).transpose().plot(figsize=(10,5))"
   ]
  },
  {
   "cell_type": "markdown",
   "id": "113764c6",
   "metadata": {},
   "source": [
    "The cell below describe what the frame looks like. Here, we have 5 boxes; the first box is for the map of overall cases, and the rest is for the temporal fluctuation per TSA (E (Dallas-Fort Worth), O (Austin), Q (San Antonio), P(Houston))."
   ]
  },
  {
   "cell_type": "code",
   "execution_count": null,
   "id": "685f81f9",
   "metadata": {},
   "outputs": [],
   "source": [
    "gs_kw = dict(width_ratios=[1, 1], height_ratios=[1, 1, 1, 1])\n",
    "fig, axd = plt.subplot_mosaic([['left', 'right_1'], \n",
    "                               ['left', 'right_2'], \n",
    "                               ['left', 'right_3'], \n",
    "                               ['left', 'right_4']\n",
    "                              ],\n",
    "                              gridspec_kw=gs_kw, \n",
    "                              figsize=(15, 8),\n",
    "                              constrained_layout=True\n",
    "                             )\n",
    "\n",
    "for idx, ax in axd.items():\n",
    "    ax.text(s=idx, x=0.5, y=0.5, fontsize=20)\n",
    "\n",
    "plt.show()"
   ]
  },
  {
   "cell_type": "code",
   "execution_count": null,
   "id": "d75d7ffc",
   "metadata": {},
   "outputs": [],
   "source": [
    "# https://matplotlib.org/stable/tutorials/intermediate/arranging_axes.html\n",
    "gs_kw = dict(width_ratios=[1, 1], height_ratios=[1, 1, 1, 1])\n",
    "fig, axd = plt.subplot_mosaic([['left', 'right_1'], \n",
    "                               ['left', 'right_2'], \n",
    "                               ['left', 'right_3'], \n",
    "                               ['left', 'right_4']\n",
    "                              ],\n",
    "                              gridspec_kw=gs_kw, \n",
    "                              figsize=(15, 7),\n",
    "                              constrained_layout=True\n",
    "                             )\n",
    "\n",
    "\n",
    "# Define colormap\n",
    "color_brewer = ['#fee5d9','#fcae91','#fb6a4a','#de2d26','#a50f15']\n",
    "cm = LinearSegmentedColormap.from_list('cb_', color_brewer, N=5)\n",
    "\n",
    "# Populate left box\n",
    "daily_tsa.plot(column='COVID_Case', cmap=cm, legend=True, scheme='FisherJenks', ax=axd['left'])\n",
    "daily_tsa.boundary.plot(color='black', linewidth=0.5, linestyle=':', ax=axd['left'])\n",
    "\n",
    "for idx, row in daily_tsa.iterrows():\n",
    "    axd['left'].text(s=idx, \n",
    "            x=row['geometry'].centroid.coords[:][0][0], \n",
    "            y=row['geometry'].centroid.coords[:][0][1],  \n",
    "            fontsize=20, \n",
    "            color='white',\n",
    "            ha='center', \n",
    "            va='center',\n",
    "            path_effects=[pe.withStroke(linewidth=2, foreground=\"black\")]\n",
    "           )\n",
    "    \n",
    "axd['left'].get_xaxis().set_visible(False)\n",
    "axd['left'].get_yaxis().set_visible(False)\n",
    "    \n",
    "# Populate right boxes\n",
    "daily_tsa.loc['E', daily_case.columns].plot(ax=axd['right_1'], color='black')\n",
    "daily_tsa.loc['O', daily_case.columns].plot(ax=axd['right_2'], color='black')\n",
    "daily_tsa.loc['Q', daily_case.columns].plot(ax=axd['right_3'], color='black')\n",
    "daily_tsa.loc['P', daily_case.columns].plot(ax=axd['right_4'], color='black')\n",
    "\n",
    "## Entering text on each axes\n",
    "# axd['right_1'].text(x=15, y=7000, s='TSA E', fontsize=16, ha='center', va='center')\n",
    "# axd['right_2'].text(x=15, y=7000, s='TSA O', fontsize=16, ha='center', va='center')\n",
    "# axd['right_3'].text(x=15, y=7000, s='TSA Q', fontsize=16, ha='center', va='center')\n",
    "# axd['right_4'].text(x=15, y=7000, s='TSA P', fontsize=16, ha='center', va='center')\n",
    "\n",
    "## Specifying the limits of each axes\n",
    "# for temp_box in ['right_1', 'right_2', 'right_3', 'right_4']:\n",
    "#     axd[temp_box].grid(which='both')\n",
    "#     axd[temp_box].set_ylim(0, 9000)\n",
    "#     axd[temp_box].set_xlim(0, 213)\n",
    "#     axd[temp_box].set_xticks([0, 30, 61, 92, 122, 153, 183, 213])\n",
    "    \n",
    "#     if temp_box != 'right_4':\n",
    "#         axd[temp_box].tick_params(axis='x', which='both', labelbottom=False, bottom=False)\n",
    "\n",
    "## Displaying the x label just for the bottom axes\n",
    "# axd['right_4'].set_xticklabels(['06/01/2020', '07/01/2020', '08/01/2020', '09/01/2020', '10/01/2020', '11/01/2020', '12/01/2020', '12/31/2020'] )\n",
    "\n",
    "plt.show()"
   ]
  },
  {
   "cell_type": "markdown",
   "id": "f31a2b5c",
   "metadata": {},
   "source": [
    "---\n",
    "### *Exercise-4*\n",
    "Let us try to make a figure with two maps (one based on county-level and the other based on TSA level) and one line plot demonstrating temporal fluctuations. Please use the following code to create the frame and copy and paste the appropriate codes above cells to create the figure shown below. <br>\n",
    "What you are asked to do is to replace `ax` values, and remove duplicated declarations (e.g., figsize should not be declared more than once). \n",
    "\n",
    "\n",
    "```python\n",
    "gs_kw = dict(width_ratios=[1, 1], height_ratios=[1, 1])\n",
    "fig, axd = plt.subplot_mosaic([['left', 'right'], \n",
    "                               ['bottom', 'bottom']\n",
    "                              ],\n",
    "                              gridspec_kw=gs_kw, \n",
    "                              figsize=(15, 8),\n",
    "                              constrained_layout=True\n",
    "                             )\n",
    "\n",
    "# This section should be removed when you create an actual plot. \n",
    "for idx, ax in axd.items():\n",
    "    ax.text(s=idx, x=0.5, y=0.5, fontsize=20)\n",
    "# Until here. \n",
    "    \n",
    "plt.show()\n",
    "\n",
    "```\n",
    "![](./data/exercise_example.jpg)\n",
    "\n",
    "---"
   ]
  },
  {
   "cell_type": "code",
   "execution_count": null,
   "id": "13599f99",
   "metadata": {},
   "outputs": [],
   "source": [
    "gs_kw = dict(width_ratios=[1, 1], height_ratios=[1, 1])\n",
    "fig, axd = plt.subplot_mosaic([['left', 'right'], \n",
    "                               ['bottom', 'bottom']\n",
    "                              ],\n",
    "                              gridspec_kw=gs_kw, \n",
    "                              figsize=(15, 8),\n",
    "                              constrained_layout=True\n",
    "                             )\n",
    "print(type(axd), axd)\n",
    "\n",
    "# This section should be removed when you create an actual plot. \n",
    "for idx, ax in axd.items():\n",
    "    ax.text(s=idx, x=0.5, y=0.5, fontsize=20)\n",
    "# Until here. \n",
    "\n",
    "# Your code here\n",
    "\n",
    "\n",
    "plt.show()"
   ]
  },
  {
   "cell_type": "markdown",
   "id": "815b2744",
   "metadata": {},
   "source": [
    "## 3. Visualizing Geospatial Data with Interactive Web Map\n",
    "\n",
    "Besides the static maps, you can make a dynamic map with GeoPandas and Folium by using <a href=https://geopandas.org/en/stable/docs/reference/api/geopandas.GeoDataFrame.explore.html>`gpf.explore()`</a> method. <br>\n",
    "You can also take advantage of another package, called <a href=https://plotly.com/>`plotly`</a> to make more intriguing web maps. "
   ]
  },
  {
   "cell_type": "markdown",
   "id": "5ca7e603",
   "metadata": {},
   "source": [
    "The example of using gdf.explore(). It will take the data in a GeoDataFrame and display it on <a href=https://python-visualization.github.io/folium/>Folium</a> map. "
   ]
  },
  {
   "cell_type": "code",
   "execution_count": null,
   "id": "6c700f3e",
   "metadata": {},
   "outputs": [],
   "source": [
    "m = monthly_tsa.explore(column='COVID_Case', # the name of column in GeoDataFrame to be displayed on the webmap\n",
    "                      cmap='Reds', # Color map \n",
    "                      scheme='FisherJenks', # Classification scheme\n",
    "                      k=5, # Number of bins\n",
    "                      legend=True, # show legends\n",
    "                      popup=['06', '07', '08', '09', '10', '11', '12'], # Information displayed upon clicking. \n",
    "                      tooltip=['COVID_Case'] # Information displayed upon hovering. \n",
    "                     )\n",
    "\n",
    "# You can save this webmap and share it with your friends. \n",
    "m.save('./data/texas_covid_case_folium.html')\n",
    "m"
   ]
  },
  {
   "cell_type": "markdown",
   "id": "ebf574a1",
   "metadata": {},
   "source": [
    "Plotly is another package for displaying webmaps. "
   ]
  },
  {
   "cell_type": "code",
   "execution_count": null,
   "id": "4c2d8b5b",
   "metadata": {},
   "outputs": [],
   "source": [
    "import plotly.express as px"
   ]
  },
  {
   "cell_type": "code",
   "execution_count": null,
   "id": "2b4b843b",
   "metadata": {
    "scrolled": false
   },
   "outputs": [],
   "source": [
    "# https://plotly.github.io/plotly.py-docs/generated/plotly.express.choropleth_mapbox.html\n",
    "fig = px.choropleth_mapbox(data_frame=monthly_tsa, # Dataframe to be plotted. \n",
    "                           geojson=monthly_tsa.geometry.simplify(0.01), # Geometry to be utilized\n",
    "                           locations=monthly_tsa.index, # A column of the dataframe above. Should be matched with the index of geometry\n",
    "                           color=\"COVID_Case\", # A column of the dataframe above to assign color\n",
    "                           color_continuous_scale = 'reds', # https://plotly.com/python/builtin-colorscales/\n",
    "                           center={\"lat\": 31.62348, \"lon\": -98.34334},\n",
    "                           mapbox_style=\"open-street-map\", # 'white-bg', 'carto-positron', 'carto-darkmatter' etc. \n",
    "                           zoom=4)\n",
    "\n",
    "fig.write_html(\"./data/texas_covid_case_plotly.html\")\n",
    "fig.show()"
   ]
  },
  {
   "cell_type": "markdown",
   "id": "18aa26d3",
   "metadata": {},
   "source": [
    "Now, we are about to plot a time-series map based on the fluctuation of COVID-19 cases per TSA. In order to achieve this, the following should be addressed. \n",
    "1. The geometry of TSA is a bit complicated to be plotted on a web map. We need to simplify it with `gpd.geometry.simplify()`. \n",
    "2. The structure of GeoDataFrame needs to be chagned. Currently, we have the confirmed case of each month per TSA based on the index (TSA) and column (month). We need to explode the table for having each row has TSA and month, since this is the format for the time-series web map. "
   ]
  },
  {
   "cell_type": "markdown",
   "id": "59342f18",
   "metadata": {},
   "source": [
    "**Tip**: <a href=https://geopandas.org/en/stable/docs/reference/api/geopandas.GeoSeries.simplify.html>`gpd.geometry.simplify()`</a> is an appraoch to simplify geometry so that we can expedite the displaying process for webmaps. <br>"
   ]
  },
  {
   "cell_type": "code",
   "execution_count": null,
   "id": "8d6e9a8e",
   "metadata": {},
   "outputs": [],
   "source": [
    "fig, ax = plt.subplots(1,4, figsize=(15, 4))\n",
    "\n",
    "monthly_tsa.geometry.plot(ax=ax[0])\n",
    "monthly_tsa.geometry.simplify(0.01).plot(ax=ax[1])\n",
    "monthly_tsa.geometry.simplify(0.1).plot(ax=ax[2])\n",
    "monthly_tsa.geometry.simplify(0.5).plot(ax=ax[3])"
   ]
  },
  {
   "cell_type": "code",
   "execution_count": null,
   "id": "c0df90a9",
   "metadata": {},
   "outputs": [],
   "source": [
    "# Remaning the columns in `monthly_tsa` GeoDataFame for better understanding of readers\n",
    "monthly_tsa = monthly_tsa.rename(columns={'06': 'Jun', \n",
    "                                          '07': 'Jul', \n",
    "                                          '08': 'Aug', \n",
    "                                          '09': 'Sep', \n",
    "                                          '10': 'Oct', \n",
    "                                          '11': 'Nov',\n",
    "                                          '12': 'Dec'})\n",
    "monthly_tsa.head()"
   ]
  },
  {
   "cell_type": "markdown",
   "id": "b2629b80",
   "metadata": {},
   "source": [
    "Explode the structure of `monthly_tsa` for having each row has TSA and month."
   ]
  },
  {
   "cell_type": "code",
   "execution_count": null,
   "id": "582ceeff",
   "metadata": {},
   "outputs": [],
   "source": [
    "from itertools import product\n",
    "\n",
    "# Calculate every possible combination between TSA region and Months. \n",
    "list(product(monthly_tsa.index, ['Jun','Jul','Aug','Sep','Oct','Nov','Dec']))"
   ]
  },
  {
   "cell_type": "code",
   "execution_count": null,
   "id": "0028b8ae",
   "metadata": {},
   "outputs": [],
   "source": [
    "monthly_tsa_explode = gpd.GeoDataFrame(product(monthly_tsa.index, ['Jun','Jul','Aug','Sep','Oct','Nov','Dec']), columns=['TSA', 'Month'])\n",
    "monthly_tsa_explode['Case'] = 0\n",
    "monthly_tsa_explode"
   ]
  },
  {
   "cell_type": "code",
   "execution_count": null,
   "id": "96164032",
   "metadata": {},
   "outputs": [],
   "source": [
    "monthly_tsa_explode = gpd.GeoDataFrame(product(monthly_tsa.index, ['Jun','Jul','Aug','Sep','Oct','Nov','Dec']), columns=['TSA', 'Month'])\n",
    "\n",
    "monthly_tsa_explode['Case'] = 0\n",
    "for idx, row in monthly_tsa_explode.iterrows():\n",
    "    monthly_tsa_explode.at[idx, 'Case'] = monthly_tsa.loc[row['TSA'], row['Month']]\n",
    "\n",
    "monthly_tsa_explode"
   ]
  },
  {
   "cell_type": "code",
   "execution_count": null,
   "id": "1ae7dd33",
   "metadata": {},
   "outputs": [],
   "source": [
    "monthly_tsa.max()"
   ]
  },
  {
   "cell_type": "markdown",
   "id": "4f1ebb67",
   "metadata": {},
   "source": [
    "Here, we are making a time-series map with `plotly.express.choropleth_mapbox()` method."
   ]
  },
  {
   "cell_type": "code",
   "execution_count": null,
   "id": "9e0f2741",
   "metadata": {},
   "outputs": [],
   "source": [
    "# https://plotly.github.io/plotly.py-docs/generated/plotly.express.choropleth_mapbox.html\n",
    "fig = px.choropleth_mapbox(data_frame=monthly_tsa_explode, # Dataframe to be plotted. \n",
    "                           geojson=monthly_tsa.geometry.simplify(0.05), # Geometry to be utilized\n",
    "                           locations='TSA', # A column of the dataframe above. Should be matched with the index of geometry\n",
    "                           color='Case', # A column of the dataframe above to assign color\n",
    "                           animation_frame='Month', # A column of the dataframe above to change the time-series. \n",
    "                           color_continuous_scale=\"reds\",\n",
    "                           range_color=(0, 148141), # Min, Max value for color scheme\n",
    "                           center={\"lat\": 31.62348, \"lon\": -98.34334},\n",
    "                           mapbox_style=\"open-street-map\",\n",
    "                           zoom=4\n",
    "                   )\n",
    "\n",
    "fig.write_html(\"./data/texas_covid_case_plotly_dynamic.html\")\n",
    "fig.show()"
   ]
  },
  {
   "cell_type": "markdown",
   "id": "bc3aaffe",
   "metadata": {},
   "source": [
    "## Following codes is for copy and paste purposes in case you missed it during the class. "
   ]
  },
  {
   "cell_type": "markdown",
   "id": "6b600965",
   "metadata": {},
   "source": [
    "### *Exercise-1*\n",
    "```python\n",
    "x = np.linspace(-2 * np.pi, 2 * np.pi, 100)\n",
    "sin = [np.sin(v) for v in x]\n",
    "cos = [np.cos(v) for v in x]\n",
    "\n",
    "# Your code here\n",
    "fig, ax = plt.subplots(2, 1, figsize=(15,8))\n",
    "ax[0].plot(x, sin, c='black', linestyle='--')\n",
    "ax[0].set_title('Sin Graph', size=15)\n",
    "ax[0].set_yticks([-1, 0, 1])\n",
    "ax[1].plot(x, cos, c='red', linestyle=':')\n",
    "ax[1].set_title('Cos Graph', size=15)\n",
    "ax[1].set_yticks([-1, 0, 1])\n",
    "\n",
    "plt.show()\n",
    "```"
   ]
  },
  {
   "cell_type": "markdown",
   "id": "eb3df941",
   "metadata": {},
   "source": [
    "### *Exercise-2*\n",
    "\n",
    "```python\n",
    "# Your code here\n",
    "## Step 1\n",
    "county = gpd.read_file('./data/texas_county.json')\n",
    "covid_case = pd.read_csv('./data/covid_case.csv')\n",
    "\n",
    "## Step 2\n",
    "county = county.set_index('Name')\n",
    "covid_case = covid_case.set_index('County')\n",
    "\n",
    "## Step 3\n",
    "county = county.merge(covid_case, left_index=True, right_index=True)\n",
    "county.head()\n",
    "```\n"
   ]
  },
  {
   "cell_type": "markdown",
   "id": "5ebb32db",
   "metadata": {},
   "source": [
    "### *Exercise-3*\n",
    "\n",
    "```python\n",
    "# Your code here\n",
    "fig, ax = plt.subplots(figsize=(10, 10))\n",
    "\n",
    "# Define colormap\n",
    "color_brewer = ['#ffffff','#f0f0f0','#d9d9d9','#bdbdbd','#969696','#737373','#525252','#252525','#000000']\n",
    "cm_black = LinearSegmentedColormap.from_list('cb_', color_brewer, N=9)\n",
    "\n",
    "# Plot geographical information\n",
    "county.plot('COVID_Case', cmap=cm_black, legend=True, ax=ax, scheme='FisherJenks', k=9)\n",
    "tsa.boundary.plot(color='black', linewidth=0.5, linestyle=':', ax=ax)\n",
    "\n",
    "# Annotation\n",
    "for idx, row in tsa.iterrows():\n",
    "    ax.text(s=idx, \n",
    "            x=row['geometry'].centroid.coords[:][0][0], \n",
    "            y=row['geometry'].centroid.coords[:][0][1],  \n",
    "            fontsize=20, \n",
    "            color='black',\n",
    "            ha='center', \n",
    "            va='center',\n",
    "            path_effects=[pe.withStroke(linewidth=1, foreground=\"white\")]\n",
    "           )\n",
    "\n",
    "# Decoration purpose\n",
    "ax.get_xaxis().set_visible(False)\n",
    "ax.get_yaxis().set_visible(False)\n",
    "    \n",
    "plt.show()\n",
    "```"
   ]
  },
  {
   "cell_type": "markdown",
   "id": "6f359353",
   "metadata": {},
   "source": [
    "### *Exercise-4*\n",
    "\n",
    "```python\n",
    "gs_kw = dict(width_ratios=[1, 1], height_ratios=[1, 1])\n",
    "fig, axd = plt.subplot_mosaic([['left', 'right'], \n",
    "                               ['bottom', 'bottom']\n",
    "                              ],\n",
    "                              gridspec_kw=gs_kw, \n",
    "                              figsize=(12, 10),\n",
    "                              constrained_layout=True\n",
    "                             )\n",
    "\n",
    "# Left map\n",
    "# Define colormap\n",
    "color_brewer = ['#ffffff','#f0f0f0','#d9d9d9','#bdbdbd','#969696','#737373','#525252','#252525','#000000']\n",
    "cm_black = LinearSegmentedColormap.from_list('cb_', color_brewer, N=9)\n",
    "\n",
    "# Plot geographical information\n",
    "county.plot('COVID_Case', cmap=cm_black, ax=axd['left'], scheme='FisherJenks', k=9)\n",
    "tsa.boundary.plot(color='black', linewidth=0.5, linestyle=':', ax=axd['left'])\n",
    "\n",
    "# Annotation\n",
    "for idx, row in tsa.iterrows():\n",
    "    axd['left'].text(s=idx, \n",
    "            x=row['geometry'].centroid.coords[:][0][0], \n",
    "            y=row['geometry'].centroid.coords[:][0][1],  \n",
    "            fontsize=20, \n",
    "            color='black',\n",
    "            ha='center', \n",
    "            va='center',\n",
    "            path_effects=[pe.withStroke(linewidth=1, foreground=\"white\")]\n",
    "           )\n",
    "\n",
    "# Decoration purpose\n",
    "axd['left'].get_xaxis().set_visible(False)\n",
    "axd['left'].get_yaxis().set_visible(False)\n",
    "\n",
    "\n",
    "# Right map\n",
    "color_brewer = ['#fee5d9','#fcae91','#fb6a4a','#de2d26','#a50f15']\n",
    "cm = LinearSegmentedColormap.from_list('cb_', color_brewer, N=5)\n",
    "\n",
    "daily_tsa.plot('COVID_Case', cmap=cm, ax=axd['right'], scheme='FisherJenks')\n",
    "daily_tsa.boundary.plot(color='black', linewidth=0.5, linestyle=':', ax=axd['right'])\n",
    "axd['right'].get_xaxis().set_visible(False)\n",
    "axd['right'].get_yaxis().set_visible(False)\n",
    "\n",
    "for idx, row in daily_tsa.iterrows():\n",
    "    axd['right'].text(s=idx, \n",
    "            x=row['geometry'].centroid.coords[:][0][0], \n",
    "            y=row['geometry'].centroid.coords[:][0][1],  \n",
    "            fontsize=20, \n",
    "            color='white',\n",
    "            ha='center', \n",
    "            va='center',\n",
    "            path_effects=[pe.withStroke(linewidth=2, foreground=\"black\")]\n",
    "           )\n",
    "\n",
    "# Bottom plot\n",
    "tsa_slice = daily_tsa.loc[['Q', 'E', 'O', 'P'], daily_case.columns]\n",
    "pd.DataFrame(tsa_slice).transpose().plot(ax=axd['bottom'])\n",
    "\n",
    "plt.show()\n",
    "```"
   ]
  }
 ],
 "metadata": {
  "kernelspec": {
   "display_name": "Python 3",
   "language": "python",
   "name": "python3"
  },
  "language_info": {
   "codemirror_mode": {
    "name": "ipython",
    "version": 3
   },
   "file_extension": ".py",
   "mimetype": "text/x-python",
   "name": "python",
   "nbconvert_exporter": "python",
   "pygments_lexer": "ipython3",
   "version": "3.8.12"
  }
 },
 "nbformat": 4,
 "nbformat_minor": 5
}
