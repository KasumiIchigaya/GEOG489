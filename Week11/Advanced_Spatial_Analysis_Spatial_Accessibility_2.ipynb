{
 "cells": [
  {
   "cell_type": "markdown",
   "id": "44697b3b",
   "metadata": {},
   "source": [
    "# Advanced Spatial Analysis: Spatial Accessibility 2\n",
    "\n",
    "## Overview\n",
    "\n",
    "In this lecture, we will advance the 2SFCA method, which was covered in the previous lecture, by integrating **travel time and distance decay functions**. Compared to the original 2SFCA method, this method is called **Enhanced 2SFCA (E2SFCA)** method. The method is defined as follows:\n",
    "\n",
    "### First step:\n",
    "\n",
    "$$\\huge R_j = \\frac{S_j}{\\sum_{k\\in {\\left\\{\\color{blue}{t_{kj}} \\le \\color{blue}{t_0} \\right\\}}}^{}{P_k}\\color{blue}{W_k}}$$\n",
    "where<br>\n",
    "$R_j$: the supply-to-demand ratio of location $j$. <br>\n",
    "$S_j$: the degree of supply (e.g., number of doctors) at location $j$. <br>\n",
    "$P_k$: the degree of demand (e.g., population) at location $k$. <br>\n",
    "$\\color{blue}{t_{kj}}$: the travel <font color='blue'>time</font> between locations $k$ and $j$. <br>\n",
    "$\\color{blue}{t_0}$: the threshold travel <font color='blue'>time</font> of the analysis. <br>\n",
    "$\\color{blue}{W_k}$: Weight based on a distance decay function\n",
    "\n",
    "### Second step:\n",
    "$$\\huge A_i = \\sum_{j\\in {\\left\\{\\color{blue}{t_{ij}} \\le \\color{blue}{t_0} \\right\\}}} R_j\\color{blue}{W_j}$$\n",
    "where<br>\n",
    "$A_i$: the accessibility measures at location $i$. <br>\n",
    "$R_j$: the supply-to-demand ratio of location $j$. <br>\n",
    "$\\color{blue}{W_j}$: Weight based on a distance decay function<br>"
   ]
  },
  {
   "cell_type": "code",
   "execution_count": null,
   "id": "1ef81a76",
   "metadata": {},
   "outputs": [],
   "source": [
    "import geopandas as gpd\n",
    "import pandas as pd\n",
    "import osmnx as ox\n",
    "import time\n",
    "from tqdm import tqdm, trange\n",
    "from shapely.geometry import Point, MultiPoint\n",
    "import networkx as nx\n",
    "import matplotlib.pyplot as plt\n",
    "from scipy.stats import pearsonr\n",
    "from shapely.ops import cascaded_union, unary_union\n",
    "import utils  # Local file\n",
    "import warnings\n",
    "warnings.filterwarnings(\"ignore\")"
   ]
  },
  {
   "cell_type": "markdown",
   "id": "fc52b913",
   "metadata": {},
   "source": [
    "## Let's see the result first\n",
    "\n",
    "In the maps below, E2SFCA method shows the result measured with threshold travel time **15 minutes**. <br>\n",
    "The original 2SFCA method shows the result measured with threshold travel **distance 20Km** (=50 mph (80 km/h) * 0.25 hr (15 minutes))."
   ]
  },
  {
   "cell_type": "code",
   "execution_count": null,
   "id": "dbd0eec1",
   "metadata": {},
   "outputs": [],
   "source": [
    "E_step2 = gpd.read_file('./data/result_E2SFCA.shp')\n",
    "step2 = gpd.read_file('./data/result_2SFCA.shp')"
   ]
  },
  {
   "cell_type": "code",
   "execution_count": null,
   "id": "e39fc48d",
   "metadata": {},
   "outputs": [],
   "source": [
    "# Plotting accessibility measurement result. \n",
    "fig, ax = plt.subplots(1, 2, figsize=(15, 10))\n",
    "\n",
    "# Enhanced 2SFCA method\n",
    "E_step2.plot('access', ax=ax[0], figsize=(10,10), legend=True, cmap='Blues', scheme='FisherJenks')\n",
    "E_step2.loc[E_step2['access'] == 0].plot(ax=ax[0], color='grey', zorder=1)\n",
    "E_step2.boundary.plot(ax=ax[0], linestyle='dotted', lw=0.5, color='black', zorder=1)\n",
    "\n",
    "# Original 2SFCA method\n",
    "step2.plot('access', ax=ax[1], figsize=(10,10), legend=True, cmap='Blues', scheme='FisherJenks')\n",
    "step2.loc[step2['access'] == 0].plot(ax=ax[1], color='grey', zorder=1)\n",
    "step2.boundary.plot(ax=ax[1], linestyle='dotted', lw=0.5, color='black', zorder=1)"
   ]
  },
  {
   "cell_type": "markdown",
   "id": "cf3a453a",
   "metadata": {},
   "source": [
    "## Import Data - same data as the previous lecture"
   ]
  },
  {
   "cell_type": "code",
   "execution_count": null,
   "id": "71117b17",
   "metadata": {},
   "outputs": [],
   "source": [
    "# Supply: hospitals in the city of Chicago\n",
    "hospitals = gpd.read_file('./data/Chicago_Hospital_Info.shp')\n",
    "hospitals.head(1)"
   ]
  },
  {
   "cell_type": "code",
   "execution_count": null,
   "id": "c22235f9",
   "metadata": {},
   "outputs": [],
   "source": [
    "# Demand: population per census tract\n",
    "tracts = gpd.read_file('./data/Chicago_Tract.shp')\n",
    "tracts.head(1)"
   ]
  },
  {
   "cell_type": "code",
   "execution_count": null,
   "id": "146e66e9",
   "metadata": {},
   "outputs": [],
   "source": [
    "fig, ax = plt.subplots(figsize=(10, 10))\n",
    "\n",
    "tracts.plot('TotalPop', ax=ax, scheme='FisherJenks', cmap='Blues')\n",
    "hospitals.plot(markersize='Total_Bed', ax=ax, color='black')"
   ]
  },
  {
   "cell_type": "code",
   "execution_count": null,
   "id": "5f60f9b1",
   "metadata": {},
   "outputs": [],
   "source": [
    "# Mobility: Chicago Road Network\n",
    "G = ox.io.load_graphml('./data/chicago_road.graphml')\n",
    "ox.plot_graph(G)"
   ]
  },
  {
   "cell_type": "code",
   "execution_count": null,
   "id": "4776fe4a",
   "metadata": {},
   "outputs": [],
   "source": [
    "# This function helps you to find the nearest OSM node from a given GeoDataFrame\n",
    "# If geom type is point, it will take it without modification, but \n",
    "# IF geom type is polygon or multipolygon, it will take its centroid to calculate the nearest element. \n",
    "\n",
    "def find_nearest_osm(network, gdf):\n",
    "    for idx, row in tqdm(gdf.iterrows(), total=gdf.shape[0]):\n",
    "        if row.geometry.geom_type == 'Point':\n",
    "            nearest_osm = ox.distance.nearest_nodes(network, \n",
    "                                                    X=row.geometry.x, \n",
    "                                                    Y=row.geometry.y\n",
    "                                                   )\n",
    "        elif row.geometry.geom_type == 'Polygon' or row.geometry.geom_type == 'MultiPolygon':\n",
    "            nearest_osm = ox.distance.nearest_nodes(network, \n",
    "                                        X=row.geometry.centroid.x, \n",
    "                                        Y=row.geometry.centroid.y\n",
    "                                       )\n",
    "        else:\n",
    "            print(row.geometry.geom_type)\n",
    "            continue\n",
    "\n",
    "        gdf.at[idx, 'nearest_osm'] = nearest_osm\n",
    "\n",
    "    return gdf\n",
    "\n",
    "supply = find_nearest_osm(G, hospitals)\n",
    "demand = find_nearest_osm(G, tracts)"
   ]
  },
  {
   "cell_type": "markdown",
   "id": "d23935b0",
   "metadata": {},
   "source": [
    "## Advancement 1: Caculate the estimated travel time for each edge\n",
    "\n",
    "To calculate the catchment area based on threshold travel time, we need to calculate how long it would take to travel each network edge. <br>\n",
    "OSM network has two attributes that are helpful to calculate the estimated travel time for each edge: `length` and `maxspeed`. If we divide `length` into `maxspeed`, we will get the minimum travel time necessary to travel to the edge. "
   ]
  },
  {
   "cell_type": "code",
   "execution_count": null,
   "id": "bb06f297",
   "metadata": {
    "scrolled": false
   },
   "outputs": [],
   "source": [
    "# Extract the nodes and edges of the network dataset for the future analysis. \n",
    "nodes, edges = ox.graph_to_gdfs(G, nodes=True, edges=True, node_geometry=True)\n",
    "edges.head()"
   ]
  },
  {
   "cell_type": "markdown",
   "id": "70a44c13",
   "metadata": {},
   "source": [
    "You can iterate through the edges in the graph (`G`) with `G.edges()` method. This will return the entry of each edge as the form of dictionary. "
   ]
  },
  {
   "cell_type": "code",
   "execution_count": null,
   "id": "49bebd97",
   "metadata": {
    "scrolled": true
   },
   "outputs": [],
   "source": [
    "for u, v, data in G.edges(data=True):\n",
    "    print(type(data), data.keys())"
   ]
  },
  {
   "cell_type": "markdown",
   "id": "50263a97",
   "metadata": {},
   "source": [
    "Check the data in the `maxspeed` column. It has the forms of either **string or list**. But, we need to have it as a **numerical form** to do the calculation. "
   ]
  },
  {
   "cell_type": "code",
   "execution_count": null,
   "id": "ee8dc943",
   "metadata": {
    "scrolled": true
   },
   "outputs": [],
   "source": [
    "for u, v, data in G.edges(data=True):\n",
    "    if 'maxspeed' in data.keys():\n",
    "        print(data['maxspeed'])"
   ]
  },
  {
   "cell_type": "code",
   "execution_count": null,
   "id": "3acc413a",
   "metadata": {
    "scrolled": true
   },
   "outputs": [],
   "source": [
    "str_test = '55 mph'\n",
    "str_test.split(' ')"
   ]
  },
  {
   "cell_type": "code",
   "execution_count": null,
   "id": "2151a0c5",
   "metadata": {},
   "outputs": [],
   "source": [
    "list_test = ['35 mph', '30 mph']\n",
    "list_test[0].split(' ')"
   ]
  },
  {
   "cell_type": "markdown",
   "id": "d99d2ff5",
   "metadata": {},
   "source": [
    "By splitting either list or string, we can obtain the numerical value of max speed, as shown below."
   ]
  },
  {
   "cell_type": "code",
   "execution_count": null,
   "id": "20710a8f",
   "metadata": {
    "scrolled": true
   },
   "outputs": [],
   "source": [
    "for u, v, data in G.edges(data=True):\n",
    "    if 'maxspeed' in data.keys():\n",
    "        if type(data['maxspeed']) == list:\n",
    "            temp_speed = data['maxspeed'][0]  # extract only the first entry if there are many \n",
    "        else: \n",
    "            temp_speed = data['maxspeed'] \n",
    "\n",
    "        temp_speed = temp_speed.split(' ')[0]  # Extract only the number\n",
    "        \n",
    "        data['maxspeed'] = temp_speed # Assign back to the original entry"
   ]
  },
  {
   "cell_type": "markdown",
   "id": "9d8e4091",
   "metadata": {},
   "source": [
    "Examine the replaced values in `maxspeed` column. You will notice that some rows have `NaN` value. "
   ]
  },
  {
   "cell_type": "code",
   "execution_count": null,
   "id": "ea307c56",
   "metadata": {},
   "outputs": [],
   "source": [
    "nodes, edges = ox.graph_to_gdfs(G, nodes=True, edges=True, node_geometry=True)\n",
    "edges.head()"
   ]
  },
  {
   "cell_type": "markdown",
   "id": "e1230dd9",
   "metadata": {},
   "source": [
    "If the `maxspeed` column is empty, we can assign maximum travel speed based on their road type. The type is stored in `highway` column. This <a href=https://wiki.openstreetmap.org/wiki/Key:highway> website </a> shows the kinds of attributes and their meanings. "
   ]
  },
  {
   "cell_type": "code",
   "execution_count": null,
   "id": "d5eadfcf",
   "metadata": {},
   "outputs": [],
   "source": [
    "def assign_max_speed_with_highway_type(row_):\n",
    "    \"\"\"\n",
    "    Assign the maximum speed of an edge based on its attribute 'highway'\n",
    "    # https://wiki.openstreetmap.org/wiki/Key:highway\n",
    "    \n",
    "    Args:\n",
    "        row_: (dict) a row of OSMnx network data\n",
    "    \n",
    "    Returns:\n",
    "        temp_speed_: (int) the maximum speed of an edge\n",
    "    \n",
    "    \"\"\"\n",
    "    \n",
    "    max_speed_per_type = {'motorway': 50, \n",
    "              'motorway_link': 30, \n",
    "              'trunk': 50,\n",
    "              'trunk_link': 30, \n",
    "              'primary': 40,\n",
    "              'primary_link': 30, \n",
    "              'secondary': 40,\n",
    "              'secondary_link': 30, \n",
    "              'tertiary': 40, \n",
    "              'tertiary_link': 20,\n",
    "              'residential': 30,\n",
    "              'living_street': 20,\n",
    "              'unclassified': 20\n",
    "             }\n",
    "    \n",
    "    # if the variable is a list, grab just the first one. \n",
    "    if type(row_['highway']) == list: \n",
    "        road_type = row_['highway'][0]\n",
    "    else:\n",
    "        road_type = row_['highway']\n",
    "    \n",
    "    # If the maximum speed of the road_type is predefined.\n",
    "    if road_type in max_speed_per_type.keys():\n",
    "        temp_speed_ = max_speed_per_type[road_type]\n",
    "    else: # If not defined, just use 20 mph. \n",
    "        temp_speed_ = 20\n",
    "    \n",
    "    return temp_speed_"
   ]
  },
  {
   "cell_type": "code",
   "execution_count": null,
   "id": "d3e0c0e7",
   "metadata": {},
   "outputs": [],
   "source": [
    "for u, v, data in G.edges(data=True):\n",
    "    if 'maxspeed' in data.keys():\n",
    "        if type(data['maxspeed']) == list:\n",
    "            temp_speed = data['maxspeed'][0]  # extract only numbers         \n",
    "        else: \n",
    "            temp_speed = data['maxspeed']\n",
    "\n",
    "        temp_speed = temp_speed.split(' ')[0]\n",
    "        \n",
    "    else:\n",
    "        temp_speed = assign_max_speed_with_highway_type(data)\n",
    "        \n",
    "    data['maxspeed'] = temp_speed"
   ]
  },
  {
   "cell_type": "markdown",
   "id": "fcc67034",
   "metadata": {},
   "source": [
    "Check the `maxspeed` column one more time. You will see all the rows are populated with numerical values."
   ]
  },
  {
   "cell_type": "code",
   "execution_count": null,
   "id": "098fed81",
   "metadata": {},
   "outputs": [],
   "source": [
    "# Extract the nodes and edges of the network dataset for the future analysis. \n",
    "nodes, edges = ox.graph_to_gdfs(G, nodes=True, edges=True, node_geometry=True)\n",
    "edges.head()"
   ]
  },
  {
   "cell_type": "markdown",
   "id": "9a7848ff",
   "metadata": {},
   "source": [
    "Since we have `maxspeed` and `length` data ready for every edge, now we can calculate the estimated travel time per edge. You can simply create/add column like the below. "
   ]
  },
  {
   "cell_type": "code",
   "execution_count": null,
   "id": "37e5718b",
   "metadata": {},
   "outputs": [],
   "source": [
    "for u, v, data in G.edges(data=True):\n",
    "    data['maxspeed_meters'] = int(data['maxspeed']) * 26.8223 # MPH * 1.6 * 1000 / 60; meter per minute\n",
    "    data['time'] = float(data['length'] / data['maxspeed_meters'])  # Unit: minutes"
   ]
  },
  {
   "cell_type": "code",
   "execution_count": null,
   "id": "b9977079",
   "metadata": {
    "scrolled": false
   },
   "outputs": [],
   "source": [
    "nodes, edges = ox.graph_to_gdfs(G, nodes=True, edges=True, node_geometry=True)\n",
    "edges.head()"
   ]
  },
  {
   "cell_type": "markdown",
   "id": "7f71919e",
   "metadata": {},
   "source": [
    "In summary, the following codes are what I have explained. \n",
    "\n",
    "```python\n",
    "def network_settings(network):\n",
    "    for u, v, data in network.edges(data=True):\n",
    "        if 'maxspeed' in data.keys():\n",
    "            if type(data['maxspeed']) == list:\n",
    "                temp_speed = data['maxspeed'][0]  # extract only numbers\n",
    "            else:\n",
    "                temp_speed = data['maxspeed']\n",
    "\n",
    "            temp_speed = temp_speed.split(' ')[0]\n",
    "\n",
    "        else:\n",
    "            temp_speed = assign_max_speed_with_highway_type(data)\n",
    "\n",
    "        data['maxspeed'] = temp_speed\n",
    "        data['maxspeed_meters'] = int(data['maxspeed']) * 26.8223  # MPH * 1.6 * 1000 / 60; meter per minute\n",
    "        data['time'] = float(data['length'] / data['maxspeed_meters'])\n",
    "\n",
    "    # create point geometries for the entire graph\n",
    "    for node, data in network.nodes(data=True):\n",
    "        data['geometry'] = Point(data['x'], data['y'])\n",
    "\n",
    "    return network\n",
    "\n",
    "\n",
    "def assign_max_speed_with_highway_type(row_):\n",
    "    max_speed_per_type = {'motorway': 50,\n",
    "                          'motorway_link': 30,\n",
    "                          'trunk': 50,\n",
    "                          'trunk_link': 30,\n",
    "                          'primary': 40,\n",
    "                          'primary_link': 30,\n",
    "                          'secondary': 40,\n",
    "                          'secondary_link': 30,\n",
    "                          'tertiary': 40,\n",
    "                          'tertiary_link': 20,\n",
    "                          'residential': 30,\n",
    "                          'living_street': 20,\n",
    "                          'unclassified': 20\n",
    "                          }\n",
    "\n",
    "    # if the variable is a list, obtain just the first one.\n",
    "    if type(row_['highway']) == list:\n",
    "        road_type = row_['highway'][0]\n",
    "    else:\n",
    "        road_type = row_['highway']\n",
    "\n",
    "    # If the maximum speed of the road_type is predefined.\n",
    "    if road_type in max_speed_per_type.keys():\n",
    "        temp_speed_ = max_speed_per_type[road_type]\n",
    "    else:  # If not defined, just use 20 mph.\n",
    "        temp_speed_ = 20\n",
    "\n",
    "    return temp_speed_\n",
    "\n",
    "```"
   ]
  },
  {
   "cell_type": "code",
   "execution_count": null,
   "id": "5ba3d5ec",
   "metadata": {},
   "outputs": [],
   "source": [
    "def network_settings(network):\n",
    "    for u, v, data in network.edges(data=True):\n",
    "        if 'maxspeed' in data.keys():\n",
    "            if type(data['maxspeed']) == list:\n",
    "                temp_speed = data['maxspeed'][0]  # extract only numbers\n",
    "            else:\n",
    "                temp_speed = data['maxspeed']\n",
    "\n",
    "            temp_speed = temp_speed.split(' ')[0]\n",
    "\n",
    "        else:\n",
    "            temp_speed = assign_max_speed_with_highway_type(data)\n",
    "\n",
    "        data['maxspeed'] = temp_speed\n",
    "        data['maxspeed_meters'] = int(data['maxspeed']) * 26.8223  # MPH * 1.6 * 1000 / 60; meter per minute\n",
    "        data['time'] = float(data['length'] / data['maxspeed_meters'])\n",
    "\n",
    "    # create point geometries for the entire graph\n",
    "    for node, data in network.nodes(data=True):\n",
    "        data['geometry'] = Point(data['x'], data['y'])\n",
    "\n",
    "    return network\n",
    "\n",
    "\n",
    "def assign_max_speed_with_highway_type(row_):\n",
    "    max_speed_per_type = {'motorway': 50,\n",
    "                          'motorway_link': 30,\n",
    "                          'trunk': 50,\n",
    "                          'trunk_link': 30,\n",
    "                          'primary': 40,\n",
    "                          'primary_link': 30,\n",
    "                          'secondary': 40,\n",
    "                          'secondary_link': 30,\n",
    "                          'tertiary': 40,\n",
    "                          'tertiary_link': 20,\n",
    "                          'residential': 30,\n",
    "                          'living_street': 20,\n",
    "                          'unclassified': 20\n",
    "                          }\n",
    "\n",
    "    # if the variable is a list, obtain just the first one.\n",
    "    if type(row_['highway']) == list:\n",
    "        road_type = row_['highway'][0]\n",
    "    else:\n",
    "        road_type = row_['highway']\n",
    "\n",
    "    # If the maximum speed of the road_type is predefined.\n",
    "    if road_type in max_speed_per_type.keys():\n",
    "        temp_speed_ = max_speed_per_type[road_type]\n",
    "    else:  # If not defined, just use 20 mph.\n",
    "        temp_speed_ = 20\n",
    "\n",
    "    return temp_speed_"
   ]
  },
  {
   "cell_type": "code",
   "execution_count": null,
   "id": "59c0debb",
   "metadata": {},
   "outputs": [],
   "source": [
    "# Mobility: Chicago Road Network\n",
    "G = ox.io.load_graphml('./data/chicago_road.graphml')\n",
    "\n",
    "G = network_settings(G)\n",
    "\n",
    "# Extract the nodes and edges of the network dataset for the future analysis. \n",
    "nodes, edges = ox.graph_to_gdfs(G, nodes=True, edges=True, node_geometry=True)\n",
    "edges.head()"
   ]
  },
  {
   "cell_type": "markdown",
   "id": "31c9f906",
   "metadata": {},
   "source": [
    "---\n",
    "### *Exercise*\n",
    "\n",
    "Now we will investigate how the catchment area differs if we utilize threshold travel distance or travel time. <br> Assuming the overall travel speed in the study area is 50 mph, we will compare the catchment areas drawn by 20 km (15 minutes driving distance with 50 mph) and 15 minutes. Change the value of `supply_idx` from 0 to 33, and investigate how the catchment looks different at different supply locations.  \n",
    "\n",
    "```python\n",
    "# In summary, the following is the necessary code to create a catchment area from a given location. \n",
    "threshold_dist = 20000  # 15 minute driving distance with 50mph. \n",
    "threshold_time = 15\n",
    "\n",
    "supply_idx = 0 # Range can be 0 - 33\n",
    "\n",
    "# 1. Calculate accessible nodes in the network dataset from a given location \n",
    "temp_nodes_time = nx.single_source_dijkstra_path_length(G, supply.loc[supply_idx, 'nearest_osm'], threshold_time, weight='time')\n",
    "temp_nodes_dist = nx.single_source_dijkstra_path_length(G, supply.loc[supply_idx, 'nearest_osm'], threshold_dist, weight='length')\n",
    "\n",
    "# 2. Extract the locations (or coordinates) of accessible nodes based on the OSMID.\n",
    "access_nodes_time = nodes.loc[nodes.index.isin(temp_nodes_time.keys()), 'geometry']\n",
    "access_nodes_dist = nodes.loc[nodes.index.isin(temp_nodes_dist.keys()), 'geometry']\n",
    "\n",
    "# 3. Create a convex hull with the locations of the nodes.\n",
    "access_nodes_time = gpd.GeoSeries(access_nodes_time.unary_union.convex_hull, crs=\"EPSG:4326\")\n",
    "access_nodes_dist = gpd.GeoSeries(access_nodes_dist.unary_union.convex_hull, crs=\"EPSG:4326\")\n",
    "\n",
    "# Result. \n",
    "demand_time = demand.loc[demand['geometry'].centroid.within(access_nodes_time[0])]\n",
    "demand_dist = demand.loc[demand['geometry'].centroid.within(access_nodes_dist[0])]\n",
    "\n",
    "print(f\"threshold by time: {demand_time.shape[0]}\")\n",
    "print(f\"threshold by distance: {demand_dist.shape[0]}\")\n",
    "\n",
    "# Plot graphs\n",
    "fig, ax = plt.subplots(figsize=(10, 10))\n",
    "\n",
    "tracts.plot('TotalPop', ax=ax, scheme='FisherJenks', cmap='Blues')\n",
    "\n",
    "access_nodes_time.boundary.plot(ax=ax, color='red', linewidth=4)\n",
    "access_nodes_dist.boundary.plot(ax=ax, color='blue', linewidth=4)\n",
    "\n",
    "edges.plot(ax=ax, color='black', lw=0.5)\n",
    "\n",
    "supply_loc = supply.loc[supply.index==supply_idx]\n",
    "supply_loc.plot(markersize='Total_Bed', ax=ax, color='black')\n",
    "\n",
    "```\n",
    "\n",
    "---"
   ]
  },
  {
   "cell_type": "code",
   "execution_count": null,
   "id": "bc2591e2",
   "metadata": {},
   "outputs": [],
   "source": [
    "# In summary, the following is the necessary code to create a catchment area from a given location. \n",
    "threshold_dist = 20000  # 15 minute driving distance with 50mph. \n",
    "threshold_time = 15\n",
    "\n",
    "supply_idx = 0 # Range can be 0 - 33\n",
    "\n",
    "# 1. Calculate accessible nodes in the network dataset from a given location \n",
    "temp_nodes_time = nx.single_source_dijkstra_path_length(G, supply.loc[supply_idx, 'nearest_osm'], threshold_time, weight='time')\n",
    "temp_nodes_dist = nx.single_source_dijkstra_path_length(G, supply.loc[supply_idx, 'nearest_osm'], threshold_dist, weight='length')\n",
    "\n",
    "# 2. Extract the locations (or coordinates) of accessible nodes based on the OSMID.\n",
    "access_nodes_time = nodes.loc[nodes.index.isin(temp_nodes_time.keys()), 'geometry']\n",
    "access_nodes_dist = nodes.loc[nodes.index.isin(temp_nodes_dist.keys()), 'geometry']\n",
    "\n",
    "# 3. Create a convex hull with the locations of the nodes.\n",
    "access_nodes_time = gpd.GeoSeries(access_nodes_time.unary_union.convex_hull, crs=\"EPSG:4326\")\n",
    "access_nodes_dist = gpd.GeoSeries(access_nodes_dist.unary_union.convex_hull, crs=\"EPSG:4326\")\n",
    "\n",
    "# Result. \n",
    "demand_time = demand.loc[demand['geometry'].centroid.within(access_nodes_time[0])]\n",
    "demand_dist = demand.loc[demand['geometry'].centroid.within(access_nodes_dist[0])]\n",
    "\n",
    "print(f\"threshold by time: {demand_time.shape[0]}\")\n",
    "print(f\"threshold by distance: {demand_dist.shape[0]}\")\n",
    "\n",
    "# Plot graphs\n",
    "fig, ax = plt.subplots(figsize=(10, 10))\n",
    "\n",
    "tracts.plot('TotalPop', ax=ax, scheme='FisherJenks', cmap='Blues')\n",
    "\n",
    "access_nodes_time.boundary.plot(ax=ax, color='red', linewidth=4)\n",
    "access_nodes_dist.boundary.plot(ax=ax, color='blue', linewidth=4)\n",
    "\n",
    "edges.plot(ax=ax, color='black', lw=0.5)\n",
    "\n",
    "supply_loc = supply.loc[supply.index==supply_idx]\n",
    "supply_loc.plot(markersize='Total_Bed', ax=ax, color='yellow', zorder=2)"
   ]
  },
  {
   "cell_type": "markdown",
   "id": "8a06eb0a",
   "metadata": {},
   "source": [
    "Here, the main difference is created from <a href=https://networkx.org/documentation/stable/reference/algorithms/generated/networkx.algorithms.shortest_paths.weighted.single_source_dijkstra_path_length.html>`nx.single_source_dijkstra_path_length()`</a>, which is the function calculating the nodes that are accessible within a certain threshold. "
   ]
  },
  {
   "cell_type": "code",
   "execution_count": null,
   "id": "763182d0",
   "metadata": {
    "scrolled": true
   },
   "outputs": [],
   "source": [
    "nx.single_source_dijkstra_path_length(G=G,\n",
    "                                      source=supply.loc[0, 'nearest_osm'], \n",
    "                                      cutoff=20000,\n",
    "                                      weight='length'\n",
    "                                     )"
   ]
  },
  {
   "cell_type": "code",
   "execution_count": null,
   "id": "55cbf9dc",
   "metadata": {},
   "outputs": [],
   "source": [
    "nx.single_source_dijkstra_path_length(G=G,\n",
    "                                      source=supply.loc[0, 'nearest_osm'], \n",
    "                                      cutoff=15,\n",
    "                                      weight='time'\n",
    "                                     )"
   ]
  },
  {
   "cell_type": "code",
   "execution_count": null,
   "id": "46b3c5b8",
   "metadata": {},
   "outputs": [],
   "source": [
    "nx.single_source_dijkstra_path_length(G=G,\n",
    "                                      source=supply.loc[0, 'nearest_osm'], \n",
    "                                      cutoff=15,\n",
    "#                                       weight='time'\n",
    "                                     )"
   ]
  },
  {
   "cell_type": "markdown",
   "id": "6c230a74",
   "metadata": {},
   "source": [
    "## Advancement 2: Apply distance decay functions for catchment areas\n",
    "\n",
    "Here, we will also start with the result first. "
   ]
  },
  {
   "cell_type": "code",
   "execution_count": null,
   "id": "819c394d",
   "metadata": {},
   "outputs": [],
   "source": [
    "def calculate_catchment_area(network, nearest_osm, minutes, distance_unit='time'):\n",
    "    polygons = gpd.GeoDataFrame(crs=\"EPSG:4326\")\n",
    "\n",
    "    # Create convex hull for each travel time (minutes), respectively.\n",
    "    for minute in minutes:\n",
    "        access_nodes = nx.single_source_dijkstra_path_length(network, nearest_osm, minute, weight=distance_unit)\n",
    "        convex_hull = gpd.GeoSeries(nx.get_node_attributes(network.subgraph(access_nodes), 'geometry')).unary_union.convex_hull\n",
    "        polygon = gpd.GeoDataFrame({'minutes': [minute], 'geometry': [convex_hull]}, crs=\"EPSG:4326\")\n",
    "        polygon = polygon.set_index('minutes')\n",
    "        polygons = polygons.append(polygon)\n",
    "\n",
    "    # Calculate the differences between convex hulls which created in the previous section.\n",
    "    polygons_ = polygons.copy(deep=True)\n",
    "    for idx, minute in enumerate(minutes):\n",
    "        if idx != 0:\n",
    "            current_polygon = polygons.loc[[minute]]\n",
    "            previous_polygons = polygons.loc[[minutes[idx-1]]]\n",
    "            diff_polygon = gpd.overlay(current_polygon, previous_polygons, how=\"difference\")\n",
    "            if diff_polygon.shape[0] != 0:\n",
    "                polygons_.at[minute, 'geometry'] = diff_polygon['geometry'].values[0]\n",
    "\n",
    "    return polygons_.copy(deep=True)"
   ]
  },
  {
   "cell_type": "markdown",
   "id": "653e502d",
   "metadata": {},
   "source": [
    "Demonstration of a catchment area drawn from the supply location 0 for 5, 10 15 minutes threshold travel time. "
   ]
  },
  {
   "cell_type": "code",
   "execution_count": null,
   "id": "639d9098",
   "metadata": {},
   "outputs": [],
   "source": [
    "supply_idx = 0 # Range can be 0 - 33\n",
    "\n",
    "# Calculate catchment areas\n",
    "areas = calculate_catchment_area(G, supply.loc[supply_idx, 'nearest_osm'], [5, 10,15], distance_unit='time')\n",
    "areas['val'] = areas.index.astype(str)\n",
    "\n",
    "# Plot graphs\n",
    "fig, ax = plt.subplots(figsize=(10, 10))\n",
    "\n",
    "tracts.plot('TotalPop', ax=ax, scheme='FisherJenks', cmap='Blues')\n",
    "areas.plot('val', categorical=True, alpha=0.7, ax=ax)\n",
    "areas.boundary.plot(ax=ax, color='black')\n",
    "edges.plot(ax=ax, color='black', lw=0.5)\n",
    "\n",
    "supply_loc = supply.loc[supply.index==supply_idx]\n",
    "supply_loc.plot(markersize='Total_Bed', ax=ax, color='black')"
   ]
  },
  {
   "cell_type": "code",
   "execution_count": null,
   "id": "b61a20fc",
   "metadata": {},
   "outputs": [],
   "source": [
    "areas = calculate_catchment_area(G, supply.loc[0, 'nearest_osm'], [5, 10,15], distance_unit='time')\n",
    "areas"
   ]
  },
  {
   "cell_type": "code",
   "execution_count": null,
   "id": "6d01817b",
   "metadata": {
    "scrolled": true
   },
   "outputs": [],
   "source": [
    "areas.loc[5, 'geometry']"
   ]
  },
  {
   "cell_type": "code",
   "execution_count": null,
   "id": "d9e510cb",
   "metadata": {},
   "outputs": [],
   "source": [
    "areas.loc[10, 'geometry']"
   ]
  },
  {
   "cell_type": "code",
   "execution_count": null,
   "id": "f7562d30",
   "metadata": {},
   "outputs": [],
   "source": [
    "areas.loc[15, 'geometry']"
   ]
  },
  {
   "cell_type": "markdown",
   "id": "3dc762be",
   "metadata": {},
   "source": [
    "The steps are as follows to create multiple polygons with a hole inside. \n",
    "1. Create polygons based on each step of threshold travel time (e.g., 5, 10, 15 minutes)\n",
    "2. Calculate the difference between a polygon with a bigger threshold travel time and the one with a smaller threshold travel time (e.g., 15 minute polygon - 10 minute polygon). "
   ]
  },
  {
   "cell_type": "code",
   "execution_count": null,
   "id": "1d8afa31",
   "metadata": {},
   "outputs": [],
   "source": [
    "minutes = [5, 10, 15]\n",
    "polygons = gpd.GeoDataFrame(crs=\"EPSG:4326\")\n",
    "\n",
    "# Create convex hull for each travel time (minutes), respectively.\n",
    "for minute in minutes:\n",
    "    # Get the accessible nodes within a certain threshold travel time from the network\n",
    "    access_nodes = nx.single_source_dijkstra_path_length(G, \n",
    "                                                         supply.loc[supply_idx, 'nearest_osm'],\n",
    "                                                         minute, \n",
    "                                                         weight='time'\n",
    "                                                        )\n",
    "    # Create the convex hull of accessible nodes\n",
    "    convex_hull = gpd.GeoSeries(nx.get_node_attributes(G.subgraph(access_nodes), 'geometry')).unary_union.convex_hull\n",
    "    \n",
    "    # `convex_hull` is a Shapely Polygon, so need to convert it to GeoDataFrame `polygon`\n",
    "    polygon = gpd.GeoDataFrame({'minutes': [minute], 'geometry': [convex_hull]}, crs=\"EPSG:4326\")\n",
    "    \n",
    "    # Append a GeoDataFrame to another GeoDataFrame\n",
    "    polygons = polygons.append(polygon)\n",
    "    \n",
    "polygons = polygons.set_index('minutes')\n",
    "polygons"
   ]
  },
  {
   "cell_type": "markdown",
   "id": "43282928",
   "metadata": {},
   "source": [
    "The result will have multiple polygons but they don't have a hole in it. "
   ]
  },
  {
   "cell_type": "code",
   "execution_count": null,
   "id": "75f3c3f6",
   "metadata": {},
   "outputs": [],
   "source": [
    "polygons.loc[5, 'geometry']"
   ]
  },
  {
   "cell_type": "code",
   "execution_count": null,
   "id": "d4e64f53",
   "metadata": {},
   "outputs": [],
   "source": [
    "polygons.loc[10, 'geometry']"
   ]
  },
  {
   "cell_type": "code",
   "execution_count": null,
   "id": "64e8d1cc",
   "metadata": {},
   "outputs": [],
   "source": [
    "polygons.loc[15, 'geometry']"
   ]
  },
  {
   "cell_type": "markdown",
   "id": "77900eb4",
   "metadata": {},
   "source": [
    "We can take advantage of <a href=https://geopandas.org/en/stable/docs/reference/api/geopandas.overlay.html>`gpd.overlay()`</a> to calculate the difference between two polygons."
   ]
  },
  {
   "cell_type": "code",
   "execution_count": null,
   "id": "0b0da564",
   "metadata": {},
   "outputs": [],
   "source": [
    "gpd.overlay(polygons.loc[[15]], polygons.loc[[10]], how=\"difference\")\n",
    "# gpd.overlay(polygons.loc[[15]], polygons.loc[[10]], how=\"difference\").plot()"
   ]
  },
  {
   "cell_type": "code",
   "execution_count": null,
   "id": "aaf7c22e",
   "metadata": {},
   "outputs": [],
   "source": [
    "# Key here is that you are subtracting a polygon at the second location from the one at the first location\n",
    "gpd.overlay(polygons.loc[[10]], polygons.loc[[15]], how=\"difference\")"
   ]
  },
  {
   "cell_type": "markdown",
   "id": "bdd217aa",
   "metadata": {},
   "source": [
    "If you make a loop to automate this process, it will be as below. "
   ]
  },
  {
   "cell_type": "code",
   "execution_count": null,
   "id": "b5944988",
   "metadata": {},
   "outputs": [],
   "source": [
    "# Calculate the differences between convex hulls which created in the previous section.\n",
    "\n",
    "minutes = [5, 10, 15]\n",
    "\n",
    "polygons_ = polygons.copy(deep=True)\n",
    "for idx, minute in enumerate(minutes):\n",
    "    print(f'The index of {minute} is {idx}')\n",
    "    \n",
    "    current_idx = idx\n",
    "    previous_idx = idx-1\n",
    "    print(f'In the loop, the current index is {current_idx}, and previous index is {previous_idx}')\n",
    "    \n",
    "    current_threshold = minutes[current_idx]\n",
    "    previous_threshold = minutes[previous_idx]\n",
    "    print(f'In the loop, the current threshold time is {current_threshold}, and previous threshold time is {previous_threshold}')\n",
    "    \n",
    "    print('#-----------#')\n",
    "#     if idx != 0:\n",
    "#         current_polygon = polygons.loc[[minute]]\n",
    "#         previous_polygons = polygons.loc[[minutes[idx-1]]]\n",
    "#         diff_polygon = gpd.overlay(current_polygon, previous_polygons, how=\"difference\")\n",
    "#         if diff_polygon.shape[0] != 0:\n",
    "#             polygons_.at[minute, 'geometry'] = diff_polygon['geometry'].values[0]"
   ]
  },
  {
   "cell_type": "markdown",
   "id": "b5078960",
   "metadata": {},
   "source": [
    "Again, the following summarizes steps that create multiple catchment areas from a single origin."
   ]
  },
  {
   "cell_type": "code",
   "execution_count": null,
   "id": "508b57ec",
   "metadata": {},
   "outputs": [],
   "source": [
    "def calculate_catchment_area(network, nearest_osm, minutes, distance_unit='time'):\n",
    "    polygons = gpd.GeoDataFrame(crs=\"EPSG:4326\")\n",
    "\n",
    "    # Create convex hull for each travel time (minutes), respectively.\n",
    "    for minute in minutes:\n",
    "        access_nodes = nx.single_source_dijkstra_path_length(network, nearest_osm, minute, weight=distance_unit)\n",
    "        convex_hull = gpd.GeoSeries(nx.get_node_attributes(network.subgraph(access_nodes), 'geometry')).unary_union.convex_hull\n",
    "        polygon = gpd.GeoDataFrame({'minutes': [minute], 'geometry': [convex_hull]}, crs=\"EPSG:4326\")\n",
    "        polygon = polygon.set_index('minutes')\n",
    "        polygons = polygons.append(polygon)\n",
    "\n",
    "    # Calculate the differences between convex hulls which created in the previous section.\n",
    "    polygons_ = polygons.copy(deep=True)\n",
    "    for idx, minute in enumerate(minutes):\n",
    "        if idx != 0:\n",
    "            current_polygon = polygons.loc[[minute]]\n",
    "            previous_polygons = polygons.loc[[minutes[idx-1]]]\n",
    "            diff_polygon = gpd.overlay(current_polygon, previous_polygons, how=\"difference\")\n",
    "            if diff_polygon.shape[0] != 0:\n",
    "                polygons_.at[minute, 'geometry'] = diff_polygon['geometry'].values[0]\n",
    "\n",
    "    return polygons_.copy(deep=True)"
   ]
  },
  {
   "cell_type": "markdown",
   "id": "a6ee9a19",
   "metadata": {},
   "source": [
    "## Implementation of the advancements to the accessibility measurements"
   ]
  },
  {
   "cell_type": "markdown",
   "id": "fa492c69",
   "metadata": {},
   "source": [
    "The original 2SFCA method calculates supply-to-demand ratio (Step 1) as shown below. "
   ]
  },
  {
   "cell_type": "code",
   "execution_count": null,
   "id": "7635acbd",
   "metadata": {},
   "outputs": [],
   "source": [
    "# Calculate supply-to-demand ratio of supply location 0\n",
    "i= 0\n",
    "dist = 20000\n",
    "supply_ = supply.copy(deep=True)\n",
    "supply_['ratio'] = 0\n",
    "\n",
    "# Create a catchment area from a given location\n",
    "temp_nodes = nx.single_source_dijkstra_path_length(G, supply.loc[i, 'nearest_osm'], dist, weight='length')\n",
    "access_nodes = nodes.loc[nodes.index.isin(temp_nodes.keys()), 'geometry']\n",
    "access_nodes = gpd.GeoSeries(access_nodes.unary_union.convex_hull, crs=\"EPSG:4326\")\n",
    "\n",
    "# Calculate the population within the catchment area\n",
    "temp_demand = demand.loc[demand['geometry'].centroid.within(access_nodes[0]), 'TotalPop'].sum()\n",
    "\n",
    "# Calculate the number of hospital beds in each hospital\n",
    "temp_supply = supply.loc[i, 'Total_Bed']\n",
    "\n",
    "# Calculate the number of hospital beds available for 100,000 people \n",
    "supply_.at[i, 'ratio'] = temp_supply / temp_demand * 100000\n",
    "supply_.at[i, 'ratio']"
   ]
  },
  {
   "cell_type": "markdown",
   "id": "5fab0270",
   "metadata": {},
   "source": [
    "The Enhanced 2SFCA method calculates supply-to-demand ratio (Step 1) as shown below. "
   ]
  },
  {
   "cell_type": "code",
   "execution_count": null,
   "id": "6aa7de27",
   "metadata": {},
   "outputs": [],
   "source": [
    "minutes = [5, 10, 15]\n",
    "weights = {5: 1, 10: 0.68, 15: 0.22}\n",
    "\n",
    "i= 0\n",
    "supply_ = supply.copy(deep=True)\n",
    "supply_['ratio'] = 0\n",
    "\n",
    "# Create multiple catchment areas from a given location\n",
    "ctmt_area = calculate_catchment_area(G, supply.loc[i, 'nearest_osm'], minutes)\n",
    "\n",
    "# Calculate the population within each catchment area\n",
    "ctmt_area_pops = 0\n",
    "for c_idx, c_row in ctmt_area.iterrows():\n",
    "    temp_pop = demand.loc[demand['geometry'].centroid.within(c_row['geometry']), 'TotalPop'].sum()\n",
    "    print(f'Catchment area within {c_idx} minutes has {temp_pop} people and its weight is {weights[c_idx]}')\n",
    "    ctmt_area_pops += temp_pop * weights[c_idx]\n",
    "    print(f'Accumulated pop is {ctmt_area_pops}')\n",
    "\n",
    "# Calculate the number of hospital beds in each hospital\n",
    "temp_supply = supply.loc[i, 'Total_Bed']\n",
    "\n",
    "# Calculate the number of hospital beds available for 100,000 people \n",
    "supply_.at[i, 'ratio'] = temp_supply / ctmt_area_pops * 100000\n",
    "supply_.at[i, 'ratio']"
   ]
  },
  {
   "cell_type": "code",
   "execution_count": null,
   "id": "a1c4ffdb",
   "metadata": {},
   "outputs": [],
   "source": [
    "ctmt_area.loc[5, 'geometry']"
   ]
  },
  {
   "cell_type": "code",
   "execution_count": null,
   "id": "3694c0e1",
   "metadata": {
    "scrolled": true
   },
   "outputs": [],
   "source": [
    "demand.loc[demand['geometry'].centroid.within(ctmt_area.loc[5, 'geometry'])].plot()"
   ]
  },
  {
   "cell_type": "code",
   "execution_count": null,
   "id": "9ce1ee66",
   "metadata": {},
   "outputs": [],
   "source": [
    "ctmt_area.loc[10, 'geometry']"
   ]
  },
  {
   "cell_type": "code",
   "execution_count": null,
   "id": "31ad7c2e",
   "metadata": {},
   "outputs": [],
   "source": [
    "demand.loc[demand['geometry'].centroid.within(ctmt_area.loc[10, 'geometry'])].plot()"
   ]
  },
  {
   "cell_type": "code",
   "execution_count": null,
   "id": "1ec256b0",
   "metadata": {},
   "outputs": [],
   "source": [
    "ctmt_area.loc[15, 'geometry']"
   ]
  },
  {
   "cell_type": "code",
   "execution_count": null,
   "id": "0211de04",
   "metadata": {},
   "outputs": [],
   "source": [
    "demand.loc[demand['geometry'].centroid.within(ctmt_area.loc[15, 'geometry'])].plot()"
   ]
  },
  {
   "cell_type": "markdown",
   "id": "f2546ef7",
   "metadata": {},
   "source": [
    "In summary, we can define the functions for Enhanced 2SFCA method as shown below. "
   ]
  },
  {
   "cell_type": "code",
   "execution_count": null,
   "id": "b6b76617",
   "metadata": {},
   "outputs": [],
   "source": [
    "def step1_E2SFCA(supply, supply_attr, demand, demand_attr, mobility, thresholds, weights):\n",
    "    \"\"\"\n",
    "    Input: \n",
    "    - supply (GeoDataFrame): stores locations and attributes of supply \n",
    "    - supply_attr (str): the column of `supply` to be used for the analysis\n",
    "    - demand (GeoDataFrame): stores locations and attributes of demand \n",
    "    - demand_attr (str): the column of `demand` to be used for the analysis\n",
    "    - mobility (NetworkX MultiDiGraph): Network Dataset obtained from OSMnx\n",
    "    - thresholds (list): the list of threshold travel times e.g., [5, 10, 15]\n",
    "    - weights (dict): keys: threshold travel time, values: weigths according to the threshold travel times \n",
    "                      e.g., [5: 1, 10: 0.68, 15: 0.22]\n",
    "    \n",
    "    Output:\n",
    "    - supply_ (GeoDataFrame): \n",
    "      a copy of supply and it stores supply-to-demand ratio of each supply at `ratio` column\n",
    "    \"\"\"\n",
    "    \n",
    "    # Your code here (Change the name of the variable according to the inputs)\n",
    "    supply_ = supply.copy(deep=True)\n",
    "    supply_['ratio'] = 0\n",
    "\n",
    "    for i in trange(supply.shape[0]):\n",
    "\n",
    "        # Create multiple catchment areas from a given location\n",
    "        ctmt_area = calculate_catchment_area(mobility, supply.loc[i, 'nearest_osm'], thresholds)\n",
    "    \n",
    "        # Calculate the population within each catchment area\n",
    "        ctmt_area_pops = 0\n",
    "        for c_idx, c_row in ctmt_area.iterrows():\n",
    "            temp_pop = demand.loc[demand['geometry'].centroid.within(c_row['geometry']), demand_attr].sum()\n",
    "            ctmt_area_pops += temp_pop*weights[c_idx]\n",
    "\n",
    "        # Calculate the number of hospital beds in each hospital\n",
    "        temp_supply = supply.loc[i, supply_attr]\n",
    "\n",
    "        # Calculate the number of hospital beds available for 100,000 people \n",
    "        supply_.at[i, 'ratio'] = temp_supply / ctmt_area_pops * 100000\n",
    "\n",
    "    \n",
    "    return supply_\n",
    "\n",
    "\n",
    "def step2_E2SFCA(result_step1, demand, mobility, thresholds, weights):\n",
    "    \"\"\"\n",
    "    Input: \n",
    "    - result_step1 (GeoDataFrame): stores locations and 'ratio' attribute that resulted in step1 \n",
    "    - demand (GeoDataFrame): stores locations and attributes of demand \n",
    "    - mobility (NetworkX MultiDiGraph): Network Dataset obtained from OSMnx\n",
    "    - thresholds (list): the list of threshold travel times e.g., [5, 10, 15]\n",
    "    - weights (dict): keys: threshold travel time, values: weigths according to the threshold travel times \n",
    "                      e.g., [5: 1, 10: 0.68, 15: 0.22]\n",
    "    \n",
    "    Output:\n",
    "    - demand_ (GeoDataFrame): \n",
    "      a copy of demand and it stores the final accessibility measures of each demand location at `ratio` column\n",
    "    \"\"\"\n",
    "    \n",
    "    # Your code here (Change the name of the variable according to the inputs)\n",
    "    demand_ = demand.copy(deep=True)\n",
    "    demand_['access'] = 0\n",
    "\n",
    "    for j in trange(demand.shape[0]):\n",
    "        ctmt_area = calculate_catchment_area(mobility, demand.loc[j, 'nearest_osm'], thresholds)\n",
    "\n",
    "        ctmt_area_ratio = 0\n",
    "        for c_idx, c_row in ctmt_area.iterrows():\n",
    "            temp_ratio = result_step1.loc[result_step1['geometry'].centroid.within(c_row['geometry']), 'ratio'].sum()\n",
    "            ctmt_area_ratio += temp_ratio * weights[c_idx]\n",
    "            \n",
    "        demand_.at[j, 'access'] = ctmt_area_ratio\n",
    "\n",
    "    return demand_"
   ]
  },
  {
   "cell_type": "code",
   "execution_count": null,
   "id": "6505bca7",
   "metadata": {},
   "outputs": [],
   "source": [
    "minutes = [5, 10, 15]\n",
    "weights = {5: 1, 10: 0.68, 15: 0.22}\n",
    "\n",
    "E_step1 = step1_E2SFCA(supply, 'Total_Bed', demand, 'TotalPop', G, minutes, weights)\n",
    "E_step2 = step2_E2SFCA(E_step1, demand, G, minutes, weights)"
   ]
  },
  {
   "cell_type": "code",
   "execution_count": null,
   "id": "7313257d",
   "metadata": {},
   "outputs": [],
   "source": [
    "# Plotting accessibility measurement result. \n",
    "fig, ax = plt.subplots(figsize=(10,10))\n",
    "\n",
    "hospitals.plot(markersize='Total_Bed', ax=ax, color='black', zorder=2)\n",
    "E_step2.plot('access', ax=ax, figsize=(10,10), legend=True, cmap='Blues', scheme='FisherJenks')\n",
    "E_step2.loc[step2['access'] == 0].plot(ax=ax, color='grey', zorder=1)\n",
    "E_step2.boundary.plot(ax=ax, linestyle='dotted', lw=0.5, color='black', zorder=1)"
   ]
  }
 ],
 "metadata": {
  "kernelspec": {
   "display_name": "Python 3 (ipykernel)",
   "language": "python",
   "name": "python3"
  },
  "language_info": {
   "codemirror_mode": {
    "name": "ipython",
    "version": 3
   },
   "file_extension": ".py",
   "mimetype": "text/x-python",
   "name": "python",
   "nbconvert_exporter": "python",
   "pygments_lexer": "ipython3",
   "version": "3.8.13"
  }
 },
 "nbformat": 4,
 "nbformat_minor": 5
}