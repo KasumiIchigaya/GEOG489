{
 "cells": [
  {
   "cell_type": "markdown",
   "id": "c8731882",
   "metadata": {},
   "source": [
    "# Lab 7: Advance spatial accessibility measurements\n",
    "\n",
    "In this lab, you will advance spatial accessibility measurements by considering **travel time and distance decay**. In particular, you will **reuse the data utilized in Lab 6** but incorporate two advancements into the measurements. Then, you will compare the result of Lab 6, which was based on travel distance, and Lab 7 and investigate how the measures of spatial accessibility **can be biased** under the influence of travel time and distance decay. <br>\n",
    "\n",
    "Again, you will choose **your own study area** and the data can be obtained from the links below.\n",
    "* Supply: <a href=https://hifld-geoplatform.opendata.arcgis.com/> Homeland Infrastructure Foundation-Level Data (HIFLD) </a> - <a href=https://hifld-geoplatform.opendata.arcgis.com/datasets/geoplatform::hospitals-1/>Hospitals</a>.\n",
    "* Demand: US Census Bureau - <a href=\"https://data.census.gov/cedsci/table?q=population\">Decennial Census - Race </a>\n",
    "* Geographical Area of the reference: <a href=https://www.census.gov/geographies/mapping-files/time-series/geo/tiger-line-file.2020.html>Topologically Integrated Geographic Encoding and Referencing (TIGER) data </a>\n",
    "\n",
    "The example below aims to measure hospital accessibility in Harris County, Texas. You can follow the instruction or come up with your own study area. \n"
   ]
  },
  {
   "cell_type": "code",
   "execution_count": null,
   "id": "986183b3",
   "metadata": {},
   "outputs": [],
   "source": [
    "import geopandas as gpd\n",
    "import pandas as pd\n",
    "import osmnx as ox\n",
    "import time\n",
    "from tqdm import tqdm, trange\n",
    "from shapely.geometry import Point, MultiPoint\n",
    "import networkx as nx\n",
    "import matplotlib.pyplot as plt\n",
    "from scipy.stats import pearsonr\n",
    "import numpy as np\n",
    "import warnings\n",
    "warnings.filterwarnings(\"ignore\")"
   ]
  },
  {
   "cell_type": "markdown",
   "id": "7e7ee10d",
   "metadata": {},
   "source": [
    "## 1. (1 point) Data preparation\n",
    "\n",
    "Bring the data you used in Lab6. You can reuse the code to format the data properly from the scratch or just import the data which has been cleaned. <br>\n",
    "**1.1.** (0.25 point) Import the population data with geometry and the hospital data with the variable names `demand` and `supply`, respectively. <br>\n",
    "**1.2.**  (0.25 point) Be sure both are stored as `GeoDataFrame` and has a coordinate system as `NAD83 / Conus Albers` (epsg=5070). \n",
    "<br><br>\n",
    "**Supply** GeoDataFrame should look like the below.\n",
    "![](./data/supply_screenshot.jpg)\n",
    "\n",
    "**Demand** GeoDataFrame should look like the below.\n",
    "![](./data/demand_screenshot.jpg)"
   ]
  },
  {
   "cell_type": "code",
   "execution_count": null,
   "id": "267da069",
   "metadata": {},
   "outputs": [],
   "source": [
    "# Your code here\n",
    "supply = \n",
    "demand = "
   ]
  },
  {
   "cell_type": "code",
   "execution_count": null,
   "id": "d5aba5dd",
   "metadata": {},
   "outputs": [],
   "source": [
    "\"\"\" Test code for the previous code. This cell should NOT give any errors when it is run.\"\"\"\n",
    "assert type(supply) == gpd.GeoDataFrame\n",
    "assert type(demand) == gpd.GeoDataFrame\n",
    "assert supply.crs.name == 'NAD83 / Conus Albers'\n",
    "assert demand.crs.name == 'NAD83 / Conus Albers'\n",
    "\n",
    "print('Success!')"
   ]
  },
  {
   "cell_type": "markdown",
   "id": "d697b066",
   "metadata": {},
   "source": [
    "**1.3.** (0.25 point) Grab the road network data from Open Street Map, using `ox.graph_from_place()`. Here you want to use attribute `network_type` equals to `drive` and attribute `simplify` equals to `True` to expedite your analysis.  \n",
    "**1.4.** (0.25 point) Project the road network to the same coordinate system (epsg=5070) by using `ox.project_graph()`."
   ]
  },
  {
   "cell_type": "code",
   "execution_count": null,
   "id": "79b9fee0",
   "metadata": {},
   "outputs": [],
   "source": [
    "# Your code here\n",
    "##  Obtain network dataset based on text\n",
    "\n",
    "\n",
    "## Change the projection of the network dataset\n",
    "\n",
    "\n",
    "ox.plot_graph(G)"
   ]
  },
  {
   "cell_type": "markdown",
   "id": "2f15d9af",
   "metadata": {},
   "source": [
    "Use the function below to make a backup for your network dataset. With the code in the second line, you can store it back. \n",
    "\n",
    "```python\n",
    "    G_ = G.copy()  # Make a copy for a backup\n",
    "    # G = G_.copy()  # Restore network dataset from the backup\n",
    "```"
   ]
  },
  {
   "cell_type": "code",
   "execution_count": null,
   "id": "860ba105",
   "metadata": {},
   "outputs": [],
   "source": [
    "G_ = G.copy()\n",
    "# G = G_.copy()"
   ]
  },
  {
   "cell_type": "markdown",
   "id": "f6e8dca1",
   "metadata": {},
   "source": [
    "Also, run the following code to trim your network dataset. "
   ]
  },
  {
   "cell_type": "code",
   "execution_count": null,
   "id": "5e55f4ed",
   "metadata": {},
   "outputs": [],
   "source": [
    "def remove_uncenessary_nodes(network):\n",
    "    _nodes_removed = len([n for (n, deg) in network.out_degree() if deg == 0])\n",
    "    network.remove_nodes_from([n for (n, deg) in network.out_degree() if deg == 0])\n",
    "    for component in list(nx.strongly_connected_components(network)):\n",
    "        if len(component) < 10:\n",
    "            for node in component:\n",
    "                _nodes_removed += 1\n",
    "                network.remove_node(node)\n",
    "\n",
    "    print(\"Removed {} nodes ({:2.4f}%) from the OSMNX network\".format(_nodes_removed, _nodes_removed / float(network.number_of_nodes())))\n",
    "    print(\"Number of nodes: {}\".format(network.number_of_nodes()))\n",
    "    print(\"Number of edges: {}\".format(network.number_of_edges()))\n",
    "\n",
    "    return network\n",
    "\n",
    "\n",
    "# Simplify Graph: Remove edges\n",
    "for u, v, data in G.copy().edges(data=True):\n",
    "    if data['highway'] not in ['motorway', 'motorway_link', \n",
    "                               'trunk', 'trunk_link',\n",
    "                               'primary', 'primary_link', \n",
    "#                                'secondary', 'secondary_link'  \n",
    "                              ]:\n",
    "        G.remove_edge(u, v)\n",
    "\n",
    "# Simplify Graph: Remove nodes\n",
    "G.remove_nodes_from(list(nx.isolates(G)))\n",
    "G = remove_uncenessary_nodes(G)\n",
    "ox.plot_graph(G)"
   ]
  },
  {
   "cell_type": "markdown",
   "id": "6afa226b",
   "metadata": {},
   "source": [
    "When every data is ready, you will find the nearest OSM node with the following equations. Be sure that you have assigned hospital dataset as `supply`, population dataset as `demand`, and network dataset as `G`. "
   ]
  },
  {
   "cell_type": "code",
   "execution_count": null,
   "id": "6f43bffc",
   "metadata": {},
   "outputs": [],
   "source": [
    "def find_nearest_osm(network, gdf):\n",
    "    \"\"\"\n",
    "    # This function helps you to find the nearest OSM node from a given GeoDataFrame\n",
    "    # If geom type is point, it will take it without modification, but \n",
    "    # IF geom type is polygon or multipolygon, it will take its centroid to calculate the nearest element. \n",
    "    \n",
    "    Input: \n",
    "    - network (NetworkX MultiDiGraph): Network Dataset obtained from OSMnx\n",
    "    - gdf (GeoDataFrame): stores locations in its `geometry` column \n",
    "    \n",
    "    Output:\n",
    "    - gdf (GeoDataFrame): will have `nearest_osm` column, which describes the nearest OSM node \n",
    "                          that was computed based on its geometry column\n",
    "      \n",
    "    \"\"\"\n",
    "    for idx, row in tqdm(gdf.iterrows(), total=gdf.shape[0]):\n",
    "        if row.geometry.geom_type == 'Point':\n",
    "            nearest_osm = ox.distance.nearest_nodes(network, \n",
    "                                                    X=row.geometry.x, \n",
    "                                                    Y=row.geometry.y\n",
    "                                                   )\n",
    "        elif row.geometry.geom_type == 'Polygon' or row.geometry.geom_type == 'MultiPolygon':\n",
    "            nearest_osm = ox.distance.nearest_nodes(network, \n",
    "                                        X=row.geometry.centroid.x, \n",
    "                                        Y=row.geometry.centroid.y\n",
    "                                       )\n",
    "        else:\n",
    "            print(row.geometry.geom_type)\n",
    "            continue\n",
    "\n",
    "        gdf.at[idx, 'nearest_osm'] = nearest_osm\n",
    "\n",
    "    return gdf\n",
    "\n",
    "supply = find_nearest_osm(G, supply)\n",
    "demand = find_nearest_osm(G, demand)"
   ]
  },
  {
   "cell_type": "markdown",
   "id": "e561ae9f",
   "metadata": {},
   "source": [
    "## 2. (1.5 point) Advancement 1: Caculate the estimated travel time for each edge\n",
    "\n",
    "First advancement is to create a catchment area based on the travel time, instead of distance. By utilizing `length` and `maxspeed` attributes in the network dataset (`G`), you can calculate the estimated travel time for each edge. \n",
    "\n",
    "**2.1.** (0.25 point) Investigate the contents in each row of the network dataset. You can iterate each row of the network dataset with the function below, assuming `G` is the variable of network dataset. For more information, visit <a href=https://networkx.org/documentation/stable/reference/classes/generated/networkx.Graph.edges.html>G.edges()</a>.\n",
    "```python\n",
    "for u, v, data in G.edges(data=True):\n",
    "    print(data)\n",
    "```\n",
    "\n",
    "**2.2.** (0.25 point) Create a list `collect_type`, and append the data type of `maxspeed` to the list by iterating through rows of the network dataset `G`. Given that not every row has the key `maxspeed`, you probably need to use the `if` statement. "
   ]
  },
  {
   "cell_type": "code",
   "execution_count": null,
   "id": "0613477a",
   "metadata": {},
   "outputs": [],
   "source": [
    "# Your code here\n",
    "collect_type = []\n",
    "for u, v, data in G.edges(data=True):\n",
    "    print(data)\n"
   ]
  },
  {
   "cell_type": "code",
   "execution_count": null,
   "id": "47ae90cd",
   "metadata": {},
   "outputs": [],
   "source": [
    "\"\"\" Check your answer here. This cell should only give you the data types (e.g., str, list).\"\"\"\n",
    "\n",
    "print(set(collect_type))"
   ]
  },
  {
   "cell_type": "markdown",
   "id": "900d6dc0",
   "metadata": {},
   "source": [
    "**2.3.** (0.25 point) Slice only the numerical portion from the entry in `maxspeed` column. You can use `str.split()` function and list slicing to accomplish this task. <br><br>\n",
    "**Note**: Most of times, the entry of `maxspeed` consists of `str` and `list`. But, it may have a different data type, such as `dict`, given that Open Street Map is a Volunteered Geographic Information (VGI). If you happen to face a different data type, consult with the instructor. \n",
    "\n",
    "**2.4.** (0.25 point) Assign the numerical portion of the `maxspeed` back to the original column (i.e., `data['maxspeed']`). "
   ]
  },
  {
   "cell_type": "code",
   "execution_count": null,
   "id": "19a155c9",
   "metadata": {},
   "outputs": [],
   "source": [
    "for u, v, data in G.edges(data=True):\n",
    "    if 'maxspeed' in data.keys():\n",
    "        # Your code here\n",
    "        \n",
    "        "
   ]
  },
  {
   "cell_type": "code",
   "execution_count": null,
   "id": "6a2bc8aa",
   "metadata": {},
   "outputs": [],
   "source": [
    "\"\"\" Check your answer here. This cell should only give you either number or nan value .\"\"\"\n",
    "\n",
    "# Extract the nodes and edges of the network dataset for the future analysis. \n",
    "nodes, edges = ox.graph_to_gdfs(G, nodes=True, edges=True, node_geometry=True)\n",
    "print(edges['maxspeed'].unique())"
   ]
  },
  {
   "cell_type": "markdown",
   "id": "bda41beb",
   "metadata": {},
   "source": [
    "**2.5.** (0.25 point) Investigate the maximum speed of each edge based on their `highway` type. Then update the values of `max_speed_per_type` dictionary with the observed travel speed. \n",
    "\n",
    "For more information about the `highway` attribute, visit <a href=https://wiki.openstreetmap.org/wiki/Key:highway>OSM wiki</a>."
   ]
  },
  {
   "cell_type": "code",
   "execution_count": null,
   "id": "a4bece0e",
   "metadata": {},
   "outputs": [],
   "source": [
    "max_speed_per_type = {'motorway': 60, \n",
    "                      'motorway_link': 45, \n",
    "                      'trunk': 60,\n",
    "                      'trunk_link': 45, \n",
    "                      'primary': 50,\n",
    "                      'primary_link': 35, \n",
    "                      'secondary': 45,\n",
    "                      'secondary_link': 35,\n",
    "                      'tertiary': 40, \n",
    "                      'tertiary_link': 20,\n",
    "                      'residential': 30,\n",
    "                      'living_street': 20,\n",
    "                      'unclassified': 20\n",
    "         }\n",
    "\n",
    "for highway_type in max_speed_per_type.keys():\n",
    "    speed_per_type = edges.loc[edges['highway'] == highway_type]['maxspeed'].unique()\n",
    "    print(highway_type, speed_per_type)"
   ]
  },
  {
   "cell_type": "markdown",
   "id": "9db036ee",
   "metadata": {},
   "source": [
    "**2.6.** (0.25 point) Finish the missing portion of the following `for loop`. The purpose of the following loop is to update the `maxspeed` attribute based on the `highway` attribute in case a row does not have `maxspeed` attriubte. \n",
    "\n",
    "**Note**: It is also possible the `highway` attribute has a `list`. Come up with your solution that can differentiate `str` and `list` to get the road type of edges."
   ]
  },
  {
   "cell_type": "code",
   "execution_count": null,
   "id": "ffacefdf",
   "metadata": {},
   "outputs": [],
   "source": [
    "for u, v, data in G.edges(data=True):\n",
    "    if 'maxspeed' in data.keys():\n",
    "        pass\n",
    "    \n",
    "    else:\n",
    "        # Your code here\n",
    "        "
   ]
  },
  {
   "cell_type": "code",
   "execution_count": null,
   "id": "dd0bb736",
   "metadata": {},
   "outputs": [],
   "source": [
    "\"\"\" Check your answer here. This cell should only give you numbers.\"\"\"\n",
    "\n",
    "# Extract the nodes and edges of the network dataset for the future analysis. \n",
    "nodes, edges = ox.graph_to_gdfs(G, nodes=True, edges=True, node_geometry=True)\n",
    "print(edges['maxspeed'].unique())"
   ]
  },
  {
   "cell_type": "markdown",
   "id": "7f532c74",
   "metadata": {},
   "source": [
    "When all the materials are ready, run the following cell to properly assign the estimated travel time to `time` attribute of each edge. <br>\n",
    "\n",
    "**Be sure** the `edges` dataframe has `maxspeed_meters` and `time` columns. Each column should have all the records populated. "
   ]
  },
  {
   "cell_type": "code",
   "execution_count": null,
   "id": "eb03e93e",
   "metadata": {},
   "outputs": [],
   "source": [
    "for u, v, data in G.edges(data=True):\n",
    "    data['maxspeed_meters'] = int(data['maxspeed']) * 26.8223 # MPH * 1.6 * 1000 / 60; Unit: meters per minute\n",
    "    data['time'] = float(data['length'] / data['maxspeed_meters'])  # Unit: minutes\n",
    "    \n",
    "nodes, edges = ox.graph_to_gdfs(G, nodes=True, edges=True, node_geometry=True)\n",
    "edges"
   ]
  },
  {
   "cell_type": "markdown",
   "id": "500693f0",
   "metadata": {},
   "source": [
    "## 3. (1 point) Advancement 2: Apply distance decay functions for catchment areas\n",
    "\n",
    "Here, we will create a function that divides a catchment area into three subzones. Then, apply a weight based on a distance decay function. For example, we will assign a high weight if the subzone is close to the supply facility, and a low weight if the subzone is far from the supply facility. "
   ]
  },
  {
   "cell_type": "markdown",
   "id": "9b7fd0d0",
   "metadata": {},
   "source": [
    "**3.1.** (0.2 point) Update the missing information of <a href=https://networkx.org/documentation/stable/reference/algorithms/generated/networkx.algorithms.shortest_paths.weighted.single_source_dijkstra_path_length.html>`nx.single_source_dijkstra_path_length()`</a> function below to collect the OSM ID of the accessible nodes. <br>\n",
    "**3.2.** (0.2 point) Properly slice `nodes` GeoDataFrame, which stores all the nodes of the network dataset (`G`) so that you can create a convex hull from the `accessible_nodes`. The result should be stored as `convex_hull` and its type will be `shapely.geometry.polygon.Polygon`."
   ]
  },
  {
   "cell_type": "code",
   "execution_count": null,
   "id": "7ed4614a",
   "metadata": {},
   "outputs": [],
   "source": [
    "# Your code here\n",
    "# Calculate accessible nodes in the network dataset from a given location \n",
    "access_nodes = nx.single_source_dijkstra_path_length(G= , \n",
    "                                                     source= , \n",
    "                                                     cutoff= , \n",
    "                                                     weight=\n",
    "                                                    )\n",
    "# Extract the locations (or coordinates) of accessible nodes based on the OSMID, then create convex hull.\n",
    "convex_hull = nodes.loc[]\n",
    "\n",
    "convex_hull"
   ]
  },
  {
   "cell_type": "code",
   "execution_count": null,
   "id": "f211fb7c",
   "metadata": {},
   "outputs": [],
   "source": [
    "\"\"\" Test code for the previous code. This cell should NOT give any errors when it is run.\"\"\"\n",
    "import shapely\n",
    "\n",
    "assert type(access_nodes) == dict\n",
    "assert type(convex_hull) == shapely.geometry.polygon.Polygon\n",
    "\n",
    "print('Success!')"
   ]
  },
  {
   "cell_type": "markdown",
   "id": "ced99591",
   "metadata": {},
   "source": [
    "Now we will take advantage of `for loop` and create a series of convex hulls, which are `shapely.Polygon`. Then, we will assign them into a GeoDataFrame with its travel time as the index. \n",
    "\n",
    "**3.3.** (0.2 point) Utilize the codes in step 3.1. and 3.2. and complete the `for loop`. For each iteration, a different `shapely.polygon` (i.e., convex hull) will be assigned to the `geometry` column of `polygons` GeoDataFrame with is threshold travel time `minute`. "
   ]
  },
  {
   "cell_type": "code",
   "execution_count": null,
   "id": "5693d818",
   "metadata": {},
   "outputs": [],
   "source": [
    "minutes = [5, 10, 15]\n",
    "\n",
    "polygons = gpd.GeoDataFrame(index=minutes, crs='EPSG:5070')\n",
    "\n",
    "# Your code here\n",
    "for minute in minutes:\n",
    "    # Calculate accessible nodes in the network dataset from a given location \n",
    "    access_nodes = nx.single_source_dijkstra_path_length(G= , \n",
    "                                                         source= , \n",
    "                                                         cutoff= , \n",
    "                                                         weight=\n",
    "                                                        )\n",
    "    # Extract the locations (or coordinates) of accessible nodes based on the OSMID, then create convex hull.\n",
    "    convex_hull = nodes.loc[]\n",
    "\n",
    "    # Insert a convex hull to `polygons` GeoDataFrame\n",
    "    polygons.at[minute, 'geometry'] = convex_hull\n"
   ]
  },
  {
   "cell_type": "code",
   "execution_count": null,
   "id": "cad55214",
   "metadata": {},
   "outputs": [],
   "source": [
    "\"\"\" Test code for the previous code. This cell should NOT give any errors when it is run.\"\"\"\n",
    "assert type(polygons) == gpd.GeoDataFrame\n",
    "assert 'geometry' in polygons.columns\n",
    "assert type(polygons.at[5, 'geometry']) == shapely.geometry.polygon.Polygon\n",
    "\n",
    "print('Success!')"
   ]
  },
  {
   "cell_type": "markdown",
   "id": "51aa5d4b",
   "metadata": {},
   "source": [
    "**3.4.** (0.2 point) Complete the following for loop to subtract a polygon (drawn from a shorter threshold travel time) from a bigger polygon (drawn with a longer threshold travel time). <a href=https://geopandas.org/en/stable/docs/reference/api/geopandas.overlay.html>`gpd.overlay()`</a> will help you to finish this task. \n",
    "\n",
    "**Note** Be sure to make a copy of the `polygons` GeoDataFrame, and the assign the subtraction result to the copied GeoDataFrame. "
   ]
  },
  {
   "cell_type": "code",
   "execution_count": null,
   "id": "b3230049",
   "metadata": {},
   "outputs": [],
   "source": [
    "minutes = [5, 10, 15]\n",
    "\n",
    "polygons_ = polygons.copy(deep=True)\n",
    "\n",
    "# Your code here\n",
    "for idx, minute in enumerate(minutes):\n",
    "\n",
    "\n",
    "polygons_"
   ]
  },
  {
   "cell_type": "code",
   "execution_count": null,
   "id": "c2f238db",
   "metadata": {},
   "outputs": [],
   "source": [
    "\"\"\" Test code for the previous code. This cell should NOT give any errors when it is run.\"\"\"\n",
    "\n",
    "assert not polygons_.at[5, 'geometry'].within(polygons_.at[10, 'geometry'])\n",
    "assert not polygons_.at[5, 'geometry'].within(polygons_.at[15, 'geometry'])\n",
    "assert not polygons_.at[10, 'geometry'].within(polygons_.at[15, 'geometry'])\n",
    "\n",
    "print('Success!')"
   ]
  },
  {
   "cell_type": "markdown",
   "id": "5a8120dc",
   "metadata": {},
   "source": [
    "**3.5** (0.2 point) Complete the following function `calculate_catchment_area` with the code you worked on in the previous steps. This function will be used in the next section. It is supposed to return a GeoDataFrame which has one polygon without a hole, and two polygons with holes in it. "
   ]
  },
  {
   "cell_type": "code",
   "execution_count": null,
   "id": "ca9d4b84",
   "metadata": {},
   "outputs": [],
   "source": [
    "def calculate_catchment_area(network, nearest_osm, minutes, distance_unit='time'):\n",
    "    polygons = gpd.GeoDataFrame(crs='EPSG:5070')\n",
    "\n",
    "    # Your code here\n",
    "    # Create convex hull for each travel time (minutes), respectively.\n",
    "    for minute in minutes:\n",
    "        \n",
    "  \n",
    "\n",
    "    # Calculate the differences between convex hulls which created in the previous section.\n",
    "    polygons_ = polygons.copy(deep=True)\n",
    "    for idx, minute in enumerate(minutes):\n",
    "        \n",
    "        \n",
    "    return polygons_.copy(deep=True)"
   ]
  },
  {
   "cell_type": "code",
   "execution_count": null,
   "id": "50269c37",
   "metadata": {},
   "outputs": [],
   "source": [
    "# Test your function here. The output should be a GeoDataFrame (index = minutes, column=geometry)\n",
    "catchment_areas = calculate_catchment_area(network= G, \n",
    "                                           nearest_osm = supply.at[5, 'nearest_osm'], \n",
    "                                           minutes = [5, 10, 15], \n",
    "                                           distance_unit = 'time'\n",
    "                                          )\n",
    "catchment_areas"
   ]
  },
  {
   "cell_type": "code",
   "execution_count": null,
   "id": "8e1de2a7",
   "metadata": {},
   "outputs": [],
   "source": [
    "\"\"\" Check your answer here. This cell should NOT give any errors when it is run.\"\"\"\n",
    "\n",
    "assert type(catchment_areas) == gpd.GeoDataFrame\n",
    "assert catchment_areas.shape == (3, 1)\n",
    "\n",
    "fig, ax = plt.subplots(1, 1, figsize=(10, 10))\n",
    "\n",
    "catchment_areas.boundary.plot(ax=ax, color='black', zorder=2)\n",
    "demand.plot(ax=ax, color='#999999', zorder=1)"
   ]
  },
  {
   "cell_type": "markdown",
   "id": "b2ae8c87",
   "metadata": {},
   "source": [
    "## 4. (1.5 point) Measure spatial accessibility with the advanced features\n",
    "\n",
    "The following is the codes for the first step of the original two-step catchment area method. You need to incorporate the advanced feature (highlited in blue in the equation), which is included in `catchment_catchment_area` function, into the measurement. \n",
    "\n",
    "$$\\huge R_j = \\frac{S_j}{\\sum_{k\\in {\\left\\{\\color{blue}{t_{kj}} \\le \\color{blue}{t_0} \\right\\}}}^{}{P_k}\\color{blue}{W_k}}$$\n",
    "where<br>\n",
    "$R_j$: the supply-to-demand ratio of location $j$. <br>\n",
    "$S_j$: the degree of supply (e.g., number of doctors) at location $j$. <br>\n",
    "$P_k$: the degree of demand (e.g., population) at location $k$. <br>\n",
    "$\\color{blue}{t_{kj}}$: the travel <font color='blue'>time</font> between locations $k$ and $j$. <br>\n",
    "$\\color{blue}{t_0}$: the threshold travel <font color='blue'>time</font> of the analysis. <br>\n",
    "$\\color{blue}{W_k}$: Weight based on a distance decay function\n",
    "\n",
    "```python\n",
    "\n",
    "step1 = supply.copy(deep=True)\n",
    "step1['ratio'] = 0\n",
    "\n",
    "for i in trange(supply.shape[0]):\n",
    "    \n",
    "    # Create a catchment area from a given location\n",
    "    ## Get the list of accessible nodes ID\n",
    "    access_nodes = nx.single_source_dijkstra_path_length(G=G, \n",
    "                                                         source=supply.loc[i, 'nearest_osm'], \n",
    "                                                         cutoff=15, \n",
    "                                                         weight='time'\n",
    "                                                        )\n",
    "    ## Create a convex hull based on the points\n",
    "    convex_hull = nodes.loc[nodes.index.isin(access_nodes.keys()), 'geometry'\n",
    "                           ].unary_union.convex_hull\n",
    "\n",
    "    # Calculate the population within the catchment area\n",
    "    temp_demand = demand.loc[demand['geometry'].centroid.within(convex_hull), 'pop'].sum()\n",
    "\n",
    "    # Calculate the number of hospital beds in each hospital\n",
    "    temp_supply = supply.loc[i, 'BEDS']\n",
    "    \n",
    "    # Calculate the supply-to-demand ratio of each supply location\n",
    "    step1.at[i, 'ratio'] = temp_supply / temp_demand * 100000\n",
    "    \n",
    "    print(f'Hospital {i}: {temp_supply} BEDS / Surrounding population: {temp_demand} / Ratio: {step1.at[i, \"ratio\"]}')\n",
    "\n",
    "\n",
    "```\n"
   ]
  },
  {
   "cell_type": "markdown",
   "id": "4819b936",
   "metadata": {},
   "source": [
    "**4.1.** (0.5 point) Find the location where you can put the function `calculate_catchment_area` within this `for loop`. Since we have not applied any weight based on distance decay, the result should be the same as the original 2SFCA method. "
   ]
  },
  {
   "cell_type": "code",
   "execution_count": null,
   "id": "71be6144",
   "metadata": {},
   "outputs": [],
   "source": [
    "# Extract the nodes and edges of the network dataset for the future analysis. \n",
    "nodes, edges = ox.graph_to_gdfs(G, nodes=True, edges=True, node_geometry=True)"
   ]
  },
  {
   "cell_type": "code",
   "execution_count": null,
   "id": "23193870",
   "metadata": {},
   "outputs": [],
   "source": [
    "step1 = supply.copy(deep=True)\n",
    "step1['ratio'] = 0\n",
    "\n",
    "for i in trange(supply.shape[0]):\n",
    "\n",
    "    # Create a catchment area from a given location\n",
    "    ## Get the list of accessible nodes ID\n",
    "    access_nodes = nx.single_source_dijkstra_path_length(G=G, \n",
    "                                                         source=supply.loc[i, 'nearest_osm'], \n",
    "                                                         cutoff=15, \n",
    "                                                         weight='time'\n",
    "                                                        )\n",
    "    ## Create a convex hull based on the points\n",
    "    convex_hull = nodes.loc[nodes.index.isin(access_nodes.keys()), 'geometry'\n",
    "                           ].unary_union.convex_hull\n",
    "\n",
    "    # Calculate the population within the catchment area\n",
    "    temp_demand = demand.loc[demand['geometry'].centroid.within(convex_hull), 'pop'].sum()\n",
    "\n",
    "    # Calculate the number of hospital beds in each hospital\n",
    "    temp_supply = supply.loc[i, 'BEDS']\n",
    "\n",
    "    # Calculate the supply-to-demand ratio of each supply location\n",
    "    step1.at[i, 'ratio'] = temp_supply / temp_demand * 100000\n",
    "\n",
    "    print(f'Hospital {i}: {temp_supply} BEDS / Surrounding population: {temp_demand} / Ratio: {step1.at[i, \"ratio\"]}')\n",
    "    "
   ]
  },
  {
   "cell_type": "markdown",
   "id": "2d4c95fc",
   "metadata": {},
   "source": [
    "Once you implement `calculate_catchment_area` and it still gives the same result, we are ready to incorporate the distance decay into the function. \n",
    "\n",
    "**4.2.** (0.5 point) Utilize the following `minutes` list and `weights` dictionary, to appreciate the influence of distance decay within the first step of 2SFCA method.  \n",
    "\n",
    "```python\n",
    "minutes = [5, 10, 15]\n",
    "weights = {5: 1, 10: 0.68, 15: 0.22}\n",
    "```"
   ]
  },
  {
   "cell_type": "code",
   "execution_count": null,
   "id": "8dbe7fd3",
   "metadata": {
    "scrolled": true
   },
   "outputs": [],
   "source": [
    "minutes = [5, 10, 15]\n",
    "weights = {5: 1, 10: 0.68, 15: 0.22}\n",
    "\n",
    "step1 = supply.copy(deep=True)\n",
    "step1['ratio'] = 0\n",
    "\n",
    "# Your code here \n",
    "for i in trange(supply.shape[0]):\n",
    "\n",
    "    # Create catchment areas from a given location (use `calculate_catchment_area` function)\n",
    "    catchment_areas = \n",
    "    \n",
    "    # Calculate the population within the catchment areas\n",
    "    catchment_pop = 0\n",
    "    for idx, row in catchment_areas.iterrows():\n",
    "    \n",
    "        \n",
    "    # Calculate the number of hospital beds in each hospital\n",
    "    temp_supply = supply.loc[i, 'BEDS']\n",
    "    \n",
    "    # Calculate the supply-to-demand ratio of each supply location\n",
    "    step1.at[i, 'ratio'] = temp_supply / catchment_pop * 100000\n",
    "        \n",
    "    print(f'Hospital {i}: {temp_supply} BEDS / Surrounding population: {catchment_pop} / Ratio: {step1.at[i, \"ratio\"]}')\n",
    "\n",
    "step1"
   ]
  },
  {
   "cell_type": "markdown",
   "id": "e2cfb64c",
   "metadata": {},
   "source": [
    "In the same manner, the following code is the second step of the original 2SFCA method. Modify this to have `calculate_catchment_area`. \n",
    "\n",
    "$$\\huge A_i = \\sum_{j\\in {\\left\\{\\color{blue}{t_{ij}} \\le \\color{blue}{t_0} \\right\\}}} R_j\\color{blue}{W_j}$$\n",
    "where<br>\n",
    "$A_i$: the accessibility measures at location $i$. <br>\n",
    "$R_j$: the supply-to-demand ratio of location $j$. <br>\n",
    "$\\color{blue}{W_j}$: Weight based on a distance decay function<br>\n",
    "\n",
    "```python\n",
    "step2 = demand.copy(deep=True)\n",
    "step2['access'] = 0\n",
    "\n",
    "for j in trange(demand.shape[0]):\n",
    "    \n",
    "    # Create a catchment area from a given location\n",
    "    ## Get the list of accessible nodes ID\n",
    "    access_nodes = nx.single_source_dijkstra_path_length(G=G, \n",
    "                                                         source=demand.loc[j, 'nearest_osm'], \n",
    "                                                         cutoff=15, \n",
    "                                                         weight='time'\n",
    "                                                        )\n",
    "    \n",
    "    ## Create a convex hull based on the points\n",
    "    convex_hull = nodes.loc[nodes.index.isin(access_nodes.keys()), 'geometry'\n",
    "                           ].unary_union.convex_hull\n",
    "\n",
    "    # Calculate the population within the catchment area\n",
    "    temp_ratio = step1.loc[step1['geometry'].centroid.within(convex_hull), 'ratio'].sum()\n",
    "    \n",
    "    # Assign the accumulated ratio of accessible supply facilities to each demand location\n",
    "    step2.at[j, 'access'] = temp_ratio\n",
    "\n",
    "```\n"
   ]
  },
  {
   "cell_type": "markdown",
   "id": "2c8b50bf",
   "metadata": {},
   "source": [
    "**4.3.** (0.5 point) Implement `calculate_catchment_area` function and utilize the following `minutes` list and `weights` dictionary, to appreciate the influence of distance decay within the second step of 2SFCA method. \n",
    "\n",
    "```python\n",
    "minutes = [5, 10, 15]\n",
    "weights = {5: 1, 10: 0.68, 15: 0.22}\n",
    "```"
   ]
  },
  {
   "cell_type": "code",
   "execution_count": null,
   "id": "b966531a",
   "metadata": {
    "scrolled": true
   },
   "outputs": [],
   "source": [
    "minutes = [5, 10, 15]\n",
    "weights = {5: 1, 10: 0.68, 15: 0.22}\n",
    "\n",
    "step2 = demand.copy(deep=True)\n",
    "step2['access'] = 0\n",
    "\n",
    "## Your code here\n",
    "for j in trange(demand.shape[0]):\n",
    "    # Create catchment areas from a given location\n",
    "    catchment_areas = \n",
    "    \n",
    "    # Calculate the population within the catchment areas\n",
    "    catchment_ratio = 0\n",
    "    for idx, row in catchment_areas.iterrows():\n",
    "        \n",
    "        \n",
    "    # Assign the accumulated ratio of accessible supply facilities to each demand location\n",
    "    step2.at[j, 'access'] = catchment_ratio\n",
    "    \n",
    "step2"
   ]
  },
  {
   "cell_type": "code",
   "execution_count": null,
   "id": "7504259e",
   "metadata": {},
   "outputs": [],
   "source": [
    "\"\"\" Check your answer here. This cell should NOT give any errors when it is run.\"\"\"\n",
    "fig, ax = plt.subplots(figsize=(10,10))\n",
    "\n",
    "step1 = step1[~step1.isin([np.nan, np.inf, -np.inf]).any(1)]\n",
    "step2 = step2[~step2.isin([np.nan, np.inf, -np.inf]).any(1)]\n",
    "\n",
    "step1.plot(markersize='BEDS', ax=ax, zorder=2, color='black')\n",
    "step2.plot('access', ax=ax, legend=True, cmap='Blues', scheme='FisherJenks', zorder=1)\n",
    "step2.loc[step2['access'] == 0].plot(ax=ax, color='grey', zorder=1)\n",
    "step2.boundary.plot(ax=ax, linestyle='dotted', lw=0.5, color='black', zorder=2)\n",
    "\n",
    "plt.show()\n",
    "\n",
    "print('Success!')"
   ]
  },
  {
   "cell_type": "markdown",
   "id": "980b1519",
   "metadata": {},
   "source": [
    "### *You have finished Lab 7: Advance Spatial Accessibility Measurements*\n",
    "\n",
    "Please name your jupyter notebook as `GEOG489_Lab7_[YOUR_NET_ID].ipynb`, and upload it to https://learn.illinois.edu **ALONG WITH YOUR DATA**."
   ]
  }
 ],
 "metadata": {
  "kernelspec": {
   "display_name": "Python 3 (ipykernel)",
   "language": "python",
   "name": "python3"
  },
  "language_info": {
   "codemirror_mode": {
    "name": "ipython",
    "version": 3
   },
   "file_extension": ".py",
   "mimetype": "text/x-python",
   "name": "python",
   "nbconvert_exporter": "python",
   "pygments_lexer": "ipython3",
   "version": "3.8.13"
  }
 },
 "nbformat": 4,
 "nbformat_minor": 5
}
