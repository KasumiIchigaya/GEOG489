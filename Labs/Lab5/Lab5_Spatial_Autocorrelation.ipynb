{
 "cells": [
  {
   "cell_type": "markdown",
   "id": "3131daa7",
   "metadata": {},
   "source": [
    "# Lab 5: Spatial Autocorrelation\n",
    "\n",
    "In this lab, you will investigate how the crimes in the city of Chicago are spatially autocorrelated with Global and Local Moran's I. \n",
    "\n",
    "The data of this lab was obtained from the following resources. <br>\n",
    "* Police stations: https://data.cityofchicago.org/Public-Safety/Police-Stations/z8bn-74gv <br>\n",
    "* Crime data: https://data.cityofchicago.org/Public-Safety/Crimes-2001-to-Present/ijzp-q8t2 <br>\n",
    "* Community area boundaries: https://data.cityofchicago.org/Facilities-Geographic-Boundaries/Boundaries-Community-Areas-current-/cauq-8yn6 <br>\n",
    "\n",
    "## Notes:\n",
    "**Before you submit your lab, make sure everything runs as expected WITHOUT ANY ERROR.** <br>\n",
    "**Make sure you fill in any place that says `YOUR CODE HERE` or `YOUR ANSWER HERE`:**"
   ]
  },
  {
   "cell_type": "code",
   "execution_count": null,
   "id": "893cdf37",
   "metadata": {},
   "outputs": [],
   "source": [
    "FULL_NAME = \"\""
   ]
  },
  {
   "cell_type": "code",
   "execution_count": null,
   "id": "80fe3248",
   "metadata": {},
   "outputs": [],
   "source": [
    "# Import necessary packages\n",
    "import pandas as pd\n",
    "import geopandas as gpd\n",
    "import esda\n",
    "import libpysal\n",
    "import math\n",
    "import matplotlib.pyplot as plt\n",
    "import ast\n",
    "from shapely.geometry import Point"
   ]
  },
  {
   "cell_type": "markdown",
   "id": "1190a194",
   "metadata": {},
   "source": [
    "## 1. Import Data\n",
    "\n",
    "In this lab, you will be using the following two datasets. `homicide` variable has the number of homicide happened in each community area in the city of Chicago in 2021. `p_stations` is the locations of police stations in the city of Chicago. \n",
    "\n",
    "**1.1.** (0.2 point) Load `homicide_chicago.json` in the data folder as the name of `homicide` with GeoPandas.<br>\n",
    "**1.2.** (0.2 point) Load `police_stations.csv` in the data folder as the name of `p_stations` with Pandas"
   ]
  },
  {
   "cell_type": "code",
   "execution_count": null,
   "id": "775b0680",
   "metadata": {},
   "outputs": [],
   "source": [
    "# Your code here\n",
    "\n"
   ]
  },
  {
   "cell_type": "code",
   "execution_count": null,
   "id": "d367ae69",
   "metadata": {},
   "outputs": [],
   "source": [
    "\"\"\" Test code for the previous code. This cell should NOT give any errors when it is run.\"\"\"\n",
    "assert type(homicide) == gpd.GeoDataFrame\n",
    "assert type(p_stations) == pd.DataFrame\n",
    "\n",
    "print('Success!')"
   ]
  },
  {
   "cell_type": "markdown",
   "id": "98c3b334",
   "metadata": {},
   "source": [
    "Now, you need to convert `p_stations` from Pandas DataFrame to GeoPandas GeoDataFrame. Here, you need to obtain coordinates from `LOCATION` column and the format is `'(41.8307016873, -87.6233953459)'`, which is a string. `ast.literal_eval` will help you to convert the string to a tuple. <br><br>\n",
    "Copy and paste the following two lines. It will help you to obtain coordinates from `LOCATION` column and create `lat` and `lng` columns. \n",
    "\n",
    "```python\n",
    "p_stations['lat'] = p_stations.apply(lambda x: ast.literal_eval(x['LOCATION'])[0], axis=1)\n",
    "p_stations['lng'] = p_stations.apply(lambda x: ast.literal_eval(x['LOCATION'])[1], axis=1)\n",
    "```\n",
    "\n",
    "Visit <a href=https://docs.python.org/3/library/ast.html#ast.literal_eval> here </a> for more information."
   ]
  },
  {
   "cell_type": "code",
   "execution_count": null,
   "id": "6d1fdc54",
   "metadata": {},
   "outputs": [],
   "source": [
    "# Your code here\n",
    "\n"
   ]
  },
  {
   "cell_type": "markdown",
   "id": "88a21383",
   "metadata": {},
   "source": [
    "**1.3.** (0.3 point) Convert `p_stations` from Pandas DataFrame to GeoPandas GeoDataFrame. Then, assign the coordinates system with the current coordinates as WGS84 (epsg=4326), and change the coordinate coordinate system to the Illinois East State Plane with meters (epsg=26971). "
   ]
  },
  {
   "cell_type": "code",
   "execution_count": null,
   "id": "04acdb87",
   "metadata": {},
   "outputs": [],
   "source": [
    "# Your code here\n",
    "\n"
   ]
  },
  {
   "cell_type": "code",
   "execution_count": null,
   "id": "fc829706",
   "metadata": {},
   "outputs": [],
   "source": [
    "\"\"\" Test code for the previous code. This cell should NOT give any errors when it is run.\"\"\"\n",
    "assert type(p_stations) == gpd.GeoDataFrame\n",
    "assert p_stations.crs.name == 'NAD83 / Illinois East'\n",
    "assert p_stations.loc[p_stations['ADDRESS'] == '3510 S Michigan Ave', 'geometry'][0] == Point(358973.01836538664, 573542.6662097769)\n",
    "\n",
    "print('Success!')"
   ]
  },
  {
   "cell_type": "markdown",
   "id": "4c815642",
   "metadata": {},
   "source": [
    "**1.4.** (0.3 point) Plot two layers (`homicide` and `p_stations`) to ***one*** map based on the description below. Set the figsize to (7, 10).\n",
    "* Choropleth map of `homicide`: \n",
    "    * column: `homicide_count`\n",
    "    * color map: Reds\n",
    "    * classification method: Fisher Jenks\n",
    "    * Show legend\n",
    "\n",
    "* Location of `p_stations`:\n",
    "    * markersize: 100\n",
    "    * color: black\n",
    "    \n",
    "The result should look like the below. \n",
    "![](./data/fig1.jpg)"
   ]
  },
  {
   "cell_type": "code",
   "execution_count": null,
   "id": "273a2687",
   "metadata": {},
   "outputs": [],
   "source": [
    "# Your code here\n",
    "\n"
   ]
  },
  {
   "cell_type": "markdown",
   "id": "4b866724",
   "metadata": {},
   "source": [
    "# 2. Various Distance Decay: Gaussian vs Power-law probability distribution\n",
    "\n",
    "The provided package has a shortcoming that it only supports a power-law probability distribution, which is $P(d_{ij})$ below. Here, we want to incorporate another distance decay function based on Gaussian probability distribution, which is $G(d_{ij}, d_0)$ below, for our spatial autocorrelation calculation.\n",
    "\n",
    "<br><br>\n",
    "$$\\large  G(d_{ij}, d_0) = \\frac{e^{-\\frac{1}{2}*(\\frac{d_{ij}}{d_0})^2}-e^{-\\frac{1}{2}}}{1-e^{-\\frac{1}{2}}}$$\n",
    "\n",
    "<br><br>\n",
    "$$\\large P(d_{ij}) = d_{ij} ^{\\alpha}$$"
   ]
  },
  {
   "cell_type": "code",
   "execution_count": null,
   "id": "0499142f",
   "metadata": {},
   "outputs": [],
   "source": [
    "def gaussian(dij, d0):  # Gaussian probability distribution\n",
    "    if d0 >= dij:\n",
    "        val = (math.exp(-1 / 2 * ((dij / d0) ** 2)) - math.exp(-1 / 2)) / (1 - math.exp(-1 / 2))\n",
    "        return val\n",
    "    else:\n",
    "        return 0\n",
    "    \n",
    "def power(dij, alpha): # Power-law probability distribution\n",
    "    val = dij ** alpha\n",
    "    \n",
    "    return val"
   ]
  },
  {
   "cell_type": "markdown",
   "id": "82c9af86",
   "metadata": {},
   "source": [
    "As you can see in the plot below, Power-law has a strong distance decay, whereas Gaussan has relatively slow distance decay. In addition, Gaussian distance decay shows 0 value at the last value (i.e., threshold) so that it can provide more accurate results for spatial autocorrelation. "
   ]
  },
  {
   "cell_type": "code",
   "execution_count": null,
   "id": "8f30d0da",
   "metadata": {},
   "outputs": [],
   "source": [
    "# Demonstrating the distance decays based on two different probability distributions\n",
    "x = range(1, 11, 1)\n",
    "y_gaus = []\n",
    "y_power = []\n",
    "\n",
    "for i in x:\n",
    "    y_gaus.append(gaussian(i, 10))\n",
    "    y_power.append(power(i, -1))\n",
    "\n",
    "# Plot two distance decay functions\n",
    "fig, ax = plt.subplots(figsize=(10, 5))\n",
    "ax.plot(x, y_gaus, label='Gaussian', color='blue')\n",
    "ax.plot(x, y_power, label='Power-law', color='red')\n",
    "plt.legend(fontsize='xx-large')\n",
    "\n",
    "plt.show()"
   ]
  },
  {
   "cell_type": "markdown",
   "id": "cf715747",
   "metadata": {},
   "source": [
    "# 3. Calculating neighbors and weights with Gaussian probability distribution\n",
    "Now, we would like to implement Gaussian distance decay for calculating spatial autocorrelation. It will be replacing step 2 described in the backbone of autocorrelation calculation. \n",
    "\n",
    "**3.1.** (1 point) Suppose we have 5000 meters as threshold bandwidth. Write lines of code in the below cell to calculate the list of neighbors of each community area. You want to structurize your result as a dictionary shown below. Namely, d_neighbors will be a dictionary that has the index of each community area as its key and the list of the neighboring community areas as its value.\n",
    "\n",
    "```python\n",
    "d_neighbors = {**index_of_area_1** : [**neighboring_area_1**, **neighboring_area_2**],\n",
    "               **index_of_area_2** : [**neighboring_area_8**, **neighboring_area_9**, **neighboring_area_10**]\n",
    "               ...\n",
    "               **index_of_area_n** : [**neighboring_area_23**, **neighboring_area_1**, **neighboring_area_45**]\n",
    "}\n",
    "```"
   ]
  },
  {
   "cell_type": "code",
   "execution_count": null,
   "id": "4b7adf79",
   "metadata": {},
   "outputs": [],
   "source": [
    "# Your code here\n",
    "\n",
    "\n"
   ]
  },
  {
   "cell_type": "code",
   "execution_count": null,
   "id": "f2979d3e",
   "metadata": {},
   "outputs": [],
   "source": [
    "\"\"\" Test code for the previous code. This cell should NOT give any errors when it is run.\"\"\"\n",
    "assert type(d_neighbors) == dict\n",
    "assert d_neighbors[7] == [6, 23, 27, 31, 32]\n",
    "assert d_neighbors[75] == [0, 1, 2, 3, 4, 5, 12]\n",
    "\n",
    "print('Success!')"
   ]
  },
  {
   "cell_type": "markdown",
   "id": "89e6c3d3",
   "metadata": {},
   "source": [
    "**3.2.** (1 point) Take advantage of the code you wrote in step 3.1, and make it as a function that also calculates the weights on each neighboring community area based on `gaussian()` function, not only the list of neighboring community areas. <br>\n",
    "The structure of this function should be looked like the below. The reason for using this structure is that we want to enter this result into <a href=https://pysal.org/libpysal/generated/libpysal.weights.W.html#libpysal.weights.W>`libpysal.weights.W()`</a> to calculate Global and Local Moran's I, later. \n",
    "* Inputs:\n",
    "    * `gdf`: (GeoDataFrame) the one we want to calculate neighbors and their weights (i.e., homicide)\n",
    "    * `d0`: (int) threshold bandwidth (e.g., 5000)\n",
    "* Outputs:\n",
    "    * `d_neighbors`: (dict) {the_index_of_each_community_area: [the_list_of_neighboring_community_areas]} \n",
    "    * `d_weights`: (dict) {the_index_of_each_community_area: [the_list_of_neighboring_community_areas]} \n",
    "\n",
    "```python\n",
    "def gaussian_weights(gdf, d0):\n",
    "    d_neighbors = {}\n",
    "    d_weights = {}\n",
    "    \n",
    "    # Your code ...\n",
    "    \n",
    "    # GOOD LUCK...\n",
    "    \n",
    "    return d_neighbors, d_weights\n",
    "```"
   ]
  },
  {
   "cell_type": "code",
   "execution_count": null,
   "id": "a3fa6b0b",
   "metadata": {},
   "outputs": [],
   "source": [
    "# your code here\n",
    "\n",
    "\n",
    "\n"
   ]
  },
  {
   "cell_type": "code",
   "execution_count": null,
   "id": "10d9a71b",
   "metadata": {},
   "outputs": [],
   "source": [
    "\"\"\" Test code for the previous code. This cell should NOT give any errors when it is run.\"\"\"\n",
    "\n",
    "assert type(gaussian_weights(homicide, 5000)[0]) == dict\n",
    "assert type(gaussian_weights(homicide, 5000)[1]) == dict\n",
    "assert gaussian_weights(homicide, 5000)[0][0] == [1, 3, 75]\n",
    "assert gaussian_weights(homicide, 5000)[1][0] == [0.756463159645392, 0.27797791464592075, 0.6773174934481152]\n",
    "\n",
    "print('Success!')"
   ]
  },
  {
   "cell_type": "markdown",
   "id": "d1077745",
   "metadata": {},
   "source": [
    "# 4. Calculate Spatial Autocorrelation with Gaussian probability distribution\n",
    "\n",
    "Consult with the previous lecture, and find necessary codes for calculating Global Moran's I and Local Moran's I, respectively. Here, we want to use ***a fixed bandwidth approach*** and investigate the ***ideal*** threshold bandwidth that provides the maximum Z-score. \n",
    "\n",
    "The following are the backbones of the two methods. \n",
    "* **Global Moran's I**\n",
    "    1. Extract coordinates from `homicide` GeoDataFrame with an array that has numerous tuples. \n",
    "    2. Calculate weights of each geographical units based on a Gaussian distance decay method with <a href=https://pysal.org/libpysal/generated/libpysal.weights.W.html#libpysal.weights.W>`libpysal.weights.W()`</a>. \n",
    "    3. Assign focused value with `homicide_count`. \n",
    "    4. Utilize `esda.moran.Moran()` function to obtain results. Moran's I, p-value, and Z-score will be embedded in `.I`, `.p_norm`, and `z_norm` attributes, respectively. \n",
    "    <br><br>\n",
    "* **Local Moran's I (LISA: Local Indicators of Spatial Association)**\n",
    "    1. Extract coordinates from `homicide` GeoDataFrame with an array that has numerous tuples. \n",
    "    2. Calculate weights of each geographical units based on a Gaussian distance decay method with <a href=https://pysal.org/libpysal/generated/libpysal.weights.W.html#libpysal.weights.W>`libpysal.weights.W()`</a>.  \n",
    "    3. Assign focused value with `homicide_count`. \n",
    "    4. Utilize `esda.moran.Moran_Local()` function to obtain results. Classification of LISA and its significant level are embedded in `.q` and `p_sim` attributes.\n",
    "    5. Find the significant classification results and merge it back to the original GeoDataFrame (i.e., homicide). \n",
    "    6. Plot LISA with the provided colors: {'HH': 'red', 'LL': 'blue', 'HL': 'orange', 'LH': 'skyblue', 'Not_Sig': 'lightgrey'}. "
   ]
  },
  {
   "cell_type": "markdown",
   "id": "70d2bc10",
   "metadata": {},
   "source": [
    "**4.1.** (1 point) Change the fixed bandwidth from 1000 (meters) to 9000 with the increment of 1000, and find the most statistically significant result (i.e., the highest Z-score). **Manually write your answers of the ideal threshold distance, Moran's I, and Z-score at the end.** <br>\n",
    "\n",
    "**Note**: In step 2, calculated `neighbors` and `weights` of community areas (from `homicide` GeoDataFrame) will be fed to <a href=https://pysal.org/libpysal/generated/libpysal.weights.W.html#libpysal.weights.W>`libpysal.weights.W()`</a> like shown below. \n",
    "```python\n",
    "w = libpysal.weights.W(neighbors, weights, silence_warnings=True)\n",
    "```\n",
    "**Hint**: the highest Z-score is approximately 6.734."
   ]
  },
  {
   "cell_type": "code",
   "execution_count": null,
   "id": "e9179320",
   "metadata": {},
   "outputs": [],
   "source": [
    "# Your code here\n",
    "\n",
    "\n"
   ]
  },
  {
   "cell_type": "markdown",
   "id": "75000b49",
   "metadata": {},
   "source": [
    "**4.2.** (1 point) Create a map of LISA with the most significant fixed bandwidth. Use the color scheme provided below. Here, we want to find the classification of LISA with **95% significance level**. Also, overlay the police stations `p_stations` on the LISA map. \n",
    "```python\n",
    "lisa_color = {'HH': 'red', 'LL': 'blue', 'HL': 'orange', 'LH': 'skyblue', 'Not_Sig': 'lightgrey'}\n",
    "```\n",
    "The result should look like the below. \n",
    "\n",
    "![](./data/fig2.jpg)"
   ]
  },
  {
   "cell_type": "code",
   "execution_count": null,
   "id": "1829aab8",
   "metadata": {},
   "outputs": [],
   "source": [
    "# Your code here\n",
    "\n",
    "\n"
   ]
  },
  {
   "cell_type": "markdown",
   "id": "6e474005",
   "metadata": {},
   "source": [
    "### *You have finished Lab 5: Spatial Autocorrelation*\n",
    "\n",
    "Please name your jupyter notebook as `GEOG489_Lab5_[YOUR_NET_ID].ipynb`, and upload it to https://learn.illinois.edu. "
   ]
  }
 ],
 "metadata": {
  "kernelspec": {
   "display_name": "Python 3",
   "language": "python",
   "name": "python3"
  },
  "language_info": {
   "codemirror_mode": {
    "name": "ipython",
    "version": 3
   },
   "file_extension": ".py",
   "mimetype": "text/x-python",
   "name": "python",
   "nbconvert_exporter": "python",
   "pygments_lexer": "ipython3",
   "version": "3.8.12"
  }
 },
 "nbformat": 4,
 "nbformat_minor": 5
}
