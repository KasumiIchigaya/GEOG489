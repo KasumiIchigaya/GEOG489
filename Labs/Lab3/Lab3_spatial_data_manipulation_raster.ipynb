{
 "cells": [
  {
   "cell_type": "markdown",
   "id": "0cd0bb89",
   "metadata": {},
   "source": [
    "# Lab 3: Spatial data manipulation: Raster\n",
    "\n",
    "In this lab, you will analyze the impact of hurricane Harvey, which was happened in August 2017 in Texas. You will find that most of the tasks were covered in the lecture, and it is a reproduction of the tasks. The differences are the study area (Houston instead of Champaign), the index (<a href=https://eos.com/make-an-analysis/ndwi/>NDWI [Normalized Difference Water Index]</a> instead of NDVI [Normalized Difference Vegetation Index]), and the data source (Sentinel 2 instead of Landsat 8). \n",
    "\n",
    "## Structure\n",
    "### 1. Import Data (1 point)\n",
    "**1.1.** (0.5 point) Import and stack four bands collected on **August 15 2017**. Save the result as a format of `ndarray` and name it as `before_harvey`. <br>\n",
    "**1.2.** (0.5 point) Import and stack four bands collected on **September 1 2017**. Save the result as a format of `ndarray` and name it as `after_harvey`.\n",
    "### 2. Display (True / False) Color Images after Harvey (1 point)\n",
    "**2.1.** (0.5 point) Plot a true color image (R,G,B) after Harvey with `ep.plot_rgb()` method. <br>\n",
    "**2.2.** (0.5 point) Plot a false color image (NIR,R,G) after Harvey with `ep.plot_rgb()` method. <br>\n",
    "### 3. Calculate Normalized Difference Water Index (NDWI) \"Before\" and \"After\" Harvey (1 point)\n",
    "**3.1.** (0.5 point) Calculate NDWI **before** harvey and save it as `ndwi_before`. <br>\n",
    "**3.2.** (0.5 point) Calculate NDWI **after** harvey and save it as `ndwi_after`. <br>\n",
    "### 4. Classify Raster Image based on the NDWI (1 point)\n",
    "**4.1.** (0.5 point) Classify the values in `ndwi_before` array with `np.digitize()` method, and save the result as `ndwi_before_class`. <br>\n",
    "**4.2.** (0.5 point) Classify the values in `ndwi_after` array with `np.digitize()` method, and save the result as `ndwi_after_class`. <br>\n",
    "### 5. Calculate the area covered by water and its percentage over the entire area (1 point + a)\n",
    "**5.1.** (0.5 point) Calculate the percentage of area covered by water, **before** Hurricane Harvey, save it as `percent_before_harvey`. <br>\n",
    "**5.2.** (0.5 point) Calculate the percentage of area covered by water, **after** Hurricane Harvey,  save it as `percent_after_harvey`. <br>\n",
    "**5.3. (Extra 1 point)** Calculate the size of area (in Square KM) which wasn't covered by water before Harvey but covered by water after Harvey. Save the result as `diff_area` with the numerical format.\n",
    "\n",
    "## Notes:\n",
    "**Before you submit your lab, make sure everything runs as expected WITHOUT ANY ERROR.** <br>\n",
    "**Make sure you fill in any place that says `YOUR CODE HERE` or `YOUR ANSWER HERE`:**"
   ]
  },
  {
   "cell_type": "code",
   "execution_count": null,
   "id": "daaa19ed",
   "metadata": {},
   "outputs": [],
   "source": [
    "FULL_NAME = \"\""
   ]
  },
  {
   "cell_type": "code",
   "execution_count": null,
   "id": "06b08110",
   "metadata": {},
   "outputs": [],
   "source": [
    "# Import necessary packages\n",
    "import rasterio as rio\n",
    "import numpy as np\n",
    "import os\n",
    "import matplotlib.pyplot as plt\n",
    "import earthpy.plot as ep\n",
    "from matplotlib.colors import ListedColormap\n",
    "\n",
    "data_path = './data'"
   ]
  },
  {
   "cell_type": "markdown",
   "id": "fbcdef31",
   "metadata": {},
   "source": [
    "### 1. Import Data (1 point)\n",
    "\n",
    "In the data folder, you will find two sets of Senitinel2 satellite imagery. Each set has four JPEG2000 files, and each file represents the bands correspinding to each color/wavelength. Please refer to the table below and import the files to the appropriate band, accordingly. <br>\n",
    "\n",
    "**Name schema: \"Sentinel2_{YYYYMMDD}_B{Band Number}.jp2\"**\n",
    "\n",
    "| Band Number |\tDescription | Resolution |\n",
    "| :-: | :-: | :-: | \n",
    "| Band 2 | Visible blue | 10 meter |\n",
    "| Band 3 | Visible green | 10 meter |\n",
    "| Band 4 | Visible red | 10 meter |\n",
    "| Band 8 | Near Infrared | 15 meter |\n",
    "\n",
    "**1.1.** (0.5 point) Import and stack four bands collected on **August 15 2017**. Save the result as a format of `ndarray` and name it as `before_harvey`. <br>\n",
    "**1.2.** (0.5 point) Import and stack four bands collected on **September 1 2017**. Save the result as a format of `ndarray` and name it as `after_harvey`."
   ]
  },
  {
   "cell_type": "code",
   "execution_count": null,
   "id": "12f11ebd",
   "metadata": {},
   "outputs": [],
   "source": [
    "# Your code here (Task 1.1)\n",
    "\n"
   ]
  },
  {
   "cell_type": "code",
   "execution_count": null,
   "id": "95862fcf",
   "metadata": {},
   "outputs": [],
   "source": [
    "# Your code here (Task 1.2)\n",
    "\n"
   ]
  },
  {
   "cell_type": "code",
   "execution_count": null,
   "id": "04bde466",
   "metadata": {},
   "outputs": [],
   "source": [
    "\"\"\" Test code for the previous code. This cell should NOT give any errors when it is run.\"\"\"\n",
    "\n",
    "assert type(before_harvey) == np.ndarray\n",
    "assert type(after_harvey) == np.ndarray\n",
    "\n",
    "assert before_harvey.shape == (4, 1254, 2328) # (Bands, Rows, Columns)\n",
    "assert after_harvey.shape == (4, 1254, 2328) # (Bands, Rows, Columns)\n",
    "\n",
    "print('Success!')"
   ]
  },
  {
   "cell_type": "markdown",
   "id": "c2efe0d9",
   "metadata": {},
   "source": [
    "### 2. Display (True / False) Color Images after Harvey (1 point)\n",
    "\n",
    "**2.1.** (0.5 point) Plot a true color image (R,G,B) after Harvey with `ep.plot_rgb()` method. <br>\n",
    "**2.2.** (0.5 point) Plot a false color image (NIR,R,G) after Harvey with `ep.plot_rgb()` method. <br>\n",
    "\n",
    "**You are expected to see the two images below. But it doesn't have to be executed in one cell.**\n",
    "![True and False Color representation of Satellite image](./data/task2_example.png)\n"
   ]
  },
  {
   "cell_type": "code",
   "execution_count": null,
   "id": "8674d0aa",
   "metadata": {},
   "outputs": [],
   "source": [
    "# Your code here\n",
    "\n"
   ]
  },
  {
   "cell_type": "markdown",
   "id": "62af935d",
   "metadata": {},
   "source": [
    "### 3. Calculate Normalized Difference Water Index (NDWI) \"Before\" and \"After\" Harvey (1 point)\n",
    "\n",
    "Use the equation below with NumPy and calculate NDWI for each period. The index represents the water body level on the surface against soil and vegitation. \n",
    "\n",
    "\\begin{gather*}\n",
    "NDWI = \\frac{Green - NIR}{Green + NIR}\n",
    "\\end{gather*}\n",
    "\n",
    "**Note**: Use the `normalize` function below to normalize values in each band. \n",
    "\n",
    "**3.1.** (0.5 point) Calculate NDWI **before** harvey and save it as `ndwi_before`. <br>\n",
    "**3.2.** (0.5 point) Calculate NDWI **after** harvey and save it as `ndwi_after`. <br>"
   ]
  },
  {
   "cell_type": "code",
   "execution_count": null,
   "id": "7b89bca8",
   "metadata": {},
   "outputs": [],
   "source": [
    "def normalize(array):\n",
    "    '''\n",
    "    normalize: normalize a numpy array so all value are between 0 and 1\n",
    "    '''\n",
    "    array_min, array_max = array.min(), array.max()\n",
    "    return (array - array_min) / (array_max - array_min)"
   ]
  },
  {
   "cell_type": "code",
   "execution_count": null,
   "id": "d5081bc6",
   "metadata": {},
   "outputs": [],
   "source": [
    "# Your code here (Before Harvey)\n",
    "\n"
   ]
  },
  {
   "cell_type": "code",
   "execution_count": null,
   "id": "692110e9",
   "metadata": {},
   "outputs": [],
   "source": [
    "# Your code here (After Harvey)\n",
    "\n"
   ]
  },
  {
   "cell_type": "markdown",
   "id": "f0a37eba",
   "metadata": {},
   "source": [
    "**Check Your Result Here** You should see the images below if you write the code properly. \n",
    "\n",
    "![](./data/task3_example.png)"
   ]
  },
  {
   "cell_type": "code",
   "execution_count": null,
   "id": "4124602e",
   "metadata": {},
   "outputs": [],
   "source": [
    "\"\"\" Test code for the previous code. This cell should NOT give any errors when it is run.\"\"\"\n",
    "fig, (ax1, ax2) = plt.subplots(nrows=1, ncols=2, figsize=(20, 10))\n",
    "\n",
    "ax1.imshow(ndwi_before, cmap='Greys_r')\n",
    "ax2.imshow(ndwi_after, cmap='Greys_r')\n",
    "ax1.set_title('Before Harvey')\n",
    "ax2.set_title('After Harvey')\n",
    "\n",
    "plt.show()"
   ]
  },
  {
   "cell_type": "markdown",
   "id": "af757cbf",
   "metadata": {},
   "source": [
    "### 4. Classify Raster Image based on the NDWI (1 point)\n",
    "\n",
    "Now, you will classify the imagery of two periods (before and after Harvey) to examine the impact of flooding. Based on the table below, I provided `bounds`, `ndwi_colors`, `ndwi_cmap`, and `ndwi_names`. These values will help you to plot the classification result in the last cell of this section. \n",
    "\n",
    "| NDWI Range | Meaning |\n",
    "| :-: | :-: |\n",
    "| 0.2 ~ 1 | Water surface |\n",
    "| 0.0 ~ 0,2  | Flooding|\n",
    "| -0.3 ~ 0.0 | Moderate drought |\n",
    "| -1 ~ -0.3 | Drought |\n",
    "\n",
    "**4.1.** (0.5 point) Classify the values in `ndwi_before` array with `np.digitize()` method, and save the result as `ndwi_before_class`. <br>\n",
    "**4.2.** (0.5 point) Classify the values in `ndwi_after` array with `np.digitize()` method, and save the result as `ndwi_after_class`. <br>\n",
    "**Note**: Be aware that you need to remove `nan` value in each array with `np.nan_to_num()` method. Convert `nan` to `-1` for our example here. "
   ]
  },
  {
   "cell_type": "code",
   "execution_count": null,
   "id": "2f9417d0",
   "metadata": {},
   "outputs": [],
   "source": [
    "# Run this cell before running your code.\n",
    "bounds = np.array([-2, -0.3, 0, 0.2, 2]) # Define boundary\n",
    "ndwi_colors = [\"grey\", \"lightblue\", \"blue\", \"darkblue\"]  # Define color map\n",
    "ndwi_cmap = ListedColormap(ndwi_colors)  # Define color map\n",
    "ndwi_names = [\"Drought\", \"Moderate drought\", \"Flooding\", \"Water Surface\"] # Define class names"
   ]
  },
  {
   "cell_type": "code",
   "execution_count": null,
   "id": "57efa9c2",
   "metadata": {},
   "outputs": [],
   "source": [
    "# Your code here\n",
    "\n"
   ]
  },
  {
   "cell_type": "markdown",
   "id": "fc0e3169",
   "metadata": {},
   "source": [
    "**Check Your Result Here** You should see the images below if you write the code properly. \n",
    "\n",
    "![](./data/task4_example.png)"
   ]
  },
  {
   "cell_type": "code",
   "execution_count": null,
   "id": "4b5954cc",
   "metadata": {},
   "outputs": [],
   "source": [
    "\"\"\" Test code for the previous code. This cell should NOT give any errors when it is run.\"\"\"\n",
    "\n",
    "fig, (ax1, ax2) = plt.subplots(nrows=1, ncols=2, figsize=(20, 10))\n",
    "\n",
    "newi_ax1 = ax1.imshow(ndwi_before_class, cmap=ndwi_cmap)\n",
    "newi_ax2 = ax2.imshow(ndwi_after_class, cmap=ndwi_cmap)\n",
    "ep.draw_legend(im_ax=newi_ax2, classes=np.unique(ndwi_after_class), titles=ndwi_names)\n",
    "ax1.set_title('Before Harvey')\n",
    "ax2.set_title('After Harvey')\n",
    "\n",
    "plt.show()"
   ]
  },
  {
   "cell_type": "markdown",
   "id": "8855fd9a",
   "metadata": {},
   "source": [
    "### 5. Calculate the area covered by water and its percentage over the entire area (1 point + a)\n",
    "\n",
    "**5.1.** (0.5 point) Calculate the percentage of area covered by water, **before** Hurricane Harvey, save it as `percent_before_harvey`. <br>\n",
    "**5.2.** (0.5 point) Calculate the percentage of area covered by water, **after** Hurricane Harvey,  save it as `percent_after_harvey`. \n",
    "\n",
    "**5.3. (Extra 1 point)** Calculate the size of area (in Square KM) which wasn't covered by water before Harvey but covered by water after Harvey. Save the result as `diff_area` with the numerical format. <br>\n",
    "**Note:** the cell size (resolution) of Sentinel2 is 10 meters. "
   ]
  },
  {
   "cell_type": "code",
   "execution_count": null,
   "id": "a1aaa80c",
   "metadata": {},
   "outputs": [],
   "source": [
    "# Your code here\n",
    "\n",
    "\n",
    "# Your code here (Extra Point)\n",
    "\n"
   ]
  },
  {
   "cell_type": "code",
   "execution_count": null,
   "id": "cd55eabe",
   "metadata": {},
   "outputs": [],
   "source": [
    "\"\"\" Test code for the previous code. This cell should NOT give any errors when it is run.\"\"\"\n",
    "\n",
    "assert round(percent_before_harvey, 2) == 0.03\n",
    "assert round(percent_after_harvey, 2) == 0.41\n",
    "\n",
    "print('Success!')"
   ]
  },
  {
   "cell_type": "code",
   "execution_count": null,
   "id": "5d1fcc8a",
   "metadata": {},
   "outputs": [],
   "source": [
    "\"\"\" Test code for the previous code. This cell should NOT give any errors when it is run.\"\"\"\n",
    "\n",
    "assert round(diff_area) == 111 or round(diff_area) == 112\n",
    "\n",
    "print('Congraculations! You earned extra point!')"
   ]
  },
  {
   "cell_type": "markdown",
   "id": "646472bf",
   "metadata": {},
   "source": [
    "### *You have finished Lab 3: Spatial data manipulation: Raster*\n",
    "Please name your jupyter notebook as `GEOG489_Lab1_[YOUR_NET_ID].ipynb`, and upload it to https://learn.illinois.edu. "
   ]
  }
 ],
 "metadata": {
  "kernelspec": {
   "display_name": "Python 3 (ipykernel)",
   "language": "python",
   "name": "python3"
  },
  "language_info": {
   "codemirror_mode": {
    "name": "ipython",
    "version": 3
   },
   "file_extension": ".py",
   "mimetype": "text/x-python",
   "name": "python",
   "nbconvert_exporter": "python",
   "pygments_lexer": "ipython3",
   "version": "3.10.2"
  }
 },
 "nbformat": 4,
 "nbformat_minor": 5
}
