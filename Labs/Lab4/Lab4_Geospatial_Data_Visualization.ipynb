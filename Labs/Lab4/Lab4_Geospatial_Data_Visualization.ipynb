{
 "cells": [
  {
   "cell_type": "markdown",
   "id": "3f8581c7",
   "metadata": {},
   "source": [
    "# Lab 4: Geospatial Data Visualization\n",
    "\n",
    "In this lab, you will analyze the geographical distribution of the population of the State of Illinois and its temporal changes from 1980 to 2010. You will find that most of the tasks were covered in the lecture, and it is another reproduction of the tasks. The difference is the study area (Illinois instead of Texas), and we focus on temporal changes of the general population instead of COVID-19 cases. \n",
    "\n",
    "The data of this lab was obtained from the following resources. \n",
    "* County geometry: https://www.census.gov/geographies/mapping-files/time-series/geo/tiger-line-file.2010.html\n",
    "* Temporal chagnes of the population: http://www.idph.state.il.us/health/census1980_2010.htm\n",
    "\n",
    "## Structure\n",
    "### 1. Data Manipulation (0.5 point)\n",
    "In order to visualize the geospatial data, you need to obtain data (i.e., GeoDataFrame), properly. Here, with the help of `GeoPandas`, let's create a GeoDataFrame as shown below. <br>\n",
    "<img src=\"./data/exercise_1.jpg\" style=\"width: 600px;\"/>\n",
    "\n",
    "### 2. A Single Choropleth Map (1.5 point)\n",
    "Here, you will create a single Choropleth map with the merged `county` GeoDataFrame from the previous task. The result should look to the map below. <br>\n",
    "<img src=\"./data/exercise_2.png\" style=\"width: 400px;\"/>\n",
    "\n",
    "### 3. Multiple Choropleth Map (2 point)\n",
    "\n",
    "Here, you will make a `figure` have four `axes`, and each of the `axes` will have a Choropleth map of the population from 1980 to 2010. The result should look to the map below.\n",
    "<img src=\"./data/exercise_3.png\" style=\"width: 800px;\"/>\n",
    "\n",
    "### 4. Creating a Web Map with GeoPandas and Folium (1 point)\n",
    "Here, you will be making an interactive web map with GeoPandas and Folium by using <a href=https://geopandas.org/en/stable/docs/reference/api/geopandas.GeoDataFrame.explore.html>`gpf.explore()`</a> method. The result web map should look like <a href=./data/webmap_example.html>this</a>. \n",
    "\n",
    "## Notes:\n",
    "**Before you submit your lab, make sure everything runs as expected WITHOUT ANY ERROR.** <br>\n",
    "**Make sure you fill in any place that says `YOUR CODE HERE` or `YOUR ANSWER HERE`:**"
   ]
  },
  {
   "cell_type": "code",
   "execution_count": null,
   "id": "cd9ceedd",
   "metadata": {},
   "outputs": [],
   "source": [
    "FULL_NAME = \"\""
   ]
  },
  {
   "cell_type": "code",
   "execution_count": null,
   "id": "7cd0e8dc",
   "metadata": {},
   "outputs": [],
   "source": [
    "# Import necessary packages\n",
    "import pandas as pd\n",
    "import geopandas as gpd\n",
    "import matplotlib.pyplot as plt\n",
    "import matplotlib.patheffects as pe\n",
    "import mapclassify\n",
    "from matplotlib.colors import LinearSegmentedColormap\n",
    "import numpy as np"
   ]
  },
  {
   "cell_type": "markdown",
   "id": "0bdedd82",
   "metadata": {},
   "source": [
    "## 1. Data Manipulation (0.5 point)\n",
    "In order to visualize the geospatial data, you need to obtain data (i.e., GeoDataFrame), properly. Here, with the help of `GeoPandas`, let's create a GeoDataFrame as shown below. <br>\n",
    "\n",
    "<img src=\"./data/exercise_1.jpg\" style=\"width: 600px;\"/>\n",
    "\n",
    "**1.1.** (0.25 point) Import two datasets (`illinois_county.shp` and `population_chage.csv`) in the `data` folder with the names of `county` and `pop`, respectively. Use GeoPandas for `illinois_county.shp`, given it has geometry. Use Pandas for `population_chage.csv` given it doesn't have geometry. \n",
    "\n",
    "**1.2.** (0.25 point) Investigate the contents to find the shared information between two DataFrames and **merge `pop` to `county`**. You can use either the indexes to merge or the name, since they have a colume with the same name. Take a look at <a href=https://pandas.pydata.org/docs/reference/api/pandas.DataFrame.merge.html>this website</a> for your reference."
   ]
  },
  {
   "cell_type": "code",
   "execution_count": null,
   "id": "b6924583",
   "metadata": {},
   "outputs": [],
   "source": [
    "# Your code here\n",
    "\n"
   ]
  },
  {
   "cell_type": "code",
   "execution_count": null,
   "id": "8c02c2cf",
   "metadata": {},
   "outputs": [],
   "source": [
    "\"\"\" Test code for the previous code. This cell should NOT give any errors when it is run.\"\"\"\n",
    "# Task 1.1.\n",
    "assert type(county) == gpd.GeoDataFrame\n",
    "assert type(pop) == pd.DataFrame\n",
    "\n",
    "# Task 1.2.\n",
    "assert county.shape == (102, 7) \n",
    "\n",
    "print('Success!')"
   ]
  },
  {
   "cell_type": "markdown",
   "id": "d6c63935",
   "metadata": {},
   "source": [
    "## 2. A Single Choropleth Map (1.5 point)\n",
    "\n",
    "Here, you will create a single Choropleth map with the merged `county` GeoDataFrame from the previous task. The result should look to the map below. <br>\n",
    "\n",
    "<img src=\"./data/exercise_2.png\" style=\"width: 600px;\"/>\n",
    "\n"
   ]
  },
  {
   "cell_type": "markdown",
   "id": "7fa15134",
   "metadata": {},
   "source": [
    "**2.1.** (0.25 point) Initiate a plot with `plt.subplots()`. Specify the figure size as 10 by 20, and **Note** that you are making a single map. <br>\n",
    "**2.2.** (0.5 point) Create a Choropleth map based on the population in 2010 (i.e., `Year2010` column in `county` GeoDataFrame). Use the following attributes for a specific style.\n",
    "* Colormap (`cmap`): 'Blues'\n",
    "* Classification scheme (`scheme`): 'FisherJenks'\n",
    "* Number of classes (`k`): 5 \n",
    "\n",
    "**2.3.** (0.5 point) Create boundaries of the county polygons with `gpd.boundary` and plot it over the Choropleth map, above. Use the following attributes for a specific style. \n",
    "* Color (`color`): 'black'\n",
    "* Line width (`linewidth`): 0.5\n",
    "* Line style (`linestyle`): 'dotted'\n",
    "\n",
    "**2.4.** (0.25 point) Fill in the missing information (i.e., `NAME OF YOUR DATAFRAME` and `NAME OF A COLUMN`) from the code below for annotating each county with its `GEOID` column. <br>\n",
    "<a href=https://www.census.gov/programs-surveys/geography/guidance/geo-identifiers.html>*GEOIDs*</a> are numeric codes that uniquely identify all administrative/legal and statistical geographic areas for which the Census Bureau tabulates data. <br>\n",
    "\n",
    "```python\n",
    "    for idx, row in [`NAME OF YOUR DATAFRAME`].iterrows(): # Iterate everyrow in a GeoDataFrame\n",
    "        ax.text(s=row[`NAME OF A COLUMN`], # String to be displayed\n",
    "                x=row['geometry'].centroid.coords[:][0][0], # X coordinate of label\n",
    "                y=row['geometry'].centroid.coords[:][0][1], # Y coordinate of label\n",
    "                fontsize=10, \n",
    "                color='white',\n",
    "                ha='center', # Horizontal align\n",
    "                va='center', # Vertical align\n",
    "                path_effects=[pe.withStroke(linewidth=2, foreground=\"black\")] \n",
    "               )\n",
    "```\n"
   ]
  },
  {
   "cell_type": "code",
   "execution_count": null,
   "id": "457ed9c2",
   "metadata": {},
   "outputs": [],
   "source": [
    "# Your code here\n",
    "\n",
    "\n"
   ]
  },
  {
   "cell_type": "markdown",
   "id": "8ec14a47",
   "metadata": {},
   "source": [
    "## 3. Multiple Choropleth Map (2 point)\n",
    "\n",
    "Here, you will make a `figure` have four `axes`, and each of the `axes` will have a Choropleth map of the population from 1980 to 2010. The result should look to the map below.\n",
    "\n",
    "<img src=\"./data/exercise_3.png\" style=\"width: 1000px;\"/>"
   ]
  },
  {
   "cell_type": "markdown",
   "id": "9cc3f8aa",
   "metadata": {},
   "source": [
    "### 3.1. Create a customized color map (0.5 point)\n",
    "**3.1.1.** Visit <a href=https://colorbrewer2.org/>`ColorBrewer`</a> and grab hex color codes of `YlGnBu` color with `5` classes as you can see on the screen capture below. \n",
    "<img src=\"./data/exercise_4.jpg\" style=\"width: 600px;\"/>\n",
    "\n",
    "**3.1.2.** (0.25 point) Save the hex code as a list, `color_brewer`. Note that you need to make each hex code as a string. <br>\n",
    "```python\n",
    "    color_brewer = ['#hexcode1', '#hexcode2', '#hexcode3'..]\n",
    "```\n",
    "**3.1.3.** (0.25 point) Feed the list to `LinearSegmentedColormap.from_list()` method and create an instance of color bar with the name of `cm`. When you call `cm`, the following color bar should pop up. Note that you need to use attribute `N=5` to make this ColorMap has only five colors. \n",
    "<img src=\"./data/exercise_5.jpg\" style=\"width: 300px;\"/>"
   ]
  },
  {
   "cell_type": "code",
   "execution_count": null,
   "id": "1158e672",
   "metadata": {},
   "outputs": [],
   "source": [
    "# Your code here\n",
    "# Task 3.1.1.\n",
    "# https://colorbrewer2.org/#type=sequential&scheme=YlGnBu&n=5\n",
    "\n",
    "\n"
   ]
  },
  {
   "cell_type": "code",
   "execution_count": null,
   "id": "63264117",
   "metadata": {},
   "outputs": [],
   "source": [
    "\"\"\" Test code for the previous code. This cell should NOT give any errors when it is run.\"\"\"\n",
    "# Task 3.1.\n",
    "assert type(color_brewer) == list\n",
    "assert type(cm) == LinearSegmentedColormap\n",
    "assert cm.N == 5\n",
    "\n",
    "print('Success!')"
   ]
  },
  {
   "cell_type": "markdown",
   "id": "129b9155",
   "metadata": {},
   "source": [
    "### 3.2. Define Map Classes with `mapclassify` (0.5 point). \n",
    "\n",
    "**3.2.1.** (0.25 point) Create a Dataframe, named `pop_change` by slicing `county` GeoDataFrame. The DataFrame `pop_change` will have 102 rows (i.e., the number of counties) and four columns (`Year1980`, `Year1990`, `Year2000`, `Year2010`) granted from `county` GeoDataFrame. The code below will help you with this task.\n",
    "```python\n",
    "pop_change = county[['List of Columns']] \n",
    "```\n",
    "**3.2.2.** (0.25 point) Feed `pop_change` DataFrame to `mapclassify.FisherJenks()` method and save the instance to `map_class` variable. This will provide the classes that can be used regardless of columns (`Year1980`, `Year1990`, `Year2000`, `Year2010`). \n"
   ]
  },
  {
   "cell_type": "code",
   "execution_count": null,
   "id": "4c4b14ac",
   "metadata": {},
   "outputs": [],
   "source": [
    "# Your code here\n",
    "\n",
    "\n"
   ]
  },
  {
   "cell_type": "code",
   "execution_count": null,
   "id": "f34eb707",
   "metadata": {},
   "outputs": [],
   "source": [
    "\"\"\" Test code for the previous code. This cell should NOT give any errors when it is run.\"\"\"\n",
    "def array_comparison(arr1, arr2):\n",
    "    comparison = arr1 == arr2\n",
    "    equal_arrays = comparison.all()\n",
    "    \n",
    "    return equal_arrays\n",
    "\n",
    "# Task 3.2.\n",
    "assert pop_chage.columns.to_list() == ['Year1980', 'Year1990', 'Year2000', 'Year2010']\n",
    "assert type(map_class) == mapclassify.classifiers.FisherJenks\n",
    "assert array_comparison(map_class.bins, np.array([81625, 201081, 516418, 916924, 5376741]))\n",
    "\n",
    "print('Success!')"
   ]
  },
  {
   "cell_type": "markdown",
   "id": "43e277b4",
   "metadata": {},
   "source": [
    "### 3.3. Creating a Figure with Multiple Axes (1 point)\n",
    "\n",
    "**3.3.1.** (0.25 point) Create `fig` and `axes` with `plt.subplots(nrows=[number needed], ncols=[number needed], figsize=(15, 10))`. As we have four columns (`Year1980`, `Year1990`, `Year2000`, `Year2010`) to be displayed, we want to have **1** row and **4** columns. <br>\n",
    "**3.3.2.** (0.5 point) Populate each of the axes with the population distribution of each decennial. You can modify and provide proper variables to the following two lines of the code. Note that you can answer this question in two ways: 1) Copy and paste the codes four times or 2) take advantage of a for loop. \n",
    "\n",
    "```python\n",
    "county.plot(`NAME OF A COLUMN`, \n",
    "            ax=`LOCATION ON THE AXES`, \n",
    "            cmap=cm, # This will use the colormap defined in the previous task\n",
    "            scheme='user_defined', # This use the classification defined in the previous task\n",
    "            classification_kwds={'bins': map_class.bins} # This use the classification defined in the previous task\n",
    "           )\n",
    "county.boundary.plot(color='black', linewidth=0.5, linestyle=':', ax=`LOCATION ON THE AXES`)\n",
    "```\n",
    "**3.3.3.** (0.25 point) Set the title of each of the axes with different name. For example, the first plot can be named as 'Population at Year 1980'. "
   ]
  },
  {
   "cell_type": "code",
   "execution_count": null,
   "id": "b164c1c8",
   "metadata": {},
   "outputs": [],
   "source": [
    "# Your code here\n",
    "\n",
    "\n"
   ]
  },
  {
   "cell_type": "markdown",
   "id": "ea84bf42",
   "metadata": {},
   "source": [
    "## 4. Creating a Web Map with GeoPandas and Folium (1 point)\n",
    "\n",
    "Here, you will be making an interactive web map with GeoPandas and Folium by using <a href=https://geopandas.org/en/stable/docs/reference/api/geopandas.GeoDataFrame.explore.html>`gpf.explore()`</a> method. The result web map should look like <a href=./data/webmap_example.html>this</a>. \n",
    "\n",
    "**4.1.** Modify the code provided below, and create a web map based on the information in the GeoDataFrame `county`. \n",
    "```python\n",
    "m = county.explore(column=`STRING NEEDED`,  # You will display the population in 2010. \n",
    "                   cmap=`STRING NEEDED`, # You will use colormap named 'Blues'.\n",
    "                   scheme=`STRING NEEDED`, # You will use `FisherJenks` algorithm for the classification.\n",
    "                   k=7,# This is the number of classes. \n",
    "                   popup=`LIST OF VALUES NEEDED`, # The pop up will show the population from 1980 to 2010. \n",
    "                   tooltip=`STRING NEEDED` # Hovering mouse will display the name of a county. \n",
    "                  )\n",
    "```\n",
    "**4.2.** Save the web map into the data folder as the name of `webmap_YOUR_NET_ID.html`."
   ]
  },
  {
   "cell_type": "code",
   "execution_count": null,
   "id": "9eb3009f",
   "metadata": {},
   "outputs": [],
   "source": [
    "# Your code here\n",
    "\n",
    "\n"
   ]
  },
  {
   "cell_type": "markdown",
   "id": "d1a288cf",
   "metadata": {},
   "source": [
    "### *You have finished Lab 4: Geospatial Data Visualization*\n",
    "Please name your jupyter notebook as `GEOG489_Lab4_[YOUR_NET_ID].ipynb`, and upload it to https://learn.illinois.edu. "
   ]
  }
 ],
 "metadata": {
  "kernelspec": {
   "display_name": "Python 3",
   "language": "python",
   "name": "python3"
  },
  "language_info": {
   "codemirror_mode": {
    "name": "ipython",
    "version": 3
   },
   "file_extension": ".py",
   "mimetype": "text/x-python",
   "name": "python",
   "nbconvert_exporter": "python",
   "pygments_lexer": "ipython3",
   "version": "3.8.12"
  }
 },
 "nbformat": 4,
 "nbformat_minor": 5
}
