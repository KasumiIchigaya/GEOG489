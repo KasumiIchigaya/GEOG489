{
 "cells": [
  {
   "cell_type": "markdown",
   "id": "91de9c8f",
   "metadata": {},
   "source": [
    "# Lab 2: Spatial data manipulation: Vector\n",
    "\n",
    "## Structure\n",
    "### 1. Pandas: DataFrame and Series (1.5 points)\n",
    "**1.1.** (0.25 point) Load `hifld_hospitals.csv` in the `data` folder with `pd.read_csv()` and assign the csv file to `hospitals` variable. <br>\n",
    "**1.2.** (0.25 point) Inspect the dataset and save the number of hospitals (i.e., rows) as `hospital_count`. <br>\n",
    "**1.3.** (0.5 point) Use `.loc` and search hospitals located in the city of Chicago, then save the resulted DataFrame as `chicago_hospitals`. <br>\n",
    "**1.4.** (0.5 point) Use `groupby()` and count the number of hospitals in Chicago per their type. Assign the result as `hospital_count_per_type_chicago`. Keep the default output type, which is Series. \n",
    "\n",
    "### 2. GeoPandas: Calculate the hospital counts per county (3.5 points).  \n",
    "**2.1.** (0.5 point) Convert the `hospitals` DataFrame into a `GeoDataFrame` and name it as `hospitals_gdf`. Use `points_from_xy()` function to place hospitals on the geographical surface based on their `Longitude` (i.e., x coordinates) and `Latitude` (i.e., y coordinates). <br>\n",
    "**2.2.** (0.25 point) Set the CRS (Coordinates Rereference System) of `hospitals_gdf` as WGS84 (epsg: 4326). <br>\n",
    "**2.3.** (0.25 point) Load `illinois_county.json` in the `data` folder with `gpd.read_file()` and assign the json file to `county_geom` variable. <br>\n",
    "**2.4.** (0.5 point) Given the two dataset has different crs, we need to match them into an identical crs using `to_crs()` function. Maintain the names of datasets, `hospitals_gdf` and `county`, but project them to Illinois State Plane East (epsg:3435). <br>\n",
    "**2.5.** (1 point) Create a new column (column name: `hospital_counts`) in the `county_geom` GeoDataFrame and populate the column with the hospital counts per county. You can use either the appraoch of `sjoin()` function or `iterrows()` function. <br>\n",
    "**2.6.** (0.5 point) Which county has the hospitals the most? Use `sort_values()` method to sort the GeoDataFrame by `hospital_counts` and write your answer with `print()` function (i.e., print(the name of county, the number of hospitals). \n",
    "<br>\n",
    "**2.7.** (0.5 point) Create a list `underserved_counties` with the list of counties that do not have any hospital in `county_geom`. \n",
    "\n",
    "## Notes:\n",
    "**Before you submit your lab, make sure everything runs as expected WITHOUT ANY ERROR.** <br>\n",
    "**Make sure you fill in any place that says `YOUR CODE HERE` or `YOUR ANSWER HERE`:**"
   ]
  },
  {
   "cell_type": "code",
   "execution_count": null,
   "id": "c789d49e",
   "metadata": {},
   "outputs": [],
   "source": [
    "FULL_NAME = \"\""
   ]
  },
  {
   "cell_type": "code",
   "execution_count": null,
   "id": "273d749e",
   "metadata": {},
   "outputs": [],
   "source": [
    "# import necessary packages\n",
    "import geopandas as gpd\n",
    "import pandas as pd\n",
    "from shapely.geometry import Point, LineString, Polygon, MultiPoint, MultiLineString, MultiPolygon"
   ]
  },
  {
   "cell_type": "markdown",
   "id": "116691a4",
   "metadata": {},
   "source": [
    "### 1. Pandas: DataFrame and Series (1.5 points)\n",
    "\n",
    "**1.1.** (0.25 point) Load `hifld_hospitals.csv` in the `data` folder with `pd.read_csv()` and assign the csv file to `hospitals` variable. <br>\n",
    "**1.2.** (0.25 point) Inspect the dataset and save the number of hospitals (i.e., rows) as `hospital_count`. <br>\n",
    "**Hint:** the `shape` attribute stores the number of rows and columns as a tuple. "
   ]
  },
  {
   "cell_type": "code",
   "execution_count": null,
   "id": "fa443208",
   "metadata": {},
   "outputs": [],
   "source": [
    "# Your code here\n",
    "\n"
   ]
  },
  {
   "cell_type": "code",
   "execution_count": null,
   "id": "24bfafd8",
   "metadata": {},
   "outputs": [],
   "source": [
    "\"\"\" Test code for the previous code. This cell should NOT give any errors when it is run.\"\"\"\n",
    "\n",
    "assert type(hospitals) == pd.DataFrame\n",
    "assert hospital_count == 212 \n",
    "\n",
    "print('Success!')"
   ]
  },
  {
   "cell_type": "markdown",
   "id": "adf5f2b3",
   "metadata": {},
   "source": [
    "**1.3.** (0.5 point) Use `.loc` and search hospitals located in the city of Chicago, then save the resulted DataFrame as `chicago_hospitals`. <br>\n",
    "\n",
    "**1.4.** (0.5 point) Use `groupby()` and count the number of hospitals in Chicago per their type. Assign the result as `hospital_count_per_type_chicago`. Keep the default output type, which is Series. "
   ]
  },
  {
   "cell_type": "code",
   "execution_count": null,
   "id": "a6c87ff9",
   "metadata": {},
   "outputs": [],
   "source": [
    "# Your code here\n",
    "\n"
   ]
  },
  {
   "cell_type": "code",
   "execution_count": null,
   "id": "582b0f42",
   "metadata": {},
   "outputs": [],
   "source": [
    "\"\"\" Test code for the previous code. This cell should NOT give any errors when it is run.\"\"\"\n",
    "assert type(chicago_hospitals) == pd.DataFrame\n",
    "assert chicago_hospitals.shape == (39, 10)\n",
    "\n",
    "assert type(hospital_count_per_type_chicago) == pd.Series\n",
    "assert hospital_count_per_type_chicago['GENERAL ACUTE CARE'] == 28\n",
    "assert hospital_count_per_type_chicago['CHILDREN'] == 3\n",
    "\n",
    "print('Success!')"
   ]
  },
  {
   "cell_type": "markdown",
   "id": "234293f2",
   "metadata": {},
   "source": [
    "### 2. GeoPandas: Calculate the hospital counts per county (3 points).  \n",
    "\n",
    "**2.1.** (0.5 point) Convert the `hospitals` DataFrame into a `GeoDataFrame` and name it as `hospitals_gdf`. Use `points_from_xy()` function to place hospitals on the geographical surface based on their `Longitude` (i.e., x coordinates) and `Latitude` (i.e., y coordinates). \n",
    "\n",
    "**2.2.** (0.25 point) Set the CRS (Coordinates Rereference System) of `hospitals_gdf` as WGS84 (epsg: 4326). "
   ]
  },
  {
   "cell_type": "code",
   "execution_count": null,
   "id": "a30b3dd3",
   "metadata": {},
   "outputs": [],
   "source": [
    "# Your code here\n",
    "\n"
   ]
  },
  {
   "cell_type": "code",
   "execution_count": null,
   "id": "f99e4f5e",
   "metadata": {},
   "outputs": [],
   "source": [
    "\"\"\" Test code for the previous code. This cell should NOT give any errors when it is run.\"\"\"\n",
    "\n",
    "assert type(hospitals_gdf) == gpd.GeoDataFrame\n",
    "assert type(hospitals_gdf.geometry[0]) == Point\n",
    "\n",
    "assert hospitals_gdf.crs.name == 'WGS 84'"
   ]
  },
  {
   "cell_type": "markdown",
   "id": "7d3d94a0",
   "metadata": {},
   "source": [
    "**2.3.** (0.25 point) Load `illinois_county.json` in the `data` folder with `gpd.read_file()` and assign the json file to `county_geom` variable. <br>\n",
    "\n",
    "**2.4.** (0.5 point) Given the two dataset has different crs, we need to match them into an identical crs using `to_crs()` function. Maintain the names of datasets, `hospitals_gdf` and `county`, but project them to Illinois State Plane East (epsg:3435)."
   ]
  },
  {
   "cell_type": "code",
   "execution_count": null,
   "id": "6422bc3e",
   "metadata": {},
   "outputs": [],
   "source": [
    "# Your code here\n",
    "\n"
   ]
  },
  {
   "cell_type": "markdown",
   "id": "4f8bd373",
   "metadata": {},
   "source": [
    "**2.5.** Create a new column (column name: `hospital_counts`) in the `county_geom` GeoDataFrame and populate the column with the hospital counts per county. You can use either the appraoch of `sjoin()` function or `iterrows()` function. <br>\n",
    "**Note**: If you use the approach of `sjoin()`, be aware that `merge()` function conducts an inner join by default. To keep the geometries of every county, what we want to do here is an outer join with `how` attribute (i.e., `how=outer`). For more detailed information, take a look at <a herf=https://pandas.pydata.org/pandas-docs/stable/reference/api/pandas.DataFrame.merge.html#pandas.DataFrame.merge > here </a>."
   ]
  },
  {
   "cell_type": "code",
   "execution_count": null,
   "id": "73d66bf8",
   "metadata": {},
   "outputs": [],
   "source": [
    "# Your code here\n",
    "\n"
   ]
  },
  {
   "cell_type": "code",
   "execution_count": null,
   "id": "800c406a",
   "metadata": {},
   "outputs": [],
   "source": [
    "\"\"\" Test code for the previous code. This cell should NOT give any errors when it is run.\"\"\"\n",
    "\n",
    "assert county_geom.loc[4, ['County_Name', 'hospital_counts']].to_list() == ['Bond', 1]\n",
    "assert county_geom.loc[22, ['County_Name', 'hospital_counts']].to_list() == ['Cook', 68]\n",
    "assert county_geom.loc[35, ['County_Name', 'hospital_counts']].to_list() == ['Menard', 0]\n",
    "assert county_geom.loc[93, ['County_Name', 'hospital_counts']].to_list() == ['Champaign', 3]"
   ]
  },
  {
   "cell_type": "markdown",
   "id": "9cd629cf",
   "metadata": {},
   "source": [
    "With your `county_geom` GeoDataFrame, which has been spatially joined in previous steps, answer the followings. <br><br>\n",
    "**2.6.** (0.5 point) Which county has the hospitals the most? Use `sort_values()` method to sort the GeoDataFrame by `hospital_counts` and write your answer with `print()` function (i.e., print(the name of county, the number of hospitals). \n",
    "<br><br>\n",
    "**2.7.** (0.5 point) Create a list `underserved_counties` with the list of counties that do not have any hospital in `county_geom`. "
   ]
  },
  {
   "cell_type": "code",
   "execution_count": null,
   "id": "cce72abf",
   "metadata": {},
   "outputs": [],
   "source": [
    "# Your code here\n",
    "\n"
   ]
  },
  {
   "cell_type": "code",
   "execution_count": null,
   "id": "66980761",
   "metadata": {},
   "outputs": [],
   "source": [
    "\"\"\" Test code for the previous code. This cell should NOT give any errors when it is run.\"\"\"\n",
    "\n",
    "assert underserved_counties == ['Brown', 'Pope', 'Cumberland', 'Clark', 'Kendall', 'Gallatin', 'Stark', 'Douglas', 'Scott', 'Menard', 'White', 'Putnam', 'Johnson', 'Moultrie', 'Cass', 'Boone', 'Marshall', 'Jasper', 'Calhoun', 'Pulaski', 'Monroe', 'Alexander', 'Carroll', 'Edwards', 'Henderson']"
   ]
  }
 ],
 "metadata": {
  "kernelspec": {
   "display_name": "Python 3 (ipykernel)",
   "language": "python",
   "name": "python3"
  },
  "language_info": {
   "codemirror_mode": {
    "name": "ipython",
    "version": 3
   },
   "file_extension": ".py",
   "mimetype": "text/x-python",
   "name": "python",
   "nbconvert_exporter": "python",
   "pygments_lexer": "ipython3",
   "version": "3.10.2"
  }
 },
 "nbformat": 4,
 "nbformat_minor": 5
}
