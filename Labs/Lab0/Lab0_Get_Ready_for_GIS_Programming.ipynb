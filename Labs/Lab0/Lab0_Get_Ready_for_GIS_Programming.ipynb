{
 "cells": [
  {
   "cell_type": "markdown",
   "id": "4b3ae461",
   "metadata": {},
   "source": [
    "# Introduction to Jupyter Notebook\n",
    "\n",
    "This is how Jupyter Notebook looks like. You can write and run the code, partially or entirely. It will provide more interactive user interface so that you can get in to Python programming more easily. "
   ]
  },
  {
   "cell_type": "markdown",
   "id": "b49f2e1e",
   "metadata": {},
   "source": [
    "If you can see this Jupyter notebook, it means that now you know how you download data from GitHub. \n",
    "\n",
    "<b>Task 1. Enter variables</b><br>\n",
    "Please enter your name below, then run the cell by clicking `Run` button on the menu or by hitting `Control + Enter` on your keyboard.\n",
    "\n",
    "```python\n",
    "   NAME = \"Jinwoo Park\"\n",
    "```\n",
    "You will see 'This is the first Jupyter Notebook of [YOUR_NAME]' printed. For example, <br><br>\n",
    "\n",
    "`This is the first Jupyter Notebook of Jinwoo Park.`"
   ]
  },
  {
   "cell_type": "code",
   "execution_count": null,
   "id": "0904976b",
   "metadata": {},
   "outputs": [],
   "source": [
    "## Your code here\n",
    "NAME = \"\"\n",
    "print(f'This is the first Jupyter Notebook of {NAME}.')"
   ]
  },
  {
   "cell_type": "markdown",
   "id": "a398b9f0",
   "metadata": {},
   "source": [
    "<b>Task 2. Write your first code. </b><br>\n",
    "Now, let us write the first line of your code. You can simply type\n",
    "   ```python\n",
    "   print('Hello World')\n",
    "   ```\n",
    "   at the cell below. Then, run the cell to see the result. \n",
    "   "
   ]
  },
  {
   "cell_type": "code",
   "execution_count": null,
   "id": "c1bc2752",
   "metadata": {},
   "outputs": [],
   "source": [
    "## Your code here\n"
   ]
  },
  {
   "cell_type": "markdown",
   "id": "ec6dd151",
   "metadata": {},
   "source": [
    "<b>Task 3. Save and export Jupyter notebook</b><br>\n",
    "1. Now, let us save the your code either clicking `Save` button on the menu or hitting `Command + S` for Mac and `Contrl + S` for Windows. <br>\n",
    "2. Then, export your Jupyter notebook by clicking `File` -> `Download as` -> `Notebook(.ipynb)`. \n",
    "3. A dialog will pop up and save the jupyter notebook to your local directory for the submission.\n",
    "   Please name your jupyter notebook as `GEOG489_Lab0_[YOUR_NET_ID].ipynb`. For example, `GEOG489_Lab0_jparkgeo.ipynb`. "
   ]
  }
 ],
 "metadata": {
  "kernelspec": {
   "display_name": "Python 3 (ipykernel)",
   "language": "python",
   "name": "python3"
  },
  "language_info": {
   "codemirror_mode": {
    "name": "ipython",
    "version": 3
   },
   "file_extension": ".py",
   "mimetype": "text/x-python",
   "name": "python",
   "nbconvert_exporter": "python",
   "pygments_lexer": "ipython3",
   "version": "3.9.7"
  }
 },
 "nbformat": 4,
 "nbformat_minor": 5
}
