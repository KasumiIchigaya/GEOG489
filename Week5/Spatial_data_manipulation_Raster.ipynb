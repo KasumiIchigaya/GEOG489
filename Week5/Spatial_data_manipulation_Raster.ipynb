{
 "cells": [
  {
   "cell_type": "code",
   "execution_count": null,
   "id": "7ff71721",
   "metadata": {},
   "outputs": [],
   "source": [
    "%%HTML\n",
    "\n",
    "<style>\n",
    "td {\n",
    "  font-size: 12px\n",
    "}\n",
    "th{\n",
    "  font-size: 12px  \n",
    "}\n",
    "</style>"
   ]
  },
  {
   "cell_type": "markdown",
   "id": "62dccc73",
   "metadata": {},
   "source": [
    "# Spatial Data Manipulation: Raster\n",
    "\n",
    "## Overview\n",
    "\n",
    "### Packages \n",
    "There are various packages supporting raster data manipulation. In our example, we take advantage of `rasterio`, `numpy` and `earthpy`. The following is the introduction of each Python package. \n",
    "\n",
    "* <a href=https://rasterio.readthedocs.io/en/latest/index.html>`rasterio`</a> reads and writes gridded raster datasets such as satellite imagery and terrain models with formats (e.g., GeoTIFF; *.tiff) and provides a Python API based on Numpy N-dimensional arrays and GeoJSON.\n",
    "* <a href=https://numpy.org/>`numpy`</a> provides numerous functionalities for scientific purposes. Among them, we utilize this package to calculate grid datasets once they were imported with `rasterio`, given that grid dataset has rows and columns to represent geographical phenomena. \n",
    "* <a href=https://earthpy.readthedocs.io/en/latest/>`earthpy`</a> is a python package that makes it easier to plot and work with spatial raster and vector data using open source tools. It depends upon `geopandas` which has a focus on vector data and `rasterio` with facilitates input and output of raster data files. It also requires `matplotlib` for plotting operations. \n",
    "\n",
    "### Dataset\n",
    "In this lecture, we use Landsat 8 imagery, which was downloaded from <a href=https://earthexplorer.usgs.gov/>Earth Explorer</a>. The instructor acquired two major datasets, which were taken on ***June 22, 2021 (representing summer)*** and ***January 16, 2022 (representing winter)***. Given the size of the original dataset (~1GB), two datasets were clipped with the boundary of Champaign County and we only use ***4 bands (i.e., Near-infrared (NIR), Red, Green, and Blue)*** out of 11 bands of Landsat 8, which are below.\n",
    "\n",
    "<h3><center>Landsat-8 Operational Land Imager & Thermal Infrared Sensor</center></h3>\n",
    "\n",
    "| Band Number |\tDescription | Wavelength |\tResolution |\n",
    "| :-: | :-: | :-: | :-: |\n",
    "|Band 1\t|Coastal / Aerosol |\t0.433 to 0.453 µm |\t30 meter |\n",
    "| **Band 2**\t| **Visible blue** |\t**0.450 to 0.515 µm** |\t**30 meter**|\n",
    "|**Band 3**\t|**Visible green** |\t**0.525 to 0.600 µm** |\t**30 meter**|\n",
    "|**Band 4**\t|**Visible red** |\t**0.630 to 0.680 µm** |\t**30 meter** |\n",
    "|**Band 5**\t|**Near-infrared** |\t**0.845 to 0.885 µm** |\t**30 meter** |\n",
    "|Band 6\t|Short wavelength infrared |\t1.56 to 1.66 µm |\t30 meter |\n",
    "|Band 7\t|Short wavelength infrared |\t2.10 to 2.30 µm |\t60 meter |\n",
    "|Band 8\t|Panchromatic |\t0.50 to 0.68 µm |\t15 meter |\n",
    "|Band 9\t|Cirrus |\t1.36 to 1.39 µm |\t30 meter |\n",
    "|Band 10 | Long wavelength infrared |\t10.3 to 11.3 µm\t| 100 meter |\n",
    "|Band 11 |\tLong wavelength infrared |\t11.5 to 12.5 µm\t |100 meter |\n",
    "\n",
    "### Tasks\n",
    "1. Examine a single band of Landsat 8 imagery\n",
    "2. Comebine three bands (RGB) to represent TRUE color of the sattelite imagery\n",
    "3. Comebine three bands (NIR, R, G) to represent FALSE color of the sattelite imagery\n",
    "4. Calculate Normalized Difference Vegetation Index (NDVI) with NIR band and R band.\n",
    "5. Classify regions with the NDVI."
   ]
  },
  {
   "cell_type": "code",
   "execution_count": null,
   "id": "ff47ecd1",
   "metadata": {},
   "outputs": [],
   "source": [
    "# Import necessary packages\n",
    "import rasterio as rio\n",
    "import numpy as np\n",
    "import os\n",
    "import matplotlib.pyplot as plt\n",
    "import earthpy.plot as ep"
   ]
  },
  {
   "cell_type": "code",
   "execution_count": null,
   "id": "afdfd157",
   "metadata": {},
   "outputs": [],
   "source": [
    "# Define relative paths for dataset\n",
    "summer_path = './data/landsat8_summer' # Stores Landsat 8 imagery was taken June 22, 2021\n",
    "winter_path = './data/landsat8_winter' # Stores Landsat 8 imagery was taken January 16, 2022"
   ]
  },
  {
   "cell_type": "markdown",
   "id": "fc703735",
   "metadata": {},
   "source": [
    "## 1. Import Raster Dataset with `rasterio`\n",
    "\n",
    "Here, we are importing the Blue band of Landsat 8 summer imagery (LC08_L1TP_023032_20210622_20210629_02_T1_B2.TIF), to see how the raster data is imported and presented in Python. \n",
    "\n",
    "One more thing, `os` module is an embedded module in Python, and it provides a portable way of using operating system dependent functionality. For example, we can easily set the file path and call it later with `os.path.join` function. "
   ]
  },
  {
   "cell_type": "code",
   "execution_count": null,
   "id": "aea7b4e9",
   "metadata": {},
   "outputs": [],
   "source": [
    "print(f'Summer Data path: {summer_path}')\n",
    "\n",
    "# You can append the path to the stirng (summer_path) with os.path.join method\n",
    "file_path = os.path.join(summer_path, f'LC08_L1TP_023032_20210622_20210629_02_T1_B2.TIF')\n",
    "print(f'Joined Path: {file_path}')"
   ]
  },
  {
   "cell_type": "code",
   "execution_count": null,
   "id": "378ae8cd",
   "metadata": {},
   "outputs": [],
   "source": [
    "# Open a dataset for reading or writing with rasterio(rio).\n",
    "# Default permission mode is read(r)\n",
    "b_band_data = rio.open(file_path) \n",
    "print(type(b_band_data))\n",
    "b_band_data"
   ]
  },
  {
   "cell_type": "code",
   "execution_count": null,
   "id": "83ce020b",
   "metadata": {},
   "outputs": [],
   "source": [
    "# You need to use method, read(), to read a dataset’s raw pixels as an numpy N-d array\n",
    "b_band = b_band_data.read(1)\n",
    "print(type(b_band)) # Its type is NumPy ndarray (N-dimensional array)\n",
    "print(b_band.shape) # (M, N): M Rows and N Columns\n",
    "b_band"
   ]
  },
  {
   "cell_type": "markdown",
   "id": "4bb9a5ab",
   "metadata": {},
   "source": [
    "Let's display a single band with plt.imshow() method. "
   ]
  },
  {
   "cell_type": "code",
   "execution_count": null,
   "id": "ce5787f1",
   "metadata": {},
   "outputs": [],
   "source": [
    "plt.figure(figsize = (10,10))  # Set the size of figure\n",
    "plt.imshow(b_band, cmap='Greys_r')  # Display data as an image\n",
    "plt.colorbar() # Create legend \n",
    "plt.show() # Display the map and legend"
   ]
  },
  {
   "cell_type": "code",
   "execution_count": null,
   "id": "1c618feb",
   "metadata": {},
   "outputs": [],
   "source": [
    "# You want to use imshow() method to display an image. The below is to describe an accident if you use plot() method. \n",
    "plt.plot(b_band)\n",
    "plt.show()"
   ]
  },
  {
   "cell_type": "code",
   "execution_count": null,
   "id": "a435c940",
   "metadata": {},
   "outputs": [],
   "source": [
    "# Check the histogram of the imported image\n",
    "plt.hist(b_band.flatten(), bins=50)\n",
    "plt.show()"
   ]
  },
  {
   "cell_type": "markdown",
   "id": "bfa20d45",
   "metadata": {},
   "source": [
    "---\n",
    "### *Exercise*\n",
    "1. Import Blue band of Winter Landsat 8 imagery (filename: `LC08_L1TP_023032_20220116_20220123_02_T1_B2.TIF`) which located in `landsat8_winter` folder, and save it as `b_band_winter`.\n",
    "2. Display the imported image with `plt.imshow()` method. (**Note**: `plt` is `matplotlib` package. We will cover this on Week 6)\n",
    "---"
   ]
  },
  {
   "cell_type": "code",
   "execution_count": null,
   "id": "d9aff14b",
   "metadata": {},
   "outputs": [],
   "source": [
    "# Your code here\n",
    "## Step 1\n",
    "\n",
    "\n",
    "\n",
    "## Step 2\n",
    "\n"
   ]
  },
  {
   "cell_type": "markdown",
   "id": "f2643af5",
   "metadata": {},
   "source": [
    "## 2. Creating a color image\n",
    "\n",
    "In the previous example, we rely on a band, so that it cannot be a color image. To display a color image here, we are importing four bands (i.e., Near-infrared (NIR), Red, Green, and Blue), and storing them into ONE NumPy array.\n",
    "\n",
    "* Blue band: LC08_L1TP_023032_20210622_20210629_02_T1_B2.TIF\n",
    "* Green band: LC08_L1TP_023032_20210622_20210629_02_T1_B3.TIF\n",
    "* Red band: LC08_L1TP_023032_20210622_20210629_02_T1_B4.TIF\n",
    "* NIR band: LC08_L1TP_023032_20210622_20210629_02_T1_B5.TIF"
   ]
  },
  {
   "cell_type": "code",
   "execution_count": null,
   "id": "46fd45bc",
   "metadata": {},
   "outputs": [],
   "source": [
    "l_summer = [] # Empty list for storing Numpy array\n",
    "\n",
    "for i in [2, 3, 4, 5]: # Blue, Green, Red, Near-infrared\n",
    "    temp_path = os.path.join(summer_path, f'LC08_L1TP_023032_20210622_20210629_02_T1_B{i}.TIF') # Image path\n",
    "    temp_band = rio.open(temp_path) # Import image into rasterio package\n",
    "    l_summer.append(temp_band.read(1)) # Convert image to Numpy array and append it to the empty list\n",
    "\n",
    "# What you are seeing, as a result, is a list that has four NumPy arrays. \n",
    "print(l_summer)"
   ]
  },
  {
   "cell_type": "code",
   "execution_count": null,
   "id": "303ac367",
   "metadata": {},
   "outputs": [],
   "source": [
    "# Now we convert the list to 3D array.\n",
    "arr_summer = np.stack(l_summer) # np.stack() stacks the list; convert the list that has four 2D arrays to one 3D array.\n",
    "print(arr_summer.shape)  # Check the shape (Bands, Rows, Columns)\n",
    "print(type(arr_summer))\n",
    "print(arr_summer)"
   ]
  },
  {
   "cell_type": "code",
   "execution_count": null,
   "id": "41600b1b",
   "metadata": {},
   "outputs": [],
   "source": [
    "# Check the sliced numpy is equal to the Blue band\n",
    "np.array_equal(arr_summer[0, :, :], b_band)"
   ]
  },
  {
   "cell_type": "markdown",
   "id": "29e86ab9",
   "metadata": {},
   "source": [
    "Now, let's plot the four bands INDIVIDUALLY to check if they are imported properly. <br>\n",
    "Check <a href=https://earthpy.readthedocs.io/en/latest/api/earthpy.plot.html#earthpy.plot.plot_bands>`ep.plot_bands()`</a> for more information. "
   ]
  },
  {
   "cell_type": "code",
   "execution_count": null,
   "id": "c00f0038",
   "metadata": {},
   "outputs": [],
   "source": [
    "ep.plot_bands(arr_summer, # Numpy array to be displayed.\n",
    "              figsize= (15, 5), # Figure size\n",
    "              title=[\"Blue\", \"Green\", \"Red\", \"NIR\"], # Specify the name of each band (just for reference purpose)\n",
    "              cmap = 'Greys_r', # Define color map for displaying image\n",
    "             cols=4)  # Number of columns when displayed\n",
    "plt.show()"
   ]
  },
  {
   "cell_type": "markdown",
   "id": "101de4f4",
   "metadata": {},
   "source": [
    "You can also check the histogram of each bands with <a href=https://earthpy.readthedocs.io/en/latest/api/earthpy.plot.html#earthpy.plot.hist>`ep.hist()`</a> method. "
   ]
  },
  {
   "cell_type": "code",
   "execution_count": null,
   "id": "36a3d49d",
   "metadata": {},
   "outputs": [],
   "source": [
    "ep.hist(arr_summer, \n",
    "        figsize=(15,5), \n",
    "        colors=[\"Blue\", \"Green\", \"Red\", \"Maroon\"], \n",
    "        title=[\"Blue\", \"Green\", \"Red\", \"NIR\"], \n",
    "        cols=4\n",
    "       )\n",
    "plt.show()"
   ]
  },
  {
   "cell_type": "markdown",
   "id": "35e2ff71",
   "metadata": {},
   "source": [
    "Given that we have more than three bands (we have four bands in `arr_summer`), we now can assign them to RGB, respectively. In the domain of Remote Sensing, there are two well-known appraoches to display the color image. \n",
    "\n",
    "<h3><center> True and False Color representation of Satellite image </center></h3>\n",
    "\n",
    "| Method | Red Color | Green Color | Blue Color | Purpose |\n",
    "| :-: | :-: | :-: | :-: | :-: |\n",
    "| True Color | Red Band | Green Band | Blue Band | True color image |\n",
    "| False Color | NIR Band | Red Band | Green Band | Monitoring Vegitation |\n",
    "\n",
    "![True and False Color representation of Satellite image](./data/True_False_Color.png)\n",
    "\n",
    "Source: Garrard, Chris. (2016). *Geoprocessing with Python*. Manning. p.176"
   ]
  },
  {
   "cell_type": "markdown",
   "id": "206c6152",
   "metadata": {},
   "source": [
    "We take advantage of <a href=https://earthpy.readthedocs.io/en/latest/_modules/earthpy/plot.html#plot_rgb>`ep.plot_rgb()`</a> method to display a color image. "
   ]
  },
  {
   "cell_type": "code",
   "execution_count": null,
   "id": "4fa072c3",
   "metadata": {},
   "outputs": [],
   "source": [
    "# TRUE COLOR: Plot three bands in a numpy array as a composite RGB image.\n",
    "ep.plot_rgb(arr_summer, \n",
    "            rgb=(2,1,0), # Indices of the three bands to be plotted.\n",
    "            str_clip=0.5, # (Optional) The percentage of clip to apply to the stretch.\n",
    "            figsize =(10,10), # The x and y integer dimensions of the output plot.\n",
    "            stretch=True # (Optional) If set to True, a linear stretch will be applied.\n",
    "           )\n",
    "plt.show()"
   ]
  },
  {
   "cell_type": "code",
   "execution_count": null,
   "id": "6f063e29",
   "metadata": {},
   "outputs": [],
   "source": [
    "# If the indices are not properly assigned. \n",
    "ep.plot_rgb(arr_summer,\n",
    "#             rgb=(2,1,0), # Indices of the three bands to be plotted; Default value is (0, 1, 2).\n",
    "            str_clip=0.5, # (Optional) The percentage of clip to apply to the stretch.\n",
    "            figsize =(10,10), # The x and y integer dimensions of the output plot.\n",
    "            stretch=True # (Optional) If set to True, a linear stretch will be applied.\n",
    "           )\n",
    "plt.show()"
   ]
  },
  {
   "cell_type": "code",
   "execution_count": null,
   "id": "e760da95",
   "metadata": {},
   "outputs": [],
   "source": [
    "# FALSE Color: Plot three bands in a numpy array as a composite RGB image.\n",
    "ep.plot_rgb(arr_summer, \n",
    "            rgb=(3,2,1), # NIR band -> Red color, Red band -> Green color, Green band -> Blue color\n",
    "            str_clip=0.5, # The percentage of clip to apply to the stretch.\n",
    "            figsize =(10,10), # The x and y integer dimensions of the output plot.\n",
    "            stretch=True # If set to True, a linear stretch will be applied.\n",
    "           )\n",
    "plt.show()"
   ]
  },
  {
   "cell_type": "markdown",
   "id": "4c578c00",
   "metadata": {},
   "source": [
    "---\n",
    "### *Exercise*\n",
    "1. Import FOUR BANDS of Winter Landsat 8 imagery (filename: `LC08_L1TP_023032_20220116_20220123_02_T1_B{band_num}.TIF`) which located in `landsat8_winter` folder, and save it as `arr_winter`.\n",
    "2. Display TRUE color of the winter imagery with `ep.plot_rgb()` method.\n",
    "3. Display FALSE color of the winter imagery with `ep.plot_rgb()` method.\n",
    "---"
   ]
  },
  {
   "cell_type": "code",
   "execution_count": null,
   "id": "e12b1e13",
   "metadata": {},
   "outputs": [],
   "source": [
    "# Your code here (Task 1)\n",
    "# Compare the False color of winter\n",
    "\n"
   ]
  },
  {
   "cell_type": "code",
   "execution_count": null,
   "id": "6870cf79",
   "metadata": {},
   "outputs": [],
   "source": [
    "# Your code here (Task 2)\n",
    "\n"
   ]
  },
  {
   "cell_type": "code",
   "execution_count": null,
   "id": "cd1d6308",
   "metadata": {},
   "outputs": [],
   "source": [
    "# Your code here (Task 3)\n",
    "\n",
    "\n"
   ]
  },
  {
   "cell_type": "markdown",
   "id": "45de3e9d",
   "metadata": {},
   "source": [
    "## 3. Map Algebra with NumPy\n",
    "\n",
    "Sometimes, it is challenging to quantify the temporal changes of vegetation with bare eyes. To overcome the issue, we often utilize NDVI (Normalized Difference Vegetation Index). The index quantifies vegetation by measuring the difference between near-infrared (which vegetation strongly reflects) and red light (which vegetation absorbs).\n",
    "\n",
    "\\begin{gather*}\n",
    "NDVI = \\frac{NIR - RED}{NIR + RED}\n",
    "\\end{gather*}"
   ]
  },
  {
   "cell_type": "code",
   "execution_count": null,
   "id": "516dc3fc",
   "metadata": {},
   "outputs": [],
   "source": [
    "# Extract Red and NIR band from the stacked array\n",
    "r_band_summer = arr_summer[2] \n",
    "nir_band_summer = arr_summer[3]"
   ]
  },
  {
   "cell_type": "code",
   "execution_count": null,
   "id": "ec95ef63",
   "metadata": {},
   "outputs": [],
   "source": [
    "# To match the histrogram of two images, we normalize each image with the following function. \n",
    "# Normalize bands into 0.0 - 1.0 scale\n",
    "def normalize(array):\n",
    "    '''\n",
    "    normalize: normalize a numpy array so all value are between 0 and 1\n",
    "    '''\n",
    "    array_min, array_max = array.min(), array.max()\n",
    "    return (array - array_min) / (array_max - array_min)\n",
    "\n",
    "print(f\"Red Band Min/Max (BEFORE normalization): {r_band_summer.min()}, {r_band_summer.max()}\")\n",
    "print(f\"NIR Band Min/Max (BEFORE normalization): {nir_band_summer.min()}, {nir_band_summer.max()}\")\n",
    "\n",
    "r_band_norm = normalize(r_band_summer)\n",
    "nir_band_norm = normalize(nir_band_summer)\n",
    "\n",
    "print(f\"Red Band Min/Max (AFTER normalization): {r_band_norm.min()}, {r_band_norm.max()}\")\n",
    "print(f\"NIR Band Min/Max (AFTER normalization): {nir_band_norm.min()}, {nir_band_norm.max()}\")"
   ]
  },
  {
   "cell_type": "markdown",
   "id": "2951ace0",
   "metadata": {},
   "source": [
    "Given that the sizes of two arrays are the same, we can simply do numerical operations as shown below. "
   ]
  },
  {
   "cell_type": "code",
   "execution_count": null,
   "id": "d1aac157",
   "metadata": {},
   "outputs": [],
   "source": [
    "ndvi = (nir_band_norm - r_band_norm) / (nir_band_norm + r_band_norm)\n",
    "ndvi"
   ]
  },
  {
   "cell_type": "code",
   "execution_count": null,
   "id": "d44b22ab",
   "metadata": {},
   "outputs": [],
   "source": [
    "# Plotting NDVI result. \n",
    "plt.figure(figsize=(10, 10)) # (Optional) Define the size of figure\n",
    "plt.imshow(ndvi, cmap='Greys_r') # Display the image\n",
    "plt.colorbar() # (Optinal) # Display the colorbar legend\n",
    "plt.show() "
   ]
  },
  {
   "cell_type": "markdown",
   "id": "7d34850f",
   "metadata": {},
   "source": [
    "## 4. Classify Raster Image based on the NDVI\n",
    "\n",
    "Given that NDVI is an index (ranged -1 ~ +1), it helps us to determine the degree of vegetation of each cell. Here, we use NDVI to classify the image and check the area covered by vegetation. \n",
    "\n",
    "| NDVI Range | Meaning |\n",
    "| :-: | :-: |\n",
    "| ~ 0.1 | Barren rock, sand, or snow |\n",
    "| 0.2 ~ 0.5 | Sparse vegetation (e.g., shrub, grassland) |\n",
    "| 0.6 ~ | Dense vegetation (e.g., forest) |\n",
    "\n",
    "Source: https://www.usgs.gov/special-topics/remote-sensing-phenology/science/ndvi-foundation-remote-sensing-phenology\n",
    "\n",
    "\n",
    "With <a href=https://numpy.org/doc/stable/reference/generated/numpy.digitize.html>`np.digitize()`</a> function, we can classify the image with a given range (e.g., `bins` below)"
   ]
  },
  {
   "cell_type": "code",
   "execution_count": null,
   "id": "bc7c501e",
   "metadata": {},
   "outputs": [],
   "source": [
    "ndvi"
   ]
  },
  {
   "cell_type": "code",
   "execution_count": null,
   "id": "809d7e9e",
   "metadata": {},
   "outputs": [],
   "source": [
    "ndvi = np.nan_to_num(ndvi, nan=-1)\n",
    "ndvi"
   ]
  },
  {
   "cell_type": "code",
   "execution_count": null,
   "id": "5d206ee0",
   "metadata": {
    "scrolled": false
   },
   "outputs": [],
   "source": [
    "# -1 ~ 0.15: Low Vegetation\n",
    "# 0.15 ~ 0.5 : Moderate Vegetation\n",
    "# 0.5 ~ 1: High Vegetation\n",
    "\n",
    "bounds = np.array([-1, 0.15, 0.5, 1])\n",
    "ndvi_class = np.digitize(ndvi, bounds)\n",
    "print(f'Classes in the NDVI image: {np.unique(ndvi_class)}')"
   ]
  },
  {
   "cell_type": "markdown",
   "id": "259d5272",
   "metadata": {},
   "source": [
    "If you plot the result of `np.digitize()` directly, it doesn't mean anything. `np.digitize()` returns the index of the range that the value falls into. "
   ]
  },
  {
   "cell_type": "code",
   "execution_count": null,
   "id": "1a6538c3",
   "metadata": {},
   "outputs": [],
   "source": [
    "plt.figure(figsize=(10, 10)) # (Optional) Define the size of figure\n",
    "plt.imshow(ndvi_class, cmap='Greys_r') # Display the image\n",
    "plt.colorbar() # (Optinal) # Display the colorbar legend\n",
    "plt.show() "
   ]
  },
  {
   "cell_type": "markdown",
   "id": "b290399b",
   "metadata": {},
   "source": [
    "You can specify colors per class with `matplotlib.colors.ListedColormap`. "
   ]
  },
  {
   "cell_type": "code",
   "execution_count": null,
   "id": "fec6f2ab",
   "metadata": {
    "scrolled": false
   },
   "outputs": [],
   "source": [
    "# Define color map\n",
    "from matplotlib.colors import ListedColormap\n",
    "ndvi_colors = [\"grey\", \"yellow\", \"green\"]\n",
    "ndvi_cmap = ListedColormap(ndvi_colors)\n",
    "\n",
    "# Define class names\n",
    "ndvi_names = [\n",
    "    \"Low Vegetation\",\n",
    "    \"Moderate Vegetation\",\n",
    "    \"High Vegetation\",\n",
    "]\n",
    "\n",
    "fig, ax = plt.subplots(figsize=(10, 10))\n",
    "ndvi_ax = ax.imshow(ndvi_class, cmap=ndvi_cmap)\n",
    "ep.draw_legend(im_ax=ndvi_ax, classes=np.unique(ndvi_class), titles=ndvi_names)\n",
    "plt.show()"
   ]
  },
  {
   "cell_type": "markdown",
   "id": "12e4b8cb",
   "metadata": {},
   "source": [
    "---\n",
    "### *Exercise*\n",
    "Bring `arr_winter` array from the previous exercise and calculate NDVI for winter. If you couldn't finish the previous exercise, you can copy and past the following code to acquire the same array.\n",
    "```python\n",
    "l_winter = []\n",
    "for i in [2,3,4,5]: # Blue, Green, Red, Near-infrared\n",
    "    temp_band = rio.open(os.path.join(winter_path, f'LC08_L1TP_023032_20220116_20220123_02_T1_B{i}.TIF'))\n",
    "    l_winter.append(temp_band.read(1))\n",
    "\n",
    "arr_winter = np.stack(l_winter)\n",
    "```\n",
    "\n",
    "1. Create two arrays (`r_band_winter` and `nir_band_winter`) by slicing `arr_winter`. R band and NIR band have indices of 2 and 3 in `arr_winter`, respectively. \n",
    "2. Use the funtion `calculate_NDVI` defined in the cell below to calculate NDVI result of the winter, and save it as `ndvi_winter`. \n",
    "3. Replace `nan` value with -1 by using `np.nan_to_num()` function, and save the result back to `ndvi_winter`.\n",
    "---"
   ]
  },
  {
   "cell_type": "code",
   "execution_count": null,
   "id": "f0a9ff87",
   "metadata": {},
   "outputs": [],
   "source": [
    "l_winter = []\n",
    "for i in [2,3,4,5]: # Blue, Green, Red, Near-infrared\n",
    "    temp_band = rio.open(os.path.join(winter_path, f'LC08_L1TP_023032_20220116_20220123_02_T1_B{i}.TIF'))\n",
    "    l_winter.append(temp_band.read(1))\n",
    "\n",
    "arr_winter = np.stack(l_winter)"
   ]
  },
  {
   "cell_type": "code",
   "execution_count": null,
   "id": "19131256",
   "metadata": {},
   "outputs": [],
   "source": [
    "def calculate_NDVI(r_band, nir_band):\n",
    "    \n",
    "    r_band_ = normalize(r_band)\n",
    "    nir_band_ = normalize(nir_band)\n",
    "    \n",
    "    ndvi_result = (nir_band_ - r_band_) / (nir_band_ + r_band_)\n",
    "    \n",
    "    return ndvi_result"
   ]
  },
  {
   "cell_type": "code",
   "execution_count": null,
   "id": "7471f4b8",
   "metadata": {},
   "outputs": [],
   "source": [
    "# Your code here\n",
    "\n"
   ]
  },
  {
   "cell_type": "markdown",
   "id": "cfe2c593",
   "metadata": {},
   "source": [
    "Check the NDVI result in the cell below. "
   ]
  },
  {
   "cell_type": "code",
   "execution_count": null,
   "id": "6f91cf5c",
   "metadata": {},
   "outputs": [],
   "source": [
    "bounds = np.array([-1, 0.15, 0.5, 1])\n",
    "ndvi_class_winter = np.digitize(ndvi_winter, bounds)\n",
    "print(f'Classes in the NDVI image: {np.unique(ndvi_class_winter)}')"
   ]
  },
  {
   "cell_type": "code",
   "execution_count": null,
   "id": "af0701d6",
   "metadata": {},
   "outputs": [],
   "source": [
    "# Define color map\n",
    "from matplotlib.colors import ListedColormap\n",
    "ndvi_colors_winter = [\"grey\", \"yellow\"]\n",
    "ndvi_cmap_winter = ListedColormap(ndvi_colors_winter)\n",
    "\n",
    "# Plotting both Summer and Winter NDVI results\n",
    "fig, (ax1, ax2) = plt.subplots(nrows=1, ncols=2, figsize=(10, 10))\n",
    "ndvi_ax = ax1.imshow(ndvi_class, cmap=ndvi_cmap)  # Summer NDVI\n",
    "ndvi_ax_winter = ax2.imshow(ndvi_class_winter, cmap=ndvi_cmap_winter) # Winter NDVI\n",
    "ep.draw_legend(im_ax=ndvi_ax, bbox=(0, -0.1), classes=np.unique(ndvi_class), titles=ndvi_names)\n",
    "plt.show()"
   ]
  },
  {
   "cell_type": "markdown",
   "id": "fced591e",
   "metadata": {},
   "source": [
    "Let's calculate the area covered by vegetation and its percentage, for both summer and winter."
   ]
  },
  {
   "cell_type": "code",
   "execution_count": null,
   "id": "78e1dec0",
   "metadata": {},
   "outputs": [],
   "source": [
    "# This will give you the number of columns and rows of the entire area\n",
    "print(arr_summer.shape) # (Bands, Rows, Columns)\n",
    "\n",
    "# By multiplying rows and columns, we can get the total number of grids. \n",
    "total_grid = arr_summer.shape[1] * arr_summer.shape[2]\n",
    "print(total_grid)"
   ]
  },
  {
   "cell_type": "code",
   "execution_count": null,
   "id": "f3ef2734",
   "metadata": {},
   "outputs": [],
   "source": [
    "# The code returns True or False by determining whether each value meets the criteria\n",
    "print(np.unique(ndvi_class))\n",
    "count_vegetation = ndvi_class > 1 # NDVI class is either 2 or 3\n",
    "count_vegetation"
   ]
  },
  {
   "cell_type": "code",
   "execution_count": null,
   "id": "61627e62",
   "metadata": {},
   "outputs": [],
   "source": [
    "# .sum() method only counts the True values, therefore, we can check how many cells satisfy the criteria above.\n",
    "vegetation_summer = count_vegetation.sum() \n",
    "print(f\"The number of cells covered by vegetation: {vegetation_summer}\")\n",
    "print(f\"The percentage covered by vegetation: {round(vegetation_summer/total_grid, 2)}%\")"
   ]
  },
  {
   "cell_type": "code",
   "execution_count": null,
   "id": "b9b33b60",
   "metadata": {},
   "outputs": [],
   "source": [
    "# You can also take advantage of this appraoch to calculate the area covered by vegetation\n",
    "(vegetation_summer * 30 * 30) / (1000 * 1000)"
   ]
  },
  {
   "cell_type": "markdown",
   "id": "dd45673a",
   "metadata": {},
   "source": [
    "## 5. Export Raster\n",
    "\n",
    "We still reply on <a href=https://rasterio.readthedocs.io/en/latest/api/rasterio.html?#rasterio.open>`rasterio.open()`</a> function to write (export) raster file. However, note that we need to specify more attributes compared to when you load data. "
   ]
  },
  {
   "cell_type": "code",
   "execution_count": null,
   "id": "6b29acf7",
   "metadata": {},
   "outputs": [],
   "source": [
    "# This function initiates a writing process. \n",
    "## dtype, crs, transform are obtained from our original Blue band (b_band_data). \n",
    "new_dataset = rio.open('./data/ndvi_summer.tif', # The name of new Tiff file\n",
    "                       mode='w', # ‘r’ (read, the default), ‘r+’ (read/write), ‘w’ (write), or ‘w+’ (write/read)\n",
    "                       driver='GTiff', # Currently, it only supports GeoTiff\n",
    "                       height = ndvi_class.shape[0], # The number of rows of the raster dataset\n",
    "                       width = ndvi_class.shape[1], # The number of columns of the raster dataset\n",
    "                       count=1, # The count of dataset bands\n",
    "                       dtype=b_band_data.dtypes[0], #  The data type for bands\n",
    "                       crs=b_band_data.crs, #  The coordinate reference system\n",
    "                       transform=b_band_data.transform # Affine transformation mapping the pixel space to geographic space\n",
    "                      )\n",
    "\n",
    "ndvi_class=ndvi_class.astype(np.uint16)\n",
    "new_dataset.write(ndvi_class, 1) # This is the function actually write the file. \n",
    "new_dataset.close()"
   ]
  }
 ],
 "metadata": {
  "kernelspec": {
   "display_name": "Python 3 (ipykernel)",
   "language": "python",
   "name": "python3"
  },
  "language_info": {
   "codemirror_mode": {
    "name": "ipython",
    "version": 3
   },
   "file_extension": ".py",
   "mimetype": "text/x-python",
   "name": "python",
   "nbconvert_exporter": "python",
   "pygments_lexer": "ipython3",
   "version": "3.10.2"
  }
 },
 "nbformat": 4,
 "nbformat_minor": 5
}
