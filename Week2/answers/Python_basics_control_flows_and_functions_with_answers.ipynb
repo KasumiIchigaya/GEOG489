{
 "cells": [
  {
   "cell_type": "markdown",
   "id": "2c24b945",
   "metadata": {},
   "source": [
    "# Python Basics: Control Flows, Functions, and Classes\n",
    "\n",
    "This Jupyter notebook covers the basics of Python, particularly, control flows (i.e., for loop, while loop, and if statement), functions, and classes."
   ]
  },
  {
   "cell_type": "markdown",
   "id": "ff5d1947",
   "metadata": {},
   "source": [
    "## Recall our memory\n",
    "\n",
    "- Data types\n",
    "    - String: str()\n",
    "        - 'Hello world'\n",
    "    - Integer: int()\n",
    "        - 1, 2, 3...\n",
    "    - Floating-point number: float()\n",
    "        - 3.141592...\n",
    "    - Boolean: bool() \n",
    "        - True or False\n",
    "    <br><br>\n",
    "- Data container\n",
    "    - List: list()\n",
    "        - [variable1, variable2, variable3...]\n",
    "    - Tuple: tuple()\n",
    "        - (variable1, variable2, variable3...)\n",
    "    - Dictionary: dict()\n",
    "        - {key1: value1, key2: value2, key3: value3 ...}"
   ]
  },
  {
   "cell_type": "markdown",
   "id": "a15e120a",
   "metadata": {},
   "source": [
    "## 1. Control Flows\n",
    "\n",
    "- Loops\n",
    "    - For loop (or for statement)\n",
    "    - While loop (or while statement)\n",
    "\n",
    "- Conditional (i.e., if statement)"
   ]
  },
  {
   "cell_type": "markdown",
   "id": "61c0eb77",
   "metadata": {},
   "source": [
    "### 1.1. For loop\n",
    "\n",
    "Loops are one of the fundamental structures in programming. Loops allow you to iterate over each element in a sequence, one at a time, and do something with those elements.\n",
    "\n",
    "*Loop syntax*: Loops have a very particular syntax in Python; this syntax is one of the most notable features to Python newcomers. The format looks like\n",
    "\n",
    "```python\n",
    "    for *element* in *sequence*:                # NOTE the colon at the end\n",
    "        <some code that uses the *element*>     # the block of code that is looped over for each element\n",
    "        <more code that uses the *element*>     # is indented four spaces (yes four! yes spaces!)\n",
    "    \n",
    "    <the code after the loop continues>         # the end of the loop is marked simply by unindented code\n",
    "```\n",
    "Thus, INDENTATION IS SIGNIFICNAT TO THE CODE. This was done because good coding practice (in almost all languages, C, FORTRAN, MATLAB) typically indents loops, functions, etc. Having indentation be significant saves the end of loop syntax for more compact code.\n",
    "\n",
    "*Some important notes on indentation*  Indentation in python is typically *4 spaces*. Most programming text editors will be smart about indentation, and will also convert TABs to four spaces. Jupyter notebooks are smart about indentation, and will do the right thing, i.e., autoindent a line below a line with a trailing colon, and convert TABs to spaces. If you are in another editor remember: ___TABS AND SPACES DO NOT MIX___. See [PEP-8](https://www.python.org/dev/peps/pep-0008/) for more information on the correct formatting of Python code.\n"
   ]
  },
  {
   "cell_type": "code",
   "execution_count": 4,
   "id": "1045a228",
   "metadata": {},
   "outputs": [
    {
     "name": "stdout",
     "output_type": "stream",
     "text": [
      "sum result from 0 to 0: 0\n",
      "sum result from 0 to 1: 1\n",
      "sum result from 0 to 2: 3\n",
      "sum result from 0 to 3: 6\n",
      "sum result from 0 to 4: 10\n",
      "sum result from 0 to 5: 15\n",
      "sum result from 0 to 6: 21\n",
      "sum result from 0 to 7: 28\n",
      "sum result from 0 to 8: 36\n",
      "sum result from 0 to 9: 45\n",
      "sum result from 0 to 10: 55\n",
      "55\n"
     ]
    }
   ],
   "source": [
    "# A simple example is to find the sum of the sequence 0 through 10,\n",
    "sum_result = 0\n",
    "\n",
    "for n in range(11):\n",
    "    sum_result += n\n",
    "    print(f'sum result from 0 to {n}: {sum_result}')\n",
    "    \n",
    "print(sum_result)"
   ]
  },
  {
   "cell_type": "code",
   "execution_count": 5,
   "id": "6e7b1d63",
   "metadata": {},
   "outputs": [
    {
     "name": "stdout",
     "output_type": "stream",
     "text": [
      "Welcome to the programming class, Patrick!\n",
      "Welcome to the programming class, Chris!\n",
      "Welcome to the programming class, Daniel!\n"
     ]
    }
   ],
   "source": [
    "names = ['Patrick', 'Chris', 'Daniel']\n",
    "for name in names:\n",
    "    print(f'Welcome to the programming class, {name}!')"
   ]
  },
  {
   "cell_type": "code",
   "execution_count": 6,
   "id": "365c1324",
   "metadata": {},
   "outputs": [
    {
     "name": "stdout",
     "output_type": "stream",
     "text": [
      "P\n",
      "a\n",
      "t\n",
      "r\n",
      "i\n",
      "c\n",
      "k\n"
     ]
    }
   ],
   "source": [
    "# This for loop will spit out every alphabet in the string. \n",
    "for s in 'Patrick':\n",
    "    print(s)"
   ]
  },
  {
   "cell_type": "markdown",
   "id": "6220de5f",
   "metadata": {},
   "source": [
    "Sometimes you want to iterate over a sequence but you *also* want the indices of those elements. One way to do that is the `enumerate` function:\n",
    "```python\n",
    "    enumerate(<sequence>)\n",
    "```\n",
    "This returns a sequence of two element tuples, the first element in each tuple is the index, the second the element. It is commonly used in `for` loops, like"
   ]
  },
  {
   "cell_type": "code",
   "execution_count": 7,
   "id": "cdb71641",
   "metadata": {},
   "outputs": [
    {
     "name": "stdout",
     "output_type": "stream",
     "text": [
      "Welcome Patrick, your seat is 0\n",
      "Welcome Chris, your seat is 1\n",
      "Welcome Daniel, your seat is 2\n"
     ]
    }
   ],
   "source": [
    "# If you want to get index and value over a for loop\n",
    "for idx, name in enumerate(names):\n",
    "    print(f'Welcome {name}, your seat is {idx}')"
   ]
  },
  {
   "cell_type": "markdown",
   "id": "3d8ee6b3",
   "metadata": {},
   "source": [
    "---\n",
    "### *Exercise*\n",
    "\n",
    "1. Create a for loop to add every EVEN number from 1 to 100. \n",
    "2. In the meantime, calculate how many loops has interated (Note, try `enumerate()`).\n",
    "\n",
    "---"
   ]
  },
  {
   "cell_type": "code",
   "execution_count": 8,
   "id": "02243d84",
   "metadata": {},
   "outputs": [
    {
     "name": "stdout",
     "output_type": "stream",
     "text": [
      "49 2550\n"
     ]
    }
   ],
   "source": [
    "# Your code here\n",
    "sum_result = 0\n",
    "for idx, n in enumerate(range(2, 102, 2)):\n",
    "    sum_result += n\n",
    "print(idx, sum_result)"
   ]
  },
  {
   "cell_type": "markdown",
   "id": "21d6ca29",
   "metadata": {},
   "source": [
    "### 1.2. While loops\n",
    "\n",
    "The majority of loops that you will write will be `for` loops. These are loops that have a defined number of iterations, over a specified sequence. However, there may be times when it is not clear when the loop should terminate. In this case, you use a `while` loop. This has the syntax\n",
    "\n",
    "```python\n",
    "    while <condition> is True:\n",
    "        <code>\n",
    "```\n",
    "`condition` should be something that can be evaluated when the loop is started, and the variables that determine the conditional should be modified in the loop.\n",
    "\n",
    "This kind of loop should be use carefully — it is relatively easy to accidentally create an infinite loop, where the condition never is triggered to stop so the loop continues forever. This is especially important to avoid given that we are using shared resources in our class and a `while` loop that never ends can cause the computer the crash."
   ]
  },
  {
   "cell_type": "code",
   "execution_count": 9,
   "id": "4f0924c5",
   "metadata": {},
   "outputs": [
    {
     "name": "stdout",
     "output_type": "stream",
     "text": [
      "4\n",
      "3\n",
      "2\n",
      "1\n",
      "0\n"
     ]
    }
   ],
   "source": [
    "n = 5         # starting value\n",
    "while n > 0:\n",
    "    n -= 1    # subtract 1 each loop\n",
    "    print(n)  # look at value of n"
   ]
  },
  {
   "cell_type": "markdown",
   "id": "7db70b86",
   "metadata": {},
   "source": [
    "---\n",
    "### *Exercise*\n",
    "\n",
    "1. Calculate how many sequential integer should be added to exceed 100,000 (i.e., from 1 to ?). \n",
    "\n",
    "---"
   ]
  },
  {
   "cell_type": "code",
   "execution_count": 10,
   "id": "fb0fba60",
   "metadata": {},
   "outputs": [
    {
     "name": "stdout",
     "output_type": "stream",
     "text": [
      "1 1\n",
      "2 3\n",
      "3 6\n",
      "4 10\n",
      "5 15\n",
      "6 21\n",
      "7 28\n",
      "8 36\n",
      "9 45\n",
      "10 55\n",
      "11 66\n",
      "12 78\n",
      "13 91\n",
      "14 105\n",
      "15 120\n",
      "16 136\n",
      "17 153\n",
      "18 171\n",
      "19 190\n",
      "20 210\n",
      "21 231\n",
      "22 253\n",
      "23 276\n",
      "24 300\n",
      "25 325\n",
      "26 351\n",
      "27 378\n",
      "28 406\n",
      "29 435\n",
      "30 465\n",
      "31 496\n",
      "32 528\n",
      "33 561\n",
      "34 595\n",
      "35 630\n",
      "36 666\n",
      "37 703\n",
      "38 741\n",
      "39 780\n",
      "40 820\n",
      "41 861\n",
      "42 903\n",
      "43 946\n",
      "44 990\n",
      "45 1035\n",
      "46 1081\n",
      "47 1128\n",
      "48 1176\n",
      "49 1225\n",
      "50 1275\n",
      "51 1326\n",
      "52 1378\n",
      "53 1431\n",
      "54 1485\n",
      "55 1540\n",
      "56 1596\n",
      "57 1653\n",
      "58 1711\n",
      "59 1770\n",
      "60 1830\n",
      "61 1891\n",
      "62 1953\n",
      "63 2016\n",
      "64 2080\n",
      "65 2145\n",
      "66 2211\n",
      "67 2278\n",
      "68 2346\n",
      "69 2415\n",
      "70 2485\n",
      "71 2556\n",
      "72 2628\n",
      "73 2701\n",
      "74 2775\n",
      "75 2850\n",
      "76 2926\n",
      "77 3003\n",
      "78 3081\n",
      "79 3160\n",
      "80 3240\n",
      "81 3321\n",
      "82 3403\n",
      "83 3486\n",
      "84 3570\n",
      "85 3655\n",
      "86 3741\n",
      "87 3828\n",
      "88 3916\n",
      "89 4005\n",
      "90 4095\n",
      "91 4186\n",
      "92 4278\n",
      "93 4371\n",
      "94 4465\n",
      "95 4560\n",
      "96 4656\n",
      "97 4753\n",
      "98 4851\n",
      "99 4950\n",
      "100 5050\n",
      "101 5151\n",
      "102 5253\n",
      "103 5356\n",
      "104 5460\n",
      "105 5565\n",
      "106 5671\n",
      "107 5778\n",
      "108 5886\n",
      "109 5995\n",
      "110 6105\n",
      "111 6216\n",
      "112 6328\n",
      "113 6441\n",
      "114 6555\n",
      "115 6670\n",
      "116 6786\n",
      "117 6903\n",
      "118 7021\n",
      "119 7140\n",
      "120 7260\n",
      "121 7381\n",
      "122 7503\n",
      "123 7626\n",
      "124 7750\n",
      "125 7875\n",
      "126 8001\n",
      "127 8128\n",
      "128 8256\n",
      "129 8385\n",
      "130 8515\n",
      "131 8646\n",
      "132 8778\n",
      "133 8911\n",
      "134 9045\n",
      "135 9180\n",
      "136 9316\n",
      "137 9453\n",
      "138 9591\n",
      "139 9730\n",
      "140 9870\n",
      "141 10011\n",
      "142 10153\n",
      "143 10296\n",
      "144 10440\n",
      "145 10585\n",
      "146 10731\n",
      "147 10878\n",
      "148 11026\n",
      "149 11175\n",
      "150 11325\n",
      "151 11476\n",
      "152 11628\n",
      "153 11781\n",
      "154 11935\n",
      "155 12090\n",
      "156 12246\n",
      "157 12403\n",
      "158 12561\n",
      "159 12720\n",
      "160 12880\n",
      "161 13041\n",
      "162 13203\n",
      "163 13366\n",
      "164 13530\n",
      "165 13695\n",
      "166 13861\n",
      "167 14028\n",
      "168 14196\n",
      "169 14365\n",
      "170 14535\n",
      "171 14706\n",
      "172 14878\n",
      "173 15051\n",
      "174 15225\n",
      "175 15400\n",
      "176 15576\n",
      "177 15753\n",
      "178 15931\n",
      "179 16110\n",
      "180 16290\n",
      "181 16471\n",
      "182 16653\n",
      "183 16836\n",
      "184 17020\n",
      "185 17205\n",
      "186 17391\n",
      "187 17578\n",
      "188 17766\n",
      "189 17955\n",
      "190 18145\n",
      "191 18336\n",
      "192 18528\n",
      "193 18721\n",
      "194 18915\n",
      "195 19110\n",
      "196 19306\n",
      "197 19503\n",
      "198 19701\n",
      "199 19900\n",
      "200 20100\n",
      "201 20301\n",
      "202 20503\n",
      "203 20706\n",
      "204 20910\n",
      "205 21115\n",
      "206 21321\n",
      "207 21528\n",
      "208 21736\n",
      "209 21945\n",
      "210 22155\n",
      "211 22366\n",
      "212 22578\n",
      "213 22791\n",
      "214 23005\n",
      "215 23220\n",
      "216 23436\n",
      "217 23653\n",
      "218 23871\n",
      "219 24090\n",
      "220 24310\n",
      "221 24531\n",
      "222 24753\n",
      "223 24976\n",
      "224 25200\n",
      "225 25425\n",
      "226 25651\n",
      "227 25878\n",
      "228 26106\n",
      "229 26335\n",
      "230 26565\n",
      "231 26796\n",
      "232 27028\n",
      "233 27261\n",
      "234 27495\n",
      "235 27730\n",
      "236 27966\n",
      "237 28203\n",
      "238 28441\n",
      "239 28680\n",
      "240 28920\n",
      "241 29161\n",
      "242 29403\n",
      "243 29646\n",
      "244 29890\n",
      "245 30135\n",
      "246 30381\n",
      "247 30628\n",
      "248 30876\n",
      "249 31125\n",
      "250 31375\n",
      "251 31626\n",
      "252 31878\n",
      "253 32131\n",
      "254 32385\n",
      "255 32640\n",
      "256 32896\n",
      "257 33153\n",
      "258 33411\n",
      "259 33670\n",
      "260 33930\n",
      "261 34191\n",
      "262 34453\n",
      "263 34716\n",
      "264 34980\n",
      "265 35245\n",
      "266 35511\n",
      "267 35778\n",
      "268 36046\n",
      "269 36315\n",
      "270 36585\n",
      "271 36856\n",
      "272 37128\n",
      "273 37401\n",
      "274 37675\n",
      "275 37950\n",
      "276 38226\n",
      "277 38503\n",
      "278 38781\n",
      "279 39060\n",
      "280 39340\n",
      "281 39621\n",
      "282 39903\n",
      "283 40186\n",
      "284 40470\n",
      "285 40755\n",
      "286 41041\n",
      "287 41328\n",
      "288 41616\n",
      "289 41905\n",
      "290 42195\n",
      "291 42486\n",
      "292 42778\n",
      "293 43071\n",
      "294 43365\n",
      "295 43660\n",
      "296 43956\n",
      "297 44253\n",
      "298 44551\n",
      "299 44850\n",
      "300 45150\n",
      "301 45451\n",
      "302 45753\n",
      "303 46056\n",
      "304 46360\n",
      "305 46665\n",
      "306 46971\n",
      "307 47278\n",
      "308 47586\n",
      "309 47895\n",
      "310 48205\n",
      "311 48516\n",
      "312 48828\n",
      "313 49141\n",
      "314 49455\n",
      "315 49770\n",
      "316 50086\n",
      "317 50403\n",
      "318 50721\n",
      "319 51040\n",
      "320 51360\n",
      "321 51681\n",
      "322 52003\n",
      "323 52326\n",
      "324 52650\n",
      "325 52975\n",
      "326 53301\n",
      "327 53628\n",
      "328 53956\n",
      "329 54285\n",
      "330 54615\n",
      "331 54946\n",
      "332 55278\n",
      "333 55611\n",
      "334 55945\n",
      "335 56280\n",
      "336 56616\n",
      "337 56953\n",
      "338 57291\n",
      "339 57630\n",
      "340 57970\n",
      "341 58311\n",
      "342 58653\n",
      "343 58996\n",
      "344 59340\n",
      "345 59685\n",
      "346 60031\n",
      "347 60378\n",
      "348 60726\n",
      "349 61075\n",
      "350 61425\n",
      "351 61776\n",
      "352 62128\n",
      "353 62481\n",
      "354 62835\n",
      "355 63190\n",
      "356 63546\n",
      "357 63903\n",
      "358 64261\n",
      "359 64620\n",
      "360 64980\n",
      "361 65341\n",
      "362 65703\n",
      "363 66066\n",
      "364 66430\n",
      "365 66795\n",
      "366 67161\n",
      "367 67528\n",
      "368 67896\n",
      "369 68265\n",
      "370 68635\n",
      "371 69006\n",
      "372 69378\n",
      "373 69751\n",
      "374 70125\n",
      "375 70500\n",
      "376 70876\n",
      "377 71253\n",
      "378 71631\n",
      "379 72010\n",
      "380 72390\n",
      "381 72771\n",
      "382 73153\n",
      "383 73536\n",
      "384 73920\n",
      "385 74305\n",
      "386 74691\n",
      "387 75078\n",
      "388 75466\n",
      "389 75855\n",
      "390 76245\n",
      "391 76636\n",
      "392 77028\n",
      "393 77421\n",
      "394 77815\n",
      "395 78210\n",
      "396 78606\n",
      "397 79003\n",
      "398 79401\n",
      "399 79800\n",
      "400 80200\n",
      "401 80601\n",
      "402 81003\n",
      "403 81406\n",
      "404 81810\n",
      "405 82215\n",
      "406 82621\n",
      "407 83028\n",
      "408 83436\n",
      "409 83845\n",
      "410 84255\n",
      "411 84666\n",
      "412 85078\n",
      "413 85491\n",
      "414 85905\n",
      "415 86320\n",
      "416 86736\n",
      "417 87153\n",
      "418 87571\n",
      "419 87990\n",
      "420 88410\n",
      "421 88831\n",
      "422 89253\n",
      "423 89676\n",
      "424 90100\n",
      "425 90525\n",
      "426 90951\n",
      "427 91378\n",
      "428 91806\n",
      "429 92235\n",
      "430 92665\n",
      "431 93096\n",
      "432 93528\n",
      "433 93961\n",
      "434 94395\n",
      "435 94830\n",
      "436 95266\n",
      "437 95703\n",
      "438 96141\n",
      "439 96580\n",
      "440 97020\n",
      "441 97461\n",
      "442 97903\n",
      "443 98346\n",
      "444 98790\n",
      "445 99235\n",
      "446 99681\n",
      "447 100128\n"
     ]
    }
   ],
   "source": [
    "# Your code here\n",
    "sum_result = 0\n",
    "i = 0\n",
    "while sum_result < 100000:\n",
    "    i += 1\n",
    "    sum_result += i\n",
    "    print(i, sum_result)"
   ]
  },
  {
   "cell_type": "markdown",
   "id": "9c4d2973",
   "metadata": {},
   "source": [
    "### 1.3. If statement\n",
    "Conditionals have a similar syntax to `for` statements. Generally, conditionals look like\n",
    "```python\n",
    "    if <test>:\n",
    "        <Code run if...>\n",
    "        <...test is valid>\n",
    "```\n",
    "or\n",
    "```python\n",
    "    if <first test>:\n",
    "        <Code run if...>\n",
    "        <...the first test is valid>\n",
    "    elif <second test>:\n",
    "        <Code run if...>\n",
    "        <...the second test is valid>\n",
    "    else:\n",
    "        <Code run if...>\n",
    "        <...neither test is valid>\n",
    "```\n",
    "\n",
    "In both cases the test statements are code segments that return a boolean value, often a test for equality or inequality. The `elif` and `else` statements are always optional; both, either, or none can be included."
   ]
  },
  {
   "cell_type": "code",
   "execution_count": 11,
   "id": "6b459b9e",
   "metadata": {},
   "outputs": [
    {
     "name": "stdout",
     "output_type": "stream",
     "text": [
      "x is more than 20\n"
     ]
    }
   ],
   "source": [
    "x = 25\n",
    "    \n",
    "if x < 20: \n",
    "    print('x is less than 20')\n",
    "elif x == 20:\n",
    "    print('x is equal to 20')\n",
    "else:\n",
    "    print('x is more than 20')\n"
   ]
  },
  {
   "cell_type": "code",
   "execution_count": 12,
   "id": "2353e704",
   "metadata": {
    "scrolled": true
   },
   "outputs": [
    {
     "name": "stdout",
     "output_type": "stream",
     "text": [
      "Character in the loop is I\n",
      "Character in the loop is  \n",
      "Character in the loop is w\n",
      "Character in the loop is o\n",
      "Character in the loop is u\n",
      "Character in the loop is l\n",
      "Character in the loop is d\n",
      "Character in the loop is  \n",
      "Character in the loop is l\n",
      "Character in the loop is i\n",
      "Character in the loop is k\n",
      "Character in the loop is e\n",
      "Character in the loop is  \n",
      "Character in the loop is t\n",
      "Character in the loop is o\n",
      "Character in the loop is  \n",
      "Character in the loop is s\n",
      "Character in the loop is o\n",
      "Character in the loop is r\n",
      "Character in the loop is t\n",
      "Character in the loop is  \n",
      "Character in the loop is t\n",
      "Character in the loop is h\n",
      "Character in the loop is i\n",
      "Character in the loop is s\n",
      "Character in the loop is  \n",
      "Character in the loop is s\n",
      "Character in the loop is e\n",
      "Character in the loop is n\n",
      "Character in the loop is t\n",
      "Character in the loop is e\n",
      "Character in the loop is n\n",
      "Character in the loop is c\n",
      "Character in the loop is e\n",
      "Character in the loop is  \n",
      "Character in the loop is i\n",
      "Character in the loop is n\n",
      "Character in the loop is t\n",
      "Character in the loop is o\n",
      "Character in the loop is  \n",
      "Character in the loop is v\n",
      "Character in the loop is o\n",
      "Character in the loop is w\n",
      "Character in the loop is e\n",
      "Character in the loop is l\n",
      "Character in the loop is s\n",
      "Character in the loop is ,\n",
      "Character in the loop is  \n",
      "Character in the loop is c\n",
      "Character in the loop is o\n",
      "Character in the loop is n\n",
      "Character in the loop is s\n",
      "Character in the loop is o\n",
      "Character in the loop is n\n",
      "Character in the loop is a\n",
      "Character in the loop is n\n",
      "Character in the loop is t\n",
      "Character in the loop is s\n",
      "Character in the loop is ,\n",
      "Character in the loop is  \n",
      "Character in the loop is a\n",
      "Character in the loop is n\n",
      "Character in the loop is d\n",
      "Character in the loop is  \n",
      "Character in the loop is s\n",
      "Character in the loop is p\n",
      "Character in the loop is e\n",
      "Character in the loop is c\n",
      "Character in the loop is i\n",
      "Character in the loop is a\n",
      "Character in the loop is l\n",
      "Character in the loop is  \n",
      "Character in the loop is c\n",
      "Character in the loop is h\n",
      "Character in the loop is a\n",
      "Character in the loop is r\n",
      "Character in the loop is a\n",
      "Character in the loop is c\n",
      "Character in the loop is t\n",
      "Character in the loop is e\n",
      "Character in the loop is r\n",
      "Character in the loop is s\n",
      "Character in the loop is !\n",
      "Character in the loop is @\n",
      "Character in the loop is #\n",
      "Character in the loop is $\n",
      "{'o', 'i', 'a', 'e', 'u'}\n",
      "{'h', 'k', 'c', 's', 'p', 'v', 't', 'n', 'l', 'r', 'w', 'd'}\n",
      "{'@', '#', '$', '!', ','}\n"
     ]
    }
   ],
   "source": [
    "# Example of nested if statements\n",
    "# 'string'.isalpha() will determine whether the string is alphabet.\n",
    "sentence = 'I would like to sort this sentence into vowels, consonants, and special characters!@#$'\n",
    "\n",
    "consonants = []  # list for consonants\n",
    "vowels = []      # list for vowels\n",
    "extra = []       # list for special characters \n",
    "\n",
    "for char in sentence:\n",
    "    print(f'Character in the loop is {char}')\n",
    "    if char.isalpha():\n",
    "        if char.lower() in ['a', 'e', 'i', 'o', 'u']:\n",
    "            consonants.append(char.lower())\n",
    "        else:\n",
    "            vowels.append(char.lower())\n",
    "            \n",
    "    else:\n",
    "        if char == ' ':\n",
    "            pass\n",
    "        else:\n",
    "            extra.append(char.lower())\n",
    "\n",
    "print(set(consonants))\n",
    "print(set(vowels))\n",
    "print(set(extra))"
   ]
  },
  {
   "cell_type": "markdown",
   "id": "1d2639a8",
   "metadata": {},
   "source": [
    "---\n",
    "### *Exercise*\n",
    "\n",
    "1. Find the lowest number that can be divided into 2, 3, 5, and 7 without any remainder (Not 0). <br>\n",
    "Hint: three digits\n",
    "2. Create three lists (`list_2`, `list_3`, `list_extra`). Within the range from 1 to 10, two lists (`list_2` and `list_3`) contain the numbers can be divided by 2 and 3 without remainder, respectively. The other list (`list_extra`) has the numbers that CANNOT be divided by 2 and 3 without remainder. \n",
    "\n",
    "---"
   ]
  },
  {
   "cell_type": "code",
   "execution_count": 13,
   "id": "8d2a40e5",
   "metadata": {},
   "outputs": [
    {
     "name": "stdout",
     "output_type": "stream",
     "text": [
      "0\n",
      "210\n",
      "420\n",
      "630\n",
      "840\n"
     ]
    }
   ],
   "source": [
    "# Your code here\n",
    "for i in range(1000):\n",
    "    if (i % 2 == 0) and (i % 3 == 0) and (i % 5 == 0) and (i % 7 == 0):\n",
    "        print(i)\n"
   ]
  },
  {
   "cell_type": "code",
   "execution_count": 14,
   "id": "b0e204c8",
   "metadata": {},
   "outputs": [
    {
     "name": "stdout",
     "output_type": "stream",
     "text": [
      "[2, 4, 6, 8]\n",
      "[3, 6, 9]\n",
      "[1, 5, 7]\n"
     ]
    }
   ],
   "source": [
    "# Your code here\n",
    "list_2 = []\n",
    "list_3 = []\n",
    "list_extra = []\n",
    "\n",
    "for i in range(1, 10):\n",
    "    if (i % 2 == 0) & (i % 3 != 0) :\n",
    "        list_2.append(i)\n",
    "    elif (i % 2 != 0) & (i % 3 == 0):\n",
    "        list_3.append(i)\n",
    "    elif (i % 2 == 0) & (i % 3 == 0):\n",
    "        list_2.append(i)\n",
    "        list_3.append(i)\n",
    "    else:\n",
    "        list_extra.append(i)\n",
    "        \n",
    "print(list_2)\n",
    "print(list_3)\n",
    "print(list_extra)"
   ]
  },
  {
   "cell_type": "code",
   "execution_count": 15,
   "id": "db788682",
   "metadata": {},
   "outputs": [
    {
     "name": "stdout",
     "output_type": "stream",
     "text": [
      "Success!\n"
     ]
    }
   ],
   "source": [
    "\"\"\" Test code for the previous function. \n",
    "This cell should NOT give any errors when it is run.\"\"\"\n",
    "\n",
    "# Check your result here. \n",
    "assert list_2 == [2, 4, 6, 8]\n",
    "assert list_3 == [3, 6, 9]\n",
    "assert list_extra == [1, 5, 7]\n",
    "\n",
    "print(\"Success!\")"
   ]
  },
  {
   "cell_type": "markdown",
   "id": "70665d0f",
   "metadata": {},
   "source": [
    "### 1.4. Other control flows: Break, Pass, Continue"
   ]
  },
  {
   "cell_type": "code",
   "execution_count": 16,
   "id": "09259a6d",
   "metadata": {},
   "outputs": [
    {
     "name": "stdout",
     "output_type": "stream",
     "text": [
      "Number is 0\n",
      "Number is 1\n",
      "Number is 2\n",
      "Number is 3\n",
      "Number is 4\n",
      "Number is 5\n",
      "Number is 6\n",
      "Number is 7\n",
      "Number is 8\n",
      "Number is 9\n",
      "Out of loop\n"
     ]
    }
   ],
   "source": [
    "# Example of break\n",
    "number = 0\n",
    "\n",
    "for number in range(10):\n",
    "#     if number > 5:\n",
    "#         break    # break here\n",
    "\n",
    "    print('Number is ' + str(number))\n",
    "\n",
    "print('Out of loop')"
   ]
  },
  {
   "cell_type": "code",
   "execution_count": 17,
   "id": "5cb76cd7",
   "metadata": {},
   "outputs": [
    {
     "name": "stdout",
     "output_type": "stream",
     "text": [
      "Number is 0\n",
      "Number is 1\n",
      "Number is 2\n",
      "Number is 3\n",
      "Number is 4\n",
      "Number is 6\n",
      "Number is 7\n",
      "Number is 8\n",
      "Number is 9\n",
      "Out of loop\n"
     ]
    }
   ],
   "source": [
    "# Example of continue\n",
    "number = 0\n",
    "\n",
    "for number in range(10):\n",
    "    if number == 5:\n",
    "        continue    # continue here\n",
    "\n",
    "    print('Number is ' + str(number))\n",
    "\n",
    "print('Out of loop')"
   ]
  },
  {
   "cell_type": "code",
   "execution_count": 18,
   "id": "413b5682",
   "metadata": {},
   "outputs": [
    {
     "name": "stdout",
     "output_type": "stream",
     "text": [
      "Number is 0\n",
      "Number is 1\n",
      "Number is 2\n",
      "Number is 3\n",
      "Number is 4\n",
      "Number is 5\n",
      "Number is 6\n",
      "Number is 7\n",
      "Number is 8\n",
      "Number is 9\n",
      "Out of loop\n"
     ]
    }
   ],
   "source": [
    "# Example of pass\n",
    "number = 0\n",
    "\n",
    "for number in range(10):\n",
    "    if number == 5:\n",
    "        pass    # pass here\n",
    "\n",
    "    print('Number is ' + str(number))\n",
    "\n",
    "print('Out of loop')"
   ]
  },
  {
   "cell_type": "markdown",
   "id": "c0a88d00",
   "metadata": {},
   "source": [
    "### 1.5. List comprehension\n",
    "\n",
    "There is a short way to make a list from a simple rule by using list comprehensions. The syntax is like\n",
    "```python\n",
    "    [<element(item)> for item in sequence]\n",
    "    [<element(item)> for item in sequence if <condition>]\n",
    "    [<element(item)> if <condition> else <action> for item in sequence]\n",
    "    \n",
    "```"
   ]
  },
  {
   "cell_type": "code",
   "execution_count": 19,
   "id": "11744e9d",
   "metadata": {},
   "outputs": [
    {
     "name": "stdout",
     "output_type": "stream",
     "text": [
      "[1, 2, 3, 4, 5, 6, 7, 8, 9, 10, 11, 12, 13, 14, 15, 16, 17, 18, 19, 20]\n"
     ]
    }
   ],
   "source": [
    "list_a = list(range(1, 21))\n",
    "print(list_a)"
   ]
  },
  {
   "cell_type": "code",
   "execution_count": 20,
   "id": "2a423d76",
   "metadata": {},
   "outputs": [
    {
     "name": "stdout",
     "output_type": "stream",
     "text": [
      "[1, 4, 9, 16, 25, 36, 49, 64, 81]\n",
      "[1, 4, 9, 16, 25, 36, 49, 64, 81]\n"
     ]
    }
   ],
   "source": [
    "# This for loop can be simplifed as a one line as follows. \n",
    "list_b = [] # Verbose version\n",
    "for x in list_a:\n",
    "    \n",
    "    if x < 10:\n",
    "        list_b.append(x**2)\n",
    "print(list_b)\n",
    "\n",
    "print([x**2 for x in list_a if x < 10]) # Simple vesion"
   ]
  },
  {
   "cell_type": "code",
   "execution_count": 21,
   "id": "6df9ddb3",
   "metadata": {},
   "outputs": [
    {
     "name": "stdout",
     "output_type": "stream",
     "text": [
      "[1, 4, 9, 16, 25, 36, 49, 64, 81, 10, 11, 12, 13, 14, 15, 16, 17, 18, 19, 20]\n"
     ]
    },
    {
     "data": {
      "text/plain": [
       "[1, 4, 9, 16, 25, 36, 49, 64, 81, 10, 11, 12, 13, 14, 15, 16, 17, 18, 19, 20]"
      ]
     },
     "execution_count": 21,
     "metadata": {},
     "output_type": "execute_result"
    }
   ],
   "source": [
    "# This for loop can be simplifed as a one line as follows. \n",
    "list_c = [] # Verbose version\n",
    "for x in list_a:\n",
    "    \n",
    "    if x < 10:\n",
    "        list_c.append(x**2)\n",
    "    else:\n",
    "        list_c.append(x)\n",
    "        \n",
    "print(list_c)\n",
    "\n",
    "[x**2 if x < 10 else x for x in list_a] # Simple version"
   ]
  },
  {
   "cell_type": "markdown",
   "id": "f68949c4",
   "metadata": {},
   "source": [
    "---\n",
    "### *Exercise*\n",
    "From a random list\n",
    "```python\n",
    "    random_list = [1, 2, 'three', 4.0, ['five',]]\n",
    "```\n",
    "\n",
    "1. Modify the previous list comprehension to test if the elements are integers. <br>\n",
    "   Save the result as `result1`.\n",
    "```python\n",
    "    # Verbose version\n",
    "    return_list = []\n",
    "    for x in random_list:\n",
    "        if type(x) is int:\n",
    "            return_list.append(True)\n",
    "        else:\n",
    "            return_list.append(False)\n",
    "        \n",
    "    print(return_list)\n",
    "```\n",
    "2. Create a list that only returns integer. <br>\n",
    "   Save the result as `result2`.\n",
    "```python\n",
    "    # Verbose version\n",
    "    return_list = []\n",
    "    for x in random_list:\n",
    "        if type(x) is int:\n",
    "            return_list.append(x)\n",
    "        else:\n",
    "            continue # or pass\n",
    "\n",
    "    print(return_list)\n",
    "```\n",
    "---"
   ]
  },
  {
   "cell_type": "code",
   "execution_count": 22,
   "id": "def0288e",
   "metadata": {},
   "outputs": [],
   "source": [
    "# Your code here\n",
    "random_list = [1, 2, 'three', 4.0, ['five',]]\n",
    "\n",
    "# Answer 1\n",
    "result1 = [True if type(x) is int else False for x in random_list]\n",
    "\n",
    "# Answer 2\n",
    "result2 = [x for x in random_list if type(x) is int]"
   ]
  },
  {
   "cell_type": "code",
   "execution_count": 23,
   "id": "fda622c1",
   "metadata": {},
   "outputs": [
    {
     "name": "stdout",
     "output_type": "stream",
     "text": [
      "Success!\n"
     ]
    }
   ],
   "source": [
    "\"\"\" Test code for the previous function. \n",
    "This cell should NOT give any errors when it is run.\"\"\"\n",
    "\n",
    "# Check your result here. \n",
    "assert result1 == [True, True, False, False, False]\n",
    "assert result2 == [1, 2]\n",
    "\n",
    "print(\"Success!\")"
   ]
  },
  {
   "cell_type": "markdown",
   "id": "fab2ac8e",
   "metadata": {},
   "source": [
    "# 2. Functions\n",
    "\n",
    "Functions are ways to create reusable blocks of code that can be run with different variable values – the input variables to the function. Functions are defined using the syntax\n",
    "\n",
    "```python\n",
    "    def <function name> (var1, var2, ...):\n",
    "        <block of code...>\n",
    "        <...defining the function>\n",
    "        return <return variable(s)>\n",
    "```\n",
    "Functions can be defined at any point in the code, and called at any subsequent point."
   ]
  },
  {
   "cell_type": "code",
   "execution_count": 24,
   "id": "a0c7443c",
   "metadata": {},
   "outputs": [
    {
     "data": {
      "text/plain": [
       "8"
      ]
     },
     "execution_count": 24,
     "metadata": {},
     "output_type": "execute_result"
    }
   ],
   "source": [
    "def addfive(x):\n",
    "    '''Return the argument plus five\n",
    "    \n",
    "    Input : x\n",
    "            A number\n",
    "    \n",
    "    Output: foo\n",
    "            The number x plus five\n",
    "    \n",
    "    '''\n",
    "    return x+5\n",
    "\n",
    "addfive(3)"
   ]
  },
  {
   "cell_type": "code",
   "execution_count": 25,
   "id": "8124ef4c",
   "metadata": {},
   "outputs": [
    {
     "data": {
      "text/plain": [
       "(31.41592, 78.5398)"
      ]
     },
     "execution_count": 25,
     "metadata": {},
     "output_type": "execute_result"
    }
   ],
   "source": [
    "def calculate_circle(r):\n",
    "    '''Return the perimeter and area of a circle with the argument\n",
    "    \n",
    "    Input : r\n",
    "            A number\n",
    "    \n",
    "    Output: (C, A)\n",
    "            C: perimeter of a circle with radius r\n",
    "            A: area of a circle with radius r\n",
    "    \n",
    "    '''\n",
    "    pi = 3.141592\n",
    "    C = 2 * pi * r\n",
    "    A = pi * r ** 2\n",
    "    \n",
    "    return C, A\n",
    "\n",
    "calculate_circle(5)"
   ]
  },
  {
   "cell_type": "code",
   "execution_count": 26,
   "id": "72a3fa5d",
   "metadata": {},
   "outputs": [
    {
     "name": "stdout",
     "output_type": "stream",
     "text": [
      "120\n",
      "------\n",
      "5! = 120\n",
      "------\n",
      "5! = 120\n"
     ]
    },
    {
     "data": {
      "text/plain": [
       "120"
      ]
     },
     "execution_count": 26,
     "metadata": {},
     "output_type": "execute_result"
    }
   ],
   "source": [
    "def factorial(n, print_it=False):\n",
    "    answer = 1\n",
    "    for i in range(1, n +1):\n",
    "        answer = answer * i\n",
    "        \n",
    "    if print_it:\n",
    "        print(f'{n}! = {answer}')\n",
    "        \n",
    "    return answer\n",
    "\n",
    "print(factorial(5))\n",
    "print('------')\n",
    "factorial(5, True)\n",
    "print('------')\n",
    "factorial(5, print_it=True)"
   ]
  },
  {
   "cell_type": "markdown",
   "id": "a2402c43",
   "metadata": {},
   "source": [
    "<b>Docstrings</b>\n",
    "\n",
    "You can add 'help' text to functions (and classes) by adding a 'docstring', which is just a regular string, right below the definition of the function. This should be considered a mandatory step in your code writing."
   ]
  },
  {
   "cell_type": "code",
   "execution_count": 27,
   "id": "d637e5ec",
   "metadata": {},
   "outputs": [],
   "source": [
    "addfive?"
   ]
  },
  {
   "cell_type": "code",
   "execution_count": 28,
   "id": "78b9ef9c",
   "metadata": {},
   "outputs": [],
   "source": [
    "calculate_circle?"
   ]
  },
  {
   "cell_type": "code",
   "execution_count": 29,
   "id": "fc88a249",
   "metadata": {},
   "outputs": [],
   "source": [
    "factorial?"
   ]
  },
  {
   "cell_type": "markdown",
   "id": "e06f31a0",
   "metadata": {},
   "source": [
    "---\n",
    "### *Exercise*\n",
    "\n",
    "1. Write a function that takes in a list of numbers and returns two lists of numbers: the odd numbers in the list and the even numbers in the list. That is, if your function is called `odds_evens()`, it should work as follows: <br>\n",
    "\n",
    "```python\n",
    "    odds, evens = odds_evens([1,5,2,8,3,4])\n",
    "    print(odds, evens)\n",
    "    ([1, 5, 3], [2, 8, 4])\n",
    "```\n",
    "    \n",
    "Note that `x % y` gives the remainder of `x/y`.\n",
    "\n",
    "2. Modify the function that it can filter strings. <b>If the input has strings, the results should not include them, but the function should NOT have any error.</b>\n",
    "---"
   ]
  },
  {
   "cell_type": "code",
   "execution_count": 30,
   "id": "a28993d7",
   "metadata": {},
   "outputs": [
    {
     "data": {
      "text/plain": [
       "([1, 5, 3], [2, 8, 4])"
      ]
     },
     "execution_count": 30,
     "metadata": {},
     "output_type": "execute_result"
    }
   ],
   "source": [
    "# Your code here\n",
    "def odds_evens(temp_list):\n",
    "    odds = []\n",
    "    evens = []\n",
    "    \n",
    "    for val in temp_list:\n",
    "        if val % 2 == 1:\n",
    "            odds.append(val)\n",
    "        else:\n",
    "            evens.append(val)\n",
    "        \n",
    "    return odds, evens\n",
    "\n",
    "odds_evens([1,5,2,8,3,4])"
   ]
  },
  {
   "cell_type": "code",
   "execution_count": 31,
   "id": "65d54102",
   "metadata": {},
   "outputs": [
    {
     "data": {
      "text/plain": [
       "([1, 5, 3], [2, 8, 4])"
      ]
     },
     "execution_count": 31,
     "metadata": {},
     "output_type": "execute_result"
    }
   ],
   "source": [
    "def odds_evens(temp_list):\n",
    "    odds = []\n",
    "    evens = []\n",
    "       \n",
    "    for val in temp_list:\n",
    "        if type(val) != int and type(val) != float:\n",
    "            continue\n",
    "        else:\n",
    "            if val % 2 == 1:\n",
    "                odds.append(val)\n",
    "            else:\n",
    "                evens.append(val)\n",
    "\n",
    "    return odds, evens\n",
    "\n",
    "odds_evens(['string', 1,5,2,8,3,4])"
   ]
  },
  {
   "cell_type": "markdown",
   "id": "66e72e94",
   "metadata": {},
   "source": [
    "## 3. Classes\n",
    "\n",
    "*We won't cover classes in this class, but these notes are here for your reference in case you are interested.*\n",
    "\n",
    "Classes are used to define generic objects. The 'instances' of the class are supplied with specific data. Classes define a data structure, 'methods' to work with this data, and 'attributes' that define the data.\n",
    "\n",
    "###### The computer science way to think of classes\n",
    "\n",
    "Think of the class as a sentence. The nouns would be the classes, the associated verbs class methods, and associated adjectives class attributes. For example take the sentence\n",
    "\n",
    "> The white car signals and makes a left turn.\n",
    "\n",
    "In this case the object is a `car`, a generic kind of vehicle. We see in the sentence that we have a particular instance of a `car`, a *white* `car`. Obviously, there can be many instances of the class `car`. White is a defining or distinguishing 'attribute' of the car. There are two 'methods' noted: signaling and turning. We might write the code for a `car` object like this:\n",
    "\n",
    "```python\n",
    "    class Car(object):\n",
    "        \n",
    "        def __init__(self, color):\n",
    "            self.color = color\n",
    "\n",
    "        def signal(self, direction):\n",
    "            <signalling code>\n",
    "\n",
    "        def turn(self, direction):\n",
    "            <turning code>\n",
    "```\n",
    " \n"
   ]
  },
  {
   "cell_type": "code",
   "execution_count": 32,
   "id": "deae955b",
   "metadata": {},
   "outputs": [],
   "source": [
    "class Car(object):\n",
    "\n",
    "    def __init__(self, color, maker, model):\n",
    "        self.color = color\n",
    "        self.maker = maker\n",
    "        self.model = model\n",
    "\n",
    "    def signal(self, direction):\n",
    "        print(f'My {self.model} is blinking {direction} turn signal.')\n",
    "\n",
    "    def turn(self, direction):\n",
    "        print(f'My {self.model} is turing {direction}.')\n"
   ]
  },
  {
   "cell_type": "code",
   "execution_count": 33,
   "id": "dd257a07",
   "metadata": {},
   "outputs": [
    {
     "name": "stdout",
     "output_type": "stream",
     "text": [
      "White\n",
      "Toyota\n",
      "Sienna\n",
      "My Sienna is blinking left turn signal.\n",
      "My Sienna is turing left.\n"
     ]
    }
   ],
   "source": [
    "mycar = Car('White', 'Toyota', 'Sienna')\n",
    "print(mycar.color)\n",
    "print(mycar.maker)\n",
    "print(mycar.model)\n",
    "mycar.signal('left')\n",
    "mycar.turn('left')"
   ]
  },
  {
   "cell_type": "code",
   "execution_count": 34,
   "id": "0b3da67f",
   "metadata": {},
   "outputs": [
    {
     "name": "stdout",
     "output_type": "stream",
     "text": [
      "Black\n",
      "Chevrolet\n",
      "Colorado\n",
      "My Colorado is blinking right turn signal.\n",
      "My Colorado is turing right.\n"
     ]
    }
   ],
   "source": [
    "mycar2 = Car('Black', 'Chevrolet', 'Colorado')\n",
    "print(mycar2.color)\n",
    "print(mycar2.maker)\n",
    "print(mycar2.model)\n",
    "mycar2.signal('right')\n",
    "mycar2.turn('right')"
   ]
  },
  {
   "cell_type": "markdown",
   "id": "761d0442",
   "metadata": {},
   "source": [
    "---\n",
    "### *Exercise*\n",
    "\n",
    "1. Create an instance of the Car class with the attributes of your vehicle. \n",
    "2. Add attribute `year` to the Car class and update your car instance.\n",
    "\n",
    "---"
   ]
  },
  {
   "cell_type": "code",
   "execution_count": 35,
   "id": "46c3d6bc",
   "metadata": {},
   "outputs": [
    {
     "name": "stdout",
     "output_type": "stream",
     "text": [
      "White\n",
      "Toyota\n",
      "Rav4\n",
      "2017\n"
     ]
    }
   ],
   "source": [
    "# Your code here\n",
    "class Car_new(object):\n",
    "\n",
    "    def __init__(self, color, maker, model, year):\n",
    "        self.color = color\n",
    "        self.maker = maker\n",
    "        self.model = model\n",
    "        self.year = year\n",
    "\n",
    "    def signal(self, direction):\n",
    "        print(f'My {self.model} is blinking {direction} turn signal.')\n",
    "\n",
    "    def turn(self, direction):\n",
    "        print(f'My {self.model} is turing {direction}.')\n",
    "\n",
    "\n",
    "\n",
    "mycar3 = Car_new('White', 'Toyota', 'Rav4', 2017)\n",
    "print(mycar3.color)\n",
    "print(mycar3.maker)\n",
    "print(mycar3.model)\n",
    "print(mycar3.year)"
   ]
  }
 ],
 "metadata": {
  "kernelspec": {
   "display_name": "Python 3 (ipykernel)",
   "language": "python",
   "name": "python3"
  },
  "language_info": {
   "codemirror_mode": {
    "name": "ipython",
    "version": 3
   },
   "file_extension": ".py",
   "mimetype": "text/x-python",
   "name": "python",
   "nbconvert_exporter": "python",
   "pygments_lexer": "ipython3",
   "version": "3.9.7"
  }
 },
 "nbformat": 4,
 "nbformat_minor": 5
}
