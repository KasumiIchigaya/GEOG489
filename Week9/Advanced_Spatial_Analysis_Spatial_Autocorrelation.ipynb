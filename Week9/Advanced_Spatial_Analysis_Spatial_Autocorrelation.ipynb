{
 "cells": [
  {
   "cell_type": "markdown",
   "id": "63f336ad",
   "metadata": {},
   "source": [
    "# Advanced Spatial Analysis: Spatial Autocorrelation\n",
    "\n",
    "## Overview\n",
    "In this lecture, we will learn spatial autocorrelation with two well-known methods: Moran's I and Local Indicator of Spatial Association (LISA). \n",
    "* **Global Moran's I** demonstrates how geographical phenomena are correlated over space, meaning whether closer things is more related than distant things. The method provides an index with the range -1 to 1; namely, -1 is a strong negative spatial autocorrelation and 1 is a strong positive spatial autocorrelation. \n",
    "* While Global Moran's I only provides one index to demonstrate spatial autocorrelation, **Local Indicator of Spatial Association (LISA)**, as known as Local Moran's I explains where high (i.e., HH Cluster) and low (LL Cluster) values are clustered. "
   ]
  },
  {
   "cell_type": "code",
   "execution_count": null,
   "id": "9361088c",
   "metadata": {},
   "outputs": [],
   "source": [
    "import geopandas as gpd\n",
    "import pandas as pd\n",
    "import matplotlib.pyplot as plt\n",
    "import numpy as np\n",
    "import esda\n",
    "import libpysal\n",
    "import warnings\n",
    "from tqdm import tqdm\n",
    "warnings.filterwarnings('ignore')"
   ]
  },
  {
   "cell_type": "markdown",
   "id": "9f4378b3",
   "metadata": {},
   "source": [
    "## Spatial Autocorrelation: Global Moran's I\n",
    "\n",
    "Spatial autocorrelation investigates how the geographical phenomena **are spatially related** to each other based on Tober's First Law of Geography; meaning that everything is usually related to all else but those which are near to each other are more related when compared to those that are further away. There are several indices that indicate the degree of spatial autocorrelation (e.g., Geary's C or Getis-Ord Gi*). Here, we study Moran's I, which is the most well-known method. \n",
    "\n",
    "$$I = \\frac{n}{W} \\frac{\\sum_{i=1}^{n}\\sum_{j=1}^{n} w_{ij}(x_i - \\overline{x})(x_j - \\overline{x})}{\\sum_{i=1}^{n}(x_i - \\overline{x})^2}$$\n",
    "\n",
    "where <br>\n",
    "$n$ - the number of objects in space, <br>\n",
    "$W$ - the sum of spatial weights, <br>\n",
    "$w$ - a spatial weight for a pair of objects, <br>\n",
    "$x_i, x_j$ - values of an attribute for objects i and j, <br>\n",
    "$\\overline{x}$ - a mean value of an attribute. <br>\n",
    "\n",
    "\n"
   ]
  },
  {
   "cell_type": "code",
   "execution_count": null,
   "id": "a5dd3c3e",
   "metadata": {},
   "outputs": [],
   "source": [
    "# Census tract shapefile of Illinois\n",
    "tract = gpd.read_file('./data/tl_2020_17_tract.shp')\n",
    "tract = tract[['GEOID', 'geometry']]\n",
    "tract = tract.loc[~tract['GEOID'].isin(['17031990000', '17097990000'])]\n",
    "tract.head()"
   ]
  },
  {
   "cell_type": "code",
   "execution_count": null,
   "id": "146d9f9e",
   "metadata": {},
   "outputs": [],
   "source": [
    "# ACS Household income data\n",
    "income_table = pd.read_csv('./data/household_income.csv')\n",
    "income_table['GEOID'] = income_table['GEOID'].astype(str)\n",
    "income_table.head()"
   ]
  },
  {
   "cell_type": "code",
   "execution_count": null,
   "id": "aeecaf39",
   "metadata": {
    "scrolled": true
   },
   "outputs": [],
   "source": [
    "# Join two dataframes \n",
    "income = tract.merge(income_table, on='GEOID')\n",
    "income['MeanIncome'] = income['MeanIncome'].replace('-', '0') # Replace missing value with 0\n",
    "income['MeanIncome'] = income['MeanIncome'].replace('N', '0') # Replace missing value with 0\n",
    "income['MeanIncome'] = income['MeanIncome'].astype(int)\n",
    "income.head()"
   ]
  },
  {
   "cell_type": "code",
   "execution_count": null,
   "id": "692c522e",
   "metadata": {
    "scrolled": true
   },
   "outputs": [],
   "source": [
    "# Select only Cook County\n",
    "cook_income = income.loc[income['GEOID'].str.startswith('17031')]\n",
    "cook_income = cook_income.to_crs(epsg=26971)\n",
    "cook_income = cook_income.reset_index(drop=True)\n",
    "cook_income"
   ]
  },
  {
   "cell_type": "code",
   "execution_count": null,
   "id": "ba7754d3",
   "metadata": {},
   "outputs": [],
   "source": [
    "# Geographical distribution of Houshold Mean Income data\n",
    "ax = cook_income.plot('MeanIncome', scheme='FisherJenks', k=7, cmap='Blues', figsize=(15, 10), legend=True)\n",
    "\n",
    "leg = ax.get_legend()\n",
    "leg.set_bbox_to_anchor((0.4, 0.25))"
   ]
  },
  {
   "cell_type": "markdown",
   "id": "18e93877",
   "metadata": {},
   "source": [
    "### Backbone of calculating Moran's I with Python\n",
    "\n",
    "```python\n",
    "import libpysal\n",
    "import esda\n",
    "\n",
    "## 1. Calculate weights (w) of geographical units\n",
    "w = libpysal.weights.Queen() # based on Rook's case contiguity\n",
    "w = libpysal.weights.Rook()  # based on Queen's case contiguity\n",
    "w = libpysal.weights.DistanceBand() # based on a fixed distance\n",
    "\n",
    "## 2. Define value to calculate spatial autocorrelation\n",
    "y = df['MeanIncome']\n",
    "\n",
    "## 3. Calculate the final index\n",
    "mi = esda.moran.Moran(y, w_queen)\n",
    "print(mi.I) # Moran's I value\n",
    "print(mi.p_norm) # p-value of the current Moran's I \n",
    "print(mi.z_norm) # Z Score of the current Moran's I \n",
    "\n",
    "```"
   ]
  },
  {
   "cell_type": "markdown",
   "id": "cc3b4177",
   "metadata": {},
   "source": [
    "### Compute weigts of a geographical unit over the other geographical units\n",
    "#### Based on contiguity: Rook's case and Queen's case\n",
    "\n",
    "For more information, visit <a href=https://pysal.org/libpysal/generated/libpysal.weights.Queen.html>libpysal.weights.Queen</a> or <a href=https://pysal.org/libpysal/generated/libpysal.weights.Rook.html>libpysal.weights.Rook</a>."
   ]
  },
  {
   "cell_type": "code",
   "execution_count": null,
   "id": "35947571",
   "metadata": {},
   "outputs": [],
   "source": [
    "w_queen = libpysal.weights.Queen.from_dataframe(cook_income)\n",
    "w_rook = libpysal.weights.Rook.from_dataframe(cook_income)\n",
    "\n",
    "fig, axes = plt.subplots(1, 2, figsize=(20,10))\n",
    "\n",
    "# Contiguity: Rook's case\n",
    "cook_income.boundary.plot(ax=axes[0], ls=':', color='black')\n",
    "w_rook.plot(cook_income, ax=axes[0], \n",
    "            edge_kws=dict(color='r', linestyle=':', linewidth=1),\n",
    "            node_kws=dict(marker=''))\n",
    "\n",
    "# Contiguity: Queen's case\n",
    "cook_income.boundary.plot(ax=axes[1], ls=':', color='black')\n",
    "w_queen.plot(cook_income, ax=axes[1], \n",
    "             edge_kws=dict(color='r', linestyle=':', linewidth=1),\n",
    "             node_kws=dict(marker=''))"
   ]
  },
  {
   "cell_type": "markdown",
   "id": "e40cebd2",
   "metadata": {},
   "source": [
    "You can use `.neighbors` attribute to check the neighbor of each geographical unit and `.weights` attribute to check their weights. For contiguity, weights are automatically assigned to equal values. "
   ]
  },
  {
   "cell_type": "code",
   "execution_count": null,
   "id": "ba21a089",
   "metadata": {},
   "outputs": [],
   "source": [
    "w_rook.neighbors"
   ]
  },
  {
   "cell_type": "code",
   "execution_count": null,
   "id": "fb7b5c04",
   "metadata": {
    "scrolled": true
   },
   "outputs": [],
   "source": [
    "w_rook.weights"
   ]
  },
  {
   "cell_type": "markdown",
   "id": "b2ba528f",
   "metadata": {},
   "source": [
    "Based on contiguity criteria, the list of neighbors is different."
   ]
  },
  {
   "cell_type": "code",
   "execution_count": null,
   "id": "216bd119",
   "metadata": {},
   "outputs": [],
   "source": [
    "w_rook.neighbors[1]"
   ]
  },
  {
   "cell_type": "code",
   "execution_count": null,
   "id": "28985c7e",
   "metadata": {},
   "outputs": [],
   "source": [
    "w_queen.neighbors[1]"
   ]
  },
  {
   "cell_type": "markdown",
   "id": "7f96e4ca",
   "metadata": {},
   "source": [
    "#### Calculate Moran's I\n",
    "\n",
    "To calculate Moran's I, you can simply enter the attribute of interest (i.e., `MeanIncome`) and weight matrix (i.e., `w_rook` or `w_queen`) to <a href=https://pysal.org/esda/generated/esda.Moran.html>esda.moran.Moran()</a>."
   ]
  },
  {
   "cell_type": "code",
   "execution_count": null,
   "id": "46998177",
   "metadata": {},
   "outputs": [],
   "source": [
    "y = cook_income['MeanIncome']\n",
    "\n",
    "mi_rook = esda.moran.Moran(y, w_rook)\n",
    "mi_queen = esda.moran.Moran(y, w_queen)\n",
    "print(f\"Moran's I with Rook's case contiguity: {round(mi_rook.I, 3)}, p-value: {round(mi_rook.p_norm, 3)}\")\n",
    "print(f\"Moran's I with Queen's case contiguity: {round(mi_queen.I, 3)}, p-value: {round(mi_queen.p_norm, 3)}\")"
   ]
  },
  {
   "cell_type": "markdown",
   "id": "a3d4ad4b",
   "metadata": {},
   "source": [
    "### Use of Fixed distance to calculate neighbors\n",
    "\n",
    "The drawback of contiguity based neighbors is that they do not consider the distance decay for calculating weights. Here, we examine a way to incorporate a distance decay functions. \n",
    "\n",
    "The distance decay function in this package is as shown below. Here, alpha value should be negative. If the alpha value decreases, the distance decay becomes strong.\n",
    "\n",
    "$$w_{ij} = d_{ij}^\\alpha$$"
   ]
  },
  {
   "cell_type": "code",
   "execution_count": null,
   "id": "d3ac149a",
   "metadata": {},
   "outputs": [],
   "source": [
    "# The effect of the power on distance decay\n",
    "x = np.linspace(1,10,10)\n",
    "y_05 = [val**-0.5 for val in x]\n",
    "y_1 = [val**-1 for val in x]\n",
    "y_15 = [val**-1.5 for val in x]\n",
    "\n",
    "plt.plot(x, y_05, label='alpha = -0.5')\n",
    "plt.plot(x, y_1, label='alpha = -1')\n",
    "plt.plot(x, y_15, label='alpha = -1.5')\n",
    "\n",
    "plt.legend(fontsize=15)\n",
    "plt.show()"
   ]
  },
  {
   "cell_type": "code",
   "execution_count": null,
   "id": "4056c12a",
   "metadata": {},
   "outputs": [],
   "source": [
    "cook_income"
   ]
  },
  {
   "cell_type": "code",
   "execution_count": null,
   "id": "f6917df4",
   "metadata": {
    "scrolled": true
   },
   "outputs": [],
   "source": [
    "dist = 1000 # distance band\n",
    "alpha_val = -1 # the power of distance decay function, should be negative value. \n",
    "\n",
    "# Obtain coordinates of each geographical units\n",
    "coords = cook_income.apply(lambda x:x.geometry.centroid.coords[0], axis=1).values\n",
    "\n",
    "# Calculate weights of each geographical units based on distance decay method. \n",
    "w = libpysal.weights.DistanceBand(data=list(coords), # coordinates of each geographical units\n",
    "                                  threshold=dist, # distance band\n",
    "                                  binary=False, # whether distance decay is employed or not. \n",
    "                                  alpha=alpha_val, # distance decay parameter for weight (default -1.0)\n",
    "                                  silence_warnings=True\n",
    "                                 )\n",
    "print(w.weights[3])\n",
    "print(w.neighbors[3])"
   ]
  },
  {
   "cell_type": "code",
   "execution_count": null,
   "id": "4a3e40f9",
   "metadata": {},
   "outputs": [],
   "source": [
    "w.neighbors"
   ]
  },
  {
   "cell_type": "code",
   "execution_count": null,
   "id": "46af0fac",
   "metadata": {},
   "outputs": [],
   "source": [
    "print(w_rook.neighbors[3])\n",
    "print(w_queen.neighbors[3])"
   ]
  },
  {
   "cell_type": "code",
   "execution_count": null,
   "id": "82826e14",
   "metadata": {},
   "outputs": [],
   "source": [
    "for i in w.neighbors[3]:\n",
    "    print(i, cook_income.at[3, 'geometry'].centroid.distance(cook_income.at[i, 'geometry'].centroid))"
   ]
  },
  {
   "cell_type": "code",
   "execution_count": null,
   "id": "5788f0fb",
   "metadata": {},
   "outputs": [],
   "source": [
    "m = cook_income.loc[cook_income.index == 3].explore(color='black')\n",
    "cook_income.loc[cook_income.index.isin(w.neighbors[3])].explore(m=m, color='blue')"
   ]
  },
  {
   "cell_type": "code",
   "execution_count": null,
   "id": "d184df9c",
   "metadata": {},
   "outputs": [],
   "source": [
    "temp_dist = cook_income.at[3, 'geometry'].centroid.distance(cook_income.at[15, 'geometry'].centroid)\n",
    "print(f'Distance: {round(temp_dist)} meters, weight per distance decay: {temp_dist ** -1}')"
   ]
  },
  {
   "cell_type": "code",
   "execution_count": null,
   "id": "dcc25ec8",
   "metadata": {},
   "outputs": [],
   "source": [
    "# Calculate Moran's I\n",
    "mi = esda.moran.Moran(y, w)\n",
    "\n",
    "# Print results\n",
    "print(mi.I) # Moran's I value\n",
    "print(mi.p_norm) # p-value of the current Moran's I \n",
    "print(mi.z_norm) # Z Score of the current Moran's I \n",
    "\n",
    "print(f\"Moran's I with {dist} meter radius: {round(mi.I, 3)}, p-value: {round(mi.p_norm, 3)}, z-score: {round(mi.z_norm, 3)}\")"
   ]
  },
  {
   "cell_type": "code",
   "execution_count": null,
   "id": "77daf535",
   "metadata": {},
   "outputs": [],
   "source": [
    "# Plot relationship between geographical units with a given distance band\n",
    "fig, ax = plt.subplots(figsize=(10, 10))\n",
    "cook_income.boundary.plot(ax=ax, ls=':', color='black')\n",
    "w.plot(cook_income, ax=ax, \n",
    "       edge_kws=dict(color='blue', linestyle=':', linewidth=1),\n",
    "       node_kws=dict(marker=''))\n",
    "\n",
    "plt.show()"
   ]
  },
  {
   "cell_type": "markdown",
   "id": "5f4c82be",
   "metadata": {},
   "source": [
    "---\n",
    "### *Exercise*\n",
    "\n",
    "Here you will examine the sensitivity of Moran's I with **various threshold bandwidths and various alpha for distance decay**. Also, think about which combination of the weight of distance decay and threshold bandwidth provides the most statistically significant result. You can check <a href=https://pro.arcgis.com/en/pro-app/latest/tool-reference/spatial-statistics/choosingdistanceband.htm>this website</a> for more information. <br>\n",
    "\n",
    "The following codes are the backbone of spatial autocorrelation analysis. \n",
    "\n",
    "```python\n",
    "# Your code here\n",
    "dist = 3000 # threshold bandwidth\n",
    "alpha_val = -1 # the power of distance decay function, should be negative value. \n",
    "\n",
    "# Obtain coordinates of each geographical units\n",
    "coords = cook_income.apply(lambda x:x.geometry.centroid.coords[0], axis=1).values\n",
    "\n",
    "# Calculate weights of each geographical units based on distance decay method. \n",
    "w = libpysal.weights.DistanceBand(data=list(coords), # coordinates of each geographical units\n",
    "                                  threshold=dist, # threshold bandwidth\n",
    "                                  binary=False, # whether distance decay is employed or not. \n",
    "                                  alpha=alpha_val, # distance decay parameter for weight (default -1.0)\n",
    "                                  silence_warnings=True\n",
    "                                 )\n",
    "# Focused variable\n",
    "y = cook_income['MeanIncome']\n",
    "\n",
    "# Calculate Moran's I\n",
    "mi = esda.moran.Moran(y, w)\n",
    "\n",
    "# Print results\n",
    "print(f\"Moran's I with {dist} meter radius: {round(mi.I, 3)}, p-value: {round(mi.p_norm, 3)}, z-score: {round(mi.z_norm, 3)}\")\n",
    "```\n",
    "\n",
    "---"
   ]
  },
  {
   "cell_type": "code",
   "execution_count": null,
   "id": "e16a6e8e",
   "metadata": {},
   "outputs": [],
   "source": [
    "# Your code here\n",
    "dist = 3000 # threshold bandwidth\n",
    "alpha_val = -1 # the power of distance decay function, should be negative value. \n",
    "\n",
    "# Obtain coordinates of each geographical units\n",
    "coords = cook_income.apply(lambda x:x.geometry.centroid.coords[0], axis=1).values\n",
    "\n",
    "# Calculate weights of each geographical units based on distance decay method. \n",
    "w = libpysal.weights.DistanceBand(data=list(coords), # coordinates of each geographical units\n",
    "                                  threshold=dist, # threshold bandwidth\n",
    "                                  binary=False, # whether distance decay is employed or not. \n",
    "                                  alpha=alpha_val, # distance decay parameter for weight (default -1.0)\n",
    "                                  silence_warnings=True\n",
    "                                 )\n",
    "# Focused variable\n",
    "y = cook_income['MeanIncome']\n",
    "\n",
    "# Calculate Moran's I\n",
    "mi = esda.moran.Moran(y, w)\n",
    "\n",
    "# Print results\n",
    "print(f\"Moran's I with {dist} meter radius: {round(mi.I, 3)}, p-value: {round(mi.p_norm, 3)}, z-score: {round(mi.z_norm, 3)}\")"
   ]
  },
  {
   "cell_type": "markdown",
   "id": "0eff3eda",
   "metadata": {},
   "source": [
    "## Local Indicators of Spatial Association (LISA): Local Moran's I\n",
    "\n",
    "Moran's I is a characteristic of the complete spatial pattern and does not provide an indication of the location of the clusters. The concept of a local indicator of spatial association, or LISA was suggested in Anselin (1995) to remedie this situation. A LISA is seen as having two important characteristics. \n",
    "1. It provides a statistic for each location with an assessment of significance. \n",
    "2. It establishes a proportional relationship between the sum of the local statistics and a corresponding global statistic.\n",
    "\n",
    "Source: https://geodacenter.github.io/workbook/6a_local_auto/lab6a.html <br>\n",
    "Anselin, Luc. 1995. “Local Indicators of Spatial Association — LISA.” Geographical Analysis 27: 93–115."
   ]
  },
  {
   "cell_type": "markdown",
   "id": "a1191a0e",
   "metadata": {},
   "source": [
    "<a href=https://pysal.org/esda/generated/esda.Moran_Local.html>esda.moran.Moran_Local</a> will help you calculate LISA. It returns two important information in `.q` attribute and `p_sim`. `.q` provides the indicator of each classification of LISA (1: 'HH', 2: 'LH', 3: 'LL', 4: 'HL'), and `p_sim` provide the p-value of each classification. "
   ]
  },
  {
   "cell_type": "code",
   "execution_count": null,
   "id": "6893c6c1",
   "metadata": {
    "scrolled": true
   },
   "outputs": [],
   "source": [
    "# https://pysal.org/esda/generated/esda.Moran_Local.html\n",
    "y = cook_income['MeanIncome']  # Focused Variable\n",
    "w_rook = libpysal.weights.Rook.from_dataframe(cook_income) # Contiguity weight\n",
    "\n",
    "lm_rook = esda.moran.Moran_Local(y, w_rook)\n",
    "print(lm_rook.q) # Classification of LISA\n",
    "print(lm_rook.p_sim) # Significance of each classification"
   ]
  },
  {
   "cell_type": "code",
   "execution_count": null,
   "id": "3d63e4f2",
   "metadata": {},
   "outputs": [],
   "source": [
    "lm_dict = {1: 'HH', 2: 'LH', 3: 'LL', 4: 'HL'}\n",
    "\n",
    "lisa_rook = []\n",
    "for idx in range(len(lm_rook.q)):\n",
    "    if lm_rook.p_sim[idx] < 0.05:\n",
    "        lisa_rook.append(lm_dict[lm_rook.q[idx]])\n",
    "    else:\n",
    "        lisa_rook.append('Not_Sig')\n",
    "        \n",
    "lisa_rook = pd.Series(lisa_rook)\n",
    "cook_income['rook'] = lisa_rook\n",
    "cook_income"
   ]
  },
  {
   "cell_type": "code",
   "execution_count": null,
   "id": "6ed10f5e",
   "metadata": {},
   "outputs": [],
   "source": [
    "lisa_color = {'HH': 'red', 'LL': 'blue', 'HL': 'orange', 'LH': 'skyblue', 'Not_Sig': 'lightgrey'}\n",
    "\n",
    "fig, ax = plt.subplots(figsize=(10, 10))\n",
    "\n",
    "for key in lisa_color.keys():\n",
    "    cook_income.loc[cook_income['rook'] == key].plot(ax=ax, color=lisa_color[key], legend=True)\n",
    "\n",
    "plt.show()"
   ]
  },
  {
   "cell_type": "markdown",
   "id": "b419ba68",
   "metadata": {},
   "source": [
    "---\n",
    "### *Exercise*\n",
    "\n",
    "Let's investigate how the local indicators of spatial association (LISA) varies with different weight (i.e., queen's case contiguity and the fixed bandwidth of 10000). Utilize the codes mentioned above and create two maps of LISA. The following describes the steps you need to do.\n",
    "\n",
    "* LISA with Queen's case contiguity \n",
    "1. Create contiguity with `libpysal.weights.Queens.from_dataframe()`.\n",
    "2. Run `esda.moran.Moran_Local()` to obtain LISA with `.q` and `.p_sim` attribute. \n",
    "3. Select label (i.e., `.q`) with a certain significance in `.p_sim` attribute.\n",
    "4. Display the result\n",
    "\n",
    "* Lisa with Fixed Band Width (10000 feet)\n",
    "1. Extract points coordinates from the GeoDataFrame.\n",
    "2. Calculate weight with `libpysal.weights.DistanceBand()` method. \n",
    "3. Run `esda.moran.Moran_Local()` to obtain LISA with `.q` and `.p_sim` attribute. \n",
    "4. Select label (i.e., `.q`) with a certain significance in `.p_sim` attribute.\n",
    "5. Display the result\n",
    "\n",
    "Check out the following websites for more information.\n",
    "* https://pysal.org/esda/generated/esda.Moran_Local.html\n",
    "* https://pysal.org/libpysal/generated/libpysal.weights.Queen.html\n",
    "* https://pysal.org/libpysal/generated/libpysal.weights.DistanceBand.html\n"
   ]
  },
  {
   "cell_type": "code",
   "execution_count": null,
   "id": "599e286c",
   "metadata": {},
   "outputs": [],
   "source": [
    "# Your code here with Queen's case\n",
    "\n",
    "\n",
    "\n"
   ]
  },
  {
   "cell_type": "code",
   "execution_count": null,
   "id": "097af166",
   "metadata": {},
   "outputs": [],
   "source": [
    "# Your code here with Fixed bandwidth\n",
    "\n",
    "\n",
    "\n"
   ]
  },
  {
   "cell_type": "code",
   "execution_count": null,
   "id": "c43d7f45",
   "metadata": {},
   "outputs": [],
   "source": [
    "fig, axes = plt.subplots(1, 3, figsize=(15, 5))\n",
    "\n",
    "for key in lisa_color.keys():\n",
    "    cook_income.loc[cook_income['rook'] == key].plot(ax=axes[0], color=lisa_color[key], legend=True)\n",
    "    cook_income.loc[cook_income['queen'] == key].plot(ax=axes[1], color=lisa_color[key], legend=True)\n",
    "    cook_income.loc[cook_income['fixed'] == key].plot(ax=axes[2], color=lisa_color[key], legend=True)\n",
    "\n",
    "\n",
    "for ax in axes:\n",
    "    ax.get_xaxis().set_visible(False)  # Remove ticks and labels\n",
    "    ax.get_yaxis().set_visible(False)  # Remove ticks and labels\n",
    "    \n",
    "axes[0].set_title(\"Rook's case\", fontsize=15)\n",
    "axes[1].set_title(\"Queen's case\", fontsize=15)\n",
    "axes[2].set_title(\"Fixed bandwidth\", fontsize=15)\n",
    "\n",
    "plt.show()"
   ]
  },
  {
   "cell_type": "markdown",
   "id": "31a5a394",
   "metadata": {},
   "source": [
    "## Challenge: manually write codes for Moran's I\n",
    "\n",
    "Here we want to challenge ourselves to write codes for calculating Moran's I. As mentioned earlier, the equation looks like the one below. \n",
    "\n",
    "$$I = \\frac{n}{W} \\frac{\\sum_{i=1}^{n}\\sum_{j=1}^{n} w_{ij}(x_i - \\overline{x})(x_j - \\overline{x})}{\\sum_{i=1}^{n}(x_i - \\overline{x})^2}$$\n",
    "\n",
    "where <br>\n",
    "$n$ - the number of objects in space, <br>\n",
    "$W$ - the sum of spatial weights, <br>\n",
    "$w$ - a spatial weight for a pair of objects, <br>\n",
    "$x_i, x_j$ - values of an attribute for objects i and j, <br>\n",
    "$\\overline{x}$ - a mean value of an attribute. <br>\n",
    "\n",
    "It may sound very challenging, but you can achieve it by following the steps below. \n",
    "1. $\\overline{x}$: Calculate the mean of the variable interested (Median income in our case). <br><br>\n",
    "2. $(x_i - \\overline{x})$: Calculate for each object a difference between single value and a mean. <br><br>\n",
    "3. ${\\sum_{i=1}^{n}(x_i - \\overline{x})^2}$: Square each difference calculated at the previous step and to get a sum of these squares. <br><br>\n",
    "4. $w_{ij} = d_{ij}^\\alpha$: Calculate the distance decay of the pair locations based on the power of -1. <br><br>\n",
    "5. $W = \\sum_{i=1}^{n}\\sum_{j=1}^{n} w_{ij}$: Sum the spatial weights. <br><br>\n",
    "6. $\\frac{n}{W}$: Simply divide the number of objects ($n$) by the sum of spatial weights ($W$). <br><br>\n",
    "7. $\\sum_{i=1}^{n}\\sum_{j=1}^{n} w_{ij}(x_i - \\overline{x})(x_j - \\overline{x})$: Finalize the numerator <br><br>\n",
    "8. Combine all functions together. \n"
   ]
  },
  {
   "cell_type": "markdown",
   "id": "047d0423",
   "metadata": {},
   "source": [
    "### Step 1 — 3"
   ]
  },
  {
   "cell_type": "code",
   "execution_count": null,
   "id": "22ad6b63",
   "metadata": {},
   "outputs": [],
   "source": [
    "# Step 1\n",
    "mean_score = cook_income['MeanIncome'].mean()\n",
    "print(mean_score)\n",
    "\n",
    "# Step 2\n",
    "print(cook_income.at[0, 'MeanIncome'] - mean_score)\n",
    "\n",
    "# Step 3\n",
    "\n",
    "square_diff = 0\n",
    "for i in range(cook_income.shape[0]):\n",
    "    temp_value = (cook_income.at[i, 'MeanIncome'] - mean_score) ** 2\n",
    "    square_diff += temp_value\n",
    "    \n",
    "print(square_diff)"
   ]
  },
  {
   "cell_type": "markdown",
   "id": "4bf89237",
   "metadata": {},
   "source": [
    "### Step 4 | $w_{ij} = d_{ij}^\\alpha$\n",
    "\n",
    "Let's calculate the distance decay of each pair of locations i and j, if the distance between two places is less than a threshold bandwidth. Suppose we want to formulate the data structure as shown below. \n",
    "\n",
    "```python\n",
    "{i_1: {j_1: distance_decay_1,\n",
    "       j_2: distance_decay_2,\n",
    "       j_3: distance_decay_3,\n",
    "       ...\n",
    "     }\n",
    " ...\n",
    " i_87: {j_1: distance_decay_1,\n",
    "        j_2: distance_decay_2,\n",
    "        j_3: distance_decay_3,\n",
    "        ...\n",
    "       }\n",
    "}\n",
    "\n",
    "```"
   ]
  },
  {
   "cell_type": "code",
   "execution_count": null,
   "id": "585fcf7d",
   "metadata": {
    "scrolled": true
   },
   "outputs": [],
   "source": [
    "w_ = {}\n",
    "dist = 5000\n",
    "alpha = -1\n",
    "\n",
    "for i in tqdm(range(cook_income.shape[0])):\n",
    "    temp_dict = {}\n",
    "    for j in range(cook_income.shape[0]):\n",
    "        if i != j:\n",
    "            temp_dist = cook_income.at[i, 'geometry'].centroid.distance(cook_income.at[j, 'geometry'].centroid)\n",
    "            if temp_dist <= dist:\n",
    "                temp_dict[j] = temp_dist ** alpha\n",
    "                \n",
    "    w_[i] = temp_dict\n",
    "    "
   ]
  },
  {
   "cell_type": "code",
   "execution_count": null,
   "id": "7be4999c",
   "metadata": {},
   "outputs": [],
   "source": [
    "# Validation\n",
    "coords = cook_income.apply(lambda x:x.geometry.centroid.coords[0], axis=1).values\n",
    "\n",
    "# Calculate weights of each geographical units based on distance decay method. \n",
    "w = libpysal.weights.DistanceBand(data=list(coords), # coordinates of each geographical units\n",
    "                                  threshold=dist, # threshold bandwidth\n",
    "                                  binary=False, # whether distance decay is employed or not. \n",
    "                                  alpha=alpha, # distance decay parameter for weight (default -1.0)\n",
    "                                  silence_warnings=True\n",
    "                                 )\n",
    "# print(w.neighbors[0])\n",
    "# print(w.weights[0])\n",
    "\n",
    "print(dict(zip(w.neighbors[0], w.weights[0])))\n",
    "print(\"-------\")\n",
    "print(w_[0])"
   ]
  },
  {
   "cell_type": "code",
   "execution_count": null,
   "id": "89451978",
   "metadata": {},
   "outputs": [],
   "source": [
    "from copy import deepcopy"
   ]
  },
  {
   "cell_type": "code",
   "execution_count": null,
   "id": "823f74ab",
   "metadata": {
    "scrolled": true
   },
   "outputs": [],
   "source": [
    "# Calculate the portion of each distance decay value over the entire distance decay value\n",
    "w__ = deepcopy(w_)\n",
    "\n",
    "for i in tqdm(w_.keys()):\n",
    "    for j in w_[i].keys():\n",
    "        temp_sum = sum(list(w_[i].values()))\n",
    "        w__[i][j] = w_[i][j] / temp_sum\n",
    "#         print(i, j, w_[i][j], sum(w_[i].values()), w__[i][j])"
   ]
  },
  {
   "cell_type": "code",
   "execution_count": null,
   "id": "032932fb",
   "metadata": {},
   "outputs": [],
   "source": [
    "print(w_[0])\n",
    "print(\"-------\")\n",
    "print(sum(w_[0].values()))\n",
    "print(\"-------\")\n",
    "print(w__[0])\n",
    "print(\"-------\")\n",
    "print(sum(w__[0].values()))"
   ]
  },
  {
   "cell_type": "code",
   "execution_count": null,
   "id": "5997c095",
   "metadata": {},
   "outputs": [],
   "source": [
    "# Reassign the standardized weights of distance decay\n",
    "w_ = w__"
   ]
  },
  {
   "cell_type": "markdown",
   "id": "168ca042",
   "metadata": {},
   "source": [
    "### Step 5 | $W = \\sum_{i=1}^{n}\\sum_{j=1}^{n} w_{ij}$"
   ]
  },
  {
   "cell_type": "code",
   "execution_count": null,
   "id": "a10262c5",
   "metadata": {},
   "outputs": [],
   "source": [
    "W = 0\n",
    "for i in range(len(cook_income)):\n",
    "    for j in w_[i].keys():\n",
    "#         print(i, j, w_[i][j])\n",
    "        W += w_[i][j]\n",
    "        \n",
    "print(W)"
   ]
  },
  {
   "cell_type": "markdown",
   "id": "859379ca",
   "metadata": {},
   "source": [
    "### Step 6 | $\\frac{n}{W}$"
   ]
  },
  {
   "cell_type": "code",
   "execution_count": null,
   "id": "2d6b140d",
   "metadata": {},
   "outputs": [],
   "source": [
    "n = cook_income.shape[0]\n",
    "\n",
    "n/W"
   ]
  },
  {
   "cell_type": "markdown",
   "id": "b33eb92c",
   "metadata": {},
   "source": [
    "### Step 7 | $\\sum_{i=1}^{n}\\sum_{j=1}^{n} w_{ij}(x_i - \\overline{x})(x_j - \\overline{x})$"
   ]
  },
  {
   "cell_type": "code",
   "execution_count": null,
   "id": "c560cfa9",
   "metadata": {},
   "outputs": [],
   "source": [
    "numerator = 0\n",
    "\n",
    "for i in tqdm(range(cook_income.shape[0])):\n",
    "    for j in w_[i].keys():\n",
    "        diff_1 = cook_income.at[i, 'MeanIncome'] - mean_score\n",
    "        diff_2 = cook_income.at[j, 'MeanIncome'] - mean_score\n",
    "        \n",
    "        numerator += w_[i][j] * diff_1 * diff_2\n",
    "        \n",
    "print(numerator)"
   ]
  },
  {
   "cell_type": "markdown",
   "id": "f4fba196",
   "metadata": {},
   "source": [
    "### Step 8: Finalize Moran's I \n",
    "$$I = \\frac{n}{W} \\frac{\\sum_{i=1}^{n}\\sum_{j=1}^{n} w_{ij}(x_i - \\overline{x})(x_j - \\overline{x})}{\\sum_{i=1}^{n}(x_i - \\overline{x})^2}$$"
   ]
  },
  {
   "cell_type": "code",
   "execution_count": null,
   "id": "62d3693b",
   "metadata": {},
   "outputs": [],
   "source": [
    "I = (n/W) * (numerator / square_diff)\n",
    "I"
   ]
  },
  {
   "cell_type": "code",
   "execution_count": null,
   "id": "4d40b01f",
   "metadata": {},
   "outputs": [],
   "source": [
    "# Validation\n",
    "\n",
    "# Obtain coordinates of each geographical units\n",
    "coords = cook_income.apply(lambda x:x.geometry.centroid.coords[0], axis=1).values\n",
    "\n",
    "# Calculate weights of each geographical units based on distance decay method. \n",
    "w = libpysal.weights.DistanceBand(data=list(coords), # coordinates of each geographical units\n",
    "                                  threshold=dist, # threshold bandwidth\n",
    "                                  binary=False, # whether distance decay is employed or not. \n",
    "                                  alpha=alpha, # distance decay parameter for weight (default -1.0)\n",
    "                                  silence_warnings=True\n",
    "                                 )\n",
    "# Focused variable\n",
    "y = cook_income['MeanIncome']\n",
    "\n",
    "# Calculate Moran's I\n",
    "mi = esda.moran.Moran(y, w)\n",
    "\n",
    "# Print results\n",
    "print(mi.I) # Moran's I value\n",
    "print(mi.p_norm) # p-value of the current Moran's I \n",
    "print(mi.z_norm) # Z Score of the current Moran's I \n",
    "\n",
    "print(\"---------------\")\n",
    "print(f\"Moran's I with {dist} feet radius: {round(mi.I, 3)}, p-value: {round(mi.p_norm, 3)}, z-score: {round(mi.z_norm, 3)}\")\n",
    "print(\"---------------\")\n",
    "\n"
   ]
  }
 ],
 "metadata": {
  "kernelspec": {
   "display_name": "Python 3 (ipykernel)",
   "language": "python",
   "name": "python3"
  },
  "language_info": {
   "codemirror_mode": {
    "name": "ipython",
    "version": 3
   },
   "file_extension": ".py",
   "mimetype": "text/x-python",
   "name": "python",
   "nbconvert_exporter": "python",
   "pygments_lexer": "ipython3",
   "version": "3.10.2"
  }
 },
 "nbformat": 4,
 "nbformat_minor": 5
}
