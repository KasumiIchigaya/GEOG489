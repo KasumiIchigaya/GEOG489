{
 "cells": [
  {
   "cell_type": "markdown",
   "id": "e6aa0565",
   "metadata": {},
   "source": [
    "# Basic Spatial Anlysis with Python\n",
    "\n",
    "## Overview\n",
    "In this lecture, we will investigate the differences between Euclidean distance and Manhattan distance and between Buffer and Convex Hull. To exemplify, we will examine the census block group that is accessible to healthcare resources (i.e., hospitals, emergency medical services, and urgent care) in Champaign County. \n",
    "\n",
    "## Data\n",
    "* Census block group: https://www.census.gov/cgi-bin/geo/shapefiles/index.php?year=2020&layergroup=Block+Groups\n",
    "* Healthcare resources: \n",
    "    * Hospitals: https://hifld-geoplatform.opendata.arcgis.com/maps/hospitals/about\n",
    "    * Emergency Medical Service (EMS) Stations: https://hifld-geoplatform.opendata.arcgis.com/datasets/geoplatform::emergency-medical-service-ems-stations/about\n",
    "    * Urgent Care Facilities: https://hifld-geoplatform.opendata.arcgis.com/datasets/geoplatform::urgent-care-facilities/about\n",
    "\n",
    "## Glance the difference\n",
    "### Euclidean distance (4058 feet) vs Manhattan distance (1.2 Miles; 6336 feet)\n",
    "<img src=\"./data/euclidean_vs_manhattan.jpg\" style=\"width: 600px;\"/>\n",
    "\n",
    "### Buffer (blue) vs Convex Hull (red)\n",
    "<img src=\"./data/convex_hull_vs_buffer.jpg\" style=\"width: 400px;\"/>"
   ]
  },
  {
   "cell_type": "markdown",
   "id": "ca6d2910",
   "metadata": {},
   "source": [
    "## 1. Data Preparation"
   ]
  },
  {
   "cell_type": "code",
   "execution_count": null,
   "id": "b3fd99d3",
   "metadata": {},
   "outputs": [],
   "source": [
    "import geopandas as gpd\n",
    "import pandas as pd\n",
    "import matplotlib.pyplot as plt\n",
    "import os\n",
    "import warnings\n",
    "warnings.filterwarnings('ignore')"
   ]
  },
  {
   "cell_type": "code",
   "execution_count": null,
   "id": "09aa7347",
   "metadata": {},
   "outputs": [],
   "source": [
    "# Healthcare resources\n",
    "hc = gpd.read_file('./data/healthcare.shp')\n",
    "hc.head()"
   ]
  },
  {
   "cell_type": "code",
   "execution_count": null,
   "id": "47d1a4a5",
   "metadata": {},
   "outputs": [],
   "source": [
    "# Census block groups\n",
    "cbg = gpd.read_file('./data/census_block_group.shp')\n",
    "cbg.head()"
   ]
  },
  {
   "cell_type": "markdown",
   "id": "486698da",
   "metadata": {},
   "source": [
    "Let's examine the geographical distribution of healthcare resources and census block groups. \n",
    "For detail information, Visit `Week6/Geospatial_Data_Visualization.ipynb`. <br>\n",
    "**Note**: We can specify the order of layers with `zorder` attribute. Higher `zorder` will place the layer on top. "
   ]
  },
  {
   "cell_type": "code",
   "execution_count": null,
   "id": "1aab6bb1",
   "metadata": {},
   "outputs": [],
   "source": [
    "# Plot results\n",
    "fig, ax = plt.subplots(figsize=(7, 10))\n",
    "\n",
    "hc.plot(ax=ax, column='TYPE', markersize=100, legend=True, zorder=2)\n",
    "cbg.boundary.plot(ax=ax, linestyle='dotted', lw=0.5, color='black', zorder=1)\n",
    "\n",
    "plt.show()"
   ]
  },
  {
   "cell_type": "markdown",
   "id": "4a96a25c",
   "metadata": {},
   "source": [
    "You will find that the units (or coordinates) of the maps are decimal degrees (longitude and latitude). As we want to measure the distance between census block groups and healthcare resources, we need to reproject two GeoDataFrame (`hc` and `cbg`) from a geographical coordinate system (NAD83; EPSG 4269) to a projected coordinates system (SPCS83 Illinois East zone (meters); EPSG 26971). "
   ]
  },
  {
   "cell_type": "code",
   "execution_count": null,
   "id": "d5b17bd2",
   "metadata": {},
   "outputs": [],
   "source": [
    "hc.crs"
   ]
  },
  {
   "cell_type": "code",
   "execution_count": null,
   "id": "a4bad319",
   "metadata": {},
   "outputs": [],
   "source": [
    "hc = hc.to_crs(epsg=26971)\n",
    "cbg = cbg.to_crs(epsg=26971)\n",
    "hc.crs"
   ]
  },
  {
   "cell_type": "markdown",
   "id": "139ab41a",
   "metadata": {},
   "source": [
    "## 2. Simple Buffer Analysis\n",
    "\n",
    "First of all, let's determine how far we can travel within a given time. Here, we assume that **10 minutes** is the threshold travel time and **30 MPH** is the travel speed in the study area. Therefore, the travel distance is 5 Miles. \n",
    "\n",
    "\\begin{gather*}\n",
    "Distance = Speed * Time\\\\\n",
    "\\\\\n",
    "5Miles = 30MPH * \\frac{10 minutes} {60 minutes}\n",
    "\\end{gather*}"
   ]
  },
  {
   "cell_type": "code",
   "execution_count": null,
   "id": "b5f08fd6",
   "metadata": {},
   "outputs": [],
   "source": [
    "travel_time = 10\n",
    "dist = 30 * travel_time / 60\n",
    "\n",
    "# Translate to Meter per Hour to match the unit with the coordinates system (epsg 26971)\n",
    "dist = dist * 1.6 * 1000\n",
    "dist\n",
    "print(f'{dist} meter is the threshold distance can travel within {travel_time} minutes.')"
   ]
  },
  {
   "cell_type": "markdown",
   "id": "7e54f657",
   "metadata": {},
   "source": [
    "Several ways of doing buffer, but all have the same result. "
   ]
  },
  {
   "cell_type": "code",
   "execution_count": null,
   "id": "e7397630",
   "metadata": {},
   "outputs": [],
   "source": [
    "# Call buffer from GeoDataFrame\n",
    "hc_buffer = hc.buffer(dist)\n",
    "print(type(hc_buffer))\n",
    "hc_buffer"
   ]
  },
  {
   "cell_type": "code",
   "execution_count": null,
   "id": "2ff24887",
   "metadata": {},
   "outputs": [],
   "source": [
    "# Call Buffer from GeoSeires (has to be geometry column)\n",
    "hc_buffer = hc.geometry.buffer(dist)\n",
    "hc_buffer"
   ]
  },
  {
   "cell_type": "code",
   "execution_count": null,
   "id": "d1a2dc1f",
   "metadata": {
    "scrolled": true
   },
   "outputs": [],
   "source": [
    "# Iterate through the GeoDataFrame and call buffer\n",
    "for idx, row in hc.iterrows():\n",
    "    print(row['geometry'].buffer(dist))"
   ]
  },
  {
   "cell_type": "code",
   "execution_count": null,
   "id": "502cc9e3",
   "metadata": {},
   "outputs": [],
   "source": [
    "# Plot two layers\n",
    "fig, ax = plt.subplots(figsize=(7, 10))\n",
    "\n",
    "hc_buffer.boundary.plot(ax=ax, color='blue', lw=0.5, zorder=1)\n",
    "hc.plot(ax=ax, column='TYPE', markersize=100, legend=True, zorder=2)\n",
    "cbg.boundary.plot(ax=ax, linestyle='dotted', lw=0.5, color='black', zorder=1)\n",
    "\n",
    "plt.show()"
   ]
  },
  {
   "cell_type": "markdown",
   "id": "c17762fa",
   "metadata": {},
   "source": [
    "Given that the type of `hc_buffer` is `GeoSeries` (not `GeoDataFrame`), you can iterate the rows with `GeoSeries.iteritems()`."
   ]
  },
  {
   "cell_type": "code",
   "execution_count": null,
   "id": "4f919daa",
   "metadata": {},
   "outputs": [],
   "source": [
    "for idx, buf in hc_buffer.iteritems():\n",
    "    print(buf)"
   ]
  },
  {
   "cell_type": "code",
   "execution_count": null,
   "id": "4b910787",
   "metadata": {},
   "outputs": [],
   "source": [
    "# The following code will not run. \n",
    "# for idx, buf in hc_buffer.iterrows():\n",
    "#     print(buf)"
   ]
  },
  {
   "cell_type": "markdown",
   "id": "b9d2ba0a",
   "metadata": {},
   "source": [
    "You may remember that you can slice a `GeoDataFrame` with the function below. Let's see how we can select the census block group within each buffer.  \n",
    "```python\n",
    "cbg.loc[cbg.geometry.within()]\n",
    "```"
   ]
  },
  {
   "cell_type": "code",
   "execution_count": null,
   "id": "8b6c5941",
   "metadata": {},
   "outputs": [],
   "source": [
    "cbg.loc[cbg.geometry.within(buf)]"
   ]
  },
  {
   "cell_type": "code",
   "execution_count": null,
   "id": "ccf320fc",
   "metadata": {},
   "outputs": [],
   "source": [
    "within_cbg = []\n",
    "for idx, buf in hc_buffer.iteritems():\n",
    "    temp_gdf = cbg.loc[cbg.geometry.within(buf)]\n",
    "    within_cbg.extend(temp_gdf['GEOID'].to_list())\n",
    "    \n",
    "within_cbg"
   ]
  },
  {
   "cell_type": "markdown",
   "id": "3e85984c",
   "metadata": {},
   "source": [
    "You will notice that the resulted list `within_cbg` is larger than the entire number of census block groups (`cbg`). This is because of duplicates, and `set()` will help you to select only the unique values. "
   ]
  },
  {
   "cell_type": "code",
   "execution_count": null,
   "id": "68015c55",
   "metadata": {},
   "outputs": [],
   "source": [
    "len(within_cbg)"
   ]
  },
  {
   "cell_type": "code",
   "execution_count": null,
   "id": "2629649f",
   "metadata": {},
   "outputs": [],
   "source": [
    "len(cbg)"
   ]
  },
  {
   "cell_type": "code",
   "execution_count": null,
   "id": "fb07b812",
   "metadata": {},
   "outputs": [],
   "source": [
    "len(set(within_cbg))"
   ]
  },
  {
   "cell_type": "markdown",
   "id": "c18683be",
   "metadata": {},
   "source": [
    "Now, we will select the census block groups only within the buffers. Let's use `.loc[]` method to provide our result. <br>\n",
    "**Note** You can reverse the result by adding `~` in front of the condition.  "
   ]
  },
  {
   "cell_type": "code",
   "execution_count": null,
   "id": "b0c95ef6",
   "metadata": {},
   "outputs": [],
   "source": [
    "cbg.loc[cbg['GEOID'].isin(set(within_cbg))]"
   ]
  },
  {
   "cell_type": "code",
   "execution_count": null,
   "id": "2496b727",
   "metadata": {
    "scrolled": true
   },
   "outputs": [],
   "source": [
    "cbg.loc[~cbg['GEOID'].isin(set(within_cbg))]"
   ]
  },
  {
   "cell_type": "code",
   "execution_count": null,
   "id": "35098170",
   "metadata": {},
   "outputs": [],
   "source": [
    "y_buffer = cbg.loc[cbg['GEOID'].isin(set(within_cbg))]\n",
    "n_buffer = cbg.loc[~cbg['GEOID'].isin(set(within_cbg))]"
   ]
  },
  {
   "cell_type": "code",
   "execution_count": null,
   "id": "6ed8be51",
   "metadata": {},
   "outputs": [],
   "source": [
    "# Plot results\n",
    "fig, ax = plt.subplots(figsize=(7, 10))\n",
    "\n",
    "hc_buffer.boundary.plot(ax=ax, color='blue', lw=0.5, zorder=2)\n",
    "y_buffer.plot(ax=ax, color='#ef8a62', zorder=1)\n",
    "n_buffer.plot(ax=ax, color='#bababa', zorder=1)\n",
    "\n",
    "hc.plot(ax=ax, markersize=50, color='blue', zorder=2)\n",
    "cbg.boundary.plot(ax=ax, linestyle='dotted', lw=0.5, color='black', zorder=1)\n",
    "\n",
    "ax.get_xaxis().set_visible(False)\n",
    "ax.get_yaxis().set_visible(False)\n",
    "\n",
    "plt.show()"
   ]
  },
  {
   "cell_type": "markdown",
   "id": "578e46fb",
   "metadata": {},
   "source": [
    "---\n",
    "### *Exercise*\n",
    "\n",
    "Suppose that we examine the sensitivities of both travel time and the geographical unit selection methods. <br>\n",
    "Here, we want to **1)** increase travel time from 10 minutes to 15 minutes and **2)** utilize intersects function instead of within function. Investigate the following code and make necessary changes. You can check your answer with the cell below. \n",
    "\n",
    "```python\n",
    "travel_time_15 = 10  # Travel time \n",
    "dist_15 = 30 * travel_time_15 / 60  # Current unit: MPH\n",
    "dist_15 = dist_15 * 1.6 * 1000 # From mph(miles per hour) to m/h (meters per hour)\n",
    "print(f'{dist_15} meter is the threshold distance can travel within {travel_time_15} minutes.')\n",
    "\n",
    "# Creating buffer\n",
    "hc_buffer_15 = hc.geometry.buffer(dist_15)\n",
    "\n",
    "# Collect GEOIDs of accessible Census Block Groups\n",
    "within_cbg = []\n",
    "for idx, buf in hc_buffer_15.iteritems():\n",
    "    temp_gdf = cbg.loc[cbg.geometry.within(buf)]\n",
    "    within_cbg.extend(temp_gdf['GEOID'].to_list())\n",
    "    \n",
    "# Slice the original Census Block Group GeoDataFrame \n",
    "# to sort cbg based on they are accessible or not. \n",
    "y_buffer_15 = cbg.loc[cbg['GEOID'].isin(set(within_cbg))]\n",
    "n_buffer_15 = cbg.loc[~cbg['GEOID'].isin(set(within_cbg))]\n",
    "\n",
    "```\n",
    "---"
   ]
  },
  {
   "cell_type": "code",
   "execution_count": null,
   "id": "22c01311",
   "metadata": {},
   "outputs": [],
   "source": [
    "# Your answer here (Modify the following code)\n",
    "\n",
    "travel_time_15 = 10  # Travel time \n",
    "dist_15 = 30 * travel_time_15 / 60  # Current unit: MPH\n",
    "dist_15 = dist_15 * 1.6 * 1000 # From mph(miles per hour) to m/h (meters per hour)\n",
    "print(f'{dist_15} meter is the threshold distance can travel within {travel_time_15} minutes.')\n",
    "\n",
    "# Creating buffer\n",
    "hc_buffer_15 = hc.geometry.buffer(dist_15)\n",
    "\n",
    "# Collect GEOIDs of accessible Census Block Groups\n",
    "within_cbg = []\n",
    "for idx, buf in hc_buffer_15.iteritems():\n",
    "    temp_gdf = cbg.loc[cbg.geometry.within(buf)]\n",
    "    within_cbg.extend(temp_gdf['GEOID'].to_list())\n",
    "    \n",
    "# Slice the original Census Block Group GeoDataFrame \n",
    "# to sort cbg based on they are accessible or not. \n",
    "y_buffer_15 = cbg.loc[cbg['GEOID'].isin(set(within_cbg))]\n",
    "n_buffer_15 = cbg.loc[~cbg['GEOID'].isin(set(within_cbg))]"
   ]
  },
  {
   "cell_type": "markdown",
   "id": "a1b75bdd",
   "metadata": {},
   "source": [
    "**Check your answer with the cell below. Your output should look similar to the below. **\n",
    "\n",
    "![](./data/exercise_1.jpg)"
   ]
  },
  {
   "cell_type": "code",
   "execution_count": null,
   "id": "309399ca",
   "metadata": {},
   "outputs": [],
   "source": [
    "# Check your answer: Plot results\n",
    "fig, axes = plt.subplots(1, 2, figsize=(15, 10))\n",
    "\n",
    "# Within 10 minutes (8km) buffer\n",
    "hc_buffer.boundary.plot(ax=axes[0], color='blue', lw=0.5, zorder=2)\n",
    "y_buffer.plot(ax=axes[0], color='#ef8a62', zorder=1)\n",
    "n_buffer.plot(ax=axes[0], color='#bababa', zorder=1)\n",
    "\n",
    "## Decoration purpose\n",
    "hc.plot(ax=axes[0], markersize=50, color='blue', zorder=2)\n",
    "cbg.boundary.plot(ax=axes[0], linestyle='dotted', lw=0.5, color='black', zorder=1)\n",
    "axes[0].set_title('Within 10 minutes (8km) buffer')\n",
    "axes[0].get_xaxis().set_visible(False)\n",
    "axes[0].get_yaxis().set_visible(False)\n",
    "\n",
    "# Intersects with 15 minutes (12km) buffer'\n",
    "hc_buffer_15.boundary.plot(ax=axes[1], color='blue', lw=0.5, zorder=2)\n",
    "y_buffer_15.plot(ax=axes[1], color='#ef8a62', zorder=1)\n",
    "n_buffer_15.plot(ax=axes[1], color='#bababa', zorder=1)\n",
    "\n",
    "## Decoration purpose\n",
    "hc.plot(ax=axes[1], markersize=50, color='blue', zorder=2)\n",
    "cbg.boundary.plot(ax=axes[1], linestyle='dotted', lw=0.5, color='black', zorder=1)\n",
    "axes[1].set_title('Intersects with 15 minutes (12km) buffer')\n",
    "axes[1].get_xaxis().set_visible(False)\n",
    "axes[1].get_yaxis().set_visible(False)\n",
    "\n",
    "plt.show()"
   ]
  },
  {
   "cell_type": "markdown",
   "id": "4e360419",
   "metadata": {},
   "source": [
    "You may think having a large number of buffer make the map complicated and want to dissolve/union the buffer. You can use `.unary_union` for this purpose. \n",
    "**Note** The result of `unary_union` has the type of `Shapely`. You need to convert it back to `GeoSeries` or `GeoDataFrame` for plotting. "
   ]
  },
  {
   "cell_type": "code",
   "execution_count": null,
   "id": "28ee3172",
   "metadata": {},
   "outputs": [],
   "source": [
    "hc_buffer_union = hc.geometry.buffer(dist).unary_union\n",
    "print(type(hc_buffer_union))\n",
    "# hc_buffer.plot()   # Will cause a problem. Shapely does not have a method .plot()\n",
    "hc_buffer_union"
   ]
  },
  {
   "cell_type": "code",
   "execution_count": null,
   "id": "37098120",
   "metadata": {},
   "outputs": [],
   "source": [
    "hc_buffer_union_1 = gpd.GeoSeries(hc_buffer_union)\n",
    "print(type(hc_buffer_union_1))\n",
    "hc_buffer_union_1.plot()"
   ]
  },
  {
   "cell_type": "markdown",
   "id": "f948370a",
   "metadata": {},
   "source": [
    "Given that the aggregated buffer only has a row, you don't need to iterate every row to select census block groups. Instead, you can use the following one line. "
   ]
  },
  {
   "cell_type": "code",
   "execution_count": null,
   "id": "b0c5075f",
   "metadata": {},
   "outputs": [],
   "source": [
    "cbg.loc[cbg.geometry.within(hc_buffer_union)]"
   ]
  },
  {
   "cell_type": "markdown",
   "id": "2a5306f2",
   "metadata": {},
   "source": [
    "The following shows that the two approaches (i.e., iteration and unary_union) produce the same outcome. "
   ]
  },
  {
   "cell_type": "code",
   "execution_count": null,
   "id": "89a4aed0",
   "metadata": {},
   "outputs": [],
   "source": [
    "y_buffer_1 = cbg.loc[cbg.geometry.within(hc_buffer_union)]\n",
    "n_buffer_1 = cbg.loc[~cbg.geometry.within(hc_buffer_union)]"
   ]
  },
  {
   "cell_type": "code",
   "execution_count": null,
   "id": "195213e9",
   "metadata": {},
   "outputs": [],
   "source": [
    "# Plot two layers\n",
    "fig, axes = plt.subplots(1, 2, figsize=(15, 10))\n",
    "\n",
    "# Iteration approach\n",
    "hc_buffer.boundary.plot(ax=axes[0], color='blue', lw=0.5, zorder=2)\n",
    "y_buffer.plot(ax=axes[0], color='#ef8a62', zorder=1)\n",
    "n_buffer.plot(ax=axes[0], color='#bababa', zorder=1)\n",
    "\n",
    "## Decoration purpose\n",
    "hc.plot(ax=axes[0], markersize=50, color='blue', zorder=2)\n",
    "cbg.boundary.plot(ax=axes[0], linestyle='dotted', lw=0.5, color='black', zorder=1)\n",
    "axes[0].set_title('Iteration approach')\n",
    "axes[0].get_xaxis().set_visible(False)\n",
    "axes[0].get_yaxis().set_visible(False)\n",
    "\n",
    "# Union Approach\n",
    "hc_buffer_union_1.boundary.plot(ax=axes[1], color='blue', lw=0.5, zorder=2)\n",
    "y_buffer_1.plot(ax=axes[1], color='#ef8a62', zorder=1)\n",
    "n_buffer_1.plot(ax=axes[1], color='#bababa', zorder=1)\n",
    "\n",
    "## Decoration purpose\n",
    "hc.plot(ax=axes[1], markersize=50, color='blue', zorder=2)\n",
    "cbg.boundary.plot(ax=axes[1], linestyle='dotted', lw=0.5, color='black', zorder=1)\n",
    "axes[1].set_title('Union approach')\n",
    "axes[1].get_xaxis().set_visible(False)\n",
    "axes[1].get_yaxis().set_visible(False)\n",
    "\n",
    "plt.show()"
   ]
  },
  {
   "cell_type": "code",
   "execution_count": null,
   "id": "ac89e326",
   "metadata": {},
   "outputs": [],
   "source": [
    "# In summary, you just need three lines of code to do the buffer analysis. \n",
    "hc_buffer_union = hc.geometry.buffer(dist).unary_union\n",
    "\n",
    "y_buffer_1 = cbg.loc[cbg.geometry.within(hc_buffer_union)]\n",
    "n_buffer_1 = cbg.loc[~cbg.geometry.within(hc_buffer_union)]"
   ]
  },
  {
   "cell_type": "markdown",
   "id": "eff84731",
   "metadata": {},
   "source": [
    "---\n",
    "### *Exercise*\n",
    "\n",
    "Here, we also want to **1)** increase travel time from 10 minutes to 15 minutes and **2)** utilize intersects function instead of within function. Investigate the following code and make necessary changes. You can check your answer with the cell below. \n",
    "\n",
    "```python\n",
    "hc_buffer_union_15 = hc.geometry.buffer(dist).unary_union  # Create buffers and make a union\n",
    "\n",
    "# Slice the original Census Block Group GeoDataFrame \n",
    "# to sort cbg based on they are accessible or not. \n",
    "y_buffer_15_1 = cbg.loc[cbg.geometry.within(hc_buffer_union)]\n",
    "n_buffer_15_1 = cbg.loc[~cbg.geometry.within(hc_buffer_union)]\n",
    "```\n",
    "---"
   ]
  },
  {
   "cell_type": "code",
   "execution_count": null,
   "id": "456a93ae",
   "metadata": {},
   "outputs": [],
   "source": [
    "# Your answer here (Modify the following code)\n",
    "hc_buffer_union_15 = hc.geometry.buffer(dist).unary_union  # Create buffers and make a union\n",
    "\n",
    "# Slice the original Census Block Group GeoDataFrame \n",
    "# to sort cbg based on they are accessible or not. \n",
    "y_buffer_15_1 = cbg.loc[cbg.geometry.within(hc_buffer_union)]\n",
    "n_buffer_15_1 = cbg.loc[~cbg.geometry.within(hc_buffer_union)]"
   ]
  },
  {
   "cell_type": "markdown",
   "id": "bd3a93c9",
   "metadata": {},
   "source": [
    "**Check your answer with the cell below. Your output should look similar to the below.**\n",
    "\n",
    "![](./data/exercise_2.jpg)"
   ]
  },
  {
   "cell_type": "code",
   "execution_count": null,
   "id": "f03bee38",
   "metadata": {},
   "outputs": [],
   "source": [
    "# Plot two layers\n",
    "fig, axes = plt.subplots(1, 2, figsize=(15, 10))\n",
    "\n",
    "# Union Approach\n",
    "hc_buffer_union_1.boundary.plot(ax=axes[0], color='blue', lw=0.5, zorder=2)\n",
    "y_buffer_1.plot(ax=axes[0], color='#ef8a62', zorder=1)\n",
    "n_buffer_1.plot(ax=axes[0], color='#bababa', zorder=1)\n",
    "\n",
    "## Decoration purpose\n",
    "hc.plot(ax=axes[0], markersize=50, color='blue', zorder=2)\n",
    "cbg.boundary.plot(ax=axes[0], linestyle='dotted', lw=0.5, color='black', zorder=1)\n",
    "axes[0].set_title('Within 10 minutes (8km) buffer')\n",
    "axes[0].get_xaxis().set_visible(False)\n",
    "axes[0].get_yaxis().set_visible(False)\n",
    "\n",
    "\n",
    "# Iteration approach\n",
    "gpd.GeoSeries(hc_buffer_union_15).boundary.plot(ax=axes[1], color='blue', lw=0.5, zorder=2)\n",
    "y_buffer_15_1.plot(ax=axes[1], color='#ef8a62', zorder=1)\n",
    "n_buffer_15_1.plot(ax=axes[1], color='#bababa', zorder=1)\n",
    "\n",
    "## Decoration purpose\n",
    "hc.plot(ax=axes[1], markersize=50, color='blue', zorder=2)\n",
    "cbg.boundary.plot(ax=axes[1], linestyle='dotted', lw=0.5, color='black', zorder=1)\n",
    "axes[1].set_title('Intersects with 15 minutes (12km) buffer')\n",
    "axes[1].get_xaxis().set_visible(False)\n",
    "axes[1].get_yaxis().set_visible(False)\n",
    "\n",
    "\n",
    "plt.show()"
   ]
  },
  {
   "cell_type": "markdown",
   "id": "59a8c2d0",
   "metadata": {},
   "source": [
    "## 3. Euclidean distance based on OD (Origin-Destination) Matrix\n",
    "\n",
    "The buffer analysis has some issues of underestimate/overestimate the access. For example, the upper left buffer does not have any census block group selected. <br>\n",
    "To increase the accuracy of analysis, we can measure the distance between every census block group and healthcare resource. Here, we take advantage of the `.distance()` method of `shapely`. \n"
   ]
  },
  {
   "cell_type": "code",
   "execution_count": null,
   "id": "933d136f",
   "metadata": {},
   "outputs": [],
   "source": [
    "hc.head()"
   ]
  },
  {
   "cell_type": "code",
   "execution_count": null,
   "id": "0119487a",
   "metadata": {},
   "outputs": [],
   "source": [
    "cbg.head()"
   ]
  },
  {
   "cell_type": "code",
   "execution_count": null,
   "id": "08e7efcb",
   "metadata": {
    "scrolled": true
   },
   "outputs": [],
   "source": [
    "hc.at[0, 'geometry']"
   ]
  },
  {
   "cell_type": "code",
   "execution_count": null,
   "id": "b625a9ff",
   "metadata": {},
   "outputs": [],
   "source": [
    "cbg.at[0, 'geometry']"
   ]
  },
  {
   "cell_type": "code",
   "execution_count": null,
   "id": "3415c079",
   "metadata": {},
   "outputs": [],
   "source": [
    "cbg.at[0, 'geometry'].centroid"
   ]
  },
  {
   "cell_type": "code",
   "execution_count": null,
   "id": "7b33ea73",
   "metadata": {},
   "outputs": [],
   "source": [
    "hc.at[0, 'geometry'].distance(cbg.at[0, 'geometry'].centroid)"
   ]
  },
  {
   "cell_type": "code",
   "execution_count": null,
   "id": "a1a16253",
   "metadata": {},
   "outputs": [],
   "source": [
    "# Plot results\n",
    "fig, ax = plt.subplots(figsize=(7, 10))\n",
    "\n",
    "# Create points of origin and desitnation and connect them. \n",
    "ori = hc.at[0, 'geometry']\n",
    "dest = cbg.at[0, 'geometry'].centroid\n",
    "\n",
    "plt.plot(ori.x, ori.y, 'ro')\n",
    "plt.plot(dest.x, dest.y, 'ro')\n",
    "plt.plot([ori.x, dest.x], [ori.y, dest.y], color='black', lw=2)\n",
    "\n",
    "# Decoration\n",
    "hc.plot(ax=ax, markersize=50, color='blue', zorder=2)\n",
    "cbg.boundary.plot(ax=ax, linestyle='dotted', lw=0.5, color='black', zorder=1)\n",
    "\n",
    "ax.get_xaxis().set_visible(False)\n",
    "ax.get_yaxis().set_visible(False)\n",
    "\n",
    "plt.show()"
   ]
  },
  {
   "cell_type": "code",
   "execution_count": null,
   "id": "8b9ad574",
   "metadata": {},
   "outputs": [],
   "source": [
    "# Calculate euclidean distance between every healthcare and census block group\n",
    "within_eucli = []\n",
    "\n",
    "for idx_h, row_h in hc.iterrows():  # Iterate through healthcare resources\n",
    "    for idx_c, row_c in cbg.iterrows():  # Iterate through census block groups\n",
    "        \n",
    "        temp_dist = row_h.geometry.distance(row_c.geometry.centroid)  # Measure distance between two locations\n",
    "        print(f'From HC {idx_h} to CBG {idx_c}, Distance: {round(temp_dist)} m' )\n",
    "        \n",
    "        if temp_dist < dist:  # dist: 8000 meters\n",
    "            within_eucli.append(row_c['GEOID'])    # append GEOID of a CBG if the distance is less than the threshold\n"
   ]
  },
  {
   "cell_type": "code",
   "execution_count": null,
   "id": "f4d91f99",
   "metadata": {},
   "outputs": [],
   "source": [
    "set(within_eucli)"
   ]
  },
  {
   "cell_type": "code",
   "execution_count": null,
   "id": "d68c2d12",
   "metadata": {},
   "outputs": [],
   "source": [
    "# Select census block groups within the distance \n",
    "y_eucli = cbg.loc[cbg['GEOID'].isin(set(within_eucli))]\n",
    "n_eucli = cbg.loc[~cbg['GEOID'].isin(set(within_eucli))]"
   ]
  },
  {
   "cell_type": "code",
   "execution_count": null,
   "id": "5f3deaf0",
   "metadata": {
    "scrolled": false
   },
   "outputs": [],
   "source": [
    "# Plot Eluclidean distance result\n",
    "fig, ax = plt.subplots(figsize=(7, 10))\n",
    "\n",
    "hc_buffer_union_1.boundary.plot(ax=ax, color='blue', lw=0.5, zorder=2)\n",
    "y_eucli.plot(ax=ax, color='#ef8a62', zorder=1)\n",
    "n_eucli.plot(ax=ax, color='#bababa', zorder=1)\n",
    "\n",
    "# Decoration\n",
    "hc.plot(ax=ax, markersize=50, color='blue', zorder=2)\n",
    "cbg.centroid.plot(ax=ax, markersize=5, color='black')  # Centroids of Census Block Groups\n",
    "cbg.boundary.plot(ax=ax, linestyle='dotted', lw=0.5, color='black', zorder=1)\n",
    "\n",
    "ax.get_xaxis().set_visible(False)\n",
    "ax.get_yaxis().set_visible(False)\n",
    "\n",
    "plt.show()"
   ]
  },
  {
   "cell_type": "code",
   "execution_count": null,
   "id": "a4682b85",
   "metadata": {},
   "outputs": [],
   "source": [
    "# In summary, the following is the necessary code for the euclidean distance approach.\n",
    "\n",
    "# Calculate euclidean distance between every healthcare and census block group\n",
    "within_eucli = []\n",
    "\n",
    "for idx_h, row_h in hc.iterrows():  # Iterate through healthcare resources\n",
    "    for idx_c, row_c in cbg.iterrows():  # Iterate through census block groups\n",
    "        \n",
    "        temp_dist = row_h.geometry.distance(row_c.geometry.centroid)  # Measure distance between two locations\n",
    "       \n",
    "        if temp_dist < dist:  # dist: 8000 meters   \n",
    "            within_eucli.append(row_c['GEOID'])  # append GEOID of a CBG if the distance is less than the threshold\n",
    "\n",
    "# Select census block groups within the distance \n",
    "y_eucli = cbg.loc[cbg['GEOID'].isin(set(within_eucli))]\n",
    "n_eucli = cbg.loc[~cbg['GEOID'].isin(set(within_eucli))]"
   ]
  },
  {
   "cell_type": "markdown",
   "id": "4905d154",
   "metadata": {},
   "source": [
    "## 4. Manhattan Distance based on OD Matrix\n",
    "\n",
    "Given the fact that people actually travel through the road network, consideration of manhattan distance would provide more accurate information. <br>\n",
    "For this purpose, we will employ two packages, `osmnx` and `networkx`. \n",
    "* <a href=https://osmnx.readthedocs.io/en/stable/>`osmnx`</a> is a Python package to retrieve, model, analyze, and visualize street networks from OpenStreetMap. It inherits most of configuration of `networkx`. Users can download and model walkable, drivable, or bikeable urban networks with a single line of Python code, and then easily analyze and visualize them. \n",
    "* <a href=https://networkx.org/>`NetworkX`</a> is a Python package for the creation, manipulation, and study of the structure, dynamics, and functions of complex networks.\n",
    "\n"
   ]
  },
  {
   "cell_type": "code",
   "execution_count": null,
   "id": "1427bbf2",
   "metadata": {},
   "outputs": [],
   "source": [
    "# Import necessary packages\n",
    "import osmnx as ox\n",
    "import networkx as nx\n",
    "from tqdm import tqdm"
   ]
  },
  {
   "cell_type": "markdown",
   "id": "5f3dff1a",
   "metadata": {},
   "source": [
    "### 4.1. Data preprocessing\n",
    "\n",
    "We can import road network from anywhere around the world with <a href=https://osmnx.readthedocs.io/en/stable/osmnx.html#osmnx.graph.graph_from_place>`ox.graph_from_place()`</a>. The return variable has the type of `networkx`. "
   ]
  },
  {
   "cell_type": "code",
   "execution_count": null,
   "id": "74043472",
   "metadata": {},
   "outputs": [],
   "source": [
    "G = ox.graph_from_place('Champaign County, IL, USA', network_type='drive', simplify=True)\n",
    "G"
   ]
  },
  {
   "cell_type": "code",
   "execution_count": null,
   "id": "15ea7670",
   "metadata": {
    "scrolled": true
   },
   "outputs": [],
   "source": [
    "ox.plot_graph(G)"
   ]
  },
  {
   "cell_type": "markdown",
   "id": "8edcec4b",
   "metadata": {},
   "source": [
    "We need to match CRS to measure the distance, appropriately; therefore, we project the graph to epsg 26971."
   ]
  },
  {
   "cell_type": "code",
   "execution_count": null,
   "id": "acda4d4f",
   "metadata": {},
   "outputs": [],
   "source": [
    "G = ox.projection.project_graph(G, to_crs='epsg:26971')\n",
    "ox.plot_graph(G)"
   ]
  },
  {
   "cell_type": "markdown",
   "id": "b0ba46a0",
   "metadata": {},
   "source": [
    "Next step is to find the nearest osm element from `hc` and `cbg` for running network analysis on the OSM network. "
   ]
  },
  {
   "cell_type": "code",
   "execution_count": null,
   "id": "b5ae8742",
   "metadata": {},
   "outputs": [],
   "source": [
    "hc.at[0, 'geometry'] # Geometry of the Carle Foundation Hospital"
   ]
  },
  {
   "cell_type": "code",
   "execution_count": null,
   "id": "291998c2",
   "metadata": {},
   "outputs": [],
   "source": [
    "# This function returns the OSM id of the node\n",
    "ox.distance.nearest_nodes(G=G, \n",
    "                          X=hc.at[0, 'geometry'].x, \n",
    "                          Y=hc.at[0, 'geometry'].y,\n",
    "#                           return_dist=True\n",
    "                         )"
   ]
  },
  {
   "cell_type": "code",
   "execution_count": null,
   "id": "c44c40c1",
   "metadata": {},
   "outputs": [],
   "source": [
    "# This function helps you to find the nearest OSM node from a given GeoDataFrame\n",
    "# If geom type is point, it will take it without modification, but \n",
    "# IF geom type is polygon or multipolygon, it will take its centroid to calculate the nearest element. \n",
    "\n",
    "def find_nearest_osm(network, gdf):\n",
    "    for idx, row in tqdm(gdf.iterrows(), total=gdf.shape[0]):\n",
    "        if row.geometry.geom_type == 'Point':\n",
    "            nearest_osm = ox.distance.nearest_nodes(network, \n",
    "                                                    X=row.geometry.x, \n",
    "                                                    Y=row.geometry.y\n",
    "                                                   )\n",
    "        elif row.geometry.geom_type == 'Polygon' or row.geometry.geom_type == 'MultiPolygon':\n",
    "            nearest_osm = ox.distance.nearest_nodes(network, \n",
    "                                        X=row.geometry.centroid.x, \n",
    "                                        Y=row.geometry.centroid.y\n",
    "                                       )\n",
    "        else:\n",
    "            print(row.geometry.geom_type)\n",
    "            continue\n",
    "\n",
    "        gdf.at[idx, 'nearest_osm'] = nearest_osm\n",
    "\n",
    "    return gdf"
   ]
  },
  {
   "cell_type": "code",
   "execution_count": null,
   "id": "fe7c776f",
   "metadata": {},
   "outputs": [],
   "source": [
    "hc = find_nearest_osm(G, hc)\n",
    "cbg = find_nearest_osm(G, cbg)"
   ]
  },
  {
   "cell_type": "code",
   "execution_count": null,
   "id": "4ef694d5",
   "metadata": {},
   "outputs": [],
   "source": [
    "hc.head()"
   ]
  },
  {
   "cell_type": "code",
   "execution_count": null,
   "id": "df6826d4",
   "metadata": {},
   "outputs": [],
   "source": [
    "cbg.head()"
   ]
  },
  {
   "cell_type": "markdown",
   "id": "112de31a",
   "metadata": {},
   "source": [
    "It is also possible to convert the OSM road network to GeoPandas GeoDataFrame with `ox.graph_to_gdfs()`. "
   ]
  },
  {
   "cell_type": "code",
   "execution_count": null,
   "id": "97e29aaa",
   "metadata": {},
   "outputs": [],
   "source": [
    "nodes, edges = ox.graph_to_gdfs(G, nodes=True, edges=True, node_geometry=True)"
   ]
  },
  {
   "cell_type": "code",
   "execution_count": null,
   "id": "a3effd33",
   "metadata": {},
   "outputs": [],
   "source": [
    "edges.head()"
   ]
  },
  {
   "cell_type": "code",
   "execution_count": null,
   "id": "40fd6f6f",
   "metadata": {},
   "outputs": [],
   "source": [
    "nodes.head()"
   ]
  },
  {
   "cell_type": "markdown",
   "id": "0baae885",
   "metadata": {},
   "source": [
    "### 4.2. Calculate the shortest path between two locations\n",
    "\n",
    "We can calculate shortest path between two locations and produce two different results.\n",
    "* <a href=https://networkx.org/documentation/stable/reference/algorithms/generated/networkx.algorithms.shortest_paths.generic.shortest_path.html>nx.shortest_path()</a>: Compute shortest paths in the graph.\n",
    "* <a href=https://networkx.org/documentation/stable/reference/algorithms/generated/networkx.algorithms.shortest_paths.generic.shortest_path_length.html>nx.shortest_path_length()</a>: Compute shortest path lengths in the graph."
   ]
  },
  {
   "cell_type": "code",
   "execution_count": null,
   "id": "f4084af9",
   "metadata": {},
   "outputs": [],
   "source": [
    "hc.loc[0]"
   ]
  },
  {
   "cell_type": "code",
   "execution_count": null,
   "id": "803a5f72",
   "metadata": {},
   "outputs": [],
   "source": [
    "hc.loc[1]"
   ]
  },
  {
   "cell_type": "code",
   "execution_count": null,
   "id": "0dfac3a1",
   "metadata": {},
   "outputs": [],
   "source": [
    "# Returns the node ids of the shortest path\n",
    "routes = nx.shortest_path(G=G, \n",
    "                          source=hc.loc[0, 'nearest_osm'], \n",
    "                          target=hc.loc[1, 'nearest_osm'], \n",
    "                          weight='length',\n",
    "                          method='dijkstra'\n",
    "                         )\n",
    "routes"
   ]
  },
  {
   "cell_type": "code",
   "execution_count": null,
   "id": "85720e24",
   "metadata": {},
   "outputs": [],
   "source": [
    "ox.plot.plot_graph_route(G, routes)"
   ]
  },
  {
   "cell_type": "code",
   "execution_count": null,
   "id": "ad95a88e",
   "metadata": {},
   "outputs": [],
   "source": [
    "# Returns the length of the shortest path\n",
    "nx.shortest_path_length(G=G, \n",
    "                        source=hc.loc[0, 'nearest_osm'], \n",
    "                        target=hc.loc[1, 'nearest_osm'], \n",
    "                        weight='length',\n",
    "                        method='dijkstra'\n",
    "                       )"
   ]
  },
  {
   "cell_type": "markdown",
   "id": "94115072",
   "metadata": {},
   "source": [
    "Verify distance on Google Maps. \n",
    "\n",
    "https://www.google.com/maps/dir/Carle+Foundation+Hospital,+West+Park+Street,+Urbana,+IL/The+Pavilion+Foundation,+809+W+Church+St,+Champaign,+IL+61820/@40.1199771,-88.2449266,15z/data=!3m1!4b1!4m14!4m13!1m5!1m1!1s0x880cd7719b423a01:0x1cbc0832642e6bd9!2m2!1d-88.2155548!2d40.1169714!1m5!1m1!1s0x880cd0ba1673d039:0x1222076f6d85d29c!2m2!1d-88.2576659!2d40.1177169!3e0"
   ]
  },
  {
   "cell_type": "code",
   "execution_count": null,
   "id": "5df2d582",
   "metadata": {},
   "outputs": [],
   "source": [
    "# Calculate Manhattan distance between every healthcare and census block group\n",
    "within_manh = []\n",
    "\n",
    "for idx_h, row_h in tqdm(hc.iterrows(), total=hc.shape[0]):\n",
    "    for idx_c, row_c in cbg.iterrows():\n",
    "        \n",
    "        temp_dist = nx.shortest_path_length(G=G, \n",
    "                                            source=row_h['nearest_osm'], \n",
    "                                            target=row_c['nearest_osm'], \n",
    "                                            weight='length',\n",
    "                                            method='dijkstra'\n",
    "                                           )\n",
    "#         print(f'From HC {idx_h} to CBG {idx_c}, Distance: {round(temp_dist)} m' )\n",
    "        \n",
    "        if temp_dist < dist:\n",
    "            within_manh.append(row_c['GEOID'])\n"
   ]
  },
  {
   "cell_type": "code",
   "execution_count": null,
   "id": "d070e57d",
   "metadata": {},
   "outputs": [],
   "source": [
    "# Select census block groups within the distance \n",
    "y_manh = cbg.loc[cbg['GEOID'].isin(set(within_manh))]\n",
    "n_manh = cbg.loc[~cbg['GEOID'].isin(set(within_manh))]"
   ]
  },
  {
   "cell_type": "code",
   "execution_count": null,
   "id": "f4b4d671",
   "metadata": {},
   "outputs": [],
   "source": [
    "# Plot Manhattan distance result\n",
    "fig, ax = plt.subplots(figsize=(7, 10))\n",
    "\n",
    "hc_buffer_union_1.boundary.plot(ax=ax, color='blue', lw=0.5, zorder=2)\n",
    "y_manh.plot(ax=ax, color='#ef8a62', zorder=1)\n",
    "n_manh.plot(ax=ax, color='#bababa', zorder=1)\n",
    "\n",
    "# Decoration\n",
    "hc.plot(ax=ax, markersize=50, color='blue', zorder=2)\n",
    "cbg.centroid.plot(ax=ax, markersize=5, color='black')  # Centroids of Census Block Groups\n",
    "cbg.boundary.plot(ax=ax, linestyle='dotted', lw=0.5, color='black', zorder=1)\n",
    "\n",
    "ax.get_xaxis().set_visible(False)\n",
    "ax.get_yaxis().set_visible(False)\n",
    "\n",
    "plt.show()"
   ]
  },
  {
   "cell_type": "code",
   "execution_count": null,
   "id": "04322dcd",
   "metadata": {},
   "outputs": [],
   "source": [
    "# In summary, the following is the necessary code for the Manhattan distance approach.\n",
    "\n",
    "# Obtain Network from Open Street Map and project to a local CRS\n",
    "G = ox.graph_from_place('Champaign County, IL, USA', network_type='drive', simplify=True)\n",
    "G = ox.projection.project_graph(G, to_crs='epsg:26971')\n",
    "\n",
    "# Find the nearest OSM node from the given GeoDataFrame (NOTE: find_nearest_osm is a user-defined function)\n",
    "hc = find_nearest_osm(G, hc)\n",
    "cbg = find_nearest_osm(G, cbg)\n",
    "\n",
    "# Calculate Manhattan distance between every healthcare and census block group\n",
    "within_manh = []\n",
    "for idx_h, row_h in tqdm(hc.iterrows(), total=hc.shape[0]):  # Iterate through healthcare resources\n",
    "    for idx_c, row_c in cbg.iterrows():   # Iterate through census block groups\n",
    "        \n",
    "        # Measure Manhattan distance between two locations (actually between two OSM nodes)\n",
    "        temp_dist = nx.shortest_path_length(G=G, source=row_h['nearest_osm'], target=row_c['nearest_osm'], weight='length', method='dijkstra')\n",
    "        \n",
    "        if temp_dist < dist:  # dist: 8000 meters\n",
    "            within_manh.append(row_c['GEOID'])  # append GEOID of a CBG if the distance is less than the threshold          \n",
    "\n",
    "# Select census block groups within the distance \n",
    "y_manh = cbg.loc[cbg['GEOID'].isin(set(within_manh))]\n",
    "n_manh = cbg.loc[~cbg['GEOID'].isin(set(within_manh))]\n"
   ]
  },
  {
   "cell_type": "markdown",
   "id": "68022561",
   "metadata": {},
   "source": [
    "## 5. Compare the results"
   ]
  },
  {
   "cell_type": "code",
   "execution_count": null,
   "id": "c231dd8f",
   "metadata": {},
   "outputs": [],
   "source": [
    "fig, axes = plt.subplots(1, 3, figsize=(20, 10))\n",
    "\n",
    "# First approach: Buffer analysis\n",
    "hc_buffer_union_1.boundary.plot(ax=axes[0], color='blue', lw=0.5, zorder=2)\n",
    "y_buffer_1.plot(ax=axes[0], color='#ef8a62', zorder=1)\n",
    "n_buffer_1.plot(ax=axes[0], color='#bababa', zorder=1)\n",
    "\n",
    "## Decoration purpose\n",
    "hc.plot(ax=axes[0], markersize=50, color='blue', zorder=2)\n",
    "cbg.boundary.plot(ax=axes[0], linestyle='dotted', lw=0.5, color='black', zorder=1)\n",
    "axes[0].set_title('Buffer analysis')\n",
    "axes[0].get_xaxis().set_visible(False)\n",
    "axes[0].get_yaxis().set_visible(False)\n",
    "\n",
    "# Second approach: Euclidean distance OD matrix\n",
    "hc_buffer_union_1.boundary.plot(ax=axes[1], color='blue', lw=0.5, zorder=2)\n",
    "y_eucli.plot(ax=axes[1], color='#ef8a62', zorder=1)\n",
    "n_eucli.plot(ax=axes[1], color='#bababa', zorder=1)\n",
    "\n",
    "# Decoration\n",
    "hc.plot(ax=axes[1], markersize=50, color='blue', zorder=2)\n",
    "cbg.centroid.plot(ax=axes[1], markersize=5, color='black')  # Centroids of Census Block Groups\n",
    "cbg.boundary.plot(ax=axes[1], linestyle='dotted', lw=0.5, color='black', zorder=1)\n",
    "axes[1].set_title('Euclidean distance')\n",
    "axes[1].get_xaxis().set_visible(False)\n",
    "axes[1].get_yaxis().set_visible(False)\n",
    "\n",
    "# Third approach: Manhattan distance OD matrix\n",
    "hc_buffer_union_1.boundary.plot(ax=axes[2], color='blue', lw=0.5, zorder=2)\n",
    "y_manh.plot(ax=axes[2], color='#ef8a62', zorder=1)\n",
    "n_manh.plot(ax=axes[2], color='#bababa', zorder=1)\n",
    "\n",
    "# Decoration\n",
    "hc.plot(ax=axes[2], markersize=50, color='blue', zorder=2)\n",
    "cbg.centroid.plot(ax=axes[2], markersize=5, color='black')  # Centroids of Census Block Groups\n",
    "cbg.boundary.plot(ax=axes[2], linestyle='dotted', lw=0.5, color='black', zorder=1)\n",
    "axes[2].set_title('Manhattan distance')\n",
    "axes[2].get_xaxis().set_visible(False)\n",
    "axes[2].get_yaxis().set_visible(False)\n",
    "\n",
    "plt.show()"
   ]
  },
  {
   "cell_type": "markdown",
   "id": "a6bddbba",
   "metadata": {},
   "source": [
    "## 6. The most efficient and accurate way: Manhattan distance with Convex Hull\n",
    "\n",
    "One of the caveats calculating the OD matrix of Manhattan distance is the computational intensity. It is slow. <br>\n",
    "One workaround is to calculate the list of nodes that is accessible from healthcare resources and create their convex hull. It will provide a higher accuracy, but the computational speed will be similar to the buffer analysis. \n",
    "\n",
    "* <a href=https://networkx.org/documentation/stable/reference/algorithms/generated/networkx.algorithms.shortest_paths.weighted.single_source_dijkstra_path_length.html>nx.single_source_dijkstra_path_length</a>: Find shortest weighted path lengths in G from a source node."
   ]
  },
  {
   "cell_type": "code",
   "execution_count": null,
   "id": "a749e4cf",
   "metadata": {},
   "outputs": [],
   "source": [
    "# This returns the dictionary that has OSM node as its key and the distance as value.\n",
    "temp_nodes = nx.single_source_dijkstra_path_length(G, hc.loc[0, 'nearest_osm'], dist, weight='length')\n",
    "temp_nodes"
   ]
  },
  {
   "cell_type": "code",
   "execution_count": null,
   "id": "9e343977",
   "metadata": {
    "scrolled": false
   },
   "outputs": [],
   "source": [
    "fig, ax = plt.subplots(figsize=(10, 10))\n",
    "\n",
    "# Select nodes within threshold distance\n",
    "nodes.loc[nodes.index.isin(temp_nodes.keys())].plot(ax=ax, color='black', markersize=1)\n",
    "nodes.loc[~nodes.index.isin(temp_nodes.keys())].plot(ax=ax, color='grey', markersize=1)\n",
    "\n",
    "gpd.GeoSeries(nodes.loc[nodes.index.isin(temp_nodes.keys()), 'geometry'].unary_union.convex_hull).boundary.plot(ax=ax, color='red', lw=1, zorder=2)\n",
    "gpd.GeoSeries(hc.loc[0, 'geometry']).buffer(dist).boundary.plot(ax=ax, color='blue', lw=1, zorder=2)\n",
    "gpd.GeoSeries(hc.loc[0, 'geometry']).plot(ax=ax, color='yellow', markersize=100)\n",
    "\n",
    "ax.get_xaxis().set_visible(False)\n",
    "ax.get_yaxis().set_visible(False)"
   ]
  },
  {
   "cell_type": "code",
   "execution_count": null,
   "id": "7af093d7",
   "metadata": {},
   "outputs": [],
   "source": [
    "nodes, edges = ox.graph_to_gdfs(G, nodes=True, edges=True, node_geometry=True)\n",
    "nodes"
   ]
  },
  {
   "cell_type": "code",
   "execution_count": null,
   "id": "2068be0d",
   "metadata": {},
   "outputs": [],
   "source": [
    "access_nodes = nodes.loc[nodes.index.isin(temp_nodes.keys()), 'geometry']\n",
    "access_nodes"
   ]
  },
  {
   "cell_type": "code",
   "execution_count": null,
   "id": "b0d5ff11",
   "metadata": {},
   "outputs": [],
   "source": [
    "access_nodes.unary_union  # Union every nodes\n",
    "access_nodes.unary_union.convex_hull # Create convex hull from the unioned nodes"
   ]
  },
  {
   "cell_type": "markdown",
   "id": "45521369",
   "metadata": {},
   "source": [
    "Now we configure a for loop (not nested) to calculate the accessible location at once. "
   ]
  },
  {
   "cell_type": "code",
   "execution_count": null,
   "id": "7994a180",
   "metadata": {},
   "outputs": [],
   "source": [
    "convex_hulls = gpd.GeoSeries()\n",
    "\n",
    "for idx, row in tqdm(hc.iterrows(), total=hc.shape[0]):\n",
    "    temp_nodes = nx.single_source_dijkstra_path_length(G, row['nearest_osm'], dist, weight='length')\n",
    "    access_nodes = nodes.loc[nodes.index.isin(temp_nodes.keys()), 'geometry']\n",
    "    access_nodes_ = gpd.GeoSeries(access_nodes.unary_union.convex_hull)\n",
    "    convex_hulls = convex_hulls.append(access_nodes_, ignore_index=True)\n",
    "    \n",
    "convex_hulls"
   ]
  },
  {
   "cell_type": "code",
   "execution_count": null,
   "id": "023b1aa8",
   "metadata": {},
   "outputs": [],
   "source": [
    "fig, ax = plt.subplots(figsize=(7, 10))\n",
    "\n",
    "hc_buffer.boundary.plot(ax=ax, color='blue', lw=0.5, zorder=2)\n",
    "convex_hulls.boundary.plot(ax=ax, color='red', lw=0.5, zorder=2)\n",
    "\n",
    "## Decoration purpose\n",
    "hc.plot(ax=ax, markersize=50, color='blue', zorder=2)\n",
    "cbg.boundary.plot(ax=ax, linestyle='dotted', lw=0.5, color='black', zorder=1)\n",
    "\n",
    "ax.get_xaxis().set_visible(False)\n",
    "ax.get_yaxis().set_visible(False)"
   ]
  },
  {
   "cell_type": "markdown",
   "id": "eb970fb1",
   "metadata": {},
   "source": [
    "We still don't want to have overlaid convex hulls for visualization purposes. Let's use `unary_union` again. "
   ]
  },
  {
   "cell_type": "code",
   "execution_count": null,
   "id": "4fe163d6",
   "metadata": {},
   "outputs": [],
   "source": [
    "convex_hulls_union = convex_hulls.unary_union\n",
    "convex_hulls_union = gpd.GeoSeries(convex_hulls_union)\n",
    "convex_hulls_union.plot()"
   ]
  },
  {
   "cell_type": "code",
   "execution_count": null,
   "id": "68286bdc",
   "metadata": {},
   "outputs": [],
   "source": [
    "y_convex_hull = cbg.loc[cbg.geometry.centroid.within(convex_hulls_union[0])]\n",
    "n_convex_hull = cbg.loc[~cbg.geometry.centroid.within(convex_hulls_union[0])]"
   ]
  },
  {
   "cell_type": "code",
   "execution_count": null,
   "id": "f71145d3",
   "metadata": {},
   "outputs": [],
   "source": [
    "fig, axes = plt.subplots(1, 3, figsize=(20, 10))\n",
    "\n",
    "# First: Buffer analysis\n",
    "hc_buffer_union_1.boundary.plot(ax=axes[0], color='blue', lw=0.5, zorder=2)\n",
    "y_buffer_1.plot(ax=axes[0], color='#ef8a62', zorder=1)\n",
    "n_buffer_1.plot(ax=axes[0], color='#bababa', zorder=1)\n",
    "\n",
    "## Decoration purpose\n",
    "hc.plot(ax=axes[0], markersize=50, color='blue', zorder=2)\n",
    "cbg.boundary.plot(ax=axes[0], linestyle='dotted', lw=0.5, color='black', zorder=1)\n",
    "axes[0].set_title('Buffer analysis')\n",
    "axes[0].get_xaxis().set_visible(False)\n",
    "axes[0].get_yaxis().set_visible(False)\n",
    "\n",
    "# Second: Manhattan distance OD matrix\n",
    "hc_buffer_union_1.boundary.plot(ax=axes[1], color='blue', lw=0.5, zorder=2)\n",
    "y_manh.plot(ax=axes[1], color='#ef8a62', zorder=1)\n",
    "n_manh.plot(ax=axes[1], color='#bababa', zorder=1)\n",
    "\n",
    "# Decoration\n",
    "hc.plot(ax=axes[1], markersize=50, color='blue', zorder=2)\n",
    "cbg.centroid.plot(ax=axes[1], markersize=5, color='black')  # Centroids of Census Block Groups\n",
    "cbg.boundary.plot(ax=axes[1], linestyle='dotted', lw=0.5, color='black', zorder=1)\n",
    "axes[1].set_title('Manhattan distance')\n",
    "axes[1].get_xaxis().set_visible(False)\n",
    "axes[1].get_yaxis().set_visible(False)\n",
    "\n",
    "# Third: Convex Hull\n",
    "convex_hulls_union.boundary.plot(ax=axes[2], color='blue', lw=0.5, zorder=2)\n",
    "y_convex_hull.plot(ax=axes[2], color='#ef8a62', zorder=1)\n",
    "n_convex_hull.plot(ax=axes[2], color='#bababa', zorder=1)\n",
    "\n",
    "# Decoration\n",
    "hc.plot(ax=axes[2], markersize=50, color='blue', zorder=2)\n",
    "cbg.centroid.plot(ax=axes[2], markersize=5, color='black')  # Centroids of Census Block Groups\n",
    "cbg.boundary.plot(ax=axes[2], linestyle='dotted', lw=0.5, color='black', zorder=1)\n",
    "axes[2].set_title('Convex Hull')\n",
    "axes[2].get_xaxis().set_visible(False)\n",
    "axes[2].get_yaxis().set_visible(False)\n",
    "\n",
    "axes[0].set_xlim(axes[2].get_xlim())\n",
    "axes[0].set_ylim(axes[2].get_ylim())\n",
    "\n",
    "axes[1].set_xlim(axes[2].get_xlim())\n",
    "axes[1].set_ylim(axes[2].get_ylim())\n",
    "\n",
    "plt.show()"
   ]
  }
 ],
 "metadata": {
  "kernelspec": {
   "display_name": "Python 3",
   "language": "python",
   "name": "python3"
  },
  "language_info": {
   "codemirror_mode": {
    "name": "ipython",
    "version": 3
   },
   "file_extension": ".py",
   "mimetype": "text/x-python",
   "name": "python",
   "nbconvert_exporter": "python",
   "pygments_lexer": "ipython3",
   "version": "3.8.12"
  }
 },
 "nbformat": 4,
 "nbformat_minor": 5
}
