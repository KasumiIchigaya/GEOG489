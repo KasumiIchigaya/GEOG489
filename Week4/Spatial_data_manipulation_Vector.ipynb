{
 "cells": [
  {
   "cell_type": "code",
   "execution_count": null,
   "id": "cfdb3204",
   "metadata": {},
   "outputs": [],
   "source": [
    "%%HTML\n",
    "\n",
    "<style>\n",
    "td {\n",
    "  font-size: 12px\n",
    "}\n",
    "th{\n",
    "  font-size: 12px  \n",
    "}\n",
    "</style>"
   ]
  },
  {
   "cell_type": "markdown",
   "id": "af1ef071",
   "metadata": {},
   "source": [
    "# Spatial Data Manipulation: Vector"
   ]
  },
  {
   "cell_type": "markdown",
   "id": "dd0a86c4-0860-47c1-8161-8fe963e4f5e3",
   "metadata": {},
   "source": [
    "## 1. Overview of Geopandas\n",
    "\n",
    "`Geopands` is one of the most important Python libraries for working with vector data. It is based on the `pandas` library and has dependencies on `Shapely`, `Fiona` and `pyproj`. \n",
    "* `Shapely` is a Python package for manipulation and analysis of planar features, using functions from the GEOS library (the engine of PostGIS) and a port of the JTS (Java Topology Suite). Shapely only deals with analyzing geometries and offers no capabilities for reading and writing geospatial files. \n",
    "* `Fiona` the API (Application Programming Interface) of OGR (it used to stand for 'OpenGIS Simple Feature Reference Implementation', but not anymore; only a historical name in nature). It can be used for reading and writing data formats. \n",
    "* `pyproj` is a Python package that performs cartographic transformations and geodetic computations.\n",
    "\n",
    "### 1.1. Importing the package and reading data\n",
    "You can read geospatial data with `gpd.read_file()`, such as ESRI shapefile, GeoJSON, GeoPackage. To export geospatial data, you can use `gpd.to_file()`. "
   ]
  },
  {
   "cell_type": "code",
   "execution_count": null,
   "id": "99d712e1",
   "metadata": {
    "jupyter": {
     "outputs_hidden": true
    },
    "scrolled": true,
    "tags": []
   },
   "outputs": [],
   "source": [
    "import geopandas as gpd  # import geopandas package and set alias as gpd\n",
    "import pandas as pd\n",
    "\n",
    "states = gpd.read_file('./data/states.json')\n",
    "print(type(states))\n",
    "states"
   ]
  },
  {
   "cell_type": "markdown",
   "id": "58479850",
   "metadata": {},
   "source": [
    "### 1.2. Inheritance of Pandas DataFrame\n",
    "\n",
    "`GeoPandas` works the same way with `Pandas`. In other words, you can use most of the functions of `DataFrame` for `GeoDataFrame`. "
   ]
  },
  {
   "cell_type": "code",
   "execution_count": null,
   "id": "2fa82f4e",
   "metadata": {},
   "outputs": [],
   "source": [
    "states = states.set_index('postal')  # Define 'postal' column as the index of GeoDataFrame\n",
    "print(states.shape)  # Return the size of GeoDataFrame. In our case, 51 rows and 6 columns\n",
    "states.head()"
   ]
  },
  {
   "cell_type": "code",
   "execution_count": null,
   "id": "8c531d97",
   "metadata": {
    "scrolled": true
   },
   "outputs": [],
   "source": [
    "states['name'].to_list()  # Convert GeoSeries to a list"
   ]
  },
  {
   "cell_type": "code",
   "execution_count": null,
   "id": "807a5ec2",
   "metadata": {},
   "outputs": [],
   "source": [
    "# Call FIPS (Federal Information Processing System) codes of Illinois\n",
    "states.at['IL', 'fips'] "
   ]
  },
  {
   "cell_type": "code",
   "execution_count": null,
   "id": "d2ef077f",
   "metadata": {},
   "outputs": [],
   "source": [
    "# Call regions of Alabama, Illinois, and Texas\n",
    "states.loc[['AL', 'IL', 'TX'], 'region']  "
   ]
  },
  {
   "cell_type": "code",
   "execution_count": null,
   "id": "943e01f9",
   "metadata": {},
   "outputs": [],
   "source": [
    "# Call regions of Midwest with a conditional statement\n",
    "states.loc[states['region'] == 'Midwest']"
   ]
  },
  {
   "cell_type": "markdown",
   "id": "f42c1250",
   "metadata": {},
   "source": [
    "### 1.3. Plot(); Major difference between GeoDataFrame and DataFrame\n",
    "\n",
    "If you use `plot()` function in Pandas DataFrame, you will get a plot of numerical values. However, `plot()` in GeoPandas GeoDataFrame will give you a map. "
   ]
  },
  {
   "cell_type": "code",
   "execution_count": null,
   "id": "ca710722",
   "metadata": {
    "scrolled": true
   },
   "outputs": [],
   "source": [
    "# Example of Pandas DataFrame\n",
    "df = pd.read_csv('./data/daily_case.csv')\n",
    "df = df.set_index('County')\n",
    "df.transpose().plot()"
   ]
  },
  {
   "cell_type": "code",
   "execution_count": null,
   "id": "084bea0d-51cc-4cdd-aa66-980a565b4415",
   "metadata": {},
   "outputs": [],
   "source": [
    "# Example of GeoPandas GeoDataFrame\n",
    "# You can specify its color with 'color' attribute. \n",
    "states.plot(color='black')"
   ]
  },
  {
   "cell_type": "markdown",
   "id": "138db08a",
   "metadata": {},
   "source": [
    "Given that `geopandas` is specialized in geospatial analysis, it stores coordinates system as its attribute, too. You can check `Coordinate Reference System (CRS)` of the dataset with `.crs` attrbitue. "
   ]
  },
  {
   "cell_type": "code",
   "execution_count": null,
   "id": "5910425a",
   "metadata": {
    "scrolled": true
   },
   "outputs": [],
   "source": [
    "print(states.crs) # coordinate system of imported dataset, here epsg:4326 indicates WGS 1984. \n",
    "print(type(states.crs)) # the coordinate system information is stored with `pyproj` package. "
   ]
  },
  {
   "cell_type": "markdown",
   "id": "613d46f3",
   "metadata": {},
   "source": [
    "You can change the crs with `to_crs()` function. Simply type epsg code with the attribute name `epsg`."
   ]
  },
  {
   "cell_type": "code",
   "execution_count": null,
   "id": "4ac97cce",
   "metadata": {},
   "outputs": [],
   "source": [
    "albers = states.to_crs(epsg=5070)  # project from WGS84 to USA Contiguous Albers Equal Area Conic (EPSG: 5070). \n",
    "print(albers.crs)\n",
    "albers.plot(color='black')"
   ]
  },
  {
   "cell_type": "markdown",
   "id": "ea6d34fc",
   "metadata": {},
   "source": [
    "You must have noticed that `GeoDataFrame` has an additional column than normal `DataFrame`, which is `geometry` column. `GeoPandas` takes advantage of the column to store geospatial data, with `Shapely`. This is why we can visualize maps with `GeoPandas`."
   ]
  },
  {
   "cell_type": "code",
   "execution_count": null,
   "id": "4fc141ed",
   "metadata": {},
   "outputs": [],
   "source": [
    "states.head()"
   ]
  },
  {
   "cell_type": "markdown",
   "id": "6b343870",
   "metadata": {},
   "source": [
    "## 2. Data Creation\n",
    "### 2.1. Creating Vector data with `Shapely`\n",
    "\n",
    "`Shapely` has the following classes to represent geometry.\n",
    "\n",
    "| Geometry Type | Class |\n",
    "| :-: | :-: |\n",
    "| Point | shapely.geometry.Point() | \n",
    "| Line | shapely.geometry.LineString() <br> shapely.geometry.polygon.LinearRing() | \n",
    "| Polygon | shapely.geometry.Polygon() | \n",
    "| Collection of points | shapely.geometry.MultiPoint() | \n",
    "| Collection of lines | shapely.geometry.MultiLineString() | \n",
    "| Collection of polygons | shapely.geometry.MultiPolygon() | "
   ]
  },
  {
   "cell_type": "code",
   "execution_count": null,
   "id": "f30cd301",
   "metadata": {},
   "outputs": [],
   "source": [
    "from shapely.geometry import Point, LineString, Polygon, MultiPoint, MultiLineString, MultiPolygon"
   ]
  },
  {
   "cell_type": "code",
   "execution_count": null,
   "id": "e86c7834",
   "metadata": {
    "scrolled": true
   },
   "outputs": [],
   "source": [
    "# creating a point\n",
    "pnt = Point(2.0, 2.0)  # x, y coordinates of a point\n",
    "print(pnt.wkt)\n",
    "print(type(pnt))\n",
    "pnt"
   ]
  },
  {
   "cell_type": "code",
   "execution_count": null,
   "id": "d1864c54",
   "metadata": {},
   "outputs": [],
   "source": [
    "# creating a line\n",
    "line = LineString([(0, 0), (3,5), (8, 6), (10,10)])  # x, y coordinates of sequences of points\n",
    "print(line.wkt)\n",
    "print(type(line))\n",
    "line"
   ]
  },
  {
   "cell_type": "code",
   "execution_count": null,
   "id": "87141beb",
   "metadata": {},
   "outputs": [],
   "source": [
    "# creating a ring\n",
    "from shapely.geometry.polygon import LinearRing\n",
    "ring = LinearRing([(0,0), (3,3), (5,8), (3,0)])  # The purpose of this class is to create a boundary of a polygon\n",
    "print(ring.wkt)\n",
    "print(type(ring))\n",
    "ring"
   ]
  },
  {
   "cell_type": "code",
   "execution_count": null,
   "id": "cde7df4b",
   "metadata": {},
   "outputs": [],
   "source": [
    "# creating a polygon\n",
    "pyg = Polygon(((0, 0), (5, 0), (5, 7), (0, 9))) # The order should be kept. \n",
    "print(pyg.wkt)\n",
    "print(type(pyg))\n",
    "pyg"
   ]
  },
  {
   "cell_type": "code",
   "execution_count": null,
   "id": "e038a753",
   "metadata": {},
   "outputs": [],
   "source": [
    "# The order of points matters. The example below shows a situation if the order of points is messed up. \n",
    "pyg2 = Polygon(((0, 0), (5, 7), (5, 0), (0, 9)))\n",
    "pyg2"
   ]
  },
  {
   "cell_type": "code",
   "execution_count": null,
   "id": "5ed0fc8c",
   "metadata": {},
   "outputs": [],
   "source": [
    "# a collection of points\n",
    "pnts = MultiPoint([(0.0, 0.0), (3.0, 3.0)])\n",
    "print(pnts.wkt)\n",
    "print(type(pnts))\n",
    "pnts"
   ]
  },
  {
   "cell_type": "code",
   "execution_count": null,
   "id": "c5630ae2",
   "metadata": {},
   "outputs": [],
   "source": [
    "# how to slice a collection of points\n",
    "pnt1 = pnts.geoms[0]\n",
    "print(pnt1.wkt)\n",
    "print(type(pnt1))\n",
    "pnt1"
   ]
  },
  {
   "cell_type": "markdown",
   "id": "857a3013",
   "metadata": {},
   "source": [
    "###  2.2. Converting DataFrame to GeoDataFrame"
   ]
  },
  {
   "cell_type": "code",
   "execution_count": null,
   "id": "bdb70a14",
   "metadata": {},
   "outputs": [],
   "source": [
    "import pandas as pd\n",
    "\n",
    "# Create a DataFrame with the capitals and its coordinates of some countries in South America. \n",
    "capitals = pd.DataFrame(\n",
    "    {'City': ['Buenos Aires', 'Brasilia', 'Santiago', 'Bogota', 'Caracas'],\n",
    "     'Country': ['Argentina', 'Brazil', 'Chile', 'Colombia', 'Venezuela'],\n",
    "     'Latitude': [-34.58, -15.78, -33.45, 4.60, 10.48],\n",
    "     'Longitude': [-58.66, -47.91, -70.66, -74.08, -66.86]})\n",
    "\n",
    "capitals"
   ]
  },
  {
   "cell_type": "code",
   "execution_count": null,
   "id": "900053cc",
   "metadata": {},
   "outputs": [],
   "source": [
    "capitals_gdf = gpd.GeoDataFrame(capitals, \n",
    "                                # a function to create points based on given coordinates\n",
    "                                geometry=gpd.points_from_xy(capitals.Longitude, capitals.Latitude) \n",
    "                               )\n",
    "capitals_gdf"
   ]
  },
  {
   "cell_type": "markdown",
   "id": "bb1f07e2",
   "metadata": {},
   "source": [
    "`capitals_gdf` is just created from DataFrame so it does not have crs. However, it is still able to be plotted."
   ]
  },
  {
   "cell_type": "code",
   "execution_count": null,
   "id": "5bb2bf2b",
   "metadata": {},
   "outputs": [],
   "source": [
    "print(capitals_gdf.crs)\n",
    "capitals_gdf.plot()"
   ]
  },
  {
   "cell_type": "code",
   "execution_count": null,
   "id": "f2d8f192",
   "metadata": {},
   "outputs": [],
   "source": [
    "'''\n",
    "# The most up to date version ('0.10.2') of GeoPandas has the function `set_crs()`, that can be used as shown below. \n",
    "capitals_gdf = capitals_gdf.set_crs(epsg=4326)\n",
    "\n",
    "However, we will do it another way that the current version on CyberGISX support, given its version of GeoPandas is 0.7.0. \n",
    "'''\n",
    "import pyproj\n",
    "\n",
    "capitals_gdf.crs = pyproj.CRS.from_user_input('epsg:4326')\n",
    "capitals_gdf.crs"
   ]
  },
  {
   "cell_type": "code",
   "execution_count": null,
   "id": "1276d2b4",
   "metadata": {},
   "outputs": [],
   "source": [
    "# Plotting the boundary of counties in South America as a background\n",
    "world = gpd.read_file(gpd.datasets.get_path('naturalearth_lowres')) \n",
    "ax = world[world.continent == 'South America'].plot(\n",
    "    color='white', edgecolor='black')\n",
    "\n",
    "# Overlaying the GeoDataFrame (capitals_gdf) created from a DataFrame\n",
    "capitals_gdf.plot(ax=ax, color='red')"
   ]
  },
  {
   "cell_type": "markdown",
   "id": "d95384d5",
   "metadata": {},
   "source": [
    "## 3. Functions of GeoPandas\n",
    "### 3.1. `.cx[ ]`: Coordinate based indexing"
   ]
  },
  {
   "cell_type": "code",
   "execution_count": null,
   "id": "963de02a",
   "metadata": {},
   "outputs": [],
   "source": [
    "# a function to help your understanding on coordinate based indexing\n",
    "\n",
    "def create_bbox(lower_left, upper_right):  \n",
    "    '''Return a bounding box using two coordinates (lower left corner and upper right corner)\n",
    "    \n",
    "    Input : lower_left - lower left corner of a bounding box (x_coordinate, y_coordinate)\n",
    "            upper_right - upper right corner of a bounding box (x_coordinate, y_coordinate)\n",
    "    \n",
    "    Output: GeoDataFrame only with a bounding box geometry\n",
    "    \n",
    "    '''\n",
    "    ll = lower_left  # lower left\n",
    "    lr = (upper_right[0], lower_left[1])  # lower right\n",
    "    ur = upper_right # upper right\n",
    "    ul = (lower_left[0], upper_right[1]) # upper left\n",
    "    \n",
    "    bbox = Polygon((ll, lr, ur, ul))\n",
    "    bbox_gdf = gpd.GeoDataFrame(geometry=[bbox])\n",
    "    \n",
    "    return bbox_gdf\n",
    "   "
   ]
  },
  {
   "cell_type": "code",
   "execution_count": null,
   "id": "01de3484",
   "metadata": {
    "scrolled": true
   },
   "outputs": [],
   "source": [
    "x_min = -124\n",
    "x_max = -100\n",
    "y_min = 30\n",
    "y_max = 40\n",
    "\n",
    "# Coordinate based indexer (gpd.GeoDataFrame.cx)\n",
    "exp = states.cx[x_min:x_max, y_min: y_max]  # .cx[xmin:xmax, ymin:ymax]\n",
    "ax = exp.plot(cmap='Set1')\n",
    "# create_bbox((x_min, y_min), (x_max, y_max)).boundary.plot(ax=ax, color='black')  # uncomment this to see a bounding box"
   ]
  },
  {
   "cell_type": "markdown",
   "id": "da143a60",
   "metadata": {},
   "source": [
    "---\n",
    "### *Exercise*\n",
    "1. Search the States under the latitude of 30.\n",
    "2. Count the number of states and save the number as `count_states`. \n",
    "3. Save the names of states as `name_states`.\n",
    "---"
   ]
  },
  {
   "cell_type": "code",
   "execution_count": null,
   "id": "3c75932a",
   "metadata": {},
   "outputs": [],
   "source": [
    "# Your code here\n",
    "\n"
   ]
  },
  {
   "cell_type": "code",
   "execution_count": null,
   "id": "e01a6d4a",
   "metadata": {},
   "outputs": [],
   "source": [
    "\"\"\" Test code for the previous function. This cell should NOT give any errors when it is run.\"\"\"\n",
    "\n",
    "assert count_states == 4\n",
    "assert name_states == ['Florida', 'Hawaii', 'Louisiana', 'Texas']\n",
    "\n",
    "print('Success!')"
   ]
  },
  {
   "cell_type": "markdown",
   "id": "5a150094",
   "metadata": {},
   "source": [
    "### 3.2. Geometrical methods inherited from `Shapely`\n",
    "\n",
    "`Shapely` has various gemetrical methods, such as calculating the area or perimeter of geometry. "
   ]
  },
  {
   "cell_type": "code",
   "execution_count": null,
   "id": "f3e26389",
   "metadata": {},
   "outputs": [],
   "source": [
    "# A polygon we created earlier\n",
    "pyg"
   ]
  },
  {
   "cell_type": "code",
   "execution_count": null,
   "id": "ca979623",
   "metadata": {},
   "outputs": [],
   "source": [
    "# apply geometrical methods with Shapely\n",
    "print(pyg.area)  # area\n",
    "print(pyg.bounds)  # bounding box\n",
    "print(pyg.length)  # perimeter\n",
    "print(pyg.geom_type)  # geometry type"
   ]
  },
  {
   "cell_type": "code",
   "execution_count": null,
   "id": "957c3ca8",
   "metadata": {},
   "outputs": [],
   "source": [
    "# Use case: Example of real dataset\n",
    "albers.loc['IL', 'geometry']"
   ]
  },
  {
   "cell_type": "code",
   "execution_count": null,
   "id": "a4c3f0fa",
   "metadata": {},
   "outputs": [],
   "source": [
    "# To indicate that the unit of Albers projection is `meter`\n",
    "albers.crs"
   ]
  },
  {
   "cell_type": "code",
   "execution_count": null,
   "id": "0588c266",
   "metadata": {},
   "outputs": [],
   "source": [
    "print(albers.loc['IL', 'geometry'].area)  # in meters\n",
    "print(albers.loc['IL', 'geometry'].bounds)\n",
    "print(albers.loc['IL', 'geometry'].length)  # in meters\n",
    "print(albers.loc['IL', 'geometry'].geom_type)"
   ]
  },
  {
   "cell_type": "code",
   "execution_count": null,
   "id": "13b44033",
   "metadata": {
    "scrolled": false
   },
   "outputs": [],
   "source": [
    "print(albers.loc['HI', 'geometry'].area)  # in meters\n",
    "print(albers.loc['HI', 'geometry'].bounds)\n",
    "print(albers.loc['HI', 'geometry'].length)  # in meters\n",
    "print(albers.loc['HI', 'geometry'].geom_type)"
   ]
  },
  {
   "cell_type": "code",
   "execution_count": null,
   "id": "4a263994",
   "metadata": {},
   "outputs": [],
   "source": [
    "# The following example is to show the impact of projections (crs) on calculating area and peripeter of shape. \n",
    "merc = albers.to_crs(epsg=3857)  # Change projection to Web Mercator (epsg:3857)\n",
    "merc.plot(color='black')"
   ]
  },
  {
   "cell_type": "code",
   "execution_count": null,
   "id": "10df609d",
   "metadata": {},
   "outputs": [],
   "source": [
    "# Shape of Illinois with Web Mercator projection (i.e., Equirectangular projection)\n",
    "print(merc.loc['IL', 'geometry'].area / 2.59e+6, 'SqMi') # Unit: Square Mile\n",
    "merc.loc['IL', 'geometry']"
   ]
  },
  {
   "cell_type": "code",
   "execution_count": null,
   "id": "37f995c3",
   "metadata": {},
   "outputs": [],
   "source": [
    "# Shape of Illinois with Albers Albers Equal Area Conic (i.e., Equal-area projection)\n",
    "print(albers.loc['IL', 'geometry'].area / 2.59e+6, 'SqMi') # Unit: Square Mile\n",
    "albers.loc['IL', 'geometry']"
   ]
  },
  {
   "cell_type": "markdown",
   "id": "475b39d6",
   "metadata": {},
   "source": [
    "### 3.3. Overlay\n",
    "\n",
    "You can perfrom spatial overlay between two GeoDataFrames, as shown below. Currently, it only supports data GeoDataFrames with uniform geometry types, i.e. containing only (Multi)Polygons, or only (Multi)Points, or a combination of (Multi)LineString and LinearRing shapes.\n",
    "<br><br>\n",
    "source: https://geopandas.org/en/stable/docs/reference/api/geopandas.overlay.html <br>\n",
    "source: https://geopandas.org/en/stable/docs/user_guide/set_operations.html"
   ]
  },
  {
   "cell_type": "code",
   "execution_count": null,
   "id": "3821145d",
   "metadata": {},
   "outputs": [],
   "source": [
    "# Create two GeoDataFrame, each has two square polygons \n",
    "pyg_A = gpd.GeoSeries([Polygon([(0,0), (2,0), (2,2), (0,2)]),\n",
    "                       Polygon([(2,2), (4,2), (4,4), (2,4)])])\n",
    "pyg_B = gpd.GeoSeries([Polygon([(1,1), (3,1), (3,3), (1,3)]),\n",
    "                       Polygon([(3,3), (5,3), (5,5), (3,5)])])\n",
    "\n",
    "gdf1 = gpd.GeoDataFrame({'geometry': pyg_A, 'df1_data':[1,2]})\n",
    "gdf2 = gpd.GeoDataFrame({'geometry': pyg_B, 'df2_data':[1,2]})"
   ]
  },
  {
   "cell_type": "code",
   "execution_count": null,
   "id": "dacbfcf8",
   "metadata": {},
   "outputs": [],
   "source": [
    "gdf1.plot(color='blue')"
   ]
  },
  {
   "cell_type": "code",
   "execution_count": null,
   "id": "3992cdaa",
   "metadata": {},
   "outputs": [],
   "source": [
    "gdf2.plot(color='red')"
   ]
  },
  {
   "cell_type": "code",
   "execution_count": null,
   "id": "df3340aa",
   "metadata": {},
   "outputs": [],
   "source": [
    "# 'union' returns all those possible geometries.\n",
    "ax = gpd.overlay(gdf1, gdf2, how='union').plot(cmap='tab10')\n",
    "gdf1.boundary.plot(color='blue', ax=ax)\n",
    "gdf2.boundary.plot(color='red', ax=ax)"
   ]
  },
  {
   "cell_type": "code",
   "execution_count": null,
   "id": "dbcf3a60",
   "metadata": {},
   "outputs": [],
   "source": [
    "# 'intersection' returns only those geometries that are contained by both GeoDataFrames.\n",
    "ax = gpd.overlay(gdf1, gdf2, how='intersection').plot(cmap='tab10')\n",
    "gdf1.boundary.plot(color='blue', ax=ax)\n",
    "gdf2.boundary.plot(color='red', ax=ax)"
   ]
  },
  {
   "cell_type": "code",
   "execution_count": null,
   "id": "8d44b55f",
   "metadata": {},
   "outputs": [],
   "source": [
    "# 'symmetric_difference' is the opposite of 'intersection' and \n",
    "# returns the geometries that are only part of one of the GeoDataFrames but not of both.\n",
    "ax = gpd.overlay(gdf1, gdf2, how='symmetric_difference').plot(cmap='tab10')\n",
    "gdf1.boundary.plot(color='blue', ax=ax)\n",
    "gdf2.boundary.plot(color='red', ax=ax)"
   ]
  },
  {
   "cell_type": "code",
   "execution_count": null,
   "id": "1eca34b4",
   "metadata": {},
   "outputs": [],
   "source": [
    "# 'difference' returns the geometries that are part of gdf1 but are not contained in gdf2.\n",
    "ax = gpd.overlay(gdf1, gdf2, how='difference').plot(cmap='tab10')\n",
    "gdf1.boundary.plot(color='blue', ax=ax)\n",
    "gdf2.boundary.plot(color='red', ax=ax)"
   ]
  },
  {
   "cell_type": "code",
   "execution_count": null,
   "id": "29309a8c",
   "metadata": {},
   "outputs": [],
   "source": [
    "# 'identity' returns the surface of gdf1 but they are divided based on the overlay from gdf2.\n",
    "ax = gpd.overlay(gdf1, gdf2, how='identity').plot(cmap='tab10')\n",
    "gdf1.boundary.plot(color='blue', ax=ax)\n",
    "gdf2.boundary.plot(color='red', ax=ax)"
   ]
  },
  {
   "cell_type": "markdown",
   "id": "69801eac",
   "metadata": {},
   "source": [
    "---\n",
    "### *Exercise*\n",
    "\n",
    "1. import two files `illinois_county.json` and `tl_2021_17019_areawater.shp` in `data` folder, and name them as `county` and `water`, respectively. \n",
    "2. Select only Champagin county from `county` with `.loc` method, and resave the resulted GeoDataFrame back to `county`. \n",
    "3. Change the coordinate reference system for two dataset to the Illinois State Plane East (epsg:3435)\n",
    "4. Calculate the area not covered by water in sqaure miles (original unit is in feet) and save the number as `diff_area` (i.e., divide sqft by 2.788e+7).\n",
    "---"
   ]
  },
  {
   "cell_type": "code",
   "execution_count": null,
   "id": "b1687927",
   "metadata": {},
   "outputs": [],
   "source": [
    "# Your code here\n",
    "\n"
   ]
  },
  {
   "cell_type": "code",
   "execution_count": null,
   "id": "76c313a0",
   "metadata": {},
   "outputs": [],
   "source": [
    "\"\"\" Test code for the previous function. This cell should NOT give any errors when it is run.\"\"\"\n",
    "\n",
    "# Check your result here. \n",
    "assert county['NAME'].values[0] == 'Champaign'\n",
    "assert county.crs.name == 'NAD83 / Illinois East (ftUS)'\n",
    "assert water.crs.name == 'NAD83 / Illinois East (ftUS)'\n",
    "assert round(diff_area) == 996\n",
    "\n",
    "print(\"Success!\")"
   ]
  },
  {
   "cell_type": "markdown",
   "id": "decb584d",
   "metadata": {},
   "source": [
    "### 3.4. Spatial Join \n",
    "#### 3.4.1. Data preprocessing (i.e., importing data and matching crs)"
   ]
  },
  {
   "cell_type": "code",
   "execution_count": null,
   "id": "528661ca",
   "metadata": {
    "scrolled": true
   },
   "outputs": [],
   "source": [
    "# Importing necessary data for spatially joining fire location data to State polygons\n",
    "# Fire Data is from USGS\n",
    "fires = gpd.read_file(r'./data/fires_usgs.shp')\n",
    "fires"
   ]
  },
  {
   "cell_type": "code",
   "execution_count": null,
   "id": "872ec246",
   "metadata": {},
   "outputs": [],
   "source": [
    "# plot all fires as point data on a map\n",
    "fires.plot(markersize=1, figsize=(10,10))"
   ]
  },
  {
   "cell_type": "markdown",
   "id": "e19ad8b3",
   "metadata": {},
   "source": [
    "You need to check the coordinate reference system of two datasets before running a spatial join to make sure they have the same coordinate reference system. "
   ]
  },
  {
   "cell_type": "code",
   "execution_count": null,
   "id": "854af9bf",
   "metadata": {},
   "outputs": [],
   "source": [
    "# crs of fire data\n",
    "fires.crs"
   ]
  },
  {
   "cell_type": "code",
   "execution_count": null,
   "id": "c24b064b",
   "metadata": {},
   "outputs": [],
   "source": [
    "# crs of state geometry \n",
    "states.crs"
   ]
  },
  {
   "cell_type": "code",
   "execution_count": null,
   "id": "84943907",
   "metadata": {},
   "outputs": [],
   "source": [
    "# Given that two dataset has different crs, we need to make them identical.\n",
    "# reproject fires shapefile the state geometry shapefile\n",
    "fires = fires.to_crs(epsg=4326)"
   ]
  },
  {
   "cell_type": "markdown",
   "id": "c349d856",
   "metadata": {},
   "source": [
    "#### 3.4.2. Spatial join with <a href=https://geopandas.org/en/stable/docs/reference/api/geopandas.sjoin.html> .sjoin() </a> method\n",
    "\n",
    "`.sjoin()` method has numerous `op` attributes (i.e., 'intersects', 'contains', 'within', 'touches', 'crosses', 'overlaps') to test various types of geographical relationships. <br>\n",
    "**Note**: the attribute `op` attribute is deprecated in the up-to-date version of GeoPandas (0.10.2) and is replaced with `predicate`. "
   ]
  },
  {
   "cell_type": "code",
   "execution_count": null,
   "id": "34c995ea",
   "metadata": {},
   "outputs": [],
   "source": [
    "# op (or predicate) can be 'intersects', 'contains', 'within', 'touches', 'crosses', 'overlaps'\n",
    "state_fires = gpd.sjoin(fires, states[['name', 'geometry']], op='within')  \n",
    "state_fires"
   ]
  },
  {
   "cell_type": "code",
   "execution_count": null,
   "id": "f47506d3",
   "metadata": {
    "scrolled": true
   },
   "outputs": [],
   "source": [
    "# create pandas DataFrame object with states and fire count\n",
    "counts_per_state = state_fires.groupby('name').size() # Will return a Series, not a DataFrame\n",
    "counts_per_state = counts_per_state.to_frame(name='number_of_fires') # Convert Series to DataFrame\n",
    "counts_per_state.sort_values(by='number_of_fires', ascending=False) # list highest values first "
   ]
  },
  {
   "cell_type": "markdown",
   "id": "74fdd8f4",
   "metadata": {},
   "source": [
    "<a href=https://pandas.pydata.org/docs/reference/api/pandas.DataFrame.merge.html> `.merge()` </a> function will add a dataframe into the other based on a given index. Be aware that if you do not specify `how='outer`, it will automatically return the values that only exist in both DataFrames, meaning that some states will be disregarded."
   ]
  },
  {
   "cell_type": "code",
   "execution_count": null,
   "id": "84ab85b8",
   "metadata": {
    "scrolled": true
   },
   "outputs": [],
   "source": [
    "counts_per_state"
   ]
  },
  {
   "cell_type": "code",
   "execution_count": null,
   "id": "c9653d88",
   "metadata": {
    "scrolled": true
   },
   "outputs": [],
   "source": [
    "states_sjoin_1 = states.merge(counts_per_state, left_on='name', right_on='name', how='outer')\n",
    "states_sjoin_1"
   ]
  },
  {
   "cell_type": "markdown",
   "id": "f8ec312f",
   "metadata": {},
   "source": [
    "#### 3.4.3. Spatial Join with `.loc` method of `GeoDataFrame` and relationship test method of  `shapely`"
   ]
  },
  {
   "cell_type": "markdown",
   "id": "ceaf7afa",
   "metadata": {},
   "source": [
    "You can test the relationship between two geometries by using <a href=https://geopandas.org/en/stable/docs/reference/api/geopandas.GeoSeries.intersects.html>`intersects` </a>, <a href=https://geopandas.org/en/stable/docs/reference/api/geopandas.GeoSeries.contains.html>`contains`</a>, <a href=https://geopandas.org/en/stable/docs/reference/api/geopandas.GeoSeries.within.html>`within`</a> so on. This will give you Boolean (i.e., True or False). "
   ]
  },
  {
   "cell_type": "code",
   "execution_count": null,
   "id": "e63c9c48",
   "metadata": {},
   "outputs": [],
   "source": [
    "# Test the relationship between the fire location points and State polygons\n",
    "fires['geometry'].intersects(\n",
    "        states.at['AL', 'geometry']\n",
    "    )"
   ]
  },
  {
   "cell_type": "markdown",
   "id": "2c9e77bf",
   "metadata": {},
   "source": [
    "Combination of the relationship test with `.loc` method will slice the given GeoDataFrame"
   ]
  },
  {
   "cell_type": "code",
   "execution_count": null,
   "id": "9a497105",
   "metadata": {},
   "outputs": [],
   "source": [
    "# The following example will return the fire locations in the state of Alabama\n",
    "fires.loc[\n",
    "    fires['geometry'].intersects(\n",
    "        states.at['AL', 'geometry']\n",
    "    )\n",
    "]"
   ]
  },
  {
   "cell_type": "markdown",
   "id": "c505205b",
   "metadata": {},
   "source": [
    "Let's combine all the processes into one cell. "
   ]
  },
  {
   "cell_type": "code",
   "execution_count": null,
   "id": "fcd84f21",
   "metadata": {
    "scrolled": true
   },
   "outputs": [],
   "source": [
    "# Now, let's count the number of fires in each state. \n",
    "states_sjoin_2 = states.copy() # Make a copy\n",
    "states_sjoin_2['number_of_fires'] = 0 # Create an empty column to store the result of spatial join\n",
    "\n",
    "for idx, row in states_sjoin_2.iterrows(): # Iterrating through rows of GeoDataFrame\n",
    "    # This will give you the Dataframe of fires associated with each state\n",
    "    temp_ = fires.loc[fires['geometry'].intersects(row['geometry'])]  \n",
    "    \n",
    "    if temp_.shape[0]: # If the sliced dataframe is not empty\n",
    "        states_sjoin_2.at[idx, 'number_of_fires'] = temp_.shape[0] # Enter the number of fires in each state\n",
    "        \n",
    "    else: # If the sliced dataframe is empty\n",
    "        states_sjoin_2.at[idx, 'number_of_fires'] = 0 # Enter 0 for the state in the loop. \n",
    "        \n",
    "states_sjoin_2.head()"
   ]
  },
  {
   "cell_type": "code",
   "execution_count": null,
   "id": "1d53f483",
   "metadata": {},
   "outputs": [],
   "source": [
    "# Compare the results of the two appraoches of spatial join\n",
    "states_sjoin_1.head()"
   ]
  },
  {
   "cell_type": "markdown",
   "id": "e54d70db",
   "metadata": {},
   "source": [
    "---\n",
    "### *Exercise*\n",
    "```python\n",
    "# Original code\n",
    "fires.loc[fires['geometry'].intersects(states.at['AL', 'geometry'])]\n",
    "```\n",
    "\n",
    "1. From the original code above, replace `intersects()` with `within()`, and count the number of fires in Illinois. Then, save the number of fires as `fire_in_IL`. <br><br>\n",
    "\n",
    "2. From the original code above, replace `intersects()` with `contains()`, and think about why it doesn't have any return for `contains()`. \n",
    "<br><br>\n",
    "3. When can we use `contains()`? Find the state that had a fire on 2000-01-01, and save ONLY the name of the state as `first_fire_in_millennium`. <br>\n",
    "**Hint**: the following statement will give you a coordinates (Point) that the fire ignited on 2000-01-01. \n",
    "```python\n",
    "fires.loc[fires['Ig_Date'] == '2000-01-01', 'geometry'].values[0]\n",
    "```\n",
    "\n",
    "---"
   ]
  },
  {
   "cell_type": "code",
   "execution_count": null,
   "id": "1a4fb6fa",
   "metadata": {
    "scrolled": false
   },
   "outputs": [],
   "source": [
    "# Check the result of original code\n",
    "fires.loc[fires['geometry'].intersects(states.at['AL', 'geometry'])]"
   ]
  },
  {
   "cell_type": "code",
   "execution_count": null,
   "id": "d72fa60b",
   "metadata": {},
   "outputs": [],
   "source": [
    "# Your code here\n",
    "\n"
   ]
  },
  {
   "cell_type": "code",
   "execution_count": null,
   "id": "730ac2bd",
   "metadata": {},
   "outputs": [],
   "source": [
    "\"\"\" Test code for the previous function. This cell should NOT give any errors when it is run.\"\"\"\n",
    "\n",
    "# Check your result here. \n",
    "assert fire_in_IL == 28\n",
    "assert first_fire_in_millennium == 'Oklahoma'\n",
    "\n",
    "print(\"Success!\")"
   ]
  },
  {
   "cell_type": "markdown",
   "id": "456a98e4",
   "metadata": {},
   "source": [
    "### 3.5. Visualize data (more details will be covered in Week 6)"
   ]
  },
  {
   "cell_type": "code",
   "execution_count": null,
   "id": "a72b5540",
   "metadata": {},
   "outputs": [],
   "source": [
    "# create a static map of the number of fire per state\n",
    "states_sjoin_2.plot(column='number_of_fires', figsize=(15, 6), cmap='Reds', legend=True)"
   ]
  },
  {
   "cell_type": "code",
   "execution_count": null,
   "id": "f6eeea5e",
   "metadata": {},
   "outputs": [],
   "source": [
    "# Use Quantiles for the classification scheme (uses `mapclassify` package)\n",
    "states_sjoin_2.plot(column='number_of_fires', figsize=(15, 6), cmap='Reds', legend=True, scheme='Quantiles')"
   ]
  },
  {
   "cell_type": "code",
   "execution_count": null,
   "id": "99070b99",
   "metadata": {},
   "outputs": [],
   "source": [
    "# Use FisherJenks algorithm of 7 classes (k) for the classification scheme (uses `mapclassify` package)\n",
    "states_sjoin_2.plot(column='number_of_fires', figsize=(15, 6), cmap='Reds', legend=True, scheme='FisherJenks', k=7)"
   ]
  }
 ],
 "metadata": {
  "kernelspec": {
   "display_name": "Python 3 (ipykernel)",
   "language": "python",
   "name": "python3"
  },
  "language_info": {
   "codemirror_mode": {
    "name": "ipython",
    "version": 3
   },
   "file_extension": ".py",
   "mimetype": "text/x-python",
   "name": "python",
   "nbconvert_exporter": "python",
   "pygments_lexer": "ipython3",
   "version": "3.10.2"
  }
 },
 "nbformat": 4,
 "nbformat_minor": 5
}
